{
 "cells": [
  {
   "cell_type": "code",
   "execution_count": 1,
   "metadata": {
    "_cell_guid": "b1076dfc-b9ad-4769-8c92-a6c4dae69d19",
    "_uuid": "8f2839f25d086af736a60e9eeb907d3b93b6e0e5",
    "colab": {},
    "colab_type": "code",
    "id": "U2D2gTdJVp90"
   },
   "outputs": [],
   "source": [
    "import numpy as np\n",
    "import pandas as pd"
   ]
  },
  {
   "cell_type": "code",
   "execution_count": 2,
   "metadata": {
    "_cell_guid": "79c7e3d0-c299-4dcb-8224-4455121ee9b0",
    "_uuid": "d629ff2d2480ee46fbb7e2d37f6b5fab8052498a",
    "colab": {},
    "colab_type": "code",
    "id": "oyGfxL3eVp9-"
   },
   "outputs": [],
   "source": [
    "data = pd.read_csv('movie_bd_v5.csv')"
   ]
  },
  {
   "cell_type": "markdown",
   "metadata": {
    "colab_type": "text",
    "id": "DTIt7ezGVp-G"
   },
   "source": [
    "# Предобработка"
   ]
  },
  {
   "cell_type": "code",
   "execution_count": 3,
   "metadata": {
    "colab": {},
    "colab_type": "code",
    "id": "jNb40DwKVp-H"
   },
   "outputs": [],
   "source": [
    "# словарь для ответов\n",
    "answers = {} \n",
    "\n",
    "# функция для получения названия фильма из строки датасета\n",
    "def get_title(series):\n",
    "    return series.original_title.iloc[0] + ' (' + series.imdb_id.iloc[0] + ')'\n",
    "\n",
    "# функция для получения имени месяца по его номеру\n",
    "def get_month_name(month_num):\n",
    "    month_list = ['Январь', 'Фвраль', 'Март', 'Апрель', 'Май', 'Июнь', \n",
    "                  'Июль', 'Август', 'Сентябрь', 'Октябрь', 'Ноябрь', 'Декабрь']\n",
    "    if (month_num >= 1 and month_num <= 12):\n",
    "        return month_list[month_num-1]\n",
    "    else:\n",
    "        return 'Месяц не найден'\n",
    "    \n",
    "# функция для получения сезона по номеру месяца\n",
    "def get_season(month_num):\n",
    "    if month_num == 1 or month_num == 12 or month_num == 2:\n",
    "        return 'Зима'\n",
    "    elif month_num >= 3 and month_num <= 5:\n",
    "        return 'Весна'\n",
    "    elif month_num >= 6 and month_num <= 8:\n",
    "        return 'Лето'\n",
    "    elif month_num >= 9 and month_num <= 11:\n",
    "        return 'Осень'\n",
    "    else:\n",
    "        return 'Ошибка'\n",
    "\n",
    "    \n",
    "# функции для обработки данных\n",
    "\n",
    "'''Разделение строки со списком на отдельные строки'''\n",
    "def expand_str(df, col_id, col_list, lim):\n",
    "    serie_list = df[col_list].str.split(lim).explode() # столбец с разделенными значениями строк\n",
    "    serie_id = df[col_id].str.split().explode()        # столбец с идентификаторами изначальных строк\n",
    "    df_list = pd.DataFrame({col_list+'1': serie_list, col_id: serie_id}) \n",
    "    return df_list\n",
    "\n",
    "\n",
    "# обработка данных\n",
    "'''Добавим колонку для прибыли=сборы-бюджет'''\n",
    "data['profit'] = data.revenue - data.budget\n",
    "\n",
    "'''Добавим колонку для месяца выпуска фильмов'''\n",
    "data['month'] = data.release_date.apply(lambda s: int(s.split('/')[0]))\n",
    "\n",
    "'''Добавим колонку для сезона выпуска фильмов'''\n",
    "data['season'] = data.month.apply(get_season)\n",
    "\n",
    "'''Добавим колонку для количества символов в названии'''\n",
    "data['title_len'] = data.original_title.apply(lambda s: len(s))\n",
    "\n",
    "'''Добавим колонку для количества слов в описании'''\n",
    "data['overview_len'] = data.overview.apply(lambda s: len(s.split()))\n",
    "\n",
    "'''Создадим подчиненный датафрейм со списком жанров каждого фильма'''\n",
    "data_genres  = expand_str(data, 'imdb_id', 'genres', '|')\n",
    "\n",
    "'''Создадим подчиненный датафрейм со списком актеров каждого фильма'''\n",
    "data_casts = expand_str(data, 'imdb_id', 'cast', '|')\n",
    "\n",
    "'''Создадим подчиненный датафрейм со списком режиссеров каждого фильма'''\n",
    "data_directors = expand_str(data, 'imdb_id', 'director', '|')\n",
    "\n",
    "'''Создадим подчиненный датафрейм со списком киностудий каждого фильма'''\n",
    "data_companies = expand_str(data, 'imdb_id', 'production_companies', '|')\n",
    "\n",
    "'''Создадим объединения основной таблицы с подчиненными'''\n",
    "joined_g = data.merge(data_genres, on='imdb_id', how='inner')\n",
    "joined_d = data.merge(data_directors, on='imdb_id', how='inner')\n",
    "joined_c = data.merge(data_casts, on='imdb_id', how='inner')\n",
    "joined_com = data.merge(data_companies, on='imdb_id', how='inner')"
   ]
  },
  {
   "cell_type": "markdown",
   "metadata": {
    "colab_type": "text",
    "id": "YxZaH-nPVp-L"
   },
   "source": [
    "# 1. У какого фильма из списка самый большой бюджет?"
   ]
  },
  {
   "cell_type": "markdown",
   "metadata": {
    "colab_type": "text",
    "id": "Nd-G5gX6Vp-M"
   },
   "source": [
    "Использовать варианты ответов в коде решения запрещено.    \n",
    "Вы думаете и в жизни у вас будут варианты ответов?)"
   ]
  },
  {
   "cell_type": "code",
   "execution_count": 4,
   "metadata": {
    "colab": {},
    "colab_type": "code",
    "id": "uVnXAY5RVp-O"
   },
   "outputs": [],
   "source": [
    "# в словарь вставляем номер вопроса и ваш ответ на него\n",
    "# Пример: \n",
    "# answers['1'] = '2. Spider-Man 3 (tt0413300)'\n",
    "# запишите свой вариант ответа\n",
    "\n",
    "# '5. Pirates of the Caribbean: On Stranger Tides (tt1298650)'\n",
    "answers['1'] = '5. ' + get_title(data[data.budget==data.budget.max()])\n",
    "# +\n",
    "\n",
    "# если ответили верно, можете добавить комментарий со значком \"+\""
   ]
  },
  {
   "cell_type": "markdown",
   "metadata": {
    "colab_type": "text",
    "id": "K7L3nbRXVp-X"
   },
   "source": [
    "ВАРИАНТ 2"
   ]
  },
  {
   "cell_type": "code",
   "execution_count": 7,
   "metadata": {
    "colab": {},
    "colab_type": "code",
    "id": "OGaoQI7rVp-X"
   },
   "outputs": [],
   "source": [
    "# можно добавлять разные варианты решения"
   ]
  },
  {
   "cell_type": "markdown",
   "metadata": {
    "colab_type": "text",
    "id": "FNRbbI3vVp-c"
   },
   "source": [
    "# 2. Какой из фильмов самый длительный (в минутах)?"
   ]
  },
  {
   "cell_type": "code",
   "execution_count": 5,
   "metadata": {
    "colab": {},
    "colab_type": "code",
    "id": "vHAoEXNTVp-d"
   },
   "outputs": [],
   "source": [
    "answers['2'] = '2. ' + get_title(data[data.runtime==data.runtime.max()])\n",
    "# +"
   ]
  },
  {
   "cell_type": "markdown",
   "metadata": {
    "colab_type": "text",
    "id": "bapLlpW8Vp-k"
   },
   "source": [
    "# 3. Какой из фильмов самый короткий (в минутах)?\n",
    "\n",
    "\n",
    "\n"
   ]
  },
  {
   "cell_type": "code",
   "execution_count": 6,
   "metadata": {
    "colab": {},
    "colab_type": "code",
    "id": "YBxaSHuAVp-l"
   },
   "outputs": [],
   "source": [
    "answers['3'] = '3. ' + get_title(data[data.runtime==data.runtime.min()])\n",
    "# +"
   ]
  },
  {
   "cell_type": "markdown",
   "metadata": {
    "colab_type": "text",
    "id": "TfQbxbfNVp-p"
   },
   "source": [
    "# 4. Какова средняя длительность фильмов?\n"
   ]
  },
  {
   "cell_type": "code",
   "execution_count": 7,
   "metadata": {
    "colab": {},
    "colab_type": "code",
    "id": "5K6dKZYVVp-q"
   },
   "outputs": [],
   "source": [
    "answers['4'] = '2. ' + str(round(data.runtime.mean()))\n",
    "# +"
   ]
  },
  {
   "cell_type": "markdown",
   "metadata": {
    "colab_type": "text",
    "id": "r5TvbnT_Vp-u"
   },
   "source": [
    "# 5. Каково медианное значение длительности фильмов? "
   ]
  },
  {
   "cell_type": "code",
   "execution_count": 8,
   "metadata": {
    "colab": {},
    "colab_type": "code",
    "id": "iBROplKnVp-v"
   },
   "outputs": [],
   "source": [
    "answers['5'] = '1. ' + str(round(data.runtime.median()))\n",
    "# +"
   ]
  },
  {
   "cell_type": "markdown",
   "metadata": {
    "colab_type": "text",
    "id": "39P-deDSVp-y"
   },
   "source": [
    "# 6. Какой самый прибыльный фильм?\n",
    "#### Внимание! Здесь и далее под «прибылью» или «убытками» понимается разность между сборами и бюджетом фильма. (прибыль = сборы - бюджет) в нашем датасете это будет (profit = revenue - budget) "
   ]
  },
  {
   "cell_type": "code",
   "execution_count": 9,
   "metadata": {
    "colab": {},
    "colab_type": "code",
    "id": "UYZh4T9WVp-y"
   },
   "outputs": [],
   "source": [
    "answers['6'] = '5. ' + get_title(data[data.profit==data.profit.max()])\n",
    "# +"
   ]
  },
  {
   "cell_type": "markdown",
   "metadata": {
    "colab_type": "text",
    "id": "M99JmIX4Vp-2"
   },
   "source": [
    "# 7. Какой фильм самый убыточный? "
   ]
  },
  {
   "cell_type": "code",
   "execution_count": 10,
   "metadata": {
    "colab": {},
    "colab_type": "code",
    "id": "w-D2m4XPVp-3"
   },
   "outputs": [],
   "source": [
    "answers['7'] = '5. ' + get_title(data[data.profit==data.profit.min()])\n",
    "# +"
   ]
  },
  {
   "cell_type": "markdown",
   "metadata": {
    "colab_type": "text",
    "id": "wEOM5ERVVp-6"
   },
   "source": [
    "# 8. У скольких фильмов из датасета объем сборов оказался выше бюджета?"
   ]
  },
  {
   "cell_type": "code",
   "execution_count": 11,
   "metadata": {
    "colab": {},
    "colab_type": "code",
    "id": "y00_7HD6Vp-7"
   },
   "outputs": [],
   "source": [
    "answers['8'] = '1. ' + str(data[data.profit>0].profit.count())\n",
    "# +"
   ]
  },
  {
   "cell_type": "markdown",
   "metadata": {
    "colab_type": "text",
    "id": "xhpspA9KVp_A"
   },
   "source": [
    "# 9. Какой фильм оказался самым кассовым в 2008 году?"
   ]
  },
  {
   "cell_type": "code",
   "execution_count": 12,
   "metadata": {
    "colab": {},
    "colab_type": "code",
    "id": "MoUyQr9RVp_B"
   },
   "outputs": [],
   "source": [
    "data2008 = data[data.release_year==2008]\n",
    "answers['9'] = '4. ' + get_title(data2008[data2008.revenue == data2008.revenue.max()])\n",
    "# +"
   ]
  },
  {
   "cell_type": "markdown",
   "metadata": {
    "colab_type": "text",
    "id": "Zi4hDKidVp_F"
   },
   "source": [
    "# 10. Самый убыточный фильм за период с 2012 по 2014 г. (включительно)?\n"
   ]
  },
  {
   "cell_type": "code",
   "execution_count": 13,
   "metadata": {
    "colab": {},
    "colab_type": "code",
    "id": "XqyRmufJVp_F"
   },
   "outputs": [],
   "source": [
    "data_12_14 = data[(data.release_year>=2012) & (data.release_year<=2014)]\n",
    "answers['10'] = '5. ' + get_title(data_12_14[data_12_14.profit == data_12_14.profit.min()])\n",
    "# +"
   ]
  },
  {
   "cell_type": "markdown",
   "metadata": {
    "colab_type": "text",
    "id": "EA7Sa9dkVp_I"
   },
   "source": [
    "# 11. Какого жанра фильмов больше всего?"
   ]
  },
  {
   "cell_type": "code",
   "execution_count": 14,
   "metadata": {},
   "outputs": [],
   "source": [
    "answers['11'] = '3. ' + joined_g.genres1.value_counts().sort_values(ascending=False).index[0]\n",
    "# +"
   ]
  },
  {
   "cell_type": "markdown",
   "metadata": {
    "colab_type": "text",
    "id": "Ax6g2C8SVp_M"
   },
   "source": [
    "ВАРИАНТ 2"
   ]
  },
  {
   "cell_type": "markdown",
   "metadata": {
    "colab_type": "text",
    "id": "T9_bPWpkVp_Q"
   },
   "source": [
    "# 12. Фильмы какого жанра чаще всего становятся прибыльными? "
   ]
  },
  {
   "cell_type": "code",
   "execution_count": 15,
   "metadata": {
    "colab": {},
    "colab_type": "code",
    "id": "Tmt8MaK1Vp_R"
   },
   "outputs": [],
   "source": [
    "# Непонятно, как считать \"чаще\". Это - \"больше\"? Не вполне корректная постановка задачи.\n",
    "answers['12'] = '1. ' + joined_g[joined_g.profit>0].groupby(['genres1'])['profit'].count().sort_values(ascending=False).index[0]\n",
    "# +"
   ]
  },
  {
   "cell_type": "markdown",
   "metadata": {
    "colab_type": "text",
    "id": "0F23bgsDVp_U"
   },
   "source": [
    "# 13. У какого режиссера самые большие суммарные кассовые сбооры?"
   ]
  },
  {
   "cell_type": "code",
   "execution_count": 16,
   "metadata": {
    "colab": {},
    "colab_type": "code",
    "id": "K6Z3J8ygVp_X"
   },
   "outputs": [],
   "source": [
    "answers['13'] = '5. ' + joined_d.groupby(['director1'])['revenue'].sum().sort_values(ascending=False).index[0] # +"
   ]
  },
  {
   "cell_type": "markdown",
   "metadata": {
    "colab_type": "text",
    "id": "PsYC9FgRVp_a"
   },
   "source": [
    "# 14. Какой режисер снял больше всего фильмов в стиле Action?"
   ]
  },
  {
   "cell_type": "code",
   "execution_count": 17,
   "metadata": {
    "colab": {},
    "colab_type": "code",
    "id": "wd2M-wHeVp_b"
   },
   "outputs": [],
   "source": [
    "dir_action = joined_d[joined_d.genres.str.contains('Action')].director1.value_counts().sort_values(ascending=False)\n",
    "answers['14'] = '3. ' + dir_action.index[0]\n",
    "# +"
   ]
  },
  {
   "cell_type": "markdown",
   "metadata": {
    "colab_type": "text",
    "id": "PQ0KciD7Vp_f"
   },
   "source": [
    "# 15. Фильмы с каким актером принесли самые высокие кассовые сборы в 2012 году? "
   ]
  },
  {
   "cell_type": "code",
   "execution_count": 18,
   "metadata": {
    "colab": {},
    "colab_type": "code",
    "id": "aga62oeKVp_g"
   },
   "outputs": [],
   "source": [
    "high_revenue = joined_c[joined_c.release_year==2012].groupby(['cast1'])['revenue'].sum().sort_values(ascending=False)\n",
    "answers['15'] = '3. ' + high_revenue.index[0]\n",
    "# +"
   ]
  },
  {
   "cell_type": "markdown",
   "metadata": {
    "colab_type": "text",
    "id": "mWHyyL7QVp_j"
   },
   "source": [
    "# 16. Какой актер снялся в большем количестве высокобюджетных фильмов?"
   ]
  },
  {
   "cell_type": "code",
   "execution_count": 19,
   "metadata": {
    "colab": {},
    "colab_type": "code",
    "id": "qQtmHKTFVp_k"
   },
   "outputs": [],
   "source": [
    "# Что такое высокобюджетный фильм? Тот, чей бюджет выше среднего? Или входит в наивысший квартиль?\n",
    "# Не вполне точная формулировка задачи. Можно бы и поаккуратнее формулировать.\n",
    "joined_hb = data[data.budget > data.budget.mean()].merge(data_casts, on='imdb_id', how='inner')\n",
    "answers['16'] = '3. ' + joined_hb.cast1.value_counts().sort_values(ascending=False).index[0]\n",
    "# +"
   ]
  },
  {
   "cell_type": "markdown",
   "metadata": {
    "colab_type": "text",
    "id": "NIh6AaW5Vp_n"
   },
   "source": [
    "# 17. В фильмах какого жанра больше всего снимался Nicolas Cage? "
   ]
  },
  {
   "cell_type": "code",
   "execution_count": 20,
   "metadata": {
    "colab": {},
    "colab_type": "code",
    "id": "H74SJDIBVp_n"
   },
   "outputs": [],
   "source": [
    "data_f = joined_c.merge(data_genres, on='imdb_id', how='inner')\n",
    "g_NC = data_f[data_f.cast1=='Nicolas Cage'].genres1.value_counts().sort_values(ascending=False)\n",
    "answers['17'] = '2. ' + g_NC.index[0]\n",
    "# +"
   ]
  },
  {
   "cell_type": "markdown",
   "metadata": {
    "colab_type": "text",
    "id": "RqOmPRfWVp_q"
   },
   "source": [
    "# 18. Самый убыточный фильм от Paramount Pictures"
   ]
  },
  {
   "cell_type": "code",
   "execution_count": 21,
   "metadata": {
    "colab": {},
    "colab_type": "code",
    "id": "9E_B0Y96Vp_r"
   },
   "outputs": [],
   "source": [
    "# Здесь лучше не парсить строку с компаниями, потому что в одну строку могут входить сама компания и ее дочки.\n",
    "# Кстати, студия DreamWorks c 2005 года - тоже дочка Paramount. Так что, если есть установка на подсчет дочек,\n",
    "# как, например, с Warner Bros., то надо с Paramount вместе после 2005 года считать и DreamWorks\n",
    "# Опять неаккуратная постановка задачи.\n",
    "\n",
    "paramount = data[data.production_companies.str.contains('Paramount')]\n",
    "answers['18'] = '1. ' + get_title(paramount[paramount.profit == paramount.profit.min()])\n",
    "# +"
   ]
  },
  {
   "cell_type": "markdown",
   "metadata": {
    "colab_type": "text",
    "id": "vS8Ur6ddVp_u"
   },
   "source": [
    "# 19. Какой год стал самым успешным по суммарным кассовым сборам?"
   ]
  },
  {
   "cell_type": "code",
   "execution_count": 22,
   "metadata": {
    "colab": {},
    "colab_type": "code",
    "id": "Dnbt4GdIVp_v"
   },
   "outputs": [],
   "source": [
    "answers['19'] = '5. ' + str(data.groupby(['release_year'])['revenue'].sum().sort_values(ascending=False).index[0])\n",
    "# +"
   ]
  },
  {
   "cell_type": "markdown",
   "metadata": {
    "colab_type": "text",
    "id": "JAzJh4QAVp_z"
   },
   "source": [
    "# 20. Какой самый прибыльный год для студии Warner Bros?"
   ]
  },
  {
   "cell_type": "code",
   "execution_count": 23,
   "metadata": {
    "colab": {},
    "colab_type": "code",
    "id": "wgVu02DEVp_0"
   },
   "outputs": [],
   "source": [
    "# Здесь лучше не парсить строку с компаниями, потому что в одну строку могут входить сама компания и ее дочки\n",
    "# Взято без Bros., потому что есть дочки данной компании без этого слова (но результат - тот же)\n",
    "# Опять неаккуратная постановка задачи: например, в датасете есть Warner Independent Pictures (WIP) (без Bros.), \n",
    "# и есть дочка New Line Cinema. Как их считать? Почему вторую дочку не должны считать, если считаем первую?\n",
    "\n",
    "warner = data[data.production_companies.str.contains('Warner')] \n",
    "answers['20'] = '1. ' + str(warner.groupby(['release_year'])['profit'].sum().sort_values(ascending=False).index[0])\n",
    "# +"
   ]
  },
  {
   "cell_type": "markdown",
   "metadata": {
    "colab_type": "text",
    "id": "8Im1S2HRVp_4"
   },
   "source": [
    "# 21. В каком месяце за все годы суммарно вышло больше всего фильмов?"
   ]
  },
  {
   "cell_type": "code",
   "execution_count": 24,
   "metadata": {
    "colab": {},
    "colab_type": "code",
    "id": "lev6TH7gVp_4"
   },
   "outputs": [],
   "source": [
    "answers['21'] = '4. ' + get_month_name(data.month.value_counts().sort_values(ascending=False).index[0])\n",
    "# +"
   ]
  },
  {
   "cell_type": "markdown",
   "metadata": {
    "colab_type": "text",
    "id": "uAJsZ_NeVp_7"
   },
   "source": [
    "# 22. Сколько суммарно вышло фильмов летом? (за июнь, июль, август)"
   ]
  },
  {
   "cell_type": "code",
   "execution_count": 25,
   "metadata": {
    "colab": {},
    "colab_type": "code",
    "id": "Aa-hEREoVp_8"
   },
   "outputs": [],
   "source": [
    "answers['22'] = '2. ' + str(data[data.season == 'Лето'].imdb_id.count())\n",
    "# +"
   ]
  },
  {
   "cell_type": "markdown",
   "metadata": {
    "colab_type": "text",
    "id": "G94ppOY1VqAA"
   },
   "source": [
    "# 23. Для какого режиссера зима – самое продуктивное время года? "
   ]
  },
  {
   "cell_type": "code",
   "execution_count": 26,
   "metadata": {
    "colab": {},
    "colab_type": "code",
    "id": "RhNTsamuVqAB"
   },
   "outputs": [],
   "source": [
    "# Некорректная формулировка. Самое продуктивное время - это тот сезон, в котором у данного режисера больше фильмов.\n",
    "# Режиссеров, у которых зимой вышло фильмов больше, чем в каждом другом сезоне, целых 171. См. ниже в сводной таблице.\n",
    "# Тут же вопрос подразумевал другой смысл: какой режиссер чаще всего встречается в зимних фильмах?\n",
    "\n",
    "answers['23'] = '5. ' + joined_d[joined_d.season=='Зима'].director1.value_counts().sort_values(ascending=False).index[0]\n",
    "# +"
   ]
  },
  {
   "cell_type": "code",
   "execution_count": 27,
   "metadata": {},
   "outputs": [],
   "source": [
    "# Сводная таблица по режиссерам и сезонам\n",
    "# pivot = joined_d.pivot_table(\n",
    "# columns='season', \n",
    "# index='director1',\n",
    "# values='imdb_id',\n",
    "# aggfunc='count',\n",
    "# fill_value=0)\n",
    "\n",
    "# Выбираем режиссеров, у которых зимой фильмов больше, чем в другие сезоны\n",
    "# pivot[(pivot.Зима>pivot.Лето) & (pivot.Зима>pivot.Весна) & (pivot.Зима>pivot.Осень)]"
   ]
  },
  {
   "cell_type": "markdown",
   "metadata": {
    "colab_type": "text",
    "id": "RBo0JVjVVqAF"
   },
   "source": [
    "# 24. Какая студия дает самые длинные названия своим фильмам по количеству символов?"
   ]
  },
  {
   "cell_type": "code",
   "execution_count": 28,
   "metadata": {
    "colab": {},
    "colab_type": "code",
    "id": "QRGS8L0iVqAG"
   },
   "outputs": [],
   "source": [
    "# Предполагается, что имеется в виду самое длинное среднее значение?\n",
    "# Снова неточная постановка!\n",
    "answers['24'] = '5. ' + joined_com.groupby(['production_companies1'])['title_len'].mean().sort_values(ascending=False).index[0]\n",
    "# +"
   ]
  },
  {
   "cell_type": "markdown",
   "metadata": {
    "colab_type": "text",
    "id": "9G0hbvR7VqAK"
   },
   "source": [
    "# 25. Описание фильмов какой студии в среднем самые длинные по количеству слов?"
   ]
  },
  {
   "cell_type": "code",
   "execution_count": 29,
   "metadata": {
    "colab": {},
    "colab_type": "code",
    "id": "Ge2GsLNxVqAK"
   },
   "outputs": [],
   "source": [
    "ov_len = joined_com.groupby(['production_companies1'])['overview_len'].mean().sort_values(ascending=False)\n",
    "answers['25'] = '3. ' + ov_len.index[0]\n",
    "# +"
   ]
  },
  {
   "cell_type": "markdown",
   "metadata": {
    "colab_type": "text",
    "id": "FJ1AFt90VqAP"
   },
   "source": [
    "# 26. Какие фильмы входят в 1 процент лучших по рейтингу? \n",
    "по vote_average"
   ]
  },
  {
   "cell_type": "code",
   "execution_count": 30,
   "metadata": {
    "colab": {},
    "colab_type": "code",
    "id": "8qmJVq4CVqAQ"
   },
   "outputs": [],
   "source": [
    "k = data.vote_average.quantile(0.99)\n",
    "percent99 = data[data.vote_average > k].original_title.to_list()\n",
    "\n",
    "str1 = 'Inside Out, The Dark Knight, 12 Years a Slave'\n",
    "str2 ='BloodRayne,The Adventures of Rocky & Bullwinkle'\n",
    "str3 = 'Batman Begins,The Lord of the Rings: The Return of the King,Upside Down'\n",
    "str4 = '300, Lucky Number Slevin, Kill Bill: Vol. 1'\n",
    "str5 = 'Upside Down,Inside Out,Iron Man'\n",
    "\n",
    "if set(str1.split(', ')).issubset(percent99):\n",
    "    answers['26'] = '1. ' + str1\n",
    "elif set(str2.split(', ')).issubset(percent99):\n",
    "    answers['26'] = '2. ' + str2\n",
    "elif set(str2.split(', ')).issubset(percent99):\n",
    "    answers['26'] = '3. ' + str3\n",
    "elif set(str2.split(', ')).issubset(percent99):\n",
    "    answers['26'] = '4. ' + str4\n",
    "elif set(str2.split(', ')).issubset(percent99):\n",
    "    answers['26'] = '5. ' + str5\n",
    "else:\n",
    "    answers['26'] = 'Нет ответа'\n",
    "    \n",
    "# +"
   ]
  },
  {
   "cell_type": "markdown",
   "metadata": {
    "colab_type": "text",
    "id": "MdXsUXbCVqAV"
   },
   "source": [
    "# 27. Какие актеры чаще всего снимаются в одном фильме вместе?\n"
   ]
  },
  {
   "cell_type": "code",
   "execution_count": 31,
   "metadata": {},
   "outputs": [],
   "source": [
    "# И опять неряшливая постановка задачи! Что имелось в виду - пары актеров или все возможные сочетания?\n",
    "# Догадаться, что предполагались именно пары, можно лишь по предлагаемым ответам в тесте.\n",
    "# А между прочим, есть и наболее встречающаяся тройка актеров все из того же \"Гарри Поттера\"\n",
    "\n",
    "# Соединяем датасет с актерами сам с собой\n",
    "joined_cc = data_casts.merge(data_casts, on='imdb_id', how='inner')\n",
    "# Удаляем соединения одинаковых актеров\n",
    "joined_cc = joined_cc[joined_cc.cast1_x != joined_cc.cast1_y]\n",
    "\n",
    "# Делаем новый столбец с парой актеров. Актеры в паре идут по алфавиту, чтобы разные порядки их не образовывали новой пары\n",
    "joined_cc['couple'] = joined_cc.apply(lambda x: min(x.cast1_x,x.cast1_y) + ' & ' + max(x.cast1_x,x.cast1_y), axis=1)\n",
    "# Сортируем по частоте пар. Частоты задваиваются, но нам это неважно.\n",
    "df = pd.DataFrame(joined_cc.couple.value_counts().sort_values(ascending=False))\n",
    "\n",
    "# В общем, здесь решение уже кончилось. Этого достаточно. Но хочется проверить автоматически, а не вручную.\n",
    "# Выбираем наиболее часто встречающиеся пары\n",
    "dfMax = df[df.couple == df.couple.max()]\n",
    "\n",
    "# Запоминаем проверяемые строки и создаем строку с результатом\n",
    "str1 = 'Johnny Depp & Helena Bonham Carter'\n",
    "str2 = 'Ben Stiller & Owen Wilson'\n",
    "str3 = 'Vin Diesel & Paul Walker'\n",
    "str4 = 'Adam Sandler & Kevin James'\n",
    "str5 = 'Daniel Radcliffe & Rupert Grint'\n",
    "res = 'Нет ответа'\n",
    "\n",
    "# Пробегаем в цикле по индексам в датасете самых частых пар\n",
    "# и каждую пару из датасета сравниваем с претендентом на ответ\n",
    "for ind in dfMax.index:\n",
    "    if set(str1.split(' & ')).issubset(ind.split(' & ')):\n",
    "        res = '1. ' + str1\n",
    "        break\n",
    "    elif set(str2.split(' & ')).issubset(ind.split(' & ')):\n",
    "        res = '2. ' + str2\n",
    "        break\n",
    "    elif set(str3.split(' & ')).issubset(ind.split(' & ')):\n",
    "        res = '3. ' + str3\n",
    "        break\n",
    "    elif set(str4.split(' & ')).issubset(ind.split(' & ')):\n",
    "        res = '4. ' + str4\n",
    "        break\n",
    "    elif set(str5.split(' & ')).issubset(ind.split(' & ')):\n",
    "        res = '5. ' + str5\n",
    "        break\n",
    "        \n",
    "answers['27'] = res\n",
    "# +"
   ]
  },
  {
   "cell_type": "markdown",
   "metadata": {
    "colab_type": "text",
    "id": "4ymnxEVoVqAW"
   },
   "source": [
    "ВАРИАНТ 2"
   ]
  },
  {
   "cell_type": "markdown",
   "metadata": {
    "colab_type": "text",
    "id": "U0nONFnGVqAX"
   },
   "source": [
    "# Submission"
   ]
  },
  {
   "cell_type": "code",
   "execution_count": 32,
   "metadata": {
    "colab": {},
    "colab_type": "code",
    "id": "IfcaRO9-VqAX",
    "outputId": "0f132912-32bb-4196-c98c-abfbc4ad5a5f"
   },
   "outputs": [
    {
     "data": {
      "text/plain": [
       "{'1': '5. Pirates of the Caribbean: On Stranger Tides (tt1298650)',\n",
       " '2': '2. Gods and Generals (tt0279111)',\n",
       " '3': '3. Winnie the Pooh (tt1449283)',\n",
       " '4': '2. 110',\n",
       " '5': '1. 107',\n",
       " '6': '5. Avatar (tt0499549)',\n",
       " '7': '5. The Lone Ranger (tt1210819)',\n",
       " '8': '1. 1478',\n",
       " '9': '4. The Dark Knight (tt0468569)',\n",
       " '10': '5. The Lone Ranger (tt1210819)',\n",
       " '11': '3. Drama',\n",
       " '12': '1. Drama',\n",
       " '13': '5. Peter Jackson',\n",
       " '14': '3. Robert Rodriguez',\n",
       " '15': '3. Chris Hemsworth',\n",
       " '16': '3. Matt Damon',\n",
       " '17': '2. Action',\n",
       " '18': '1. K-19: The Widowmaker (tt0267626)',\n",
       " '19': '5. 2015',\n",
       " '20': '1. 2014',\n",
       " '21': '4. Сентябрь',\n",
       " '22': '2. 450',\n",
       " '23': '5. Peter Jackson',\n",
       " '24': '5. Four By Two Productions',\n",
       " '25': '3. Midnight Picture Show',\n",
       " '26': '1. Inside Out, The Dark Knight, 12 Years a Slave',\n",
       " '27': '5. Daniel Radcliffe & Rupert Grint'}"
      ]
     },
     "execution_count": 32,
     "metadata": {},
     "output_type": "execute_result"
    }
   ],
   "source": [
    "# в конце можно посмотреть свои ответы к каждому вопросу\n",
    "answers"
   ]
  },
  {
   "cell_type": "code",
   "execution_count": 33,
   "metadata": {
    "colab": {},
    "colab_type": "code",
    "id": "SiRmHPl8VqAd"
   },
   "outputs": [
    {
     "data": {
      "text/plain": [
       "27"
      ]
     },
     "execution_count": 33,
     "metadata": {},
     "output_type": "execute_result"
    }
   ],
   "source": [
    "# и убедиться что ничего не пропустил)\n",
    "len(answers)"
   ]
  }
 ],
 "metadata": {
  "colab": {
   "name": "Copy of [SF-DST] Movies IMBD v4.1 TEMPLATE.ipynb",
   "provenance": []
  },
  "kernelspec": {
   "display_name": "Python 3",
   "language": "python",
   "name": "python3"
  },
  "language_info": {
   "codemirror_mode": {
    "name": "ipython",
    "version": 3
   },
   "file_extension": ".py",
   "mimetype": "text/x-python",
   "name": "python",
   "nbconvert_exporter": "python",
   "pygments_lexer": "ipython3",
   "version": "3.7.6"
  }
 },
 "nbformat": 4,
 "nbformat_minor": 1
}
