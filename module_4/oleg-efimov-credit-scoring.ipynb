{
 "cells": [
  {
   "cell_type": "markdown",
   "metadata": {
    "papermill": {
     "duration": 0.061311,
     "end_time": "2020-12-22T19:59:14.364281",
     "exception": false,
     "start_time": "2020-12-22T19:59:14.302970",
     "status": "completed"
    },
    "tags": []
   },
   "source": [
    "# 1. Импорт библиотек и объявление функций"
   ]
  },
  {
   "cell_type": "code",
   "execution_count": 1,
   "metadata": {
    "_cell_guid": "b1076dfc-b9ad-4769-8c92-a6c4dae69d19",
    "_uuid": "8f2839f25d086af736a60e9eeb907d3b93b6e0e5",
    "execution": {
     "iopub.execute_input": "2020-12-22T19:59:14.496541Z",
     "iopub.status.busy": "2020-12-22T19:59:14.495790Z",
     "iopub.status.idle": "2020-12-22T19:59:15.998779Z",
     "shell.execute_reply": "2020-12-22T19:59:15.999690Z"
    },
    "papermill": {
     "duration": 1.575738,
     "end_time": "2020-12-22T19:59:15.999924",
     "exception": false,
     "start_time": "2020-12-22T19:59:14.424186",
     "status": "completed"
    },
    "tags": []
   },
   "outputs": [],
   "source": [
    "from pandas import Series\n",
    "import pandas as pd\n",
    "import numpy as np\n",
    "from datetime import datetime, timedelta\n",
    "import itertools\n",
    "\n",
    "import matplotlib.pyplot as plt\n",
    "import seaborn as sns\n",
    "\n",
    "from sklearn.feature_selection import f_classif, mutual_info_classif\n",
    "from sklearn.preprocessing import LabelEncoder, OneHotEncoder, StandardScaler, RobustScaler\n",
    "\n",
    "from sklearn.model_selection import train_test_split\n",
    "from sklearn.linear_model import LogisticRegression\n",
    "from sklearn.model_selection import cross_validate\n",
    "\n",
    "\n",
    "from sklearn.metrics import confusion_matrix\n",
    "from sklearn.metrics import auc, roc_auc_score, roc_curve \n",
    "from sklearn.metrics import f1_score, accuracy_score, precision_score, recall_score, balanced_accuracy_score\n",
    "import warnings\n",
    "warnings.filterwarnings('ignore')\n",
    "\n",
    "from sklearn.model_selection import GridSearchCV\n",
    "from sklearn.feature_selection import RFE\n",
    "from sklearn.ensemble import ExtraTreesClassifier\n",
    "from sklearn.decomposition import PCA\n",
    "from sklearn.feature_selection import SelectKBest\n",
    "from sklearn.feature_selection import chi2\n",
    "\n",
    "from sklearn.model_selection import learning_curve, validation_curve\n",
    "\n",
    "from imblearn.under_sampling import RandomUnderSampler\n",
    "from imblearn.over_sampling import RandomOverSampler\n",
    "\n",
    "from sklearn.pipeline import Pipeline\n"
   ]
  },
  {
   "cell_type": "code",
   "execution_count": 2,
   "metadata": {
    "_cell_guid": "79c7e3d0-c299-4dcb-8224-4455121ee9b0",
    "_uuid": "d629ff2d2480ee46fbb7e2d37f6b5fab8052498a",
    "execution": {
     "iopub.execute_input": "2020-12-22T19:59:16.135540Z",
     "iopub.status.busy": "2020-12-22T19:59:16.134856Z",
     "iopub.status.idle": "2020-12-22T19:59:16.138072Z",
     "shell.execute_reply": "2020-12-22T19:59:16.137588Z"
    },
    "papermill": {
     "duration": 0.076699,
     "end_time": "2020-12-22T19:59:16.138187",
     "exception": false,
     "start_time": "2020-12-22T19:59:16.061488",
     "status": "completed"
    },
    "tags": []
   },
   "outputs": [],
   "source": [
    "# Глобальные переменные\n",
    "RANDOM_SEED = 42\n",
    "MAX_ITER = 1000\n",
    "\n",
    "# Хранилище результатов подбора гиперпараметров для модели\n",
    "metrics = pd.DataFrame(columns=['model','param','TP','TN','FP','FN', \n",
    "                              'accuracy','balanced_accuracy', 'precision','recall','f1','roc_auc'])\n",
    "\n",
    "# Папки для скачивания исходных файлов и загрузки результата\n",
    "dir_in = '/kaggle/input/sf-dst-scoring/'\n",
    "dir_out = '/kaggle/output/'\n",
    "dir_dollar = '/kaggle/input/addinfo/'"
   ]
  },
  {
   "cell_type": "code",
   "execution_count": 3,
   "metadata": {
    "execution": {
     "iopub.execute_input": "2020-12-22T19:59:16.279471Z",
     "iopub.status.busy": "2020-12-22T19:59:16.274113Z",
     "iopub.status.idle": "2020-12-22T19:59:16.293630Z",
     "shell.execute_reply": "2020-12-22T19:59:16.293091Z"
    },
    "papermill": {
     "duration": 0.094606,
     "end_time": "2020-12-22T19:59:16.293741",
     "exception": false,
     "start_time": "2020-12-22T19:59:16.199135",
     "status": "completed"
    },
    "tags": []
   },
   "outputs": [],
   "source": [
    "# Функции \n",
    "\n",
    "# Определение выбросов\n",
    "def get_outlier(df, col):\n",
    "    Q3 = pd.DataFrame.quantile(df, q=0.75, axis=0, numeric_only=True, interpolation='midpoint')[col]\n",
    "    Q1 = pd.DataFrame.quantile(df, q=0.25, axis=0, numeric_only=True, interpolation='midpoint')[col]\n",
    "    IQR = round(Q3-Q1,1)\n",
    "    return df[~df[col].between(Q1 - 1.5*IQR, Q3 + 1.5*IQR)][col], Q1 - 1.5*IQR, Q3 + 1.5*IQR\n",
    "\n",
    "# Преобразование в None для строковых признаков\n",
    "def set_None(value):\n",
    "    if value is None:\n",
    "        return value\n",
    "    else:\n",
    "        str_value = str(value).strip()\n",
    "        if str_value == '' or str_value.lower() == 'nan':\n",
    "            return None\n",
    "        else:\n",
    "            return str_value\n",
    "\n",
    "# Добавление оценок для очередной модели\n",
    "def add_model_metrics(metrics, model_name, model_param, y_true, y_pred, y_pred_prob):\n",
    "    \n",
    "    df_model = metrics[metrics['model']== model_name]\n",
    "    if len(df_model) > 0:\n",
    "        metrics = metrics[metrics['model']!= model_name]\n",
    "        \n",
    "    TP = np.sum((y_true==1) & (y_pred==1))\n",
    "    TN = np.sum((y_true==0) & (y_pred==0))\n",
    "    FP = np.sum((y_true==0) & (y_pred==1))\n",
    "    FN = np.sum((y_true==1) & (y_pred==0))\n",
    "    \n",
    "    accuracy = accuracy_score(y_true, y_pred)\n",
    "    balanced_accuracy = balanced_accuracy_score(y_true, y_pred)\n",
    "    precision = precision_score(y_true, y_pred) \n",
    "    recall = recall_score(y_true, y_pred)\n",
    "    f1 = f1_score(y_true, y_pred)\n",
    "    roc_auc = roc_auc_score(y_true, y_pred_prob)    \n",
    "\n",
    "    metrics.loc[len(metrics)] = [model_name, model_param, TP, TN, FP, FN, \n",
    "                              accuracy, balanced_accuracy, precision, recall, f1, roc_auc] \n",
    "    return metrics\n",
    "    \n",
    "# Визуализация результатов модели\n",
    "def graph_roc_auc(y_true, y_pred_prob):\n",
    "    # ROC AUC кривая\n",
    "    fpr, tpr, threshold = roc_curve(y_true, y_pred_prob)\n",
    "    roc_auc = roc_auc_score(y_true, y_pred_prob)\n",
    " \n",
    "    plt.figure(figsize=(4, 4))\n",
    "    plt.plot([0, 1], label='Baseline', linestyle='--')\n",
    "    plt.plot(fpr, tpr, label = 'Regression')\n",
    "    plt.title('Logistic Regression ROC AUC = %0.3f' % roc_auc)\n",
    "    plt.ylabel('True Positive Rate')\n",
    "    plt.xlabel('False Positive Rate')\n",
    "    plt.legend(loc = 'lower right')\n",
    "    plt.show()\n",
    "    \n",
    "\n",
    "def graph_confusion_matrix(y_true, y_pred):\n",
    "\n",
    "    cm = confusion_matrix(y_true, y_pred)\n",
    "    accuracy = np.trace(cm) / float(np.sum(cm))\n",
    "    \n",
    "    cmap = plt.get_cmap('Wistia')\n",
    "    plt.figure(figsize=(6, 6))\n",
    "    plt.imshow(cm, interpolation='nearest', cmap=cmap)\n",
    "    plt.title('Confusion matrix')\n",
    "    plt.colorbar()\n",
    "    \n",
    "    target_names = ['non default', 'default']\n",
    "    title_names = ['N', 'P']\n",
    "    tick_marks = np.arange(len(target_names))\n",
    "    plt.xticks(tick_marks, target_names)\n",
    "    plt.yticks(tick_marks, target_names)\n",
    "\n",
    "    cm_norm = cm.astype('float') * 100 / cm.sum(axis=1)[:, np.newaxis]\n",
    "\n",
    "\n",
    "    for i, j in itertools.product(range(cm.shape[0]), range(cm.shape[1])):\n",
    "        title = '!'\n",
    "        if i==j:\n",
    "            title = 'T' + title_names[j]\n",
    "        else:\n",
    "            title = 'F' + title_names[j]\n",
    "          \n",
    "        plt.text(j, i, title+\"\\n\"+\"{0}\".format(cm[i, j])+\"\\n\"+\"{:1.2f}\".format(cm_norm[i, j])+\"%\" ,\n",
    "                     horizontalalignment=\"center\",\n",
    "                     color=\"black\")\n",
    "\n",
    "    plt.tight_layout()\n",
    "    plt.ylabel('True values')\n",
    "    plt.xlabel('Predicted values: accuracy={:0.4f}'.format(accuracy))\n",
    "    plt.show()\n",
    "    \n",
    "    \n",
    "def show_info(df, col):\n",
    "    # Выводим количество выбросов и их границы\n",
    "    out, lim1, lim2 = get_outlier(df, col)\n",
    "    minCol = df[col].min()\n",
    "    maxCol = df[col].max()\n",
    "    median = df[col].median()\n",
    "    \n",
    "    cnt = min(int(df[col].value_counts().count()),2000)\n",
    "    \n",
    "    print('Минимум: ', minCol)\n",
    "    print('Максимум: ', maxCol)\n",
    "    print('Медиана: ', median)\n",
    "    print('Количество выбросов: ', len(out))\n",
    "    if len(out) > 0:\n",
    "        print('Нижняя граница выбросов: ', lim1)\n",
    "        print('Верхняя граница выбросов: ', lim2)\n",
    "    \n",
    "    # Выводим графики: гистограмму и боксплот\n",
    "    fig, axes = plt.subplots(1,2,figsize=(12,4))\n",
    "    axes[0].hist(df[col], bins=cnt)\n",
    "    axes[1].boxplot(df[col])\n",
    "    \n",
    "    return {'med': median, 'lm1': lim1, 'lm2': lim2}"
   ]
  },
  {
   "cell_type": "markdown",
   "metadata": {
    "papermill": {
     "duration": 0.060419,
     "end_time": "2020-12-22T19:59:16.415037",
     "exception": false,
     "start_time": "2020-12-22T19:59:16.354618",
     "status": "completed"
    },
    "tags": []
   },
   "source": [
    "# 2. Чтение данных"
   ]
  },
  {
   "cell_type": "code",
   "execution_count": 4,
   "metadata": {
    "execution": {
     "iopub.execute_input": "2020-12-22T19:59:16.545374Z",
     "iopub.status.busy": "2020-12-22T19:59:16.544692Z",
     "iopub.status.idle": "2020-12-22T19:59:16.673968Z",
     "shell.execute_reply": "2020-12-22T19:59:16.674959Z"
    },
    "papermill": {
     "duration": 0.199559,
     "end_time": "2020-12-22T19:59:16.675173",
     "exception": false,
     "start_time": "2020-12-22T19:59:16.475614",
     "status": "completed"
    },
    "tags": []
   },
   "outputs": [
    {
     "name": "stdout",
     "output_type": "stream",
     "text": [
      "<class 'pandas.core.frame.DataFrame'>\n",
      "RangeIndex: 36349 entries, 0 to 36348\n",
      "Data columns (total 18 columns):\n",
      " #   Column            Non-Null Count  Dtype  \n",
      "---  ------            --------------  -----  \n",
      " 0   client_id         36349 non-null  int64  \n",
      " 1   app_date          36349 non-null  object \n",
      " 2   education         36178 non-null  object \n",
      " 3   sex               36349 non-null  object \n",
      " 4   age               36349 non-null  int64  \n",
      " 5   car               36349 non-null  object \n",
      " 6   car_type          36349 non-null  object \n",
      " 7   decline_app_cnt   36349 non-null  int64  \n",
      " 8   good_work         36349 non-null  int64  \n",
      " 9   score_bki         36349 non-null  float64\n",
      " 10  bki_request_cnt   36349 non-null  int64  \n",
      " 11  region_rating     36349 non-null  int64  \n",
      " 12  home_address      36349 non-null  int64  \n",
      " 13  work_address      36349 non-null  int64  \n",
      " 14  income            36349 non-null  int64  \n",
      " 15  sna               36349 non-null  int64  \n",
      " 16  first_time        36349 non-null  int64  \n",
      " 17  foreign_passport  36349 non-null  object \n",
      "dtypes: float64(1), int64(11), object(6)\n",
      "memory usage: 5.0+ MB\n"
     ]
    }
   ],
   "source": [
    "# Тестовый набор\n",
    "df_test = pd.read_csv('test.csv') # pd.read_csv(dir_in + 'test.csv')\n",
    "df_test.info()"
   ]
  },
  {
   "cell_type": "code",
   "execution_count": 5,
   "metadata": {
    "execution": {
     "iopub.execute_input": "2020-12-22T19:59:16.805716Z",
     "iopub.status.busy": "2020-12-22T19:59:16.805046Z",
     "iopub.status.idle": "2020-12-22T19:59:17.017029Z",
     "shell.execute_reply": "2020-12-22T19:59:17.017466Z"
    },
    "papermill": {
     "duration": 0.280355,
     "end_time": "2020-12-22T19:59:17.017625",
     "exception": false,
     "start_time": "2020-12-22T19:59:16.737270",
     "status": "completed"
    },
    "tags": []
   },
   "outputs": [
    {
     "name": "stdout",
     "output_type": "stream",
     "text": [
      "<class 'pandas.core.frame.DataFrame'>\n",
      "RangeIndex: 73799 entries, 0 to 73798\n",
      "Data columns (total 19 columns):\n",
      " #   Column            Non-Null Count  Dtype  \n",
      "---  ------            --------------  -----  \n",
      " 0   client_id         73799 non-null  int64  \n",
      " 1   app_date          73799 non-null  object \n",
      " 2   education         73492 non-null  object \n",
      " 3   sex               73799 non-null  object \n",
      " 4   age               73799 non-null  int64  \n",
      " 5   car               73799 non-null  object \n",
      " 6   car_type          73799 non-null  object \n",
      " 7   decline_app_cnt   73799 non-null  int64  \n",
      " 8   good_work         73799 non-null  int64  \n",
      " 9   score_bki         73799 non-null  float64\n",
      " 10  bki_request_cnt   73799 non-null  int64  \n",
      " 11  region_rating     73799 non-null  int64  \n",
      " 12  home_address      73799 non-null  int64  \n",
      " 13  work_address      73799 non-null  int64  \n",
      " 14  income            73799 non-null  int64  \n",
      " 15  sna               73799 non-null  int64  \n",
      " 16  first_time        73799 non-null  int64  \n",
      " 17  foreign_passport  73799 non-null  object \n",
      " 18  default           73799 non-null  int64  \n",
      "dtypes: float64(1), int64(12), object(6)\n",
      "memory usage: 10.7+ MB\n"
     ]
    }
   ],
   "source": [
    "# Тренировочный набор\n",
    "df_train = pd.read_csv('train.csv') # pd.read_csv(dir_in + 'train.csv')\n",
    "df_train.info()"
   ]
  },
  {
   "cell_type": "code",
   "execution_count": 6,
   "metadata": {
    "execution": {
     "iopub.execute_input": "2020-12-22T19:59:17.147092Z",
     "iopub.status.busy": "2020-12-22T19:59:17.146467Z",
     "iopub.status.idle": "2020-12-22T19:59:17.163649Z",
     "shell.execute_reply": "2020-12-22T19:59:17.164113Z"
    },
    "papermill": {
     "duration": 0.08493,
     "end_time": "2020-12-22T19:59:17.164266",
     "exception": false,
     "start_time": "2020-12-22T19:59:17.079336",
     "status": "completed"
    },
    "tags": []
   },
   "outputs": [
    {
     "name": "stdout",
     "output_type": "stream",
     "text": [
      "<class 'pandas.core.frame.DataFrame'>\n",
      "RangeIndex: 120 entries, 0 to 119\n",
      "Data columns (total 4 columns):\n",
      " #   Column  Non-Null Count  Dtype  \n",
      "---  ------  --------------  -----  \n",
      " 0   dt      120 non-null    object \n",
      " 1   rate    120 non-null    float64\n",
      " 2   infl    120 non-null    float64\n",
      " 3   srf     120 non-null    float64\n",
      "dtypes: float64(3), object(1)\n",
      "memory usage: 3.9+ KB\n"
     ]
    }
   ],
   "source": [
    "# Дополнительный набор из внешних источников\n",
    "df_dollar = pd.read_csv('dollar.csv') # pd.read_csv(dir_dollar + 'dollar.csv')\n",
    "df_dollar.info()"
   ]
  },
  {
   "cell_type": "code",
   "execution_count": 7,
   "metadata": {
    "execution": {
     "iopub.execute_input": "2020-12-22T19:59:17.301323Z",
     "iopub.status.busy": "2020-12-22T19:59:17.294720Z",
     "iopub.status.idle": "2020-12-22T19:59:17.348257Z",
     "shell.execute_reply": "2020-12-22T19:59:17.347573Z"
    },
    "papermill": {
     "duration": 0.121542,
     "end_time": "2020-12-22T19:59:17.348376",
     "exception": false,
     "start_time": "2020-12-22T19:59:17.226834",
     "status": "completed"
    },
    "tags": []
   },
   "outputs": [],
   "source": [
    "# Добавляем признак для разделения тренировочной и тестовой части\n",
    "df_train['sample'] = 1 \n",
    "df_test['sample'] = 0 \n",
    "\n",
    "# В тестовой части добавляем признак с целевой переменной \n",
    "df_test['default'] = 0 \n",
    "\n",
    "# Объединяем части\n",
    "df = df_test.append(df_train, sort=False).reset_index(drop=True)"
   ]
  },
  {
   "cell_type": "code",
   "execution_count": 8,
   "metadata": {
    "execution": {
     "iopub.execute_input": "2020-12-22T19:59:17.478310Z",
     "iopub.status.busy": "2020-12-22T19:59:17.477664Z",
     "iopub.status.idle": "2020-12-22T19:59:17.537487Z",
     "shell.execute_reply": "2020-12-22T19:59:17.538181Z"
    },
    "papermill": {
     "duration": 0.128007,
     "end_time": "2020-12-22T19:59:17.538402",
     "exception": false,
     "start_time": "2020-12-22T19:59:17.410395",
     "status": "completed"
    },
    "tags": []
   },
   "outputs": [
    {
     "name": "stdout",
     "output_type": "stream",
     "text": [
      "<class 'pandas.core.frame.DataFrame'>\n",
      "RangeIndex: 110148 entries, 0 to 110147\n",
      "Data columns (total 20 columns):\n",
      " #   Column            Non-Null Count   Dtype  \n",
      "---  ------            --------------   -----  \n",
      " 0   client_id         110148 non-null  int64  \n",
      " 1   app_date          110148 non-null  object \n",
      " 2   education         109670 non-null  object \n",
      " 3   sex               110148 non-null  object \n",
      " 4   age               110148 non-null  int64  \n",
      " 5   car               110148 non-null  object \n",
      " 6   car_type          110148 non-null  object \n",
      " 7   decline_app_cnt   110148 non-null  int64  \n",
      " 8   good_work         110148 non-null  int64  \n",
      " 9   score_bki         110148 non-null  float64\n",
      " 10  bki_request_cnt   110148 non-null  int64  \n",
      " 11  region_rating     110148 non-null  int64  \n",
      " 12  home_address      110148 non-null  int64  \n",
      " 13  work_address      110148 non-null  int64  \n",
      " 14  income            110148 non-null  int64  \n",
      " 15  sna               110148 non-null  int64  \n",
      " 16  first_time        110148 non-null  int64  \n",
      " 17  foreign_passport  110148 non-null  object \n",
      " 18  sample            110148 non-null  int64  \n",
      " 19  default           110148 non-null  int64  \n",
      "dtypes: float64(1), int64(13), object(6)\n",
      "memory usage: 16.8+ MB\n"
     ]
    }
   ],
   "source": [
    "# Смотрим на состав данных и заполнение полей\n",
    "df.info()"
   ]
  },
  {
   "cell_type": "code",
   "execution_count": 9,
   "metadata": {
    "execution": {
     "iopub.execute_input": "2020-12-22T19:59:17.679969Z",
     "iopub.status.busy": "2020-12-22T19:59:17.679339Z",
     "iopub.status.idle": "2020-12-22T19:59:17.769238Z",
     "shell.execute_reply": "2020-12-22T19:59:17.769720Z"
    },
    "papermill": {
     "duration": 0.167252,
     "end_time": "2020-12-22T19:59:17.769865",
     "exception": false,
     "start_time": "2020-12-22T19:59:17.602613",
     "status": "completed"
    },
    "tags": []
   },
   "outputs": [
    {
     "data": {
      "text/html": [
       "<div>\n",
       "<style scoped>\n",
       "    .dataframe tbody tr th:only-of-type {\n",
       "        vertical-align: middle;\n",
       "    }\n",
       "\n",
       "    .dataframe tbody tr th {\n",
       "        vertical-align: top;\n",
       "    }\n",
       "\n",
       "    .dataframe thead th {\n",
       "        text-align: right;\n",
       "    }\n",
       "</style>\n",
       "<table border=\"1\" class=\"dataframe\">\n",
       "  <thead>\n",
       "    <tr style=\"text-align: right;\">\n",
       "      <th></th>\n",
       "      <th>client_id</th>\n",
       "      <th>age</th>\n",
       "      <th>decline_app_cnt</th>\n",
       "      <th>good_work</th>\n",
       "      <th>score_bki</th>\n",
       "      <th>bki_request_cnt</th>\n",
       "      <th>region_rating</th>\n",
       "      <th>home_address</th>\n",
       "      <th>work_address</th>\n",
       "      <th>income</th>\n",
       "      <th>sna</th>\n",
       "      <th>first_time</th>\n",
       "      <th>sample</th>\n",
       "      <th>default</th>\n",
       "    </tr>\n",
       "  </thead>\n",
       "  <tbody>\n",
       "    <tr>\n",
       "      <th>count</th>\n",
       "      <td>110148.000000</td>\n",
       "      <td>110148.000000</td>\n",
       "      <td>110148.000000</td>\n",
       "      <td>110148.000000</td>\n",
       "      <td>110148.000000</td>\n",
       "      <td>110148.000000</td>\n",
       "      <td>110148.000000</td>\n",
       "      <td>110148.000000</td>\n",
       "      <td>110148.000000</td>\n",
       "      <td>110148.000000</td>\n",
       "      <td>110148.000000</td>\n",
       "      <td>110148.000000</td>\n",
       "      <td>110148.000000</td>\n",
       "      <td>110148.000000</td>\n",
       "    </tr>\n",
       "    <tr>\n",
       "      <th>mean</th>\n",
       "      <td>55074.500000</td>\n",
       "      <td>39.249410</td>\n",
       "      <td>0.273205</td>\n",
       "      <td>0.165514</td>\n",
       "      <td>-1.904535</td>\n",
       "      <td>2.005002</td>\n",
       "      <td>56.751189</td>\n",
       "      <td>1.574945</td>\n",
       "      <td>2.497867</td>\n",
       "      <td>41012.648537</td>\n",
       "      <td>1.731588</td>\n",
       "      <td>2.765570</td>\n",
       "      <td>0.669999</td>\n",
       "      <td>0.085086</td>\n",
       "    </tr>\n",
       "    <tr>\n",
       "      <th>std</th>\n",
       "      <td>31797.133063</td>\n",
       "      <td>11.518063</td>\n",
       "      <td>0.799099</td>\n",
       "      <td>0.371645</td>\n",
       "      <td>0.499397</td>\n",
       "      <td>2.266926</td>\n",
       "      <td>13.065923</td>\n",
       "      <td>0.527562</td>\n",
       "      <td>0.687651</td>\n",
       "      <td>45399.735051</td>\n",
       "      <td>1.122652</td>\n",
       "      <td>1.010151</td>\n",
       "      <td>0.470215</td>\n",
       "      <td>0.279010</td>\n",
       "    </tr>\n",
       "    <tr>\n",
       "      <th>min</th>\n",
       "      <td>1.000000</td>\n",
       "      <td>21.000000</td>\n",
       "      <td>0.000000</td>\n",
       "      <td>0.000000</td>\n",
       "      <td>-3.624586</td>\n",
       "      <td>0.000000</td>\n",
       "      <td>20.000000</td>\n",
       "      <td>1.000000</td>\n",
       "      <td>1.000000</td>\n",
       "      <td>1000.000000</td>\n",
       "      <td>1.000000</td>\n",
       "      <td>1.000000</td>\n",
       "      <td>0.000000</td>\n",
       "      <td>0.000000</td>\n",
       "    </tr>\n",
       "    <tr>\n",
       "      <th>25%</th>\n",
       "      <td>27537.750000</td>\n",
       "      <td>30.000000</td>\n",
       "      <td>0.000000</td>\n",
       "      <td>0.000000</td>\n",
       "      <td>-2.260434</td>\n",
       "      <td>0.000000</td>\n",
       "      <td>50.000000</td>\n",
       "      <td>1.000000</td>\n",
       "      <td>2.000000</td>\n",
       "      <td>20000.000000</td>\n",
       "      <td>1.000000</td>\n",
       "      <td>2.000000</td>\n",
       "      <td>0.000000</td>\n",
       "      <td>0.000000</td>\n",
       "    </tr>\n",
       "    <tr>\n",
       "      <th>50%</th>\n",
       "      <td>55074.500000</td>\n",
       "      <td>37.000000</td>\n",
       "      <td>0.000000</td>\n",
       "      <td>0.000000</td>\n",
       "      <td>-1.920823</td>\n",
       "      <td>1.000000</td>\n",
       "      <td>50.000000</td>\n",
       "      <td>2.000000</td>\n",
       "      <td>3.000000</td>\n",
       "      <td>30000.000000</td>\n",
       "      <td>1.000000</td>\n",
       "      <td>3.000000</td>\n",
       "      <td>1.000000</td>\n",
       "      <td>0.000000</td>\n",
       "    </tr>\n",
       "    <tr>\n",
       "      <th>75%</th>\n",
       "      <td>82611.250000</td>\n",
       "      <td>48.000000</td>\n",
       "      <td>0.000000</td>\n",
       "      <td>0.000000</td>\n",
       "      <td>-1.567888</td>\n",
       "      <td>3.000000</td>\n",
       "      <td>60.000000</td>\n",
       "      <td>2.000000</td>\n",
       "      <td>3.000000</td>\n",
       "      <td>48000.000000</td>\n",
       "      <td>2.000000</td>\n",
       "      <td>4.000000</td>\n",
       "      <td>1.000000</td>\n",
       "      <td>0.000000</td>\n",
       "    </tr>\n",
       "    <tr>\n",
       "      <th>max</th>\n",
       "      <td>110148.000000</td>\n",
       "      <td>72.000000</td>\n",
       "      <td>33.000000</td>\n",
       "      <td>1.000000</td>\n",
       "      <td>0.199773</td>\n",
       "      <td>53.000000</td>\n",
       "      <td>80.000000</td>\n",
       "      <td>3.000000</td>\n",
       "      <td>3.000000</td>\n",
       "      <td>1000000.000000</td>\n",
       "      <td>4.000000</td>\n",
       "      <td>4.000000</td>\n",
       "      <td>1.000000</td>\n",
       "      <td>1.000000</td>\n",
       "    </tr>\n",
       "  </tbody>\n",
       "</table>\n",
       "</div>"
      ],
      "text/plain": [
       "           client_id            age  decline_app_cnt      good_work  \\\n",
       "count  110148.000000  110148.000000    110148.000000  110148.000000   \n",
       "mean    55074.500000      39.249410         0.273205       0.165514   \n",
       "std     31797.133063      11.518063         0.799099       0.371645   \n",
       "min         1.000000      21.000000         0.000000       0.000000   \n",
       "25%     27537.750000      30.000000         0.000000       0.000000   \n",
       "50%     55074.500000      37.000000         0.000000       0.000000   \n",
       "75%     82611.250000      48.000000         0.000000       0.000000   \n",
       "max    110148.000000      72.000000        33.000000       1.000000   \n",
       "\n",
       "           score_bki  bki_request_cnt  region_rating   home_address  \\\n",
       "count  110148.000000    110148.000000  110148.000000  110148.000000   \n",
       "mean       -1.904535         2.005002      56.751189       1.574945   \n",
       "std         0.499397         2.266926      13.065923       0.527562   \n",
       "min        -3.624586         0.000000      20.000000       1.000000   \n",
       "25%        -2.260434         0.000000      50.000000       1.000000   \n",
       "50%        -1.920823         1.000000      50.000000       2.000000   \n",
       "75%        -1.567888         3.000000      60.000000       2.000000   \n",
       "max         0.199773        53.000000      80.000000       3.000000   \n",
       "\n",
       "        work_address          income            sna     first_time  \\\n",
       "count  110148.000000   110148.000000  110148.000000  110148.000000   \n",
       "mean        2.497867    41012.648537       1.731588       2.765570   \n",
       "std         0.687651    45399.735051       1.122652       1.010151   \n",
       "min         1.000000     1000.000000       1.000000       1.000000   \n",
       "25%         2.000000    20000.000000       1.000000       2.000000   \n",
       "50%         3.000000    30000.000000       1.000000       3.000000   \n",
       "75%         3.000000    48000.000000       2.000000       4.000000   \n",
       "max         3.000000  1000000.000000       4.000000       4.000000   \n",
       "\n",
       "              sample        default  \n",
       "count  110148.000000  110148.000000  \n",
       "mean        0.669999       0.085086  \n",
       "std         0.470215       0.279010  \n",
       "min         0.000000       0.000000  \n",
       "25%         0.000000       0.000000  \n",
       "50%         1.000000       0.000000  \n",
       "75%         1.000000       0.000000  \n",
       "max         1.000000       1.000000  "
      ]
     },
     "execution_count": 9,
     "metadata": {},
     "output_type": "execute_result"
    }
   ],
   "source": [
    "df.describe()"
   ]
  },
  {
   "cell_type": "markdown",
   "metadata": {
    "papermill": {
     "duration": 0.064749,
     "end_time": "2020-12-22T19:59:17.899865",
     "exception": false,
     "start_time": "2020-12-22T19:59:17.835116",
     "status": "completed"
    },
    "tags": []
   },
   "source": [
    "# 3. Обработка данных"
   ]
  },
  {
   "cell_type": "markdown",
   "metadata": {
    "papermill": {
     "duration": 0.063629,
     "end_time": "2020-12-22T19:59:18.026769",
     "exception": false,
     "start_time": "2020-12-22T19:59:17.963140",
     "status": "completed"
    },
    "tags": []
   },
   "source": [
    "## 3.1 Целевая переменная default"
   ]
  },
  {
   "cell_type": "code",
   "execution_count": 10,
   "metadata": {
    "execution": {
     "iopub.execute_input": "2020-12-22T19:59:18.161526Z",
     "iopub.status.busy": "2020-12-22T19:59:18.160871Z",
     "iopub.status.idle": "2020-12-22T19:59:18.339229Z",
     "shell.execute_reply": "2020-12-22T19:59:18.339705Z"
    },
    "papermill": {
     "duration": 0.249231,
     "end_time": "2020-12-22T19:59:18.339867",
     "exception": false,
     "start_time": "2020-12-22T19:59:18.090636",
     "status": "completed"
    },
    "tags": []
   },
   "outputs": [
    {
     "data": {
      "text/plain": [
       "<matplotlib.axes._subplots.AxesSubplot at 0x1920002fc48>"
      ]
     },
     "execution_count": 10,
     "metadata": {},
     "output_type": "execute_result"
    },
    {
     "data": {
      "image/png": "[encoded data removed]",
      "text/plain": [
       "<Figure size 432x288 with 1 Axes>"
      ]
     },
     "metadata": {
      "needs_background": "light"
     },
     "output_type": "display_data"
    }
   ],
   "source": [
    "# Целевая переменная. Смотрим на ее распределение\n",
    "df['default'].value_counts().plot.bar()"
   ]
  },
  {
   "cell_type": "markdown",
   "metadata": {
    "papermill": {
     "duration": 0.063774,
     "end_time": "2020-12-22T19:59:18.467874",
     "exception": false,
     "start_time": "2020-12-22T19:59:18.404100",
     "status": "completed"
    },
    "tags": []
   },
   "source": [
    "Вывод: переменная распределена очень неравномерно. \n",
    "При построении модели, наверное, надо будет прибегать к балансировке"
   ]
  },
  {
   "cell_type": "markdown",
   "metadata": {
    "papermill": {
     "duration": 0.064484,
     "end_time": "2020-12-22T19:59:18.596959",
     "exception": false,
     "start_time": "2020-12-22T19:59:18.532475",
     "status": "completed"
    },
    "tags": []
   },
   "source": [
    "## 3.2 Признак client_id"
   ]
  },
  {
   "cell_type": "code",
   "execution_count": 11,
   "metadata": {
    "execution": {
     "iopub.execute_input": "2020-12-22T19:59:18.729999Z",
     "iopub.status.busy": "2020-12-22T19:59:18.729299Z",
     "iopub.status.idle": "2020-12-22T19:59:18.744355Z",
     "shell.execute_reply": "2020-12-22T19:59:18.744770Z"
    },
    "papermill": {
     "duration": 0.082951,
     "end_time": "2020-12-22T19:59:18.744914",
     "exception": false,
     "start_time": "2020-12-22T19:59:18.661963",
     "status": "completed"
    },
    "tags": []
   },
   "outputs": [
    {
     "data": {
      "text/plain": [
       "2047     1\n",
       "97541    1\n",
       "93447    1\n",
       "70920    1\n",
       "72969    1\n",
       "        ..\n",
       "47810    1\n",
       "45763    1\n",
       "35524    1\n",
       "33477    1\n",
       "2049     1\n",
       "Name: client_id, Length: 110148, dtype: int64"
      ]
     },
     "execution_count": 11,
     "metadata": {},
     "output_type": "execute_result"
    }
   ],
   "source": [
    "# Проверим уникальность\n",
    "df['client_id'].value_counts()"
   ]
  },
  {
   "cell_type": "markdown",
   "metadata": {
    "papermill": {
     "duration": 0.064457,
     "end_time": "2020-12-22T19:59:18.875171",
     "exception": false,
     "start_time": "2020-12-22T19:59:18.810714",
     "status": "completed"
    },
    "tags": []
   },
   "source": [
    "Столбец имеет только уникальные значения и может служить идентификатором записи"
   ]
  },
  {
   "cell_type": "markdown",
   "metadata": {
    "papermill": {
     "duration": 0.064257,
     "end_time": "2020-12-22T19:59:19.004968",
     "exception": false,
     "start_time": "2020-12-22T19:59:18.940711",
     "status": "completed"
    },
    "tags": []
   },
   "source": [
    "## 3.3 Признак education"
   ]
  },
  {
   "cell_type": "code",
   "execution_count": 12,
   "metadata": {
    "execution": {
     "iopub.execute_input": "2020-12-22T19:59:19.155747Z",
     "iopub.status.busy": "2020-12-22T19:59:19.154738Z",
     "iopub.status.idle": "2020-12-22T19:59:19.368202Z",
     "shell.execute_reply": "2020-12-22T19:59:19.367615Z"
    },
    "papermill": {
     "duration": 0.298857,
     "end_time": "2020-12-22T19:59:19.368315",
     "exception": false,
     "start_time": "2020-12-22T19:59:19.069458",
     "status": "completed"
    },
    "tags": []
   },
   "outputs": [
    {
     "data": {
      "text/plain": [
       "SCH    57998\n",
       "GRD    34768\n",
       "UGR    14748\n",
       "PGR     1865\n",
       "ACD      291\n",
       "Name: education, dtype: int64"
      ]
     },
     "metadata": {},
     "output_type": "display_data"
    },
    {
     "data": {
      "text/plain": [
       "<matplotlib.axes._subplots.AxesSubplot at 0x19200a83708>"
      ]
     },
     "execution_count": 12,
     "metadata": {},
     "output_type": "execute_result"
    },
    {
     "data": {
      "image/png": "[encoded data removed]",
      "text/plain": [
       "<Figure size 432x288 with 1 Axes>"
      ]
     },
     "metadata": {
      "needs_background": "light"
     },
     "output_type": "display_data"
    }
   ],
   "source": [
    "display(df['education'].value_counts())\n",
    "df['education'].value_counts().plot.barh()"
   ]
  },
  {
   "cell_type": "code",
   "execution_count": 13,
   "metadata": {
    "execution": {
     "iopub.execute_input": "2020-12-22T19:59:19.510241Z",
     "iopub.status.busy": "2020-12-22T19:59:19.509541Z",
     "iopub.status.idle": "2020-12-22T19:59:21.091876Z",
     "shell.execute_reply": "2020-12-22T19:59:21.091263Z"
    },
    "papermill": {
     "duration": 1.657595,
     "end_time": "2020-12-22T19:59:21.092008",
     "exception": false,
     "start_time": "2020-12-22T19:59:19.434413",
     "status": "completed"
    },
    "tags": []
   },
   "outputs": [
    {
     "data": {
      "text/plain": [
       "SCH    58408\n",
       "GRD    34821\n",
       "UGR    14757\n",
       "PGR     1867\n",
       "ACD      295\n",
       "Name: education, dtype: int64"
      ]
     },
     "metadata": {},
     "output_type": "display_data"
    },
    {
     "data": {
      "text/plain": [
       "<matplotlib.axes._subplots.AxesSubplot at 0x1927b005248>"
      ]
     },
     "execution_count": 13,
     "metadata": {},
     "output_type": "execute_result"
    },
    {
     "data": {
      "image/png": "[encoded data removed]",
      "text/plain": [
       "<Figure size 432x288 with 1 Axes>"
      ]
     },
     "metadata": {
      "needs_background": "light"
     },
     "output_type": "display_data"
    }
   ],
   "source": [
    "# Столбец имеет пропуски.\n",
    "# Их можно заполнить самым частым значением SCH, но можно равномерно нарастить количество каждых значений\n",
    "# Попробуем заполнить значениями в зависимости от других параметров\n",
    "df['education'] = df['education'].apply(set_None)\n",
    "\n",
    "df['education'] = df.apply(\n",
    "    lambda row : row['education'] if  not (row['education'] is None) \\\n",
    "    else 'ACD' if row['good_work']==1 and row['car_type']=='Y' and row['foreign_passport']=='Y' and row['income']>50000 \\\n",
    "    else 'PGR' if row['good_work']==1 and row['car_type']=='Y' and row['foreign_passport']=='Y' \\\n",
    "    else 'UGR' if row['good_work']==1 and row['foreign_passport']=='Y' \\\n",
    "    else 'GRD' if row['good_work']==1 \\\n",
    "    else 'SCH', axis = 1)\n",
    "\n",
    "display(df['education'].value_counts())\n",
    "\n",
    "df['education'].value_counts().plot.barh()"
   ]
  },
  {
   "cell_type": "code",
   "execution_count": 14,
   "metadata": {
    "execution": {
     "iopub.execute_input": "2020-12-22T19:59:21.235004Z",
     "iopub.status.busy": "2020-12-22T19:59:21.234263Z",
     "iopub.status.idle": "2020-12-22T19:59:21.260775Z",
     "shell.execute_reply": "2020-12-22T19:59:21.261244Z"
    },
    "papermill": {
     "duration": 0.101631,
     "end_time": "2020-12-22T19:59:21.261398",
     "exception": false,
     "start_time": "2020-12-22T19:59:21.159767",
     "status": "completed"
    },
    "tags": []
   },
   "outputs": [],
   "source": [
    "# Это категориальный признак, но в нем явно градуируются уровни образования\n",
    "# Добавим столбец с числовыми значениями\n",
    "education = {'SCH': 1, 'GRD': 2, 'UGR': 3, 'PGR': 4, 'ACD': 5}\n",
    "df['edu'] = df['education'] \n",
    "df['education'] = df['education'].map(education)\n",
    "df['edu'] = df['edu'].map(education)"
   ]
  },
  {
   "cell_type": "code",
   "execution_count": 15,
   "metadata": {
    "execution": {
     "iopub.execute_input": "2020-12-22T19:59:21.401903Z",
     "iopub.status.busy": "2020-12-22T19:59:21.401228Z",
     "iopub.status.idle": "2020-12-22T19:59:21.404546Z",
     "shell.execute_reply": "2020-12-22T19:59:21.404052Z"
    },
    "papermill": {
     "duration": 0.076063,
     "end_time": "2020-12-22T19:59:21.404655",
     "exception": false,
     "start_time": "2020-12-22T19:59:21.328592",
     "status": "completed"
    },
    "tags": []
   },
   "outputs": [],
   "source": [
    "# Создадим список столбцов, которые не надо будет преобразовывать.\n",
    "# Пока в него внесем только education\n",
    "dop_cols = ['education']\n",
    "\n",
    "# А дополнительный столбец для преобразования в dummy пока просто сохраним в списке категориальных столбцов\n",
    "cat_cols = ['edu']"
   ]
  },
  {
   "cell_type": "markdown",
   "metadata": {
    "papermill": {
     "duration": 0.067822,
     "end_time": "2020-12-22T19:59:21.539702",
     "exception": false,
     "start_time": "2020-12-22T19:59:21.471880",
     "status": "completed"
    },
    "tags": []
   },
   "source": [
    "## 3.4 Бинарные признаки"
   ]
  },
  {
   "cell_type": "code",
   "execution_count": 16,
   "metadata": {
    "execution": {
     "iopub.execute_input": "2020-12-22T19:59:21.679957Z",
     "iopub.status.busy": "2020-12-22T19:59:21.679012Z",
     "iopub.status.idle": "2020-12-22T19:59:21.681442Z",
     "shell.execute_reply": "2020-12-22T19:59:21.681967Z"
    },
    "papermill": {
     "duration": 0.074516,
     "end_time": "2020-12-22T19:59:21.682111",
     "exception": false,
     "start_time": "2020-12-22T19:59:21.607595",
     "status": "completed"
    },
    "tags": []
   },
   "outputs": [],
   "source": [
    "# Занесем все бинарные признаки в список\n",
    "bin_cols = ['sex', 'car', 'car_type', 'good_work', 'foreign_passport']"
   ]
  },
  {
   "cell_type": "code",
   "execution_count": 17,
   "metadata": {
    "execution": {
     "iopub.execute_input": "2020-12-22T19:59:21.820309Z",
     "iopub.status.busy": "2020-12-22T19:59:21.819304Z",
     "iopub.status.idle": "2020-12-22T19:59:21.879075Z",
     "shell.execute_reply": "2020-12-22T19:59:21.879569Z"
    },
    "papermill": {
     "duration": 0.130685,
     "end_time": "2020-12-22T19:59:21.879707",
     "exception": false,
     "start_time": "2020-12-22T19:59:21.749022",
     "status": "completed"
    },
    "tags": []
   },
   "outputs": [
    {
     "data": {
      "text/plain": [
       "F    61836\n",
       "M    48312\n",
       "Name: sex, dtype: int64"
      ]
     },
     "metadata": {},
     "output_type": "display_data"
    },
    {
     "data": {
      "text/plain": [
       "N    74290\n",
       "Y    35858\n",
       "Name: car, dtype: int64"
      ]
     },
     "metadata": {},
     "output_type": "display_data"
    },
    {
     "data": {
      "text/plain": [
       "N    89140\n",
       "Y    21008\n",
       "Name: car_type, dtype: int64"
      ]
     },
     "metadata": {},
     "output_type": "display_data"
    },
    {
     "data": {
      "text/plain": [
       "0    91917\n",
       "1    18231\n",
       "Name: good_work, dtype: int64"
      ]
     },
     "metadata": {},
     "output_type": "display_data"
    },
    {
     "data": {
      "text/plain": [
       "N    93721\n",
       "Y    16427\n",
       "Name: foreign_passport, dtype: int64"
      ]
     },
     "metadata": {},
     "output_type": "display_data"
    }
   ],
   "source": [
    "# Проверим, какие значения они принимают\n",
    "for col in bin_cols:\n",
    "    display(df[col].value_counts())"
   ]
  },
  {
   "cell_type": "code",
   "execution_count": 18,
   "metadata": {
    "execution": {
     "iopub.execute_input": "2020-12-22T19:59:22.021500Z",
     "iopub.status.busy": "2020-12-22T19:59:22.020481Z",
     "iopub.status.idle": "2020-12-22T19:59:22.127504Z",
     "shell.execute_reply": "2020-12-22T19:59:22.127026Z"
    },
    "papermill": {
     "duration": 0.178635,
     "end_time": "2020-12-22T19:59:22.127617",
     "exception": false,
     "start_time": "2020-12-22T19:59:21.948982",
     "status": "completed"
    },
    "tags": []
   },
   "outputs": [
    {
     "data": {
      "text/html": [
       "<div>\n",
       "<style scoped>\n",
       "    .dataframe tbody tr th:only-of-type {\n",
       "        vertical-align: middle;\n",
       "    }\n",
       "\n",
       "    .dataframe tbody tr th {\n",
       "        vertical-align: top;\n",
       "    }\n",
       "\n",
       "    .dataframe thead th {\n",
       "        text-align: right;\n",
       "    }\n",
       "</style>\n",
       "<table border=\"1\" class=\"dataframe\">\n",
       "  <thead>\n",
       "    <tr style=\"text-align: right;\">\n",
       "      <th></th>\n",
       "      <th>client_id</th>\n",
       "      <th>app_date</th>\n",
       "      <th>education</th>\n",
       "      <th>sex</th>\n",
       "      <th>age</th>\n",
       "      <th>car</th>\n",
       "      <th>car_type</th>\n",
       "      <th>decline_app_cnt</th>\n",
       "      <th>good_work</th>\n",
       "      <th>score_bki</th>\n",
       "      <th>...</th>\n",
       "      <th>region_rating</th>\n",
       "      <th>home_address</th>\n",
       "      <th>work_address</th>\n",
       "      <th>income</th>\n",
       "      <th>sna</th>\n",
       "      <th>first_time</th>\n",
       "      <th>foreign_passport</th>\n",
       "      <th>sample</th>\n",
       "      <th>default</th>\n",
       "      <th>edu</th>\n",
       "    </tr>\n",
       "  </thead>\n",
       "  <tbody>\n",
       "    <tr>\n",
       "      <th>0</th>\n",
       "      <td>74835</td>\n",
       "      <td>22MAR2014</td>\n",
       "      <td>2</td>\n",
       "      <td>1</td>\n",
       "      <td>29</td>\n",
       "      <td>1</td>\n",
       "      <td>1</td>\n",
       "      <td>0</td>\n",
       "      <td>0</td>\n",
       "      <td>-2.271884</td>\n",
       "      <td>...</td>\n",
       "      <td>50</td>\n",
       "      <td>1</td>\n",
       "      <td>2</td>\n",
       "      <td>50000</td>\n",
       "      <td>1</td>\n",
       "      <td>4</td>\n",
       "      <td>0</td>\n",
       "      <td>0</td>\n",
       "      <td>0</td>\n",
       "      <td>2</td>\n",
       "    </tr>\n",
       "    <tr>\n",
       "      <th>1</th>\n",
       "      <td>17527</td>\n",
       "      <td>24JAN2014</td>\n",
       "      <td>1</td>\n",
       "      <td>0</td>\n",
       "      <td>39</td>\n",
       "      <td>0</td>\n",
       "      <td>0</td>\n",
       "      <td>5</td>\n",
       "      <td>0</td>\n",
       "      <td>-1.504999</td>\n",
       "      <td>...</td>\n",
       "      <td>50</td>\n",
       "      <td>1</td>\n",
       "      <td>2</td>\n",
       "      <td>5000</td>\n",
       "      <td>4</td>\n",
       "      <td>3</td>\n",
       "      <td>0</td>\n",
       "      <td>0</td>\n",
       "      <td>0</td>\n",
       "      <td>1</td>\n",
       "    </tr>\n",
       "  </tbody>\n",
       "</table>\n",
       "<p>2 rows × 21 columns</p>\n",
       "</div>"
      ],
      "text/plain": [
       "   client_id   app_date  education  sex  age  car  car_type  decline_app_cnt  \\\n",
       "0      74835  22MAR2014          2    1   29    1         1                0   \n",
       "1      17527  24JAN2014          1    0   39    0         0                5   \n",
       "\n",
       "   good_work  score_bki  ...  region_rating  home_address  work_address  \\\n",
       "0          0  -2.271884  ...             50             1             2   \n",
       "1          0  -1.504999  ...             50             1             2   \n",
       "\n",
       "   income  sna  first_time  foreign_passport  sample  default  edu  \n",
       "0   50000    1           4                 0       0        0    2  \n",
       "1    5000    4           3                 0       0        0    1  \n",
       "\n",
       "[2 rows x 21 columns]"
      ]
     },
     "execution_count": 18,
     "metadata": {},
     "output_type": "execute_result"
    }
   ],
   "source": [
    "# Превратим их в числовые значения 0 и 1\n",
    "label_encoder = LabelEncoder()\n",
    "for col in bin_cols:\n",
    "    df[col] = label_encoder.fit_transform(df[col])\n",
    "    \n",
    "df.head(2)"
   ]
  },
  {
   "cell_type": "markdown",
   "metadata": {
    "papermill": {
     "duration": 0.069044,
     "end_time": "2020-12-22T19:59:22.266047",
     "exception": false,
     "start_time": "2020-12-22T19:59:22.197003",
     "status": "completed"
    },
    "tags": []
   },
   "source": [
    "## 3.5 Признак age"
   ]
  },
  {
   "cell_type": "code",
   "execution_count": 19,
   "metadata": {
    "execution": {
     "iopub.execute_input": "2020-12-22T19:59:22.408696Z",
     "iopub.status.busy": "2020-12-22T19:59:22.408103Z",
     "iopub.status.idle": "2020-12-22T19:59:22.849406Z",
     "shell.execute_reply": "2020-12-22T19:59:22.848747Z"
    },
    "papermill": {
     "duration": 0.514476,
     "end_time": "2020-12-22T19:59:22.849517",
     "exception": false,
     "start_time": "2020-12-22T19:59:22.335041",
     "status": "completed"
    },
    "tags": []
   },
   "outputs": [
    {
     "name": "stdout",
     "output_type": "stream",
     "text": [
      "Минимум:  21\n",
      "Максимум:  72\n",
      "Медиана:  37.0\n",
      "Количество выбросов:  0\n"
     ]
    },
    {
     "data": {
      "image/png": "[encoded data removed]",
      "text/plain": [
       "<Figure size 864x288 with 2 Axes>"
      ]
     },
     "metadata": {
      "needs_background": "light"
     },
     "output_type": "display_data"
    }
   ],
   "source": [
    "# Проверим распределение\n",
    "d = show_info(df,'age')"
   ]
  },
  {
   "cell_type": "code",
   "execution_count": 20,
   "metadata": {
    "execution": {
     "iopub.execute_input": "2020-12-22T19:59:22.996643Z",
     "iopub.status.busy": "2020-12-22T19:59:22.995992Z",
     "iopub.status.idle": "2020-12-22T19:59:23.038886Z",
     "shell.execute_reply": "2020-12-22T19:59:23.038287Z"
    },
    "papermill": {
     "duration": 0.118989,
     "end_time": "2020-12-22T19:59:23.039040",
     "exception": false,
     "start_time": "2020-12-22T19:59:22.920051",
     "status": "completed"
    },
    "tags": []
   },
   "outputs": [],
   "source": [
    "# По первому графику видно, что выделяются 3 категории заемщиков: до 25 лет,  после 50 и все остальные\n",
    "# Создадим дополнительный признак с возрастными категориями и запомним его в списке доп.столбцов\n",
    "df['cat_age'] = df['age'].apply(lambda x: 0 if x<25 else 2 if x>50 else 1)\n",
    "dop_cols.append('cat_age')"
   ]
  },
  {
   "cell_type": "code",
   "execution_count": 21,
   "metadata": {
    "execution": {
     "iopub.execute_input": "2020-12-22T19:59:23.186029Z",
     "iopub.status.busy": "2020-12-22T19:59:23.185338Z",
     "iopub.status.idle": "2020-12-22T19:59:23.197451Z",
     "shell.execute_reply": "2020-12-22T19:59:23.196823Z"
    },
    "papermill": {
     "duration": 0.087383,
     "end_time": "2020-12-22T19:59:23.197578",
     "exception": false,
     "start_time": "2020-12-22T19:59:23.110195",
     "status": "completed"
    },
    "tags": []
   },
   "outputs": [],
   "source": [
    "# У признака большой разброс в значениях. Прологарифмируем\n",
    "df['age'] = np.log(df['age'])"
   ]
  },
  {
   "cell_type": "code",
   "execution_count": 22,
   "metadata": {
    "execution": {
     "iopub.execute_input": "2020-12-22T19:59:23.344182Z",
     "iopub.status.busy": "2020-12-22T19:59:23.343520Z",
     "iopub.status.idle": "2020-12-22T19:59:23.872227Z",
     "shell.execute_reply": "2020-12-22T19:59:23.871680Z"
    },
    "papermill": {
     "duration": 0.603549,
     "end_time": "2020-12-22T19:59:23.872344",
     "exception": false,
     "start_time": "2020-12-22T19:59:23.268795",
     "status": "completed"
    },
    "tags": []
   },
   "outputs": [
    {
     "name": "stdout",
     "output_type": "stream",
     "text": [
      "Минимум:  3.044522437723423\n",
      "Максимум:  4.276666119016055\n",
      "Медиана:  3.6109179126442243\n",
      "Количество выбросов:  0\n"
     ]
    },
    {
     "data": {
      "image/png": "[encoded data removed]",
      "text/plain": [
       "<Figure size 864x288 with 2 Axes>"
      ]
     },
     "metadata": {
      "needs_background": "light"
     },
     "output_type": "display_data"
    }
   ],
   "source": [
    "# Снова проверим распределение\n",
    "d = show_info(df,'age')"
   ]
  },
  {
   "cell_type": "markdown",
   "metadata": {
    "papermill": {
     "duration": 0.071014,
     "end_time": "2020-12-22T19:59:24.015401",
     "exception": false,
     "start_time": "2020-12-22T19:59:23.944387",
     "status": "completed"
    },
    "tags": []
   },
   "source": [
    "Распределение логарифма от возраста стало более нормальным.\n",
    "К основному признаку добавили признак с категориями возрастов: очень молодой, средний, зрелый"
   ]
  },
  {
   "cell_type": "markdown",
   "metadata": {
    "papermill": {
     "duration": 0.071244,
     "end_time": "2020-12-22T19:59:24.158151",
     "exception": false,
     "start_time": "2020-12-22T19:59:24.086907",
     "status": "completed"
    },
    "tags": []
   },
   "source": [
    "## 3.6 Признак decline_app_cnt"
   ]
  },
  {
   "cell_type": "code",
   "execution_count": 23,
   "metadata": {
    "execution": {
     "iopub.execute_input": "2020-12-22T19:59:24.307059Z",
     "iopub.status.busy": "2020-12-22T19:59:24.306122Z",
     "iopub.status.idle": "2020-12-22T19:59:24.663667Z",
     "shell.execute_reply": "2020-12-22T19:59:24.663099Z"
    },
    "papermill": {
     "duration": 0.434063,
     "end_time": "2020-12-22T19:59:24.663803",
     "exception": false,
     "start_time": "2020-12-22T19:59:24.229740",
     "status": "completed"
    },
    "tags": []
   },
   "outputs": [
    {
     "name": "stdout",
     "output_type": "stream",
     "text": [
      "Минимум:  0\n",
      "Максимум:  33\n",
      "Медиана:  0.0\n",
      "Количество выбросов:  18677\n",
      "Нижняя граница выбросов:  0.0\n",
      "Верхняя граница выбросов:  0.0\n"
     ]
    },
    {
     "data": {
      "image/png": "[encoded data removed]",
      "text/plain": [
       "<Figure size 864x288 with 2 Axes>"
      ]
     },
     "metadata": {
      "needs_background": "light"
     },
     "output_type": "display_data"
    }
   ],
   "source": [
    "# Проверим распределение\n",
    "d = show_info(df,'decline_app_cnt')"
   ]
  },
  {
   "cell_type": "code",
   "execution_count": 24,
   "metadata": {
    "execution": {
     "iopub.execute_input": "2020-12-22T19:59:24.814820Z",
     "iopub.status.busy": "2020-12-22T19:59:24.814194Z",
     "iopub.status.idle": "2020-12-22T19:59:24.821174Z",
     "shell.execute_reply": "2020-12-22T19:59:24.820676Z"
    },
    "papermill": {
     "duration": 0.083971,
     "end_time": "2020-12-22T19:59:24.821292",
     "exception": false,
     "start_time": "2020-12-22T19:59:24.737321",
     "status": "completed"
    },
    "tags": []
   },
   "outputs": [
    {
     "data": {
      "text/plain": [
       "0     91471\n",
       "1     12500\n",
       "2      3622\n",
       "3      1365\n",
       "4       606\n",
       "5       255\n",
       "6       156\n",
       "7        58\n",
       "8        37\n",
       "9        29\n",
       "10       16\n",
       "11       10\n",
       "12        5\n",
       "13        4\n",
       "14        3\n",
       "16        3\n",
       "30        1\n",
       "15        1\n",
       "19        1\n",
       "20        1\n",
       "21        1\n",
       "22        1\n",
       "24        1\n",
       "33        1\n",
       "Name: decline_app_cnt, dtype: int64"
      ]
     },
     "execution_count": 24,
     "metadata": {},
     "output_type": "execute_result"
    }
   ],
   "source": [
    "# Посмотрим на количество\n",
    "df.decline_app_cnt.value_counts()"
   ]
  },
  {
   "cell_type": "code",
   "execution_count": 25,
   "metadata": {
    "execution": {
     "iopub.execute_input": "2020-12-22T19:59:24.976483Z",
     "iopub.status.busy": "2020-12-22T19:59:24.974124Z",
     "iopub.status.idle": "2020-12-22T19:59:25.163151Z",
     "shell.execute_reply": "2020-12-22T19:59:25.162483Z"
    },
    "papermill": {
     "duration": 0.267285,
     "end_time": "2020-12-22T19:59:25.163269",
     "exception": false,
     "start_time": "2020-12-22T19:59:24.895984",
     "status": "completed"
    },
    "tags": []
   },
   "outputs": [
    {
     "data": {
      "text/plain": [
       "<matplotlib.axes._subplots.AxesSubplot at 0x19200922e48>"
      ]
     },
     "execution_count": 25,
     "metadata": {},
     "output_type": "execute_result"
    },
    {
     "data": {
      "image/png": "[encoded data removed]",
      "text/plain": [
       "<Figure size 432x288 with 1 Axes>"
      ]
     },
     "metadata": {
      "needs_background": "light"
     },
     "output_type": "display_data"
    }
   ],
   "source": [
    "# Выбросами являются все ненулевые значения. Выделим их в отдельную колонку\n",
    "# Сделаем из этого столбца бинарный признак отказов\n",
    "df['cat_decline'] = df.decline_app_cnt.apply(lambda x: 0 if x==0 else 1)\n",
    "bin_cols.append('cat_decline')\n",
    "df['cat_decline'].hist()"
   ]
  },
  {
   "cell_type": "code",
   "execution_count": 26,
   "metadata": {
    "execution": {
     "iopub.execute_input": "2020-12-22T19:59:25.316850Z",
     "iopub.status.busy": "2020-12-22T19:59:25.316263Z",
     "iopub.status.idle": "2020-12-22T19:59:25.326934Z",
     "shell.execute_reply": "2020-12-22T19:59:25.326409Z"
    },
    "papermill": {
     "duration": 0.089687,
     "end_time": "2020-12-22T19:59:25.327075",
     "exception": false,
     "start_time": "2020-12-22T19:59:25.237388",
     "status": "completed"
    },
    "tags": []
   },
   "outputs": [],
   "source": [
    "# Прологарифмируем, поскольку разброс большой\n",
    "df['decline_app_cnt'] = np.log(df['decline_app_cnt']+1)"
   ]
  },
  {
   "cell_type": "code",
   "execution_count": 27,
   "metadata": {
    "execution": {
     "iopub.execute_input": "2020-12-22T19:59:25.480184Z",
     "iopub.status.busy": "2020-12-22T19:59:25.479458Z",
     "iopub.status.idle": "2020-12-22T19:59:25.884839Z",
     "shell.execute_reply": "2020-12-22T19:59:25.884293Z"
    },
    "papermill": {
     "duration": 0.483817,
     "end_time": "2020-12-22T19:59:25.884979",
     "exception": false,
     "start_time": "2020-12-22T19:59:25.401162",
     "status": "completed"
    },
    "tags": []
   },
   "outputs": [
    {
     "name": "stdout",
     "output_type": "stream",
     "text": [
      "Минимум:  0.0\n",
      "Максимум:  3.5263605246161616\n",
      "Медиана:  0.0\n",
      "Количество выбросов:  18677\n",
      "Нижняя граница выбросов:  0.0\n",
      "Верхняя граница выбросов:  0.0\n"
     ]
    },
    {
     "data": {
      "image/png": "[encoded data removed]",
      "text/plain": [
       "<Figure size 864x288 with 2 Axes>"
      ]
     },
     "metadata": {
      "needs_background": "light"
     },
     "output_type": "display_data"
    }
   ],
   "source": [
    "# Проверим распределение после логарифмирования\n",
    "d = show_info(df,'decline_app_cnt')"
   ]
  },
  {
   "cell_type": "markdown",
   "metadata": {
    "papermill": {
     "duration": 0.074919,
     "end_time": "2020-12-22T19:59:26.035317",
     "exception": false,
     "start_time": "2020-12-22T19:59:25.960398",
     "status": "completed"
    },
    "tags": []
   },
   "source": [
    "Распределение decline_app_cnt - логнормальное. Очень много выбросов - все ненулевые значения являются выбросами.\n",
    "Очищать от выбросов нецелесообразно. Вместо этого все выбросы объединили в отдельную категорию."
   ]
  },
  {
   "cell_type": "markdown",
   "metadata": {
    "papermill": {
     "duration": 0.074586,
     "end_time": "2020-12-22T19:59:26.185449",
     "exception": false,
     "start_time": "2020-12-22T19:59:26.110863",
     "status": "completed"
    },
    "tags": []
   },
   "source": [
    "## 3.7 Признак bki_request_cnt"
   ]
  },
  {
   "cell_type": "code",
   "execution_count": 28,
   "metadata": {
    "execution": {
     "iopub.execute_input": "2020-12-22T19:59:26.386604Z",
     "iopub.status.busy": "2020-12-22T19:59:26.385830Z",
     "iopub.status.idle": "2020-12-22T19:59:26.747647Z",
     "shell.execute_reply": "2020-12-22T19:59:26.747098Z"
    },
    "papermill": {
     "duration": 0.441232,
     "end_time": "2020-12-22T19:59:26.747770",
     "exception": false,
     "start_time": "2020-12-22T19:59:26.306538",
     "status": "completed"
    },
    "tags": []
   },
   "outputs": [
    {
     "name": "stdout",
     "output_type": "stream",
     "text": [
      "Минимум:  0\n",
      "Максимум:  53\n",
      "Медиана:  1.0\n",
      "Количество выбросов:  2636\n",
      "Нижняя граница выбросов:  -4.5\n",
      "Верхняя граница выбросов:  7.5\n"
     ]
    },
    {
     "data": {
      "image/png": "[encoded data removed]",
      "text/plain": [
       "<Figure size 864x288 with 2 Axes>"
      ]
     },
     "metadata": {
      "needs_background": "light"
     },
     "output_type": "display_data"
    }
   ],
   "source": [
    "# Проверим распределение\n",
    "d = show_info(df,'bki_request_cnt')"
   ]
  },
  {
   "cell_type": "code",
   "execution_count": 29,
   "metadata": {},
   "outputs": [
    {
     "data": {
      "text/plain": [
       "<matplotlib.axes._subplots.AxesSubplot at 0x19201ab44c8>"
      ]
     },
     "execution_count": 29,
     "metadata": {},
     "output_type": "execute_result"
    },
    {
     "data": {
      "image/png": "[encoded data removed]",
      "text/plain": [
       "<Figure size 432x288 with 1 Axes>"
      ]
     },
     "metadata": {
      "needs_background": "light"
     },
     "output_type": "display_data"
    }
   ],
   "source": [
    "# Создадим столбец с выбросами\n",
    "df['bki_out'] = df['bki_request_cnt'].apply(lambda x: 1 if x>d['lm2'] or x<d['lm1'] else 0)\n",
    "bin_cols.append('bki_out')\n",
    "df['bki_out'].hist()"
   ]
  },
  {
   "cell_type": "code",
   "execution_count": 30,
   "metadata": {
    "execution": {
     "iopub.execute_input": "2020-12-22T19:59:26.907416Z",
     "iopub.status.busy": "2020-12-22T19:59:26.906460Z",
     "iopub.status.idle": "2020-12-22T19:59:27.319436Z",
     "shell.execute_reply": "2020-12-22T19:59:27.318779Z"
    },
    "papermill": {
     "duration": 0.494008,
     "end_time": "2020-12-22T19:59:27.319547",
     "exception": false,
     "start_time": "2020-12-22T19:59:26.825539",
     "status": "completed"
    },
    "tags": []
   },
   "outputs": [
    {
     "name": "stdout",
     "output_type": "stream",
     "text": [
      "Минимум:  0.0\n",
      "Максимум:  3.9889840465642745\n",
      "Медиана:  0.6931471805599453\n",
      "Количество выбросов:  15\n",
      "Нижняя граница выбросов:  -2.0999999999999996\n",
      "Верхняя граница выбросов:  3.4862943611198904\n"
     ]
    },
    {
     "data": {
      "image/png": "[encoded data removed]",
      "text/plain": [
       "<Figure size 864x288 with 2 Axes>"
      ]
     },
     "metadata": {
      "needs_background": "light"
     },
     "output_type": "display_data"
    }
   ],
   "source": [
    "# Большой разброс значений. Прологарифмируем и снова посмотрим на распределение\n",
    "df['bki_request_cnt'] = np.log(df['bki_request_cnt']+1)\n",
    "d = show_info(df,'bki_request_cnt')"
   ]
  },
  {
   "cell_type": "code",
   "execution_count": 31,
   "metadata": {
    "execution": {
     "iopub.execute_input": "2020-12-22T19:59:27.862207Z",
     "iopub.status.busy": "2020-12-22T19:59:27.858599Z",
     "iopub.status.idle": "2020-12-22T19:59:28.323103Z",
     "shell.execute_reply": "2020-12-22T19:59:28.323635Z"
    },
    "papermill": {
     "duration": 0.548553,
     "end_time": "2020-12-22T19:59:28.323788",
     "exception": false,
     "start_time": "2020-12-22T19:59:27.775235",
     "status": "completed"
    },
    "tags": []
   },
   "outputs": [
    {
     "name": "stdout",
     "output_type": "stream",
     "text": [
      "Минимум:  0.0\n",
      "Максимум:  3.4011973816621555\n",
      "Медиана:  0.6931471805599453\n",
      "Количество выбросов:  0\n"
     ]
    },
    {
     "data": {
      "image/png": "[encoded data removed]",
      "text/plain": [
       "<Figure size 864x288 with 2 Axes>"
      ]
     },
     "metadata": {
      "needs_background": "light"
     },
     "output_type": "display_data"
    }
   ],
   "source": [
    "# После логарифмирования осталось всего 15 выбросов.\n",
    "# Заменим их на медиану и проверим распределение\n",
    "df['bki_request_cnt'] = df['bki_request_cnt'].apply(lambda x: d['med'] if x>d['lm2'] or x<d['lm1'] else x)\n",
    "d = show_info(df,'bki_request_cnt')"
   ]
  },
  {
   "cell_type": "markdown",
   "metadata": {
    "papermill": {
     "duration": 0.082314,
     "end_time": "2020-12-22T19:59:28.486692",
     "exception": false,
     "start_time": "2020-12-22T19:59:28.404378",
     "status": "completed"
    },
    "tags": []
   },
   "source": [
    "Распределение bki_request_cnt - логнормальное. Выбросов немного. Их заменили медианой."
   ]
  },
  {
   "cell_type": "markdown",
   "metadata": {
    "papermill": {
     "duration": 0.078446,
     "end_time": "2020-12-22T19:59:28.646745",
     "exception": false,
     "start_time": "2020-12-22T19:59:28.568299",
     "status": "completed"
    },
    "tags": []
   },
   "source": [
    "## 3.8 Признак income"
   ]
  },
  {
   "cell_type": "code",
   "execution_count": 32,
   "metadata": {
    "execution": {
     "iopub.execute_input": "2020-12-22T19:59:28.813182Z",
     "iopub.status.busy": "2020-12-22T19:59:28.812537Z",
     "iopub.status.idle": "2020-12-22T19:59:31.003436Z",
     "shell.execute_reply": "2020-12-22T19:59:31.003871Z"
    },
    "papermill": {
     "duration": 2.276355,
     "end_time": "2020-12-22T19:59:31.004058",
     "exception": false,
     "start_time": "2020-12-22T19:59:28.727703",
     "status": "completed"
    },
    "tags": []
   },
   "outputs": [
    {
     "name": "stdout",
     "output_type": "stream",
     "text": [
      "Минимум:  1000\n",
      "Максимум:  1000000\n",
      "Медиана:  30000.0\n",
      "Количество выбросов:  7000\n",
      "Нижняя граница выбросов:  -22000.0\n",
      "Верхняя граница выбросов:  90000.0\n"
     ]
    },
    {
     "data": {
      "image/png": "[encoded data removed]",
      "text/plain": [
       "<Figure size 864x288 with 2 Axes>"
      ]
     },
     "metadata": {
      "needs_background": "light"
     },
     "output_type": "display_data"
    }
   ],
   "source": [
    "d = show_info(df,'income')"
   ]
  },
  {
   "cell_type": "code",
   "execution_count": 33,
   "metadata": {
    "execution": {
     "iopub.execute_input": "2020-12-22T19:59:31.195452Z",
     "iopub.status.busy": "2020-12-22T19:59:31.194377Z",
     "iopub.status.idle": "2020-12-22T19:59:31.588394Z",
     "shell.execute_reply": "2020-12-22T19:59:31.588889Z"
    },
    "papermill": {
     "duration": 0.50472,
     "end_time": "2020-12-22T19:59:31.589055",
     "exception": false,
     "start_time": "2020-12-22T19:59:31.084335",
     "status": "completed"
    },
    "tags": []
   },
   "outputs": [
    {
     "data": {
      "text/plain": [
       "<matplotlib.axes._subplots.AxesSubplot at 0x192023e3048>"
      ]
     },
     "execution_count": 33,
     "metadata": {},
     "output_type": "execute_result"
    },
    {
     "data": {
      "image/png": "[encoded data removed]",
      "text/plain": [
       "<Figure size 432x288 with 1 Axes>"
      ]
     },
     "metadata": {
      "needs_background": "light"
     },
     "output_type": "display_data"
    }
   ],
   "source": [
    "# Выделим 3 категории дохода\n",
    "df['cat_income'] = df['income'].apply(lambda x: 0 if x<10000 else 2 if x>40000 else 1)\n",
    "df['cat_income'].hist()"
   ]
  },
  {
   "cell_type": "code",
   "execution_count": 34,
   "metadata": {
    "execution": {
     "iopub.execute_input": "2020-12-22T19:59:31.757417Z",
     "iopub.status.busy": "2020-12-22T19:59:31.756484Z",
     "iopub.status.idle": "2020-12-22T19:59:33.988001Z",
     "shell.execute_reply": "2020-12-22T19:59:33.988654Z"
    },
    "papermill": {
     "duration": 2.318365,
     "end_time": "2020-12-22T19:59:33.988799",
     "exception": false,
     "start_time": "2020-12-22T19:59:31.670434",
     "status": "completed"
    },
    "tags": []
   },
   "outputs": [
    {
     "name": "stdout",
     "output_type": "stream",
     "text": [
      "Минимум:  6.907755278982137\n",
      "Максимум:  13.815510557964274\n",
      "Медиана:  10.308952660644293\n",
      "Количество выбросов:  2429\n",
      "Нижняя граница выбросов:  8.553487552536128\n",
      "Верхняя граница выбросов:  12.128956289890027\n"
     ]
    },
    {
     "data": {
      "image/png": "[encoded data removed]",
      "text/plain": [
       "<Figure size 864x288 with 2 Axes>"
      ]
     },
     "metadata": {
      "needs_background": "light"
     },
     "output_type": "display_data"
    }
   ],
   "source": [
    "# Большой разброс значений. Прологарифмируем и снова посмотрим на выбросы\n",
    "df['income'] = np.log(df['income'])\n",
    "d = show_info(df,'income')"
   ]
  },
  {
   "cell_type": "code",
   "execution_count": 35,
   "metadata": {
    "execution": {
     "iopub.execute_input": "2020-12-22T19:59:34.155629Z",
     "iopub.status.busy": "2020-12-22T19:59:34.154688Z",
     "iopub.status.idle": "2020-12-22T19:59:34.401920Z",
     "shell.execute_reply": "2020-12-22T19:59:34.402491Z"
    },
    "papermill": {
     "duration": 0.332297,
     "end_time": "2020-12-22T19:59:34.402637",
     "exception": false,
     "start_time": "2020-12-22T19:59:34.070340",
     "status": "completed"
    },
    "tags": []
   },
   "outputs": [
    {
     "data": {
      "image/png": "[encoded data removed]",
      "text/plain": [
       "<Figure size 432x288 with 1 Axes>"
      ]
     },
     "metadata": {
      "needs_background": "light"
     },
     "output_type": "display_data"
    }
   ],
   "source": [
    "# Посмотрим распределение на более информативном графике\n",
    "sns_plot = sns.distplot(df['income'])\n",
    "fig = sns_plot.get_figure()"
   ]
  },
  {
   "cell_type": "code",
   "execution_count": 36,
   "metadata": {
    "execution": {
     "iopub.execute_input": "2020-12-22T19:59:34.572175Z",
     "iopub.status.busy": "2020-12-22T19:59:34.571536Z",
     "iopub.status.idle": "2020-12-22T19:59:34.787402Z",
     "shell.execute_reply": "2020-12-22T19:59:34.787893Z"
    },
    "papermill": {
     "duration": 0.302761,
     "end_time": "2020-12-22T19:59:34.788052",
     "exception": false,
     "start_time": "2020-12-22T19:59:34.485291",
     "status": "completed"
    },
    "tags": []
   },
   "outputs": [
    {
     "data": {
      "text/plain": [
       "<matplotlib.axes._subplots.AxesSubplot at 0x192018fb888>"
      ]
     },
     "execution_count": 36,
     "metadata": {},
     "output_type": "execute_result"
    },
    {
     "data": {
      "image/png": "[encoded data removed]",
      "text/plain": [
       "<Figure size 432x288 with 1 Axes>"
      ]
     },
     "metadata": {
      "needs_background": "light"
     },
     "output_type": "display_data"
    }
   ],
   "source": [
    "# Создадим столбец с выбросами\n",
    "df['income_out'] = df['income'].apply(lambda x: 1 if x>d['lm2'] or x<d['lm1'] else 0)\n",
    "df['income_out'].hist()"
   ]
  },
  {
   "cell_type": "code",
   "execution_count": 37,
   "metadata": {
    "execution": {
     "iopub.execute_input": "2020-12-22T19:59:34.958270Z",
     "iopub.status.busy": "2020-12-22T19:59:34.957643Z",
     "iopub.status.idle": "2020-12-22T19:59:34.961759Z",
     "shell.execute_reply": "2020-12-22T19:59:34.962311Z"
    },
    "papermill": {
     "duration": 0.091626,
     "end_time": "2020-12-22T19:59:34.962483",
     "exception": false,
     "start_time": "2020-12-22T19:59:34.870857",
     "status": "completed"
    },
    "tags": []
   },
   "outputs": [],
   "source": [
    "# Распределение отдаленно стало похоже на нормальное\n",
    "# Но выбросов все равно много, оставим их все.\n",
    "\n",
    "# Столбец с категориями доходов внесем в отдельный список\n",
    "dop_cols.append('cat_income')\n",
    "\n",
    "# Столбец с выбросами - в другой список\n",
    "bin_cols.append('income_out')"
   ]
  },
  {
   "cell_type": "markdown",
   "metadata": {
    "papermill": {
     "duration": 0.08416,
     "end_time": "2020-12-22T19:59:35.130430",
     "exception": false,
     "start_time": "2020-12-22T19:59:35.046270",
     "status": "completed"
    },
    "tags": []
   },
   "source": [
    "Распределение income - логнормальное. Очень много выбросов, их преобразовывать не стали.\n",
    "Доходы разделили на части и выделили в отдельные категории."
   ]
  },
  {
   "cell_type": "markdown",
   "metadata": {
    "papermill": {
     "duration": 0.083659,
     "end_time": "2020-12-22T19:59:35.298020",
     "exception": false,
     "start_time": "2020-12-22T19:59:35.214361",
     "status": "completed"
    },
    "tags": []
   },
   "source": [
    "## 3.9 Признак app_date"
   ]
  },
  {
   "cell_type": "code",
   "execution_count": 38,
   "metadata": {
    "execution": {
     "iopub.execute_input": "2020-12-22T19:59:35.468099Z",
     "iopub.status.busy": "2020-12-22T19:59:35.467476Z",
     "iopub.status.idle": "2020-12-22T19:59:36.409084Z",
     "shell.execute_reply": "2020-12-22T19:59:36.408444Z"
    },
    "papermill": {
     "duration": 1.027808,
     "end_time": "2020-12-22T19:59:36.409204",
     "exception": false,
     "start_time": "2020-12-22T19:59:35.381396",
     "status": "completed"
    },
    "tags": []
   },
   "outputs": [
    {
     "data": {
      "text/plain": [
       "32219    2014-01-01\n",
       "48827    2014-01-01\n",
       "99141    2014-01-01\n",
       "14209    2014-01-01\n",
       "100585   2014-01-01\n",
       "            ...    \n",
       "91400    2014-04-30\n",
       "80416    2014-04-30\n",
       "50524    2014-04-30\n",
       "20299    2014-04-30\n",
       "42268    2014-04-30\n",
       "Name: app_date_dt, Length: 110148, dtype: datetime64[ns]"
      ]
     },
     "execution_count": 38,
     "metadata": {},
     "output_type": "execute_result"
    }
   ],
   "source": [
    "# Превратим строковый столбец в столбец с датами и посмотрим на разброс значений\n",
    "df['app_date_dt'] = df['app_date'].apply(lambda x: datetime.strptime(x,'%d%b%Y'))\n",
    "df['app_date_dt'].sort_values()"
   ]
  },
  {
   "cell_type": "markdown",
   "metadata": {
    "papermill": {
     "duration": 0.084685,
     "end_time": "2020-12-22T19:59:36.578496",
     "exception": false,
     "start_time": "2020-12-22T19:59:36.493811",
     "status": "completed"
    },
    "tags": []
   },
   "source": [
    "Все значения лежат в интервале от 1 января до 30 апреля включительно."
   ]
  },
  {
   "cell_type": "code",
   "execution_count": 39,
   "metadata": {
    "execution": {
     "iopub.execute_input": "2020-12-22T19:59:36.754223Z",
     "iopub.status.busy": "2020-12-22T19:59:36.752974Z",
     "iopub.status.idle": "2020-12-22T19:59:37.095149Z",
     "shell.execute_reply": "2020-12-22T19:59:37.094554Z"
    },
    "papermill": {
     "duration": 0.432459,
     "end_time": "2020-12-22T19:59:37.095260",
     "exception": false,
     "start_time": "2020-12-22T19:59:36.662801",
     "status": "completed"
    },
    "tags": []
   },
   "outputs": [
    {
     "data": {
      "text/plain": [
       "<matplotlib.axes._subplots.AxesSubplot at 0x192009d1908>"
      ]
     },
     "execution_count": 39,
     "metadata": {},
     "output_type": "execute_result"
    },
    {
     "data": {
      "image/png": "[encoded data removed]",
      "text/plain": [
       "<Figure size 432x288 with 1 Axes>"
      ]
     },
     "metadata": {
      "needs_background": "light"
     },
     "output_type": "display_data"
    }
   ],
   "source": [
    "# Проверим распределение\n",
    "date_cnt = int(df['app_date_dt'].value_counts().count())\n",
    "df['app_date_dt'].hist(bins=date_cnt)"
   ]
  },
  {
   "cell_type": "code",
   "execution_count": 40,
   "metadata": {
    "execution": {
     "iopub.execute_input": "2020-12-22T19:59:37.269418Z",
     "iopub.status.busy": "2020-12-22T19:59:37.268422Z",
     "iopub.status.idle": "2020-12-22T19:59:38.921031Z",
     "shell.execute_reply": "2020-12-22T19:59:38.920294Z"
    },
    "papermill": {
     "duration": 1.741783,
     "end_time": "2020-12-22T19:59:38.921154",
     "exception": false,
     "start_time": "2020-12-22T19:59:37.179371",
     "status": "completed"
    },
    "tags": []
   },
   "outputs": [],
   "source": [
    "# Добавим признак с количеством дней от начала года\n",
    "min_date = df['app_date_dt'].min()  \n",
    "df['app_date_days'] = df['app_date_dt'].apply(lambda x: (x - min_date).days)"
   ]
  },
  {
   "cell_type": "code",
   "execution_count": 41,
   "metadata": {
    "execution": {
     "iopub.execute_input": "2020-12-22T19:59:39.097661Z",
     "iopub.status.busy": "2020-12-22T19:59:39.096675Z",
     "iopub.status.idle": "2020-12-22T19:59:39.345250Z",
     "shell.execute_reply": "2020-12-22T19:59:39.344627Z"
    },
    "papermill": {
     "duration": 0.338527,
     "end_time": "2020-12-22T19:59:39.345368",
     "exception": false,
     "start_time": "2020-12-22T19:59:39.006841",
     "status": "completed"
    },
    "tags": []
   },
   "outputs": [
    {
     "data": {
      "image/png": "[encoded data removed]",
      "text/plain": [
       "<Figure size 432x288 with 1 Axes>"
      ]
     },
     "metadata": {
      "needs_background": "light"
     },
     "output_type": "display_data"
    }
   ],
   "source": [
    "# Проверим его распределение\n",
    "sns_plot = sns.distplot(df['app_date_days'])\n",
    "fig = sns_plot.get_figure()"
   ]
  },
  {
   "cell_type": "code",
   "execution_count": 42,
   "metadata": {
    "execution": {
     "iopub.execute_input": "2020-12-22T19:59:39.521683Z",
     "iopub.status.busy": "2020-12-22T19:59:39.521113Z",
     "iopub.status.idle": "2020-12-22T19:59:39.527405Z",
     "shell.execute_reply": "2020-12-22T19:59:39.526853Z"
    },
    "papermill": {
     "duration": 0.096295,
     "end_time": "2020-12-22T19:59:39.527507",
     "exception": false,
     "start_time": "2020-12-22T19:59:39.431212",
     "status": "completed"
    },
    "tags": []
   },
   "outputs": [
    {
     "data": {
      "text/plain": [
       "76    1491\n",
       "77    1363\n",
       "75    1350\n",
       "89    1317\n",
       "96    1296\n",
       "91    1291\n",
       "69    1245\n",
       "62    1242\n",
       "90    1239\n",
       "41    1233\n",
       "27    1226\n",
       "63    1221\n",
       "30    1216\n",
       "71    1194\n",
       "42    1193\n",
       "20    1189\n",
       "29    1187\n",
       "78    1185\n",
       "28    1184\n",
       "19    1182\n",
       "26    1177\n",
       "61    1177\n",
       "82    1173\n",
       "92    1168\n",
       "Name: app_date_days, dtype: int64"
      ]
     },
     "execution_count": 42,
     "metadata": {},
     "output_type": "execute_result"
    }
   ],
   "source": [
    "df['app_date_days'].value_counts().head(24)"
   ]
  },
  {
   "cell_type": "code",
   "execution_count": 43,
   "metadata": {
    "execution": {
     "iopub.execute_input": "2020-12-22T19:59:39.704487Z",
     "iopub.status.busy": "2020-12-22T19:59:39.703879Z",
     "iopub.status.idle": "2020-12-22T19:59:39.934457Z",
     "shell.execute_reply": "2020-12-22T19:59:39.934960Z"
    },
    "papermill": {
     "duration": 0.320023,
     "end_time": "2020-12-22T19:59:39.935099",
     "exception": false,
     "start_time": "2020-12-22T19:59:39.615076",
     "status": "completed"
    },
    "tags": []
   },
   "outputs": [
    {
     "data": {
      "text/plain": [
       "<matplotlib.axes._subplots.AxesSubplot at 0x19201a58908>"
      ]
     },
     "execution_count": 43,
     "metadata": {},
     "output_type": "execute_result"
    },
    {
     "data": {
      "image/png": "[encoded data removed]",
      "text/plain": [
       "<Figure size 432x288 with 1 Axes>"
      ]
     },
     "metadata": {
      "needs_background": "light"
     },
     "output_type": "display_data"
    }
   ],
   "source": [
    "# По графику видно, что выделяются отдельные дни, когда обращений было особенно много\n",
    "# Выделим группы дней с наибольшим количеством обращений (80% по Парето) и всеми остальными\n",
    "# Наиболее частых: 120*0.2=24 штуки\n",
    "lstMax = list(df['app_date_days'].value_counts().index[:24])\n",
    "df['app_days_top'] = df['app_date_days'].apply(lambda x: 1 if x in lstMax else 0) \n",
    "df['app_days_top'].hist()"
   ]
  },
  {
   "cell_type": "code",
   "execution_count": 44,
   "metadata": {
    "execution": {
     "iopub.execute_input": "2020-12-22T19:59:40.111825Z",
     "iopub.status.busy": "2020-12-22T19:59:40.111254Z",
     "iopub.status.idle": "2020-12-22T19:59:40.134402Z",
     "shell.execute_reply": "2020-12-22T19:59:40.134820Z"
    },
    "papermill": {
     "duration": 0.1136,
     "end_time": "2020-12-22T19:59:40.134993",
     "exception": false,
     "start_time": "2020-12-22T19:59:40.021393",
     "status": "completed"
    },
    "tags": []
   },
   "outputs": [],
   "source": [
    "# Столбец с днями удалим, он очень неравномерно распределен\n",
    "df = df.drop(['app_date_days'], axis=1)"
   ]
  },
  {
   "cell_type": "code",
   "execution_count": 45,
   "metadata": {
    "execution": {
     "iopub.execute_input": "2020-12-22T19:59:40.313534Z",
     "iopub.status.busy": "2020-12-22T19:59:40.312902Z",
     "iopub.status.idle": "2020-12-22T19:59:40.820398Z",
     "shell.execute_reply": "2020-12-22T19:59:40.820816Z"
    },
    "papermill": {
     "duration": 0.598233,
     "end_time": "2020-12-22T19:59:40.820991",
     "exception": false,
     "start_time": "2020-12-22T19:59:40.222758",
     "status": "completed"
    },
    "tags": []
   },
   "outputs": [
    {
     "data": {
      "image/png": "[encoded data removed]",
      "text/plain": [
       "<Figure size 432x288 with 1 Axes>"
      ]
     },
     "metadata": {
      "needs_background": "light"
     },
     "output_type": "display_data"
    }
   ],
   "source": [
    "# Проверим, не зависят ли номера клиентов от даты\n",
    "df.plot(x='app_date_dt', y='client_id')\n",
    "plt.show()"
   ]
  },
  {
   "cell_type": "markdown",
   "metadata": {
    "papermill": {
     "duration": 0.089124,
     "end_time": "2020-12-22T19:59:40.999847",
     "exception": false,
     "start_time": "2020-12-22T19:59:40.910723",
     "status": "completed"
    },
    "tags": []
   },
   "source": [
    "Видно, что номера идут равномерно в зависимости от даты.\n",
    "Скорее всего, клиентов нумеруют по порядку обращения.\n",
    "Эта информация интересная, но нужна ли она - непонятно."
   ]
  },
  {
   "cell_type": "code",
   "execution_count": 46,
   "metadata": {
    "execution": {
     "iopub.execute_input": "2020-12-22T19:59:41.185696Z",
     "iopub.status.busy": "2020-12-22T19:59:41.185135Z",
     "iopub.status.idle": "2020-12-22T19:59:41.834152Z",
     "shell.execute_reply": "2020-12-22T19:59:41.834567Z"
    },
    "papermill": {
     "duration": 0.742298,
     "end_time": "2020-12-22T19:59:41.834719",
     "exception": false,
     "start_time": "2020-12-22T19:59:41.092421",
     "status": "completed"
    },
    "tags": []
   },
   "outputs": [
    {
     "data": {
      "text/plain": [
       "<matplotlib.axes._subplots.AxesSubplot at 0x19201b37cc8>"
      ]
     },
     "execution_count": 46,
     "metadata": {},
     "output_type": "execute_result"
    },
    {
     "data": {
      "image/png": "[encoded data removed]",
      "text/plain": [
       "<Figure size 432x288 with 1 Axes>"
      ]
     },
     "metadata": {
      "needs_background": "light"
     },
     "output_type": "display_data"
    }
   ],
   "source": [
    "# Кредиты в разные месяцы берут по-разному: перед дачным сезоном реже, осенью и зимой - чаще\n",
    "# Добавим столбец с месяцем обращения за кредитом\n",
    "df['app_month'] = df['app_date_dt'].apply(lambda x: x.month)\n",
    "df['app_month'].hist()"
   ]
  },
  {
   "cell_type": "code",
   "execution_count": 47,
   "metadata": {
    "execution": {
     "iopub.execute_input": "2020-12-22T19:59:42.017225Z",
     "iopub.status.busy": "2020-12-22T19:59:42.016570Z",
     "iopub.status.idle": "2020-12-22T19:59:42.705554Z",
     "shell.execute_reply": "2020-12-22T19:59:42.705989Z"
    },
    "papermill": {
     "duration": 0.782175,
     "end_time": "2020-12-22T19:59:42.706138",
     "exception": false,
     "start_time": "2020-12-22T19:59:41.923963",
     "status": "completed"
    },
    "tags": []
   },
   "outputs": [
    {
     "data": {
      "text/plain": [
       "<matplotlib.axes._subplots.AxesSubplot at 0x192022d55c8>"
      ]
     },
     "execution_count": 47,
     "metadata": {},
     "output_type": "execute_result"
    },
    {
     "data": {
      "image/png": "[encoded data removed]",
      "text/plain": [
       "<Figure size 432x288 with 1 Axes>"
      ]
     },
     "metadata": {
      "needs_background": "light"
     },
     "output_type": "display_data"
    }
   ],
   "source": [
    "# В конце недели кредиты берут реже. Добавим день недели обращения\n",
    "df['app_week'] = df['app_date_dt'].apply(lambda x: x.weekday())\n",
    "df['app_week'].hist(bins=13)"
   ]
  },
  {
   "cell_type": "code",
   "execution_count": 48,
   "metadata": {
    "execution": {
     "iopub.execute_input": "2020-12-22T19:59:42.890157Z",
     "iopub.status.busy": "2020-12-22T19:59:42.889485Z",
     "iopub.status.idle": "2020-12-22T19:59:42.938132Z",
     "shell.execute_reply": "2020-12-22T19:59:42.937362Z"
    },
    "papermill": {
     "duration": 0.141581,
     "end_time": "2020-12-22T19:59:42.938265",
     "exception": false,
     "start_time": "2020-12-22T19:59:42.796684",
     "status": "completed"
    },
    "tags": []
   },
   "outputs": [
    {
     "data": {
      "text/plain": [
       "0    87789\n",
       "1    22359\n",
       "Name: app_wend, dtype: int64"
      ]
     },
     "execution_count": 48,
     "metadata": {},
     "output_type": "execute_result"
    }
   ],
   "source": [
    "# Выделяются выходные. Создадим для них отдельный признак\n",
    "df['app_wend'] = df['app_week'].apply(lambda x: 1 if x==5 or x==6 else 0) \n",
    "df['app_wend'].value_counts()"
   ]
  },
  {
   "cell_type": "code",
   "execution_count": 49,
   "metadata": {
    "execution": {
     "iopub.execute_input": "2020-12-22T19:59:43.131597Z",
     "iopub.status.busy": "2020-12-22T19:59:43.130688Z",
     "iopub.status.idle": "2020-12-22T19:59:44.317696Z",
     "shell.execute_reply": "2020-12-22T19:59:44.316917Z"
    },
    "papermill": {
     "duration": 1.285961,
     "end_time": "2020-12-22T19:59:44.317803",
     "exception": false,
     "start_time": "2020-12-22T19:59:43.031842",
     "status": "completed"
    },
    "tags": []
   },
   "outputs": [
    {
     "name": "stdout",
     "output_type": "stream",
     "text": [
      "['2014-01-01T00:00:00.000000000' '2014-01-02T00:00:00.000000000'\n",
      " '2014-01-03T00:00:00.000000000' '2014-01-04T00:00:00.000000000'\n",
      " '2014-01-05T00:00:00.000000000' '2014-01-06T00:00:00.000000000'\n",
      " '2014-01-07T00:00:00.000000000' '2014-01-08T00:00:00.000000000'\n",
      " '2014-02-23T00:00:00.000000000' '2014-03-08T00:00:00.000000000'\n",
      " '2014-03-09T00:00:00.000000000' '2014-03-10T00:00:00.000000000']\n"
     ]
    },
    {
     "data": {
      "text/plain": [
       "0    104990\n",
       "1      5158\n",
       "Name: app_hol, dtype: int64"
      ]
     },
     "execution_count": 49,
     "metadata": {},
     "output_type": "execute_result"
    }
   ],
   "source": [
    "# В праздничные дни берут реже. Добавим признак праздника или не праздника\n",
    "# и объединим с выходными днями\n",
    "holiday = df['app_date_dt'].unique()\n",
    "holiday.sort()\n",
    "hol = holiday[0:8]\n",
    "hol = np.append(hol, holiday[53])\n",
    "hol = np.append(hol, holiday[66:69])\n",
    "print(hol)\n",
    "df['app_hol'] = df['app_date_dt'].apply(lambda x: 1 if x in hol else 0) \n",
    "df['app_hol'].value_counts()"
   ]
  },
  {
   "cell_type": "code",
   "execution_count": 50,
   "metadata": {
    "execution": {
     "iopub.execute_input": "2020-12-22T19:59:44.505117Z",
     "iopub.status.busy": "2020-12-22T19:59:44.504447Z",
     "iopub.status.idle": "2020-12-22T19:59:46.484274Z",
     "shell.execute_reply": "2020-12-22T19:59:46.483629Z"
    },
    "papermill": {
     "duration": 2.075957,
     "end_time": "2020-12-22T19:59:46.484388",
     "exception": false,
     "start_time": "2020-12-22T19:59:44.408431",
     "status": "completed"
    },
    "tags": []
   },
   "outputs": [],
   "source": [
    "# Объединим праздники с выходными\n",
    "df['app_hol'] = df['app_hol'] + df['app_wend']\n",
    "df['app_hol'] = df.apply(\n",
    "    lambda row : 1 if  row['app_hol']==1 or row['app_wend']==1 else 0, axis = 1)"
   ]
  },
  {
   "cell_type": "code",
   "execution_count": 51,
   "metadata": {
    "execution": {
     "iopub.execute_input": "2020-12-22T19:59:46.680414Z",
     "iopub.status.busy": "2020-12-22T19:59:46.677431Z",
     "iopub.status.idle": "2020-12-22T19:59:46.687149Z",
     "shell.execute_reply": "2020-12-22T19:59:46.686658Z"
    },
    "papermill": {
     "duration": 0.112157,
     "end_time": "2020-12-22T19:59:46.687254",
     "exception": false,
     "start_time": "2020-12-22T19:59:46.575097",
     "status": "completed"
    },
    "tags": []
   },
   "outputs": [
    {
     "data": {
      "text/plain": [
       "0    84946\n",
       "1    25202\n",
       "Name: app_hol, dtype: int64"
      ]
     },
     "execution_count": 51,
     "metadata": {},
     "output_type": "execute_result"
    }
   ],
   "source": [
    "# Удалим отработавший столбец с выходными и посмотрим итоговое распределение\n",
    "df = df.drop(['app_wend'], axis=1)\n",
    "df['app_hol'].value_counts()"
   ]
  },
  {
   "cell_type": "code",
   "execution_count": 52,
   "metadata": {
    "execution": {
     "iopub.execute_input": "2020-12-22T19:59:46.879763Z",
     "iopub.status.busy": "2020-12-22T19:59:46.878809Z",
     "iopub.status.idle": "2020-12-22T19:59:46.926393Z",
     "shell.execute_reply": "2020-12-22T19:59:46.926838Z"
    },
    "papermill": {
     "duration": 0.148528,
     "end_time": "2020-12-22T19:59:46.926988",
     "exception": false,
     "start_time": "2020-12-22T19:59:46.778460",
     "status": "completed"
    },
    "tags": []
   },
   "outputs": [
    {
     "data": {
      "text/html": [
       "<div>\n",
       "<style scoped>\n",
       "    .dataframe tbody tr th:only-of-type {\n",
       "        vertical-align: middle;\n",
       "    }\n",
       "\n",
       "    .dataframe tbody tr th {\n",
       "        vertical-align: top;\n",
       "    }\n",
       "\n",
       "    .dataframe thead th {\n",
       "        text-align: right;\n",
       "    }\n",
       "</style>\n",
       "<table border=\"1\" class=\"dataframe\">\n",
       "  <thead>\n",
       "    <tr style=\"text-align: right;\">\n",
       "      <th></th>\n",
       "      <th>client_id</th>\n",
       "      <th>app_date</th>\n",
       "      <th>education</th>\n",
       "      <th>sex</th>\n",
       "      <th>age</th>\n",
       "      <th>car</th>\n",
       "      <th>car_type</th>\n",
       "      <th>decline_app_cnt</th>\n",
       "      <th>good_work</th>\n",
       "      <th>score_bki</th>\n",
       "      <th>...</th>\n",
       "      <th>cat_income</th>\n",
       "      <th>income_out</th>\n",
       "      <th>app_date_dt</th>\n",
       "      <th>app_days_top</th>\n",
       "      <th>app_month</th>\n",
       "      <th>app_week</th>\n",
       "      <th>app_hol</th>\n",
       "      <th>rate</th>\n",
       "      <th>infl</th>\n",
       "      <th>srf</th>\n",
       "    </tr>\n",
       "  </thead>\n",
       "  <tbody>\n",
       "    <tr>\n",
       "      <th>0</th>\n",
       "      <td>74835</td>\n",
       "      <td>22MAR2014</td>\n",
       "      <td>2</td>\n",
       "      <td>1</td>\n",
       "      <td>3.367296</td>\n",
       "      <td>1</td>\n",
       "      <td>1</td>\n",
       "      <td>0.000000</td>\n",
       "      <td>0</td>\n",
       "      <td>-2.271884</td>\n",
       "      <td>...</td>\n",
       "      <td>2</td>\n",
       "      <td>0</td>\n",
       "      <td>2014-03-22</td>\n",
       "      <td>0</td>\n",
       "      <td>3</td>\n",
       "      <td>5</td>\n",
       "      <td>1</td>\n",
       "      <td>36.4022</td>\n",
       "      <td>6.92</td>\n",
       "      <td>7.0</td>\n",
       "    </tr>\n",
       "    <tr>\n",
       "      <th>1</th>\n",
       "      <td>17527</td>\n",
       "      <td>24JAN2014</td>\n",
       "      <td>1</td>\n",
       "      <td>0</td>\n",
       "      <td>3.663562</td>\n",
       "      <td>0</td>\n",
       "      <td>0</td>\n",
       "      <td>1.791759</td>\n",
       "      <td>0</td>\n",
       "      <td>-1.504999</td>\n",
       "      <td>...</td>\n",
       "      <td>0</td>\n",
       "      <td>1</td>\n",
       "      <td>2014-01-24</td>\n",
       "      <td>0</td>\n",
       "      <td>1</td>\n",
       "      <td>4</td>\n",
       "      <td>0</td>\n",
       "      <td>34.0334</td>\n",
       "      <td>6.05</td>\n",
       "      <td>5.5</td>\n",
       "    </tr>\n",
       "    <tr>\n",
       "      <th>2</th>\n",
       "      <td>75683</td>\n",
       "      <td>23MAR2014</td>\n",
       "      <td>3</td>\n",
       "      <td>1</td>\n",
       "      <td>3.912023</td>\n",
       "      <td>1</td>\n",
       "      <td>1</td>\n",
       "      <td>0.000000</td>\n",
       "      <td>0</td>\n",
       "      <td>-1.691339</td>\n",
       "      <td>...</td>\n",
       "      <td>1</td>\n",
       "      <td>0</td>\n",
       "      <td>2014-03-23</td>\n",
       "      <td>0</td>\n",
       "      <td>3</td>\n",
       "      <td>6</td>\n",
       "      <td>1</td>\n",
       "      <td>36.4022</td>\n",
       "      <td>6.92</td>\n",
       "      <td>7.0</td>\n",
       "    </tr>\n",
       "    <tr>\n",
       "      <th>3</th>\n",
       "      <td>26883</td>\n",
       "      <td>03FEB2014</td>\n",
       "      <td>1</td>\n",
       "      <td>1</td>\n",
       "      <td>4.025352</td>\n",
       "      <td>0</td>\n",
       "      <td>0</td>\n",
       "      <td>0.000000</td>\n",
       "      <td>0</td>\n",
       "      <td>-2.374182</td>\n",
       "      <td>...</td>\n",
       "      <td>1</td>\n",
       "      <td>0</td>\n",
       "      <td>2014-02-03</td>\n",
       "      <td>0</td>\n",
       "      <td>2</td>\n",
       "      <td>0</td>\n",
       "      <td>0</td>\n",
       "      <td>35.1800</td>\n",
       "      <td>6.20</td>\n",
       "      <td>5.5</td>\n",
       "    </tr>\n",
       "    <tr>\n",
       "      <th>4</th>\n",
       "      <td>28862</td>\n",
       "      <td>04FEB2014</td>\n",
       "      <td>2</td>\n",
       "      <td>0</td>\n",
       "      <td>3.637586</td>\n",
       "      <td>0</td>\n",
       "      <td>0</td>\n",
       "      <td>0.000000</td>\n",
       "      <td>0</td>\n",
       "      <td>-2.487502</td>\n",
       "      <td>...</td>\n",
       "      <td>2</td>\n",
       "      <td>0</td>\n",
       "      <td>2014-02-04</td>\n",
       "      <td>0</td>\n",
       "      <td>2</td>\n",
       "      <td>1</td>\n",
       "      <td>0</td>\n",
       "      <td>35.2347</td>\n",
       "      <td>6.20</td>\n",
       "      <td>5.5</td>\n",
       "    </tr>\n",
       "  </tbody>\n",
       "</table>\n",
       "<p>5 rows × 34 columns</p>\n",
       "</div>"
      ],
      "text/plain": [
       "   client_id   app_date  education  sex       age  car  car_type  \\\n",
       "0      74835  22MAR2014          2    1  3.367296    1         1   \n",
       "1      17527  24JAN2014          1    0  3.663562    0         0   \n",
       "2      75683  23MAR2014          3    1  3.912023    1         1   \n",
       "3      26883  03FEB2014          1    1  4.025352    0         0   \n",
       "4      28862  04FEB2014          2    0  3.637586    0         0   \n",
       "\n",
       "   decline_app_cnt  good_work  score_bki  ...  cat_income  income_out  \\\n",
       "0         0.000000          0  -2.271884  ...           2           0   \n",
       "1         1.791759          0  -1.504999  ...           0           1   \n",
       "2         0.000000          0  -1.691339  ...           1           0   \n",
       "3         0.000000          0  -2.374182  ...           1           0   \n",
       "4         0.000000          0  -2.487502  ...           2           0   \n",
       "\n",
       "   app_date_dt  app_days_top  app_month  app_week  app_hol     rate  infl  srf  \n",
       "0   2014-03-22             0          3         5        1  36.4022  6.92  7.0  \n",
       "1   2014-01-24             0          1         4        0  34.0334  6.05  5.5  \n",
       "2   2014-03-23             0          3         6        1  36.4022  6.92  7.0  \n",
       "3   2014-02-03             0          2         0        0  35.1800  6.20  5.5  \n",
       "4   2014-02-04             0          2         1        0  35.2347  6.20  5.5  \n",
       "\n",
       "[5 rows x 34 columns]"
      ]
     },
     "execution_count": 52,
     "metadata": {},
     "output_type": "execute_result"
    }
   ],
   "source": [
    "# Добавляем данные с курсом доллара, уровнем инфляции и ставкой рефинансирования РФ\n",
    "df_dollar = df_dollar.rename(columns={'dt': 'app_date_dt'})\n",
    "df_dollar['app_date_dt'] = df_dollar['app_date_dt'].apply(lambda x: datetime.strptime(x,'%Y-%m-%d'))\n",
    "df = df.join(df_dollar.set_index('app_date_dt'), on='app_date_dt')\n",
    "df.head(5)"
   ]
  },
  {
   "cell_type": "code",
   "execution_count": 53,
   "metadata": {
    "execution": {
     "iopub.execute_input": "2020-12-22T19:59:47.116020Z",
     "iopub.status.busy": "2020-12-22T19:59:47.115092Z",
     "iopub.status.idle": "2020-12-22T19:59:47.124704Z",
     "shell.execute_reply": "2020-12-22T19:59:47.125228Z"
    },
    "papermill": {
     "duration": 0.106361,
     "end_time": "2020-12-22T19:59:47.125379",
     "exception": false,
     "start_time": "2020-12-22T19:59:47.019018",
     "status": "completed"
    },
    "tags": []
   },
   "outputs": [
    {
     "data": {
      "text/plain": [
       "0    3.7435\n",
       "1    1.3747\n",
       "2    3.7435\n",
       "3    2.5213\n",
       "4    2.5760\n",
       "Name: rate, dtype: float64"
      ]
     },
     "execution_count": 53,
     "metadata": {},
     "output_type": "execute_result"
    }
   ],
   "source": [
    "# Курс доллара стандартизируем\n",
    "# min_rate = df['rate'].min()\n",
    "# max_rate = df['rate'].max()\n",
    "# df['rate'] = (df['rate'] - min_rate)/(max_rate-min_rate)\n",
    "# df['rate'].head(2)\n",
    "\n",
    "# Курс доллара сдвигаем на минимум\n",
    "min_rate = df['rate'].min()\n",
    "df['rate'] = df['rate'] - min_rate\n",
    "df['rate'].head(5)"
   ]
  },
  {
   "cell_type": "code",
   "execution_count": 54,
   "metadata": {
    "execution": {
     "iopub.execute_input": "2020-12-22T19:59:47.314859Z",
     "iopub.status.busy": "2020-12-22T19:59:47.314153Z",
     "iopub.status.idle": "2020-12-22T19:59:47.316927Z",
     "shell.execute_reply": "2020-12-22T19:59:47.316475Z"
    },
    "papermill": {
     "duration": 0.099446,
     "end_time": "2020-12-22T19:59:47.317069",
     "exception": false,
     "start_time": "2020-12-22T19:59:47.217623",
     "status": "completed"
    },
    "tags": []
   },
   "outputs": [],
   "source": [
    "# Внесем новые столбцы в списки\n",
    "bin_cols.append('app_hol')\n",
    "bin_cols.append('app_days_top')\n",
    "cat_cols.append('app_week')\n",
    "cat_cols.append('app_month')"
   ]
  },
  {
   "cell_type": "markdown",
   "metadata": {
    "papermill": {
     "duration": 0.092173,
     "end_time": "2020-12-22T19:59:47.501262",
     "exception": false,
     "start_time": "2020-12-22T19:59:47.409089",
     "status": "completed"
    },
    "tags": []
   },
   "source": [
    "Столбец с номерами клиентов прямо зависит от дат обращения.\n",
    "Из столбца с датами извлекли группу частых дней обращений, месяц, день недели и признак праздничного дня."
   ]
  },
  {
   "cell_type": "markdown",
   "metadata": {
    "papermill": {
     "duration": 0.095164,
     "end_time": "2020-12-22T19:59:47.689624",
     "exception": false,
     "start_time": "2020-12-22T19:59:47.594460",
     "status": "completed"
    },
    "tags": []
   },
   "source": [
    "## 3.10 Признак score_bki"
   ]
  },
  {
   "cell_type": "code",
   "execution_count": 55,
   "metadata": {
    "execution": {
     "iopub.execute_input": "2020-12-22T19:59:47.882259Z",
     "iopub.status.busy": "2020-12-22T19:59:47.881537Z",
     "iopub.status.idle": "2020-12-22T19:59:51.309207Z",
     "shell.execute_reply": "2020-12-22T19:59:51.309640Z"
    },
    "papermill": {
     "duration": 3.526285,
     "end_time": "2020-12-22T19:59:51.309788",
     "exception": false,
     "start_time": "2020-12-22T19:59:47.783503",
     "status": "completed"
    },
    "tags": []
   },
   "outputs": [
    {
     "name": "stdout",
     "output_type": "stream",
     "text": [
      "Минимум:  -3.62458632\n",
      "Максимум:  0.19977285\n",
      "Медиана:  -1.92082293\n",
      "Количество выбросов:  482\n",
      "Нижняя граница выбросов:  -3.3104407399999998\n",
      "Верхняя граница выбросов:  -0.5178840650000001\n"
     ]
    },
    {
     "data": {
      "image/png": "[encoded data removed]",
      "text/plain": [
       "<Figure size 864x288 with 2 Axes>"
      ]
     },
     "metadata": {
      "needs_background": "light"
     },
     "output_type": "display_data"
    }
   ],
   "source": [
    "# Проверим распределение\n",
    "d = show_info(df,'score_bki')"
   ]
  },
  {
   "cell_type": "markdown",
   "metadata": {
    "papermill": {
     "duration": 0.092208,
     "end_time": "2020-12-22T19:59:51.494653",
     "exception": false,
     "start_time": "2020-12-22T19:59:51.402445",
     "status": "completed"
    },
    "tags": []
   },
   "source": [
    "Распределение нормальное\n",
    "Разброс значений небольшой, поэтому логарифмировать не обязательно."
   ]
  },
  {
   "cell_type": "code",
   "execution_count": 56,
   "metadata": {
    "execution": {
     "iopub.execute_input": "2020-12-22T19:59:51.686926Z",
     "iopub.status.busy": "2020-12-22T19:59:51.686013Z",
     "iopub.status.idle": "2020-12-22T19:59:52.006311Z",
     "shell.execute_reply": "2020-12-22T19:59:52.005780Z"
    },
    "papermill": {
     "duration": 0.418153,
     "end_time": "2020-12-22T19:59:52.006424",
     "exception": false,
     "start_time": "2020-12-22T19:59:51.588271",
     "status": "completed"
    },
    "tags": []
   },
   "outputs": [
    {
     "data": {
      "image/png": "[encoded data removed]",
      "text/plain": [
       "<Figure size 432x288 with 1 Axes>"
      ]
     },
     "metadata": {
      "needs_background": "light"
     },
     "output_type": "display_data"
    }
   ],
   "source": [
    "# Выбросов не очень много. Заменим их медианой\n",
    "df['score_bki'] = df['score_bki'].apply(lambda x: d['med'] if x>d['lm2'] or x<d['lm1'] else x)\n",
    "sns_plot = sns.distplot(df['score_bki'])\n",
    "fig = sns_plot.get_figure()"
   ]
  },
  {
   "cell_type": "markdown",
   "metadata": {
    "papermill": {
     "duration": 0.094463,
     "end_time": "2020-12-22T19:59:52.194231",
     "exception": false,
     "start_time": "2020-12-22T19:59:52.099768",
     "status": "completed"
    },
    "tags": []
   },
   "source": [
    "Распределение стало нормальным, значит, этот признак качественно отработает в модели."
   ]
  },
  {
   "cell_type": "markdown",
   "metadata": {
    "papermill": {
     "duration": 0.092976,
     "end_time": "2020-12-22T19:59:52.381678",
     "exception": false,
     "start_time": "2020-12-22T19:59:52.288702",
     "status": "completed"
    },
    "tags": []
   },
   "source": [
    "## 3.11 Первичные категориальные признаки"
   ]
  },
  {
   "cell_type": "code",
   "execution_count": 57,
   "metadata": {
    "execution": {
     "iopub.execute_input": "2020-12-22T19:59:52.583578Z",
     "iopub.status.busy": "2020-12-22T19:59:52.582891Z",
     "iopub.status.idle": "2020-12-22T19:59:53.618571Z",
     "shell.execute_reply": "2020-12-22T19:59:53.617845Z"
    },
    "papermill": {
     "duration": 1.143304,
     "end_time": "2020-12-22T19:59:53.618697",
     "exception": false,
     "start_time": "2020-12-22T19:59:52.475393",
     "status": "completed"
    },
    "tags": []
   },
   "outputs": [
    {
     "data": {
      "image/png": "[encoded data removed]",
      "text/plain": [
       "<Figure size 864x576 with 6 Axes>"
      ]
     },
     "metadata": {
      "needs_background": "light"
     },
     "output_type": "display_data"
    }
   ],
   "source": [
    "# Проверим распределение\n",
    "fig, axes = plt.subplots(2,3,figsize=(12,8))\n",
    "axes[0,0].hist(df['region_rating'])\n",
    "axes[0,0].set_title('region_rating')\n",
    "axes[0,1].hist(df['sna'])\n",
    "axes[0,1].set_title('sna')\n",
    "axes[0,2].hist(df['first_time'])\n",
    "axes[0,2].set_title('first_time')\n",
    "axes[1,0].hist(df['home_address'])\n",
    "axes[1,0].set_title('home_address')\n",
    "axes[1,1].hist(df['work_address'])\n",
    "axes[1,1].set_title('work_address')\n",
    "fig.show()"
   ]
  },
  {
   "cell_type": "code",
   "execution_count": 58,
   "metadata": {
    "execution": {
     "iopub.execute_input": "2020-12-22T19:59:53.817439Z",
     "iopub.status.busy": "2020-12-22T19:59:53.816499Z",
     "iopub.status.idle": "2020-12-22T19:59:53.819195Z",
     "shell.execute_reply": "2020-12-22T19:59:53.819648Z"
    },
    "papermill": {
     "duration": 0.104183,
     "end_time": "2020-12-22T19:59:53.819784",
     "exception": false,
     "start_time": "2020-12-22T19:59:53.715601",
     "status": "completed"
    },
    "tags": []
   },
   "outputs": [],
   "source": [
    "# Признаки категориальные. Занесем их в список\n",
    "cat_cols.append('home_address')\n",
    "cat_cols.append('work_address')\n",
    "cat_cols.append('region_rating')\n",
    "cat_cols.append('sna')\n",
    "cat_cols.append('first_time')"
   ]
  },
  {
   "cell_type": "code",
   "execution_count": 59,
   "metadata": {
    "execution": {
     "iopub.execute_input": "2020-12-22T19:59:54.018406Z",
     "iopub.status.busy": "2020-12-22T19:59:54.017763Z",
     "iopub.status.idle": "2020-12-22T19:59:54.063896Z",
     "shell.execute_reply": "2020-12-22T19:59:54.063363Z"
    },
    "papermill": {
     "duration": 0.147693,
     "end_time": "2020-12-22T19:59:54.064028",
     "exception": false,
     "start_time": "2020-12-22T19:59:53.916335",
     "status": "completed"
    },
    "tags": []
   },
   "outputs": [
    {
     "data": {
      "text/plain": [
       "0    83674\n",
       "1    26474\n",
       "Name: reg_7080, dtype: int64"
      ]
     },
     "execution_count": 59,
     "metadata": {},
     "output_type": "execute_result"
    }
   ],
   "source": [
    "# Как потом станет видно, у признака region_rating для регионов 70 и 80 - сильная отрицательная корреляция,\n",
    "# а для прочих - неотрицательная\n",
    "# Сделаем новый бинарный признак: регион 70 или 80 и все остальные\n",
    "df['reg_7080'] = df['region_rating'].apply(lambda x: 1 if x==80 or x==70 else 0) \n",
    "bin_cols.append('reg_7080')\n",
    "df['reg_7080'].value_counts()"
   ]
  },
  {
   "cell_type": "code",
   "execution_count": 60,
   "metadata": {
    "execution": {
     "iopub.execute_input": "2020-12-22T19:59:54.263548Z",
     "iopub.status.busy": "2020-12-22T19:59:54.262888Z",
     "iopub.status.idle": "2020-12-22T19:59:56.474553Z",
     "shell.execute_reply": "2020-12-22T19:59:56.473930Z"
    },
    "papermill": {
     "duration": 2.314425,
     "end_time": "2020-12-22T19:59:56.474662",
     "exception": false,
     "start_time": "2020-12-22T19:59:54.160237",
     "status": "completed"
    },
    "tags": []
   },
   "outputs": [
    {
     "data": {
      "text/plain": [
       "<matplotlib.axes._subplots.AxesSubplot at 0x19208e1bd88>"
      ]
     },
     "execution_count": 60,
     "metadata": {},
     "output_type": "execute_result"
    },
    {
     "data": {
      "image/png": "[encoded data removed]",
      "text/plain": [
       "<Figure size 432x288 with 1 Axes>"
      ]
     },
     "metadata": {
      "needs_background": "light"
     },
     "output_type": "display_data"
    }
   ],
   "source": [
    "# Сделаем дополнительную категориальную переменную: автомобиль + его тип\n",
    "df['cat_car'] = df.apply(\n",
    "    lambda row : 0 if  row['car']==0 and row['car_type']==0 \\\n",
    "    else 1 if row['car']==1 and row['car_type']==0 \\\n",
    "    else 2, axis = 1)\n",
    "cat_cols.append('cat_car')\n",
    "df['cat_car'].hist()"
   ]
  },
  {
   "cell_type": "code",
   "execution_count": 61,
   "metadata": {
    "execution": {
     "iopub.execute_input": "2020-12-22T19:59:56.679421Z",
     "iopub.status.busy": "2020-12-22T19:59:56.678663Z",
     "iopub.status.idle": "2020-12-22T19:59:56.842789Z",
     "shell.execute_reply": "2020-12-22T19:59:56.841848Z"
    },
    "papermill": {
     "duration": 0.269089,
     "end_time": "2020-12-22T19:59:56.842904",
     "exception": false,
     "start_time": "2020-12-22T19:59:56.573815",
     "status": "completed"
    },
    "tags": []
   },
   "outputs": [
    {
     "data": {
      "text/plain": [
       "<matplotlib.axes._subplots.AxesSubplot at 0x1927aff6808>"
      ]
     },
     "execution_count": 61,
     "metadata": {},
     "output_type": "execute_result"
    },
    {
     "data": {
      "image/png": "[encoded data removed]",
      "text/plain": [
       "<Figure size 432x288 with 1 Axes>"
      ]
     },
     "metadata": {
      "needs_background": "light"
     },
     "output_type": "display_data"
    }
   ],
   "source": [
    "# Сделаем дополнительную категориальную переменную: домашний адрес + рабочий адрес \n",
    "# Здесь исходим из того, что у двух адресов один категоризатор. Но это только предположение.\n",
    "df['cat_addr'] = df['home_address'] + df['work_address']\n",
    "cat_cols.append('cat_addr')\n",
    "df['cat_addr'].hist()"
   ]
  },
  {
   "cell_type": "code",
   "execution_count": 62,
   "metadata": {
    "execution": {
     "iopub.execute_input": "2020-12-22T19:59:57.042730Z",
     "iopub.status.busy": "2020-12-22T19:59:57.042135Z",
     "iopub.status.idle": "2020-12-22T19:59:57.235752Z",
     "shell.execute_reply": "2020-12-22T19:59:57.235270Z"
    },
    "papermill": {
     "duration": 0.295779,
     "end_time": "2020-12-22T19:59:57.235868",
     "exception": false,
     "start_time": "2020-12-22T19:59:56.940089",
     "status": "completed"
    },
    "tags": []
   },
   "outputs": [
    {
     "data": {
      "text/plain": [
       "<matplotlib.axes._subplots.AxesSubplot at 0x19202432808>"
      ]
     },
     "execution_count": 62,
     "metadata": {},
     "output_type": "execute_result"
    },
    {
     "data": {
      "image/png": "[encoded data removed]",
      "text/plain": [
       "<Figure size 432x288 with 1 Axes>"
      ]
     },
     "metadata": {
      "needs_background": "light"
     },
     "output_type": "display_data"
    }
   ],
   "source": [
    "# Посмотрим на выдачу кредита в зависимости от двух параметров: sna и first_time\n",
    "df.groupby(by = ['sna', 'first_time'])['default'].mean().plot(kind = 'bar', grid= True)"
   ]
  },
  {
   "cell_type": "code",
   "execution_count": 63,
   "metadata": {
    "execution": {
     "iopub.execute_input": "2020-12-22T19:59:57.438778Z",
     "iopub.status.busy": "2020-12-22T19:59:57.438100Z",
     "iopub.status.idle": "2020-12-22T19:59:57.484399Z",
     "shell.execute_reply": "2020-12-22T19:59:57.483747Z"
    },
    "papermill": {
     "duration": 0.15033,
     "end_time": "2020-12-22T19:59:57.484513",
     "exception": false,
     "start_time": "2020-12-22T19:59:57.334183",
     "status": "completed"
    },
    "tags": []
   },
   "outputs": [
    {
     "data": {
      "text/plain": [
       "0    87335\n",
       "1    22813\n",
       "Name: cat_sf, dtype: int64"
      ]
     },
     "execution_count": 63,
     "metadata": {},
     "output_type": "execute_result"
    }
   ],
   "source": [
    "# Сделаем дополнительную переменную: sna-first_time \n",
    "df['cat_sf'] = df['sna'] - df['first_time']\n",
    "df['cat_sf'] = df['cat_sf'].apply(lambda x: 1 if x>0 else 0) \n",
    "bin_cols.append('cat_sf')\n",
    "df['cat_sf'].value_counts()"
   ]
  },
  {
   "cell_type": "markdown",
   "metadata": {
    "papermill": {
     "duration": 0.100191,
     "end_time": "2020-12-22T19:59:57.684530",
     "exception": false,
     "start_time": "2020-12-22T19:59:57.584339",
     "status": "completed"
    },
    "tags": []
   },
   "source": [
    "## 3.12 Проверка корреляции и важности признаков"
   ]
  },
  {
   "cell_type": "code",
   "execution_count": 64,
   "metadata": {
    "execution": {
     "iopub.execute_input": "2020-12-22T19:59:57.890509Z",
     "iopub.status.busy": "2020-12-22T19:59:57.889519Z",
     "iopub.status.idle": "2020-12-22T19:59:57.893675Z",
     "shell.execute_reply": "2020-12-22T19:59:57.893223Z"
    },
    "papermill": {
     "duration": 0.110249,
     "end_time": "2020-12-22T19:59:57.893783",
     "exception": false,
     "start_time": "2020-12-22T19:59:57.783534",
     "status": "completed"
    },
    "tags": []
   },
   "outputs": [
    {
     "data": {
      "text/plain": [
       "(['edu',\n",
       "  'app_week',\n",
       "  'app_month',\n",
       "  'home_address',\n",
       "  'work_address',\n",
       "  'region_rating',\n",
       "  'sna',\n",
       "  'first_time',\n",
       "  'cat_car',\n",
       "  'cat_addr'],\n",
       " ['sex',\n",
       "  'car',\n",
       "  'car_type',\n",
       "  'good_work',\n",
       "  'foreign_passport',\n",
       "  'cat_decline',\n",
       "  'bki_out',\n",
       "  'income_out',\n",
       "  'app_hol',\n",
       "  'app_days_top',\n",
       "  'reg_7080',\n",
       "  'cat_sf'],\n",
       " ['education', 'cat_age', 'cat_income'])"
      ]
     },
     "execution_count": 64,
     "metadata": {},
     "output_type": "execute_result"
    }
   ],
   "source": [
    "# Проверка столбцов\n",
    "num_cols = ['age','decline_app_cnt','bki_request_cnt','income','score_bki','rate','infl','srf']\n",
    "cat_cols, bin_cols, dop_cols"
   ]
  },
  {
   "cell_type": "code",
   "execution_count": 65,
   "metadata": {
    "execution": {
     "iopub.execute_input": "2020-12-22T19:59:58.103893Z",
     "iopub.status.busy": "2020-12-22T19:59:58.103313Z",
     "iopub.status.idle": "2020-12-22T19:59:58.105611Z",
     "shell.execute_reply": "2020-12-22T19:59:58.106106Z"
    },
    "papermill": {
     "duration": 0.110456,
     "end_time": "2020-12-22T19:59:58.106253",
     "exception": false,
     "start_time": "2020-12-22T19:59:57.995797",
     "status": "completed"
    },
    "tags": []
   },
   "outputs": [],
   "source": [
    "# Категории возраста, выброса доходов и дохода тоже внесем в категориальные признаки\n",
    "cat_cols.append('cat_age')\n",
    "cat_cols.append('cat_income')"
   ]
  },
  {
   "cell_type": "code",
   "execution_count": 66,
   "metadata": {
    "execution": {
     "iopub.execute_input": "2020-12-22T19:59:58.315098Z",
     "iopub.status.busy": "2020-12-22T19:59:58.314416Z",
     "iopub.status.idle": "2020-12-22T19:59:58.578917Z",
     "shell.execute_reply": "2020-12-22T19:59:58.578358Z"
    },
    "papermill": {
     "duration": 0.373249,
     "end_time": "2020-12-22T19:59:58.579053",
     "exception": false,
     "start_time": "2020-12-22T19:59:58.205804",
     "status": "completed"
    },
    "tags": []
   },
   "outputs": [
    {
     "data": {
      "text/plain": [
       "<matplotlib.axes._subplots.AxesSubplot at 0x19201d1c3c8>"
      ]
     },
     "execution_count": 66,
     "metadata": {},
     "output_type": "execute_result"
    },
    {
     "data": {
      "image/png": "[encoded data removed]",
      "text/plain": [
       "<Figure size 432x288 with 2 Axes>"
      ]
     },
     "metadata": {
      "needs_background": "light"
     },
     "output_type": "display_data"
    }
   ],
   "source": [
    "# Посмотрим на корреляцию числовых признаков:\n",
    "sns.heatmap(df[num_cols].corr().abs(), vmin=0, vmax=1)"
   ]
  },
  {
   "cell_type": "code",
   "execution_count": 67,
   "metadata": {
    "execution": {
     "iopub.execute_input": "2020-12-22T19:59:58.803597Z",
     "iopub.status.busy": "2020-12-22T19:59:58.802969Z",
     "iopub.status.idle": "2020-12-22T19:59:58.805188Z",
     "shell.execute_reply": "2020-12-22T19:59:58.805738Z"
    },
    "papermill": {
     "duration": 0.119185,
     "end_time": "2020-12-22T19:59:58.805879",
     "exception": false,
     "start_time": "2020-12-22T19:59:58.686694",
     "status": "completed"
    },
    "tags": []
   },
   "outputs": [],
   "source": [
    "# Видно, что у коэффициента инфляции, курса доллара и ставки рефинансирования очень сильная корреляция\n",
    "# Удалим столбец с уровнем инфляции\n",
    "df = df.drop(['infl'], axis=1)\n",
    "num_cols.remove('infl')"
   ]
  },
  {
   "cell_type": "markdown",
   "metadata": {
    "papermill": {
     "duration": 0.100559,
     "end_time": "2020-12-22T19:59:59.007280",
     "exception": false,
     "start_time": "2020-12-22T19:59:58.906721",
     "status": "completed"
    },
    "tags": []
   },
   "source": [
    "Сильной корреляции между остальными числовыми признаками нет. Их все можно брать для построения модели.\n",
    "Некоторая корреляция наблюдается между банковским рейтингом и количеством отказов от кредита.\n",
    "Скорее всего, этот рейтинг уже учитывает те обстоятельства, из-за которых были отказы."
   ]
  },
  {
   "cell_type": "code",
   "execution_count": 68,
   "metadata": {
    "execution": {
     "iopub.execute_input": "2020-12-22T19:59:59.212514Z",
     "iopub.status.busy": "2020-12-22T19:59:59.211842Z",
     "iopub.status.idle": "2020-12-22T19:59:59.381334Z",
     "shell.execute_reply": "2020-12-22T19:59:59.380799Z"
    },
    "papermill": {
     "duration": 0.273106,
     "end_time": "2020-12-22T19:59:59.381463",
     "exception": false,
     "start_time": "2020-12-22T19:59:59.108357",
     "status": "completed"
    },
    "tags": []
   },
   "outputs": [
    {
     "data": {
      "text/plain": [
       "<matplotlib.axes._subplots.AxesSubplot at 0x192008efb48>"
      ]
     },
     "execution_count": 68,
     "metadata": {},
     "output_type": "execute_result"
    },
    {
     "data": {
      "image/png": "[encoded data removed]",
      "text/plain": [
       "<Figure size 432x288 with 1 Axes>"
      ]
     },
     "metadata": {
      "needs_background": "light"
     },
     "output_type": "display_data"
    }
   ],
   "source": [
    "# Проверим значимость признаков с непрерывными значениями по тесту ANOVA\n",
    "imp_num = Series(f_classif(df[num_cols], df['default'])[0], index = num_cols)\n",
    "imp_num.sort_values(inplace = True)\n",
    "imp_num.plot(kind = 'barh')"
   ]
  },
  {
   "cell_type": "markdown",
   "metadata": {
    "papermill": {
     "duration": 0.103009,
     "end_time": "2020-12-22T19:59:59.585977",
     "exception": false,
     "start_time": "2020-12-22T19:59:59.482968",
     "status": "completed"
    },
    "tags": []
   },
   "source": [
    "Самый значимый признак - это оценка клиента от банков, а возраст и курс доллара - самые малозначительные признаки.\n",
    "Убирать их пока не будем. Проверим их потом другими методами после построения модели."
   ]
  },
  {
   "cell_type": "code",
   "execution_count": 69,
   "metadata": {
    "execution": {
     "iopub.execute_input": "2020-12-22T19:59:59.798433Z",
     "iopub.status.busy": "2020-12-22T19:59:59.797682Z",
     "iopub.status.idle": "2020-12-22T20:00:00.391586Z",
     "shell.execute_reply": "2020-12-22T20:00:00.390971Z"
    },
    "papermill": {
     "duration": 0.700238,
     "end_time": "2020-12-22T20:00:00.391696",
     "exception": false,
     "start_time": "2020-12-22T19:59:59.691458",
     "status": "completed"
    },
    "tags": []
   },
   "outputs": [
    {
     "data": {
      "text/plain": [
       "<matplotlib.axes._subplots.AxesSubplot at 0x1920433f208>"
      ]
     },
     "execution_count": 69,
     "metadata": {},
     "output_type": "execute_result"
    },
    {
     "data": {
      "image/png": "[encoded data removed]",
      "text/plain": [
       "<Figure size 432x288 with 1 Axes>"
      ]
     },
     "metadata": {
      "needs_background": "light"
     },
     "output_type": "display_data"
    }
   ],
   "source": [
    "# Проверим значимость признаков с дискретными значениями\n",
    "imp_cat = Series(mutual_info_classif(df[set(bin_cols + cat_cols + dop_cols)], df['default'],\n",
    "                                     discrete_features =True), index = set(bin_cols + cat_cols+ dop_cols))\n",
    "imp_cat.sort_values(inplace = True)\n",
    "imp_cat.plot(kind = 'barh')"
   ]
  },
  {
   "cell_type": "markdown",
   "metadata": {
    "papermill": {
     "duration": 0.102869,
     "end_time": "2020-12-22T20:00:00.596869",
     "exception": false,
     "start_time": "2020-12-22T20:00:00.494000",
     "status": "completed"
    },
    "tags": []
   },
   "source": [
    "Самый значимый признак - таинственный sna.\n",
    "Малозначимые признаки примем на заметку и при необходимости удалим после построения модели"
   ]
  },
  {
   "cell_type": "markdown",
   "metadata": {
    "papermill": {
     "duration": 0.103193,
     "end_time": "2020-12-22T20:00:00.805117",
     "exception": false,
     "start_time": "2020-12-22T20:00:00.701924",
     "status": "completed"
    },
    "tags": []
   },
   "source": [
    "## 3.13 Dummy-признаки"
   ]
  },
  {
   "cell_type": "code",
   "execution_count": 70,
   "metadata": {
    "execution": {
     "iopub.execute_input": "2020-12-22T20:00:01.072553Z",
     "iopub.status.busy": "2020-12-22T20:00:01.071575Z",
     "iopub.status.idle": "2020-12-22T20:00:01.189635Z",
     "shell.execute_reply": "2020-12-22T20:00:01.190080Z"
    },
    "papermill": {
     "duration": 0.272067,
     "end_time": "2020-12-22T20:00:01.190229",
     "exception": false,
     "start_time": "2020-12-22T20:00:00.918162",
     "status": "completed"
    },
    "tags": []
   },
   "outputs": [
    {
     "name": "stdout",
     "output_type": "stream",
     "text": [
      "<class 'pandas.core.frame.DataFrame'>\n",
      "RangeIndex: 110148 entries, 0 to 110147\n",
      "Data columns (total 76 columns):\n",
      " #   Column            Non-Null Count   Dtype         \n",
      "---  ------            --------------   -----         \n",
      " 0   client_id         110148 non-null  int64         \n",
      " 1   app_date          110148 non-null  object        \n",
      " 2   education         110148 non-null  int64         \n",
      " 3   sex               110148 non-null  int32         \n",
      " 4   age               110148 non-null  float64       \n",
      " 5   car               110148 non-null  int32         \n",
      " 6   car_type          110148 non-null  int32         \n",
      " 7   decline_app_cnt   110148 non-null  float64       \n",
      " 8   good_work         110148 non-null  int64         \n",
      " 9   score_bki         110148 non-null  float64       \n",
      " 10  bki_request_cnt   110148 non-null  float64       \n",
      " 11  income            110148 non-null  float64       \n",
      " 12  foreign_passport  110148 non-null  int32         \n",
      " 13  sample            110148 non-null  int64         \n",
      " 14  default           110148 non-null  int64         \n",
      " 15  cat_decline       110148 non-null  int64         \n",
      " 16  bki_out           110148 non-null  int64         \n",
      " 17  income_out        110148 non-null  int64         \n",
      " 18  app_date_dt       110148 non-null  datetime64[ns]\n",
      " 19  app_days_top      110148 non-null  int64         \n",
      " 20  app_hol           110148 non-null  int64         \n",
      " 21  rate              110148 non-null  float64       \n",
      " 22  srf               110148 non-null  float64       \n",
      " 23  reg_7080          110148 non-null  int64         \n",
      " 24  cat_sf            110148 non-null  int64         \n",
      " 25  edu_1             110148 non-null  uint8         \n",
      " 26  edu_2             110148 non-null  uint8         \n",
      " 27  edu_3             110148 non-null  uint8         \n",
      " 28  edu_4             110148 non-null  uint8         \n",
      " 29  edu_5             110148 non-null  uint8         \n",
      " 30  app_week_0        110148 non-null  uint8         \n",
      " 31  app_week_1        110148 non-null  uint8         \n",
      " 32  app_week_2        110148 non-null  uint8         \n",
      " 33  app_week_3        110148 non-null  uint8         \n",
      " 34  app_week_4        110148 non-null  uint8         \n",
      " 35  app_week_5        110148 non-null  uint8         \n",
      " 36  app_week_6        110148 non-null  uint8         \n",
      " 37  app_month_1       110148 non-null  uint8         \n",
      " 38  app_month_2       110148 non-null  uint8         \n",
      " 39  app_month_3       110148 non-null  uint8         \n",
      " 40  app_month_4       110148 non-null  uint8         \n",
      " 41  home_address_1    110148 non-null  uint8         \n",
      " 42  home_address_2    110148 non-null  uint8         \n",
      " 43  home_address_3    110148 non-null  uint8         \n",
      " 44  work_address_1    110148 non-null  uint8         \n",
      " 45  work_address_2    110148 non-null  uint8         \n",
      " 46  work_address_3    110148 non-null  uint8         \n",
      " 47  region_rating_20  110148 non-null  uint8         \n",
      " 48  region_rating_30  110148 non-null  uint8         \n",
      " 49  region_rating_40  110148 non-null  uint8         \n",
      " 50  region_rating_50  110148 non-null  uint8         \n",
      " 51  region_rating_60  110148 non-null  uint8         \n",
      " 52  region_rating_70  110148 non-null  uint8         \n",
      " 53  region_rating_80  110148 non-null  uint8         \n",
      " 54  sna_1             110148 non-null  uint8         \n",
      " 55  sna_2             110148 non-null  uint8         \n",
      " 56  sna_3             110148 non-null  uint8         \n",
      " 57  sna_4             110148 non-null  uint8         \n",
      " 58  first_time_1      110148 non-null  uint8         \n",
      " 59  first_time_2      110148 non-null  uint8         \n",
      " 60  first_time_3      110148 non-null  uint8         \n",
      " 61  first_time_4      110148 non-null  uint8         \n",
      " 62  cat_car_0         110148 non-null  uint8         \n",
      " 63  cat_car_1         110148 non-null  uint8         \n",
      " 64  cat_car_2         110148 non-null  uint8         \n",
      " 65  cat_addr_2        110148 non-null  uint8         \n",
      " 66  cat_addr_3        110148 non-null  uint8         \n",
      " 67  cat_addr_4        110148 non-null  uint8         \n",
      " 68  cat_addr_5        110148 non-null  uint8         \n",
      " 69  cat_addr_6        110148 non-null  uint8         \n",
      " 70  cat_age_0         110148 non-null  uint8         \n",
      " 71  cat_age_1         110148 non-null  uint8         \n",
      " 72  cat_age_2         110148 non-null  uint8         \n",
      " 73  cat_income_0      110148 non-null  uint8         \n",
      " 74  cat_income_1      110148 non-null  uint8         \n",
      " 75  cat_income_2      110148 non-null  uint8         \n",
      "dtypes: datetime64[ns](1), float64(7), int32(4), int64(12), object(1), uint8(51)\n",
      "memory usage: 24.7+ MB\n"
     ]
    }
   ],
   "source": [
    "# Превратим категориальные переменные в dummy\n",
    "df = pd.get_dummies(df, columns=cat_cols, dummy_na=False)\n",
    "df.info()"
   ]
  },
  {
   "cell_type": "markdown",
   "metadata": {
    "papermill": {
     "duration": 0.103317,
     "end_time": "2020-12-22T20:00:01.405815",
     "exception": false,
     "start_time": "2020-12-22T20:00:01.302498",
     "status": "completed"
    },
    "tags": []
   },
   "source": [
    "## 3.14 Подготовка данных для модели"
   ]
  },
  {
   "cell_type": "code",
   "execution_count": 71,
   "metadata": {
    "execution": {
     "iopub.execute_input": "2020-12-22T20:00:01.616003Z",
     "iopub.status.busy": "2020-12-22T20:00:01.615368Z",
     "iopub.status.idle": "2020-12-22T20:00:01.634462Z",
     "shell.execute_reply": "2020-12-22T20:00:01.634901Z"
    },
    "papermill": {
     "duration": 0.125548,
     "end_time": "2020-12-22T20:00:01.635085",
     "exception": false,
     "start_time": "2020-12-22T20:00:01.509537",
     "status": "completed"
    },
    "tags": []
   },
   "outputs": [],
   "source": [
    "# Удалим нечисловые столбцы и client_id\n",
    "df = df.drop(['client_id', 'app_date', 'app_date_dt'], axis=1)\n",
    "data = df.copy()"
   ]
  },
  {
   "cell_type": "code",
   "execution_count": 72,
   "metadata": {
    "execution": {
     "iopub.execute_input": "2020-12-22T20:00:01.852906Z",
     "iopub.status.busy": "2020-12-22T20:00:01.851992Z",
     "iopub.status.idle": "2020-12-22T20:00:01.884843Z",
     "shell.execute_reply": "2020-12-22T20:00:01.885310Z"
    },
    "papermill": {
     "duration": 0.143397,
     "end_time": "2020-12-22T20:00:01.885490",
     "exception": false,
     "start_time": "2020-12-22T20:00:01.742093",
     "status": "completed"
    },
    "tags": []
   },
   "outputs": [
    {
     "name": "stdout",
     "output_type": "stream",
     "text": [
      "<class 'pandas.core.frame.DataFrame'>\n",
      "RangeIndex: 110148 entries, 0 to 110147\n",
      "Data columns (total 73 columns):\n",
      " #   Column            Non-Null Count   Dtype  \n",
      "---  ------            --------------   -----  \n",
      " 0   education         110148 non-null  int64  \n",
      " 1   sex               110148 non-null  int32  \n",
      " 2   age               110148 non-null  float64\n",
      " 3   car               110148 non-null  int32  \n",
      " 4   car_type          110148 non-null  int32  \n",
      " 5   decline_app_cnt   110148 non-null  float64\n",
      " 6   good_work         110148 non-null  int64  \n",
      " 7   score_bki         110148 non-null  float64\n",
      " 8   bki_request_cnt   110148 non-null  float64\n",
      " 9   income            110148 non-null  float64\n",
      " 10  foreign_passport  110148 non-null  int32  \n",
      " 11  sample            110148 non-null  int64  \n",
      " 12  default           110148 non-null  int64  \n",
      " 13  cat_decline       110148 non-null  int64  \n",
      " 14  bki_out           110148 non-null  int64  \n",
      " 15  income_out        110148 non-null  int64  \n",
      " 16  app_days_top      110148 non-null  int64  \n",
      " 17  app_hol           110148 non-null  int64  \n",
      " 18  rate              110148 non-null  float64\n",
      " 19  srf               110148 non-null  float64\n",
      " 20  reg_7080          110148 non-null  int64  \n",
      " 21  cat_sf            110148 non-null  int64  \n",
      " 22  edu_1             110148 non-null  uint8  \n",
      " 23  edu_2             110148 non-null  uint8  \n",
      " 24  edu_3             110148 non-null  uint8  \n",
      " 25  edu_4             110148 non-null  uint8  \n",
      " 26  edu_5             110148 non-null  uint8  \n",
      " 27  app_week_0        110148 non-null  uint8  \n",
      " 28  app_week_1        110148 non-null  uint8  \n",
      " 29  app_week_2        110148 non-null  uint8  \n",
      " 30  app_week_3        110148 non-null  uint8  \n",
      " 31  app_week_4        110148 non-null  uint8  \n",
      " 32  app_week_5        110148 non-null  uint8  \n",
      " 33  app_week_6        110148 non-null  uint8  \n",
      " 34  app_month_1       110148 non-null  uint8  \n",
      " 35  app_month_2       110148 non-null  uint8  \n",
      " 36  app_month_3       110148 non-null  uint8  \n",
      " 37  app_month_4       110148 non-null  uint8  \n",
      " 38  home_address_1    110148 non-null  uint8  \n",
      " 39  home_address_2    110148 non-null  uint8  \n",
      " 40  home_address_3    110148 non-null  uint8  \n",
      " 41  work_address_1    110148 non-null  uint8  \n",
      " 42  work_address_2    110148 non-null  uint8  \n",
      " 43  work_address_3    110148 non-null  uint8  \n",
      " 44  region_rating_20  110148 non-null  uint8  \n",
      " 45  region_rating_30  110148 non-null  uint8  \n",
      " 46  region_rating_40  110148 non-null  uint8  \n",
      " 47  region_rating_50  110148 non-null  uint8  \n",
      " 48  region_rating_60  110148 non-null  uint8  \n",
      " 49  region_rating_70  110148 non-null  uint8  \n",
      " 50  region_rating_80  110148 non-null  uint8  \n",
      " 51  sna_1             110148 non-null  uint8  \n",
      " 52  sna_2             110148 non-null  uint8  \n",
      " 53  sna_3             110148 non-null  uint8  \n",
      " 54  sna_4             110148 non-null  uint8  \n",
      " 55  first_time_1      110148 non-null  uint8  \n",
      " 56  first_time_2      110148 non-null  uint8  \n",
      " 57  first_time_3      110148 non-null  uint8  \n",
      " 58  first_time_4      110148 non-null  uint8  \n",
      " 59  cat_car_0         110148 non-null  uint8  \n",
      " 60  cat_car_1         110148 non-null  uint8  \n",
      " 61  cat_car_2         110148 non-null  uint8  \n",
      " 62  cat_addr_2        110148 non-null  uint8  \n",
      " 63  cat_addr_3        110148 non-null  uint8  \n",
      " 64  cat_addr_4        110148 non-null  uint8  \n",
      " 65  cat_addr_5        110148 non-null  uint8  \n",
      " 66  cat_addr_6        110148 non-null  uint8  \n",
      " 67  cat_age_0         110148 non-null  uint8  \n",
      " 68  cat_age_1         110148 non-null  uint8  \n",
      " 69  cat_age_2         110148 non-null  uint8  \n",
      " 70  cat_income_0      110148 non-null  uint8  \n",
      " 71  cat_income_1      110148 non-null  uint8  \n",
      " 72  cat_income_2      110148 non-null  uint8  \n",
      "dtypes: float64(7), int32(4), int64(11), uint8(51)\n",
      "memory usage: 22.2 MB\n"
     ]
    }
   ],
   "source": [
    "df.info()"
   ]
  },
  {
   "cell_type": "code",
   "execution_count": 73,
   "metadata": {
    "execution": {
     "iopub.execute_input": "2020-12-22T20:00:02.106244Z",
     "iopub.status.busy": "2020-12-22T20:00:02.105599Z",
     "iopub.status.idle": "2020-12-22T20:00:02.139871Z",
     "shell.execute_reply": "2020-12-22T20:00:02.139241Z"
    },
    "papermill": {
     "duration": 0.14117,
     "end_time": "2020-12-22T20:00:02.140042",
     "exception": false,
     "start_time": "2020-12-22T20:00:01.998872",
     "status": "completed"
    },
    "tags": []
   },
   "outputs": [],
   "source": [
    "# Разобьем данные на тренировочные и тестовые\n",
    "train = df[df['sample']==1].drop(['sample'], axis=1)\n",
    "test = df[df['sample']==0].drop(['sample'], axis=1)"
   ]
  },
  {
   "cell_type": "code",
   "execution_count": 74,
   "metadata": {
    "execution": {
     "iopub.execute_input": "2020-12-22T20:00:02.400090Z",
     "iopub.status.busy": "2020-12-22T20:00:02.399395Z",
     "iopub.status.idle": "2020-12-22T20:00:02.411541Z",
     "shell.execute_reply": "2020-12-22T20:00:02.410893Z"
    },
    "papermill": {
     "duration": 0.163973,
     "end_time": "2020-12-22T20:00:02.411704",
     "exception": false,
     "start_time": "2020-12-22T20:00:02.247731",
     "status": "completed"
    },
    "tags": []
   },
   "outputs": [],
   "source": [
    "# Матрица признаков и столбец целевой переменной\n",
    "X = train.drop(['default'], axis=1) \n",
    "y = train['default']"
   ]
  },
  {
   "cell_type": "markdown",
   "metadata": {
    "papermill": {
     "duration": 0.106081,
     "end_time": "2020-12-22T20:00:02.630658",
     "exception": false,
     "start_time": "2020-12-22T20:00:02.524577",
     "status": "completed"
    },
    "tags": []
   },
   "source": [
    "# 4. Построение модели"
   ]
  },
  {
   "cell_type": "markdown",
   "metadata": {
    "papermill": {
     "duration": 0.104871,
     "end_time": "2020-12-22T20:00:02.841639",
     "exception": false,
     "start_time": "2020-12-22T20:00:02.736768",
     "status": "completed"
    },
    "tags": []
   },
   "source": [
    "## 4.1 Модель без параметров"
   ]
  },
  {
   "cell_type": "code",
   "execution_count": 75,
   "metadata": {
    "execution": {
     "iopub.execute_input": "2020-12-22T20:00:03.060255Z",
     "iopub.status.busy": "2020-12-22T20:00:03.059560Z",
     "iopub.status.idle": "2020-12-22T20:00:04.461127Z",
     "shell.execute_reply": "2020-12-22T20:00:04.460404Z"
    },
    "papermill": {
     "duration": 1.513494,
     "end_time": "2020-12-22T20:00:04.461291",
     "exception": false,
     "start_time": "2020-12-22T20:00:02.947797",
     "status": "completed"
    },
    "tags": []
   },
   "outputs": [
    {
     "data": {
      "text/html": [
       "<div>\n",
       "<style scoped>\n",
       "    .dataframe tbody tr th:only-of-type {\n",
       "        vertical-align: middle;\n",
       "    }\n",
       "\n",
       "    .dataframe tbody tr th {\n",
       "        vertical-align: top;\n",
       "    }\n",
       "\n",
       "    .dataframe thead th {\n",
       "        text-align: right;\n",
       "    }\n",
       "</style>\n",
       "<table border=\"1\" class=\"dataframe\">\n",
       "  <thead>\n",
       "    <tr style=\"text-align: right;\">\n",
       "      <th></th>\n",
       "      <th>model</th>\n",
       "      <th>param</th>\n",
       "      <th>TP</th>\n",
       "      <th>TN</th>\n",
       "      <th>FP</th>\n",
       "      <th>FN</th>\n",
       "      <th>accuracy</th>\n",
       "      <th>balanced_accuracy</th>\n",
       "      <th>precision</th>\n",
       "      <th>recall</th>\n",
       "      <th>f1</th>\n",
       "      <th>roc_auc</th>\n",
       "    </tr>\n",
       "  </thead>\n",
       "  <tbody>\n",
       "    <tr>\n",
       "      <th>0</th>\n",
       "      <td>m1</td>\n",
       "      <td>[]</td>\n",
       "      <td>39</td>\n",
       "      <td>12865</td>\n",
       "      <td>68</td>\n",
       "      <td>1788</td>\n",
       "      <td>0.874255</td>\n",
       "      <td>0.508044</td>\n",
       "      <td>0.364486</td>\n",
       "      <td>0.021346</td>\n",
       "      <td>0.040331</td>\n",
       "      <td>0.745033</td>\n",
       "    </tr>\n",
       "  </tbody>\n",
       "</table>\n",
       "</div>"
      ],
      "text/plain": [
       "  model param  TP     TN  FP    FN  accuracy  balanced_accuracy  precision  \\\n",
       "0    m1    []  39  12865  68  1788  0.874255           0.508044   0.364486   \n",
       "\n",
       "     recall        f1   roc_auc  \n",
       "0  0.021346  0.040331  0.745033  "
      ]
     },
     "execution_count": 75,
     "metadata": {},
     "output_type": "execute_result"
    }
   ],
   "source": [
    "# Модель LogisticRegression №1 без параметров: \n",
    "X_train, X_test, y_train, y_test = train_test_split(X, y, test_size=0.20, random_state=RANDOM_SEED)\n",
    "\n",
    "model1 = LogisticRegression(random_state=RANDOM_SEED)\n",
    "model1.fit(X_train, y_train)\n",
    "\n",
    "y_pred = model1.predict(X_test)\n",
    "\n",
    "probs = model1.predict_proba(X_test)\n",
    "y_pred_prob = probs[:,1]\n",
    "\n",
    "metrics = add_model_metrics(metrics, 'm1', [], y_test, y_pred, y_pred_prob)\n",
    "metrics"
   ]
  },
  {
   "cell_type": "code",
   "execution_count": 76,
   "metadata": {
    "execution": {
     "iopub.execute_input": "2020-12-22T20:00:04.683847Z",
     "iopub.status.busy": "2020-12-22T20:00:04.683275Z",
     "iopub.status.idle": "2020-12-22T20:00:05.062188Z",
     "shell.execute_reply": "2020-12-22T20:00:05.061321Z"
    },
    "papermill": {
     "duration": 0.490738,
     "end_time": "2020-12-22T20:00:05.062346",
     "exception": false,
     "start_time": "2020-12-22T20:00:04.571608",
     "status": "completed"
    },
    "tags": []
   },
   "outputs": [
    {
     "data": {
      "image/png": "[encoded data removed]",
      "text/plain": [
       "<Figure size 288x288 with 1 Axes>"
      ]
     },
     "metadata": {
      "needs_background": "light"
     },
     "output_type": "display_data"
    },
    {
     "data": {
      "image/png": "[encoded data removed]",
      "text/plain": [
       "<Figure size 432x432 with 2 Axes>"
      ]
     },
     "metadata": {
      "needs_background": "light"
     },
     "output_type": "display_data"
    }
   ],
   "source": [
    "graph_roc_auc(y_test, y_pred_prob)\n",
    "graph_confusion_matrix(y_test, y_pred)"
   ]
  },
  {
   "cell_type": "markdown",
   "metadata": {
    "papermill": {
     "duration": 0.118184,
     "end_time": "2020-12-22T20:00:05.295647",
     "exception": false,
     "start_time": "2020-12-22T20:00:05.177463",
     "status": "completed"
    },
    "tags": []
   },
   "source": [
    "Метрика f1 очень плохая. Модель слишком часто отказывает в кредите."
   ]
  },
  {
   "cell_type": "markdown",
   "metadata": {
    "papermill": {
     "duration": 0.105288,
     "end_time": "2020-12-22T20:00:05.507025",
     "exception": false,
     "start_time": "2020-12-22T20:00:05.401737",
     "status": "completed"
    },
    "tags": []
   },
   "source": [
    "## 4.2 Модель с балансировкой"
   ]
  },
  {
   "cell_type": "code",
   "execution_count": 77,
   "metadata": {
    "execution": {
     "iopub.execute_input": "2020-12-22T20:00:05.726779Z",
     "iopub.status.busy": "2020-12-22T20:00:05.725798Z",
     "iopub.status.idle": "2020-12-22T20:00:05.729060Z",
     "shell.execute_reply": "2020-12-22T20:00:05.728550Z"
    },
    "papermill": {
     "duration": 0.115783,
     "end_time": "2020-12-22T20:00:05.729171",
     "exception": false,
     "start_time": "2020-12-22T20:00:05.613388",
     "status": "completed"
    },
    "tags": []
   },
   "outputs": [
    {
     "name": "stdout",
     "output_type": "stream",
     "text": [
      "\tC: 1.0\n",
      "\tclass_weight: 'balanced'\n",
      "\tdual: False\n",
      "\tfit_intercept: True\n",
      "\tintercept_scaling: 1\n",
      "\tl1_ratio: None\n",
      "\tmax_iter: 100\n",
      "\tmulti_class: 'auto'\n",
      "\tn_jobs: None\n",
      "\tpenalty: 'l2'\n",
      "\trandom_state: 42\n",
      "\tsolver: 'lbfgs'\n",
      "\ttol: 0.0001\n",
      "\tverbose: 0\n",
      "\twarm_start: False\n",
      "Accuracy: 0.6713\n",
      "Precision: 0.2279\n",
      "Recall: 0.6935\n",
      "F1: 0.3431\n"
     ]
    }
   ],
   "source": [
    "# Запускаем GridSearch на итерациях max_iter=100 и с штатной дельтой останова tol = 0.0001\n",
    "# Спасибо неизвестному автору за идею такого поиска\n",
    "\n",
    "model = LogisticRegression(random_state=RANDOM_SEED)\n",
    "iteration = 100\n",
    "stop = 0.0001\n",
    "parameters = [\n",
    "    {'penalty': ['l1'], \n",
    "     'solver': ['liblinear', 'lbfgs'], \n",
    "     'class_weight':['none', 'balanced'], \n",
    "     'multi_class': ['auto','ovr'], \n",
    "     'max_iter':[iteration],\n",
    "     'tol':[stop]},\n",
    "    {'penalty': ['l2'], \n",
    "     'solver': ['newton-cg', 'lbfgs', 'liblinear', 'sag', 'saga'], \n",
    "     'class_weight':['none', 'balanced'], \n",
    "     'multi_class': ['auto','ovr'], \n",
    "     'max_iter':[iteration],\n",
    "     'tol':[stop]},\n",
    "    {'penalty': ['none'], \n",
    "     'solver': ['newton-cg', 'lbfgs', 'sag', 'saga'], \n",
    "     'class_weight':['none', 'balanced'], \n",
    "     'multi_class': ['auto','ovr'], \n",
    "     'max_iter':[iteration],\n",
    "     'tol':[stop]},\n",
    "    {'penalty': ['elasticnet'], \n",
    "     'solver': ['saga'], \n",
    "     'class_weight':['none', 'balanced'], \n",
    "     'multi_class': ['auto','ovr'], \n",
    "     'max_iter':[iteration],\n",
    "     'tol':[stop]},\n",
    "]\n",
    "gridsearch = GridSearchCV(model, parameters, scoring='f1', n_jobs=-1, cv=5)\n",
    "gridsearch.fit(X_train, y_train)\n",
    "model = gridsearch.best_estimator_\n",
    "\n",
    "# Выводим параметры\n",
    "best_parameters = model.get_params()\n",
    "for param_name in sorted(best_parameters.keys()):\n",
    "        print('\\t%s: %r' % (param_name, best_parameters[param_name]))\n",
    "        \n",
    "# Выводим метрики\n",
    "preds = model.predict(X_test)\n",
    "print('Accuracy: %.4f' % accuracy_score(y_test, preds))\n",
    "print('Precision: %.4f' % precision_score(y_test, preds))\n",
    "print('Recall: %.4f' % recall_score(y_test, preds))\n",
    "print('F1: %.4f' % f1_score(y_test, preds))"
   ]
  },
  {
   "cell_type": "code",
   "execution_count": 78,
   "metadata": {
    "execution": {
     "iopub.execute_input": "2020-12-22T20:00:05.956717Z",
     "iopub.status.busy": "2020-12-22T20:00:05.955695Z",
     "iopub.status.idle": "2020-12-22T20:00:10.794065Z",
     "shell.execute_reply": "2020-12-22T20:00:10.794680Z"
    },
    "papermill": {
     "duration": 4.958542,
     "end_time": "2020-12-22T20:00:10.794886",
     "exception": false,
     "start_time": "2020-12-22T20:00:05.836344",
     "status": "completed"
    },
    "tags": []
   },
   "outputs": [
    {
     "data": {
      "text/html": [
       "<div>\n",
       "<style scoped>\n",
       "    .dataframe tbody tr th:only-of-type {\n",
       "        vertical-align: middle;\n",
       "    }\n",
       "\n",
       "    .dataframe tbody tr th {\n",
       "        vertical-align: top;\n",
       "    }\n",
       "\n",
       "    .dataframe thead th {\n",
       "        text-align: right;\n",
       "    }\n",
       "</style>\n",
       "<table border=\"1\" class=\"dataframe\">\n",
       "  <thead>\n",
       "    <tr style=\"text-align: right;\">\n",
       "      <th></th>\n",
       "      <th>model</th>\n",
       "      <th>param</th>\n",
       "      <th>TP</th>\n",
       "      <th>TN</th>\n",
       "      <th>FP</th>\n",
       "      <th>FN</th>\n",
       "      <th>accuracy</th>\n",
       "      <th>balanced_accuracy</th>\n",
       "      <th>precision</th>\n",
       "      <th>recall</th>\n",
       "      <th>f1</th>\n",
       "      <th>roc_auc</th>\n",
       "    </tr>\n",
       "  </thead>\n",
       "  <tbody>\n",
       "    <tr>\n",
       "      <th>0</th>\n",
       "      <td>m1</td>\n",
       "      <td>[]</td>\n",
       "      <td>39</td>\n",
       "      <td>12865</td>\n",
       "      <td>68</td>\n",
       "      <td>1788</td>\n",
       "      <td>0.874255</td>\n",
       "      <td>0.508044</td>\n",
       "      <td>0.364486</td>\n",
       "      <td>0.021346</td>\n",
       "      <td>0.040331</td>\n",
       "      <td>0.745033</td>\n",
       "    </tr>\n",
       "    <tr>\n",
       "      <th>1</th>\n",
       "      <td>m2</td>\n",
       "      <td>[class_weight=balanced]</td>\n",
       "      <td>1267</td>\n",
       "      <td>8637</td>\n",
       "      <td>4296</td>\n",
       "      <td>560</td>\n",
       "      <td>0.671003</td>\n",
       "      <td>0.680657</td>\n",
       "      <td>0.227755</td>\n",
       "      <td>0.693487</td>\n",
       "      <td>0.342896</td>\n",
       "      <td>0.745033</td>\n",
       "    </tr>\n",
       "  </tbody>\n",
       "</table>\n",
       "</div>"
      ],
      "text/plain": [
       "  model                    param    TP     TN    FP    FN  accuracy  \\\n",
       "0    m1                       []    39  12865    68  1788  0.874255   \n",
       "1    m2  [class_weight=balanced]  1267   8637  4296   560  0.671003   \n",
       "\n",
       "   balanced_accuracy  precision    recall        f1   roc_auc  \n",
       "0           0.508044   0.364486  0.021346  0.040331  0.745033  \n",
       "1           0.680657   0.227755  0.693487  0.342896  0.745033  "
      ]
     },
     "execution_count": 78,
     "metadata": {},
     "output_type": "execute_result"
    }
   ],
   "source": [
    "# Видно, что выбрана модель с балансировкой.\n",
    "# Это ожидалось, так как распределение значений очень неравномерное\n",
    "# Добавим одну только балансировку и проверим, как она повлияла\n",
    "model2 = LogisticRegression(class_weight='balanced', \n",
    "                           random_state=RANDOM_SEED,\n",
    "                           max_iter=MAX_ITER)\n",
    "\n",
    "model2.fit(X_train, y_train)\n",
    "\n",
    "y_pred = model2.predict(X_test)\n",
    "\n",
    "probs = model2.predict_proba(X_test)\n",
    "probs = probs[:,1]\n",
    "\n",
    "metrics = add_model_metrics(metrics, 'm2', ['class_weight=balanced'], y_test, y_pred, y_pred_prob)\n",
    "metrics"
   ]
  },
  {
   "cell_type": "code",
   "execution_count": 79,
   "metadata": {
    "execution": {
     "iopub.execute_input": "2020-12-22T20:00:11.025098Z",
     "iopub.status.busy": "2020-12-22T20:00:11.024428Z",
     "iopub.status.idle": "2020-12-22T20:00:11.366290Z",
     "shell.execute_reply": "2020-12-22T20:00:11.366756Z"
    },
    "papermill": {
     "duration": 0.45474,
     "end_time": "2020-12-22T20:00:11.366895",
     "exception": false,
     "start_time": "2020-12-22T20:00:10.912155",
     "status": "completed"
    },
    "tags": []
   },
   "outputs": [
    {
     "data": {
      "image/png": "[encoded data removed]",
      "text/plain": [
       "<Figure size 288x288 with 1 Axes>"
      ]
     },
     "metadata": {
      "needs_background": "light"
     },
     "output_type": "display_data"
    },
    {
     "data": {
      "image/png": "[encoded data removed]",
      "text/plain": [
       "<Figure size 432x432 with 2 Axes>"
      ]
     },
     "metadata": {
      "needs_background": "light"
     },
     "output_type": "display_data"
    }
   ],
   "source": [
    "graph_roc_auc(y_test, y_pred_prob)\n",
    "graph_confusion_matrix(y_test, y_pred)"
   ]
  },
  {
   "cell_type": "code",
   "execution_count": 80,
   "metadata": {
    "execution": {
     "iopub.execute_input": "2020-12-22T20:00:11.588872Z",
     "iopub.status.busy": "2020-12-22T20:00:11.587971Z",
     "iopub.status.idle": "2020-12-22T20:00:17.824956Z",
     "shell.execute_reply": "2020-12-22T20:00:17.824156Z"
    },
    "papermill": {
     "duration": 6.348819,
     "end_time": "2020-12-22T20:00:17.825100",
     "exception": false,
     "start_time": "2020-12-22T20:00:11.476281",
     "status": "completed"
    },
    "tags": []
   },
   "outputs": [
    {
     "name": "stdout",
     "output_type": "stream",
     "text": [
      "Train ROC AUC: mean=0.7499, std=0.0016\n",
      "Test ROC AUC: mean=0.7395, std=0.0141\n"
     ]
    },
    {
     "data": {
      "text/plain": [
       "[<matplotlib.lines.Line2D at 0x192006b8f48>]"
      ]
     },
     "execution_count": 80,
     "metadata": {},
     "output_type": "execute_result"
    },
    {
     "data": {
      "image/png": "[encoded data removed]",
      "text/plain": [
       "<Figure size 432x288 with 1 Axes>"
      ]
     },
     "metadata": {
      "needs_background": "light"
     },
     "output_type": "display_data"
    }
   ],
   "source": [
    "# Проведем кросс-валидацию модели\n",
    "temp_vec = cross_validate(model2, X_test, y_test, cv=10, scoring='roc_auc', return_train_score=True)\n",
    "\n",
    "arr_test = temp_vec['test_score']\n",
    "arr_train = temp_vec['train_score']\n",
    "\n",
    "print('Train ROC AUC: mean={:0.4f}'.format(np.mean(arr_train)) + \", std={:1.4f}\".format(np.std(arr_train))) \n",
    "print('Test ROC AUC: mean={:0.4f}'.format(np.mean(arr_test)) + \", std={:1.4f}\".format(np.std(arr_test))) \n",
    "\n",
    "plt.plot(range(10),temp_vec['test_score'])\n",
    "plt.plot(range(10),temp_vec['train_score'])"
   ]
  },
  {
   "cell_type": "markdown",
   "metadata": {
    "papermill": {
     "duration": 0.109635,
     "end_time": "2020-12-22T20:00:18.050761",
     "exception": false,
     "start_time": "2020-12-22T20:00:17.941126",
     "status": "completed"
    },
    "tags": []
   },
   "source": [
    "Видно, что модель на разных разбиениях ведет себя не очень стабильно.\n",
    "Это значит, что, скорее всего, на тестовой выборке результат будет хуже, чем на тренировочной.\n",
    "\n",
    "Балансировка резко улучшила оценку f1 и balanced_accuracy. ROC AUC осталась такой же"
   ]
  },
  {
   "cell_type": "markdown",
   "metadata": {
    "papermill": {
     "duration": 0.109941,
     "end_time": "2020-12-22T20:00:18.276547",
     "exception": false,
     "start_time": "2020-12-22T20:00:18.166606",
     "status": "completed"
    },
    "tags": []
   },
   "source": [
    "## 4.3 Модели с регуляризацией"
   ]
  },
  {
   "cell_type": "code",
   "execution_count": 81,
   "metadata": {
    "execution": {
     "iopub.execute_input": "2020-12-22T20:00:18.501600Z",
     "iopub.status.busy": "2020-12-22T20:00:18.500791Z",
     "iopub.status.idle": "2020-12-22T20:00:18.503366Z",
     "shell.execute_reply": "2020-12-22T20:00:18.503861Z"
    },
    "papermill": {
     "duration": 0.117677,
     "end_time": "2020-12-22T20:00:18.504025",
     "exception": false,
     "start_time": "2020-12-22T20:00:18.386348",
     "status": "completed"
    },
    "tags": []
   },
   "outputs": [
    {
     "data": {
      "text/html": [
       "<div>\n",
       "<style scoped>\n",
       "    .dataframe tbody tr th:only-of-type {\n",
       "        vertical-align: middle;\n",
       "    }\n",
       "\n",
       "    .dataframe tbody tr th {\n",
       "        vertical-align: top;\n",
       "    }\n",
       "\n",
       "    .dataframe thead th {\n",
       "        text-align: right;\n",
       "    }\n",
       "</style>\n",
       "<table border=\"1\" class=\"dataframe\">\n",
       "  <thead>\n",
       "    <tr style=\"text-align: right;\">\n",
       "      <th></th>\n",
       "      <th>model</th>\n",
       "      <th>param</th>\n",
       "      <th>TP</th>\n",
       "      <th>TN</th>\n",
       "      <th>FP</th>\n",
       "      <th>FN</th>\n",
       "      <th>accuracy</th>\n",
       "      <th>balanced_accuracy</th>\n",
       "      <th>precision</th>\n",
       "      <th>recall</th>\n",
       "      <th>f1</th>\n",
       "      <th>roc_auc</th>\n",
       "    </tr>\n",
       "  </thead>\n",
       "  <tbody>\n",
       "    <tr>\n",
       "      <th>0</th>\n",
       "      <td>m1</td>\n",
       "      <td>[]</td>\n",
       "      <td>39</td>\n",
       "      <td>12865</td>\n",
       "      <td>68</td>\n",
       "      <td>1788</td>\n",
       "      <td>0.874255</td>\n",
       "      <td>0.508044</td>\n",
       "      <td>0.364486</td>\n",
       "      <td>0.021346</td>\n",
       "      <td>0.040331</td>\n",
       "      <td>0.745033</td>\n",
       "    </tr>\n",
       "    <tr>\n",
       "      <th>1</th>\n",
       "      <td>m2</td>\n",
       "      <td>[class_weight=balanced]</td>\n",
       "      <td>1267</td>\n",
       "      <td>8637</td>\n",
       "      <td>4296</td>\n",
       "      <td>560</td>\n",
       "      <td>0.671003</td>\n",
       "      <td>0.680657</td>\n",
       "      <td>0.227755</td>\n",
       "      <td>0.693487</td>\n",
       "      <td>0.342896</td>\n",
       "      <td>0.745033</td>\n",
       "    </tr>\n",
       "    <tr>\n",
       "      <th>2</th>\n",
       "      <td>m3</td>\n",
       "      <td>[class_weight=balanced, penalty=l1, C=0.001, s...</td>\n",
       "      <td>1174</td>\n",
       "      <td>8698</td>\n",
       "      <td>4235</td>\n",
       "      <td>653</td>\n",
       "      <td>0.668835</td>\n",
       "      <td>0.657563</td>\n",
       "      <td>0.217046</td>\n",
       "      <td>0.642583</td>\n",
       "      <td>0.324489</td>\n",
       "      <td>0.745033</td>\n",
       "    </tr>\n",
       "    <tr>\n",
       "      <th>3</th>\n",
       "      <td>m4</td>\n",
       "      <td>[class_weight=balanced, penalty=l1, C=0.001, s...</td>\n",
       "      <td>1183</td>\n",
       "      <td>8389</td>\n",
       "      <td>4544</td>\n",
       "      <td>644</td>\n",
       "      <td>0.648509</td>\n",
       "      <td>0.648080</td>\n",
       "      <td>0.206565</td>\n",
       "      <td>0.647510</td>\n",
       "      <td>0.313212</td>\n",
       "      <td>0.745033</td>\n",
       "    </tr>\n",
       "    <tr>\n",
       "      <th>4</th>\n",
       "      <td>m5</td>\n",
       "      <td>[class_weight=balanced, penalty=l1, C=0.01, so...</td>\n",
       "      <td>1255</td>\n",
       "      <td>8676</td>\n",
       "      <td>4257</td>\n",
       "      <td>572</td>\n",
       "      <td>0.672832</td>\n",
       "      <td>0.678880</td>\n",
       "      <td>0.227685</td>\n",
       "      <td>0.686918</td>\n",
       "      <td>0.342008</td>\n",
       "      <td>0.745033</td>\n",
       "    </tr>\n",
       "    <tr>\n",
       "      <th>5</th>\n",
       "      <td>m6</td>\n",
       "      <td>[class_weight=balanced, penalty=l1, C=0.01, so...</td>\n",
       "      <td>1256</td>\n",
       "      <td>8634</td>\n",
       "      <td>4299</td>\n",
       "      <td>571</td>\n",
       "      <td>0.670054</td>\n",
       "      <td>0.677530</td>\n",
       "      <td>0.226103</td>\n",
       "      <td>0.687466</td>\n",
       "      <td>0.340287</td>\n",
       "      <td>0.745033</td>\n",
       "    </tr>\n",
       "    <tr>\n",
       "      <th>6</th>\n",
       "      <td>m7</td>\n",
       "      <td>[class_weight=balanced, penalty=l1, C=0.1, sol...</td>\n",
       "      <td>1264</td>\n",
       "      <td>8640</td>\n",
       "      <td>4293</td>\n",
       "      <td>563</td>\n",
       "      <td>0.671003</td>\n",
       "      <td>0.679952</td>\n",
       "      <td>0.227461</td>\n",
       "      <td>0.691845</td>\n",
       "      <td>0.342362</td>\n",
       "      <td>0.745033</td>\n",
       "    </tr>\n",
       "    <tr>\n",
       "      <th>7</th>\n",
       "      <td>m8</td>\n",
       "      <td>[class_weight=balanced, penalty=l1, C=0.1, sol...</td>\n",
       "      <td>1264</td>\n",
       "      <td>8627</td>\n",
       "      <td>4306</td>\n",
       "      <td>563</td>\n",
       "      <td>0.670122</td>\n",
       "      <td>0.679449</td>\n",
       "      <td>0.226930</td>\n",
       "      <td>0.691845</td>\n",
       "      <td>0.341760</td>\n",
       "      <td>0.745033</td>\n",
       "    </tr>\n",
       "    <tr>\n",
       "      <th>8</th>\n",
       "      <td>m9</td>\n",
       "      <td>[class_weight=balanced, penalty=l1, C=1, solve...</td>\n",
       "      <td>1264</td>\n",
       "      <td>8643</td>\n",
       "      <td>4290</td>\n",
       "      <td>563</td>\n",
       "      <td>0.671206</td>\n",
       "      <td>0.680067</td>\n",
       "      <td>0.227584</td>\n",
       "      <td>0.691845</td>\n",
       "      <td>0.342501</td>\n",
       "      <td>0.745033</td>\n",
       "    </tr>\n",
       "    <tr>\n",
       "      <th>9</th>\n",
       "      <td>m10</td>\n",
       "      <td>[class_weight=balanced, penalty=l1, C=1, solve...</td>\n",
       "      <td>1266</td>\n",
       "      <td>8640</td>\n",
       "      <td>4293</td>\n",
       "      <td>561</td>\n",
       "      <td>0.671138</td>\n",
       "      <td>0.680499</td>\n",
       "      <td>0.227739</td>\n",
       "      <td>0.692939</td>\n",
       "      <td>0.342811</td>\n",
       "      <td>0.745033</td>\n",
       "    </tr>\n",
       "    <tr>\n",
       "      <th>10</th>\n",
       "      <td>m11</td>\n",
       "      <td>[class_weight=balanced, penalty=l1, C=10, solv...</td>\n",
       "      <td>1267</td>\n",
       "      <td>8634</td>\n",
       "      <td>4299</td>\n",
       "      <td>560</td>\n",
       "      <td>0.670799</td>\n",
       "      <td>0.680541</td>\n",
       "      <td>0.227632</td>\n",
       "      <td>0.693487</td>\n",
       "      <td>0.342757</td>\n",
       "      <td>0.745033</td>\n",
       "    </tr>\n",
       "    <tr>\n",
       "      <th>11</th>\n",
       "      <td>m12</td>\n",
       "      <td>[class_weight=balanced, penalty=l1, C=10, solv...</td>\n",
       "      <td>1267</td>\n",
       "      <td>8633</td>\n",
       "      <td>4300</td>\n",
       "      <td>560</td>\n",
       "      <td>0.670732</td>\n",
       "      <td>0.680502</td>\n",
       "      <td>0.227591</td>\n",
       "      <td>0.693487</td>\n",
       "      <td>0.342710</td>\n",
       "      <td>0.745033</td>\n",
       "    </tr>\n",
       "    <tr>\n",
       "      <th>12</th>\n",
       "      <td>m13</td>\n",
       "      <td>[class_weight=balanced, penalty=l1, C=100, sol...</td>\n",
       "      <td>1267</td>\n",
       "      <td>8635</td>\n",
       "      <td>4298</td>\n",
       "      <td>560</td>\n",
       "      <td>0.670867</td>\n",
       "      <td>0.680579</td>\n",
       "      <td>0.227673</td>\n",
       "      <td>0.693487</td>\n",
       "      <td>0.342803</td>\n",
       "      <td>0.745033</td>\n",
       "    </tr>\n",
       "    <tr>\n",
       "      <th>13</th>\n",
       "      <td>m14</td>\n",
       "      <td>[class_weight=balanced, penalty=l1, C=100, sol...</td>\n",
       "      <td>1267</td>\n",
       "      <td>8634</td>\n",
       "      <td>4299</td>\n",
       "      <td>560</td>\n",
       "      <td>0.670799</td>\n",
       "      <td>0.680541</td>\n",
       "      <td>0.227632</td>\n",
       "      <td>0.693487</td>\n",
       "      <td>0.342757</td>\n",
       "      <td>0.745033</td>\n",
       "    </tr>\n",
       "  </tbody>\n",
       "</table>\n",
       "</div>"
      ],
      "text/plain": [
       "   model                                              param    TP     TN  \\\n",
       "0     m1                                                 []    39  12865   \n",
       "1     m2                            [class_weight=balanced]  1267   8637   \n",
       "2     m3  [class_weight=balanced, penalty=l1, C=0.001, s...  1174   8698   \n",
       "3     m4  [class_weight=balanced, penalty=l1, C=0.001, s...  1183   8389   \n",
       "4     m5  [class_weight=balanced, penalty=l1, C=0.01, so...  1255   8676   \n",
       "5     m6  [class_weight=balanced, penalty=l1, C=0.01, so...  1256   8634   \n",
       "6     m7  [class_weight=balanced, penalty=l1, C=0.1, sol...  1264   8640   \n",
       "7     m8  [class_weight=balanced, penalty=l1, C=0.1, sol...  1264   8627   \n",
       "8     m9  [class_weight=balanced, penalty=l1, C=1, solve...  1264   8643   \n",
       "9    m10  [class_weight=balanced, penalty=l1, C=1, solve...  1266   8640   \n",
       "10   m11  [class_weight=balanced, penalty=l1, C=10, solv...  1267   8634   \n",
       "11   m12  [class_weight=balanced, penalty=l1, C=10, solv...  1267   8633   \n",
       "12   m13  [class_weight=balanced, penalty=l1, C=100, sol...  1267   8635   \n",
       "13   m14  [class_weight=balanced, penalty=l1, C=100, sol...  1267   8634   \n",
       "\n",
       "      FP    FN  accuracy  balanced_accuracy  precision    recall        f1  \\\n",
       "0     68  1788  0.874255           0.508044   0.364486  0.021346  0.040331   \n",
       "1   4296   560  0.671003           0.680657   0.227755  0.693487  0.342896   \n",
       "2   4235   653  0.668835           0.657563   0.217046  0.642583  0.324489   \n",
       "3   4544   644  0.648509           0.648080   0.206565  0.647510  0.313212   \n",
       "4   4257   572  0.672832           0.678880   0.227685  0.686918  0.342008   \n",
       "5   4299   571  0.670054           0.677530   0.226103  0.687466  0.340287   \n",
       "6   4293   563  0.671003           0.679952   0.227461  0.691845  0.342362   \n",
       "7   4306   563  0.670122           0.679449   0.226930  0.691845  0.341760   \n",
       "8   4290   563  0.671206           0.680067   0.227584  0.691845  0.342501   \n",
       "9   4293   561  0.671138           0.680499   0.227739  0.692939  0.342811   \n",
       "10  4299   560  0.670799           0.680541   0.227632  0.693487  0.342757   \n",
       "11  4300   560  0.670732           0.680502   0.227591  0.693487  0.342710   \n",
       "12  4298   560  0.670867           0.680579   0.227673  0.693487  0.342803   \n",
       "13  4299   560  0.670799           0.680541   0.227632  0.693487  0.342757   \n",
       "\n",
       "     roc_auc  \n",
       "0   0.745033  \n",
       "1   0.745033  \n",
       "2   0.745033  \n",
       "3   0.745033  \n",
       "4   0.745033  \n",
       "5   0.745033  \n",
       "6   0.745033  \n",
       "7   0.745033  \n",
       "8   0.745033  \n",
       "9   0.745033  \n",
       "10  0.745033  \n",
       "11  0.745033  \n",
       "12  0.745033  \n",
       "13  0.745033  "
      ]
     },
     "execution_count": 81,
     "metadata": {},
     "output_type": "execute_result"
    }
   ],
   "source": [
    "# Попробуем поискать другие гиперпараметры.\n",
    "# Параметр dual менять не будем. Он по умолчанию = False и в документации говорится:\n",
    "#    \"Prefer dual=False when n_samples > n_features\"\n",
    "# Параметр fit_intercept тоже менять не будем, он тоже по умолчанию = True\n",
    "# Параметр multi_class тоже не трогаем, потому что разбиваем на 2 класса и в таком случае auto = ovr\n",
    "\n",
    "# Попробуем к балансировке добавить регуляризацию l1 и пробежаться по разным ее коэффициентам\n",
    "arr_C = [0.001, 0.01, 0.1, 1, 10, 100]\n",
    "arr_solver = ['liblinear', 'saga']\n",
    "i = 3\n",
    "\n",
    "for C_val in arr_C:\n",
    "    for solver_val in arr_solver:\n",
    "        model = LogisticRegression(C=C_val, \n",
    "                                   penalty='l1', \n",
    "                                   class_weight='balanced', \n",
    "                                   solver=solver_val, \n",
    "                                   random_state=RANDOM_SEED,\n",
    "                                   max_iter=MAX_ITER)\n",
    "\n",
    "        model.fit(X_train, y_train)\n",
    "        y_pred = model.predict(X_test)\n",
    "        probs = model.predict_proba(X_test)\n",
    "        probs = probs[:,1]\n",
    "        \n",
    "        metrics = add_model_metrics(metrics, 'm' + str(i), \n",
    "                         ['class_weight=balanced', 'penalty=l1', 'C='+str(C_val), 'solver='+ str(solver_val)], \n",
    "                         y_test, y_pred, y_pred_prob)\n",
    "        \n",
    "        i += 1\n",
    "\n",
    "metrics"
   ]
  },
  {
   "cell_type": "code",
   "execution_count": 82,
   "metadata": {
    "execution": {
     "iopub.execute_input": "2020-12-22T20:00:18.732295Z",
     "iopub.status.busy": "2020-12-22T20:00:18.731514Z",
     "iopub.status.idle": "2020-12-22T20:00:18.735003Z",
     "shell.execute_reply": "2020-12-22T20:00:18.734454Z"
    },
    "papermill": {
     "duration": 0.119929,
     "end_time": "2020-12-22T20:00:18.735127",
     "exception": false,
     "start_time": "2020-12-22T20:00:18.615198",
     "status": "completed"
    },
    "tags": []
   },
   "outputs": [
    {
     "data": {
      "text/html": [
       "<div>\n",
       "<style scoped>\n",
       "    .dataframe tbody tr th:only-of-type {\n",
       "        vertical-align: middle;\n",
       "    }\n",
       "\n",
       "    .dataframe tbody tr th {\n",
       "        vertical-align: top;\n",
       "    }\n",
       "\n",
       "    .dataframe thead th {\n",
       "        text-align: right;\n",
       "    }\n",
       "</style>\n",
       "<table border=\"1\" class=\"dataframe\">\n",
       "  <thead>\n",
       "    <tr style=\"text-align: right;\">\n",
       "      <th></th>\n",
       "      <th>model</th>\n",
       "      <th>param</th>\n",
       "      <th>TP</th>\n",
       "      <th>TN</th>\n",
       "      <th>FP</th>\n",
       "      <th>FN</th>\n",
       "      <th>accuracy</th>\n",
       "      <th>balanced_accuracy</th>\n",
       "      <th>precision</th>\n",
       "      <th>recall</th>\n",
       "      <th>f1</th>\n",
       "      <th>roc_auc</th>\n",
       "    </tr>\n",
       "  </thead>\n",
       "  <tbody>\n",
       "    <tr>\n",
       "      <th>0</th>\n",
       "      <td>m1</td>\n",
       "      <td>[]</td>\n",
       "      <td>39</td>\n",
       "      <td>12865</td>\n",
       "      <td>68</td>\n",
       "      <td>1788</td>\n",
       "      <td>0.874255</td>\n",
       "      <td>0.508044</td>\n",
       "      <td>0.364486</td>\n",
       "      <td>0.021346</td>\n",
       "      <td>0.040331</td>\n",
       "      <td>0.745033</td>\n",
       "    </tr>\n",
       "    <tr>\n",
       "      <th>1</th>\n",
       "      <td>m2</td>\n",
       "      <td>[class_weight=balanced]</td>\n",
       "      <td>1267</td>\n",
       "      <td>8637</td>\n",
       "      <td>4296</td>\n",
       "      <td>560</td>\n",
       "      <td>0.671003</td>\n",
       "      <td>0.680657</td>\n",
       "      <td>0.227755</td>\n",
       "      <td>0.693487</td>\n",
       "      <td>0.342896</td>\n",
       "      <td>0.745033</td>\n",
       "    </tr>\n",
       "    <tr>\n",
       "      <th>2</th>\n",
       "      <td>m3</td>\n",
       "      <td>[class_weight=balanced, penalty=l1, C=0.001, s...</td>\n",
       "      <td>1174</td>\n",
       "      <td>8698</td>\n",
       "      <td>4235</td>\n",
       "      <td>653</td>\n",
       "      <td>0.668835</td>\n",
       "      <td>0.657563</td>\n",
       "      <td>0.217046</td>\n",
       "      <td>0.642583</td>\n",
       "      <td>0.324489</td>\n",
       "      <td>0.745033</td>\n",
       "    </tr>\n",
       "    <tr>\n",
       "      <th>3</th>\n",
       "      <td>m4</td>\n",
       "      <td>[class_weight=balanced, penalty=l1, C=0.001, s...</td>\n",
       "      <td>1183</td>\n",
       "      <td>8389</td>\n",
       "      <td>4544</td>\n",
       "      <td>644</td>\n",
       "      <td>0.648509</td>\n",
       "      <td>0.648080</td>\n",
       "      <td>0.206565</td>\n",
       "      <td>0.647510</td>\n",
       "      <td>0.313212</td>\n",
       "      <td>0.745033</td>\n",
       "    </tr>\n",
       "    <tr>\n",
       "      <th>4</th>\n",
       "      <td>m5</td>\n",
       "      <td>[class_weight=balanced, penalty=l1, C=0.01, so...</td>\n",
       "      <td>1255</td>\n",
       "      <td>8676</td>\n",
       "      <td>4257</td>\n",
       "      <td>572</td>\n",
       "      <td>0.672832</td>\n",
       "      <td>0.678880</td>\n",
       "      <td>0.227685</td>\n",
       "      <td>0.686918</td>\n",
       "      <td>0.342008</td>\n",
       "      <td>0.745033</td>\n",
       "    </tr>\n",
       "    <tr>\n",
       "      <th>5</th>\n",
       "      <td>m6</td>\n",
       "      <td>[class_weight=balanced, penalty=l1, C=0.01, so...</td>\n",
       "      <td>1256</td>\n",
       "      <td>8634</td>\n",
       "      <td>4299</td>\n",
       "      <td>571</td>\n",
       "      <td>0.670054</td>\n",
       "      <td>0.677530</td>\n",
       "      <td>0.226103</td>\n",
       "      <td>0.687466</td>\n",
       "      <td>0.340287</td>\n",
       "      <td>0.745033</td>\n",
       "    </tr>\n",
       "    <tr>\n",
       "      <th>6</th>\n",
       "      <td>m7</td>\n",
       "      <td>[class_weight=balanced, penalty=l1, C=0.1, sol...</td>\n",
       "      <td>1264</td>\n",
       "      <td>8640</td>\n",
       "      <td>4293</td>\n",
       "      <td>563</td>\n",
       "      <td>0.671003</td>\n",
       "      <td>0.679952</td>\n",
       "      <td>0.227461</td>\n",
       "      <td>0.691845</td>\n",
       "      <td>0.342362</td>\n",
       "      <td>0.745033</td>\n",
       "    </tr>\n",
       "    <tr>\n",
       "      <th>7</th>\n",
       "      <td>m8</td>\n",
       "      <td>[class_weight=balanced, penalty=l1, C=0.1, sol...</td>\n",
       "      <td>1264</td>\n",
       "      <td>8627</td>\n",
       "      <td>4306</td>\n",
       "      <td>563</td>\n",
       "      <td>0.670122</td>\n",
       "      <td>0.679449</td>\n",
       "      <td>0.226930</td>\n",
       "      <td>0.691845</td>\n",
       "      <td>0.341760</td>\n",
       "      <td>0.745033</td>\n",
       "    </tr>\n",
       "    <tr>\n",
       "      <th>8</th>\n",
       "      <td>m9</td>\n",
       "      <td>[class_weight=balanced, penalty=l1, C=1, solve...</td>\n",
       "      <td>1264</td>\n",
       "      <td>8643</td>\n",
       "      <td>4290</td>\n",
       "      <td>563</td>\n",
       "      <td>0.671206</td>\n",
       "      <td>0.680067</td>\n",
       "      <td>0.227584</td>\n",
       "      <td>0.691845</td>\n",
       "      <td>0.342501</td>\n",
       "      <td>0.745033</td>\n",
       "    </tr>\n",
       "    <tr>\n",
       "      <th>9</th>\n",
       "      <td>m10</td>\n",
       "      <td>[class_weight=balanced, penalty=l1, C=1, solve...</td>\n",
       "      <td>1266</td>\n",
       "      <td>8640</td>\n",
       "      <td>4293</td>\n",
       "      <td>561</td>\n",
       "      <td>0.671138</td>\n",
       "      <td>0.680499</td>\n",
       "      <td>0.227739</td>\n",
       "      <td>0.692939</td>\n",
       "      <td>0.342811</td>\n",
       "      <td>0.745033</td>\n",
       "    </tr>\n",
       "    <tr>\n",
       "      <th>10</th>\n",
       "      <td>m11</td>\n",
       "      <td>[class_weight=balanced, penalty=l1, C=10, solv...</td>\n",
       "      <td>1267</td>\n",
       "      <td>8634</td>\n",
       "      <td>4299</td>\n",
       "      <td>560</td>\n",
       "      <td>0.670799</td>\n",
       "      <td>0.680541</td>\n",
       "      <td>0.227632</td>\n",
       "      <td>0.693487</td>\n",
       "      <td>0.342757</td>\n",
       "      <td>0.745033</td>\n",
       "    </tr>\n",
       "    <tr>\n",
       "      <th>11</th>\n",
       "      <td>m12</td>\n",
       "      <td>[class_weight=balanced, penalty=l1, C=10, solv...</td>\n",
       "      <td>1267</td>\n",
       "      <td>8633</td>\n",
       "      <td>4300</td>\n",
       "      <td>560</td>\n",
       "      <td>0.670732</td>\n",
       "      <td>0.680502</td>\n",
       "      <td>0.227591</td>\n",
       "      <td>0.693487</td>\n",
       "      <td>0.342710</td>\n",
       "      <td>0.745033</td>\n",
       "    </tr>\n",
       "    <tr>\n",
       "      <th>12</th>\n",
       "      <td>m13</td>\n",
       "      <td>[class_weight=balanced, penalty=l1, C=100, sol...</td>\n",
       "      <td>1267</td>\n",
       "      <td>8635</td>\n",
       "      <td>4298</td>\n",
       "      <td>560</td>\n",
       "      <td>0.670867</td>\n",
       "      <td>0.680579</td>\n",
       "      <td>0.227673</td>\n",
       "      <td>0.693487</td>\n",
       "      <td>0.342803</td>\n",
       "      <td>0.745033</td>\n",
       "    </tr>\n",
       "    <tr>\n",
       "      <th>13</th>\n",
       "      <td>m14</td>\n",
       "      <td>[class_weight=balanced, penalty=l1, C=100, sol...</td>\n",
       "      <td>1267</td>\n",
       "      <td>8634</td>\n",
       "      <td>4299</td>\n",
       "      <td>560</td>\n",
       "      <td>0.670799</td>\n",
       "      <td>0.680541</td>\n",
       "      <td>0.227632</td>\n",
       "      <td>0.693487</td>\n",
       "      <td>0.342757</td>\n",
       "      <td>0.745033</td>\n",
       "    </tr>\n",
       "    <tr>\n",
       "      <th>14</th>\n",
       "      <td>m15</td>\n",
       "      <td>[class_weight=balanced, penalty=l2, C=0.001, s...</td>\n",
       "      <td>1257</td>\n",
       "      <td>8644</td>\n",
       "      <td>4289</td>\n",
       "      <td>570</td>\n",
       "      <td>0.670799</td>\n",
       "      <td>0.678190</td>\n",
       "      <td>0.226650</td>\n",
       "      <td>0.688013</td>\n",
       "      <td>0.340974</td>\n",
       "      <td>0.745033</td>\n",
       "    </tr>\n",
       "    <tr>\n",
       "      <th>15</th>\n",
       "      <td>m16</td>\n",
       "      <td>[class_weight=balanced, penalty=l2, C=0.001, s...</td>\n",
       "      <td>1257</td>\n",
       "      <td>8644</td>\n",
       "      <td>4289</td>\n",
       "      <td>570</td>\n",
       "      <td>0.670799</td>\n",
       "      <td>0.678190</td>\n",
       "      <td>0.226650</td>\n",
       "      <td>0.688013</td>\n",
       "      <td>0.340974</td>\n",
       "      <td>0.745033</td>\n",
       "    </tr>\n",
       "    <tr>\n",
       "      <th>16</th>\n",
       "      <td>m17</td>\n",
       "      <td>[class_weight=balanced, penalty=l2, C=0.001, s...</td>\n",
       "      <td>1257</td>\n",
       "      <td>8644</td>\n",
       "      <td>4289</td>\n",
       "      <td>570</td>\n",
       "      <td>0.670799</td>\n",
       "      <td>0.678190</td>\n",
       "      <td>0.226650</td>\n",
       "      <td>0.688013</td>\n",
       "      <td>0.340974</td>\n",
       "      <td>0.745033</td>\n",
       "    </tr>\n",
       "    <tr>\n",
       "      <th>17</th>\n",
       "      <td>m18</td>\n",
       "      <td>[class_weight=balanced, penalty=l2, C=0.001, s...</td>\n",
       "      <td>1259</td>\n",
       "      <td>8642</td>\n",
       "      <td>4291</td>\n",
       "      <td>568</td>\n",
       "      <td>0.670799</td>\n",
       "      <td>0.678660</td>\n",
       "      <td>0.226847</td>\n",
       "      <td>0.689108</td>\n",
       "      <td>0.341331</td>\n",
       "      <td>0.745033</td>\n",
       "    </tr>\n",
       "    <tr>\n",
       "      <th>18</th>\n",
       "      <td>m19</td>\n",
       "      <td>[class_weight=balanced, penalty=l2, C=0.01, so...</td>\n",
       "      <td>1264</td>\n",
       "      <td>8624</td>\n",
       "      <td>4309</td>\n",
       "      <td>563</td>\n",
       "      <td>0.669919</td>\n",
       "      <td>0.679333</td>\n",
       "      <td>0.226808</td>\n",
       "      <td>0.691845</td>\n",
       "      <td>0.341622</td>\n",
       "      <td>0.745033</td>\n",
       "    </tr>\n",
       "    <tr>\n",
       "      <th>19</th>\n",
       "      <td>m20</td>\n",
       "      <td>[class_weight=balanced, penalty=l2, C=0.01, so...</td>\n",
       "      <td>1264</td>\n",
       "      <td>8626</td>\n",
       "      <td>4307</td>\n",
       "      <td>563</td>\n",
       "      <td>0.670054</td>\n",
       "      <td>0.679410</td>\n",
       "      <td>0.226889</td>\n",
       "      <td>0.691845</td>\n",
       "      <td>0.341714</td>\n",
       "      <td>0.745033</td>\n",
       "    </tr>\n",
       "    <tr>\n",
       "      <th>20</th>\n",
       "      <td>m21</td>\n",
       "      <td>[class_weight=balanced, penalty=l2, C=0.01, so...</td>\n",
       "      <td>1264</td>\n",
       "      <td>8626</td>\n",
       "      <td>4307</td>\n",
       "      <td>563</td>\n",
       "      <td>0.670054</td>\n",
       "      <td>0.679410</td>\n",
       "      <td>0.226889</td>\n",
       "      <td>0.691845</td>\n",
       "      <td>0.341714</td>\n",
       "      <td>0.745033</td>\n",
       "    </tr>\n",
       "    <tr>\n",
       "      <th>21</th>\n",
       "      <td>m22</td>\n",
       "      <td>[class_weight=balanced, penalty=l2, C=0.01, so...</td>\n",
       "      <td>1264</td>\n",
       "      <td>8628</td>\n",
       "      <td>4305</td>\n",
       "      <td>563</td>\n",
       "      <td>0.670190</td>\n",
       "      <td>0.679488</td>\n",
       "      <td>0.226971</td>\n",
       "      <td>0.691845</td>\n",
       "      <td>0.341806</td>\n",
       "      <td>0.745033</td>\n",
       "    </tr>\n",
       "    <tr>\n",
       "      <th>22</th>\n",
       "      <td>m23</td>\n",
       "      <td>[class_weight=balanced, penalty=l2, C=0.1, sol...</td>\n",
       "      <td>1266</td>\n",
       "      <td>8636</td>\n",
       "      <td>4297</td>\n",
       "      <td>561</td>\n",
       "      <td>0.670867</td>\n",
       "      <td>0.680344</td>\n",
       "      <td>0.227575</td>\n",
       "      <td>0.692939</td>\n",
       "      <td>0.342625</td>\n",
       "      <td>0.745033</td>\n",
       "    </tr>\n",
       "    <tr>\n",
       "      <th>23</th>\n",
       "      <td>m24</td>\n",
       "      <td>[class_weight=balanced, penalty=l2, C=0.1, sol...</td>\n",
       "      <td>1267</td>\n",
       "      <td>8637</td>\n",
       "      <td>4296</td>\n",
       "      <td>560</td>\n",
       "      <td>0.671003</td>\n",
       "      <td>0.680657</td>\n",
       "      <td>0.227755</td>\n",
       "      <td>0.693487</td>\n",
       "      <td>0.342896</td>\n",
       "      <td>0.745033</td>\n",
       "    </tr>\n",
       "    <tr>\n",
       "      <th>24</th>\n",
       "      <td>m25</td>\n",
       "      <td>[class_weight=balanced, penalty=l2, C=0.1, sol...</td>\n",
       "      <td>1266</td>\n",
       "      <td>8635</td>\n",
       "      <td>4298</td>\n",
       "      <td>561</td>\n",
       "      <td>0.670799</td>\n",
       "      <td>0.680306</td>\n",
       "      <td>0.227534</td>\n",
       "      <td>0.692939</td>\n",
       "      <td>0.342579</td>\n",
       "      <td>0.745033</td>\n",
       "    </tr>\n",
       "    <tr>\n",
       "      <th>25</th>\n",
       "      <td>m26</td>\n",
       "      <td>[class_weight=balanced, penalty=l2, C=0.1, sol...</td>\n",
       "      <td>1266</td>\n",
       "      <td>8637</td>\n",
       "      <td>4296</td>\n",
       "      <td>561</td>\n",
       "      <td>0.670935</td>\n",
       "      <td>0.680383</td>\n",
       "      <td>0.227616</td>\n",
       "      <td>0.692939</td>\n",
       "      <td>0.342672</td>\n",
       "      <td>0.745033</td>\n",
       "    </tr>\n",
       "    <tr>\n",
       "      <th>26</th>\n",
       "      <td>m27</td>\n",
       "      <td>[class_weight=balanced, penalty=l2, C=1, solve...</td>\n",
       "      <td>1267</td>\n",
       "      <td>8633</td>\n",
       "      <td>4300</td>\n",
       "      <td>560</td>\n",
       "      <td>0.670732</td>\n",
       "      <td>0.680502</td>\n",
       "      <td>0.227591</td>\n",
       "      <td>0.693487</td>\n",
       "      <td>0.342710</td>\n",
       "      <td>0.745033</td>\n",
       "    </tr>\n",
       "    <tr>\n",
       "      <th>27</th>\n",
       "      <td>m28</td>\n",
       "      <td>[class_weight=balanced, penalty=l2, C=1, solve...</td>\n",
       "      <td>1267</td>\n",
       "      <td>8637</td>\n",
       "      <td>4296</td>\n",
       "      <td>560</td>\n",
       "      <td>0.671003</td>\n",
       "      <td>0.680657</td>\n",
       "      <td>0.227755</td>\n",
       "      <td>0.693487</td>\n",
       "      <td>0.342896</td>\n",
       "      <td>0.745033</td>\n",
       "    </tr>\n",
       "    <tr>\n",
       "      <th>28</th>\n",
       "      <td>m29</td>\n",
       "      <td>[class_weight=balanced, penalty=l2, C=1, solve...</td>\n",
       "      <td>1267</td>\n",
       "      <td>8632</td>\n",
       "      <td>4301</td>\n",
       "      <td>560</td>\n",
       "      <td>0.670664</td>\n",
       "      <td>0.680463</td>\n",
       "      <td>0.227550</td>\n",
       "      <td>0.693487</td>\n",
       "      <td>0.342664</td>\n",
       "      <td>0.745033</td>\n",
       "    </tr>\n",
       "    <tr>\n",
       "      <th>29</th>\n",
       "      <td>m30</td>\n",
       "      <td>[class_weight=balanced, penalty=l2, C=1, solve...</td>\n",
       "      <td>1267</td>\n",
       "      <td>8632</td>\n",
       "      <td>4301</td>\n",
       "      <td>560</td>\n",
       "      <td>0.670664</td>\n",
       "      <td>0.680463</td>\n",
       "      <td>0.227550</td>\n",
       "      <td>0.693487</td>\n",
       "      <td>0.342664</td>\n",
       "      <td>0.745033</td>\n",
       "    </tr>\n",
       "    <tr>\n",
       "      <th>30</th>\n",
       "      <td>m31</td>\n",
       "      <td>[class_weight=balanced, penalty=l2, C=10, solv...</td>\n",
       "      <td>1267</td>\n",
       "      <td>8633</td>\n",
       "      <td>4300</td>\n",
       "      <td>560</td>\n",
       "      <td>0.670732</td>\n",
       "      <td>0.680502</td>\n",
       "      <td>0.227591</td>\n",
       "      <td>0.693487</td>\n",
       "      <td>0.342710</td>\n",
       "      <td>0.745033</td>\n",
       "    </tr>\n",
       "    <tr>\n",
       "      <th>31</th>\n",
       "      <td>m32</td>\n",
       "      <td>[class_weight=balanced, penalty=l2, C=10, solv...</td>\n",
       "      <td>1267</td>\n",
       "      <td>8632</td>\n",
       "      <td>4301</td>\n",
       "      <td>560</td>\n",
       "      <td>0.670664</td>\n",
       "      <td>0.680463</td>\n",
       "      <td>0.227550</td>\n",
       "      <td>0.693487</td>\n",
       "      <td>0.342664</td>\n",
       "      <td>0.745033</td>\n",
       "    </tr>\n",
       "    <tr>\n",
       "      <th>32</th>\n",
       "      <td>m33</td>\n",
       "      <td>[class_weight=balanced, penalty=l2, C=10, solv...</td>\n",
       "      <td>1267</td>\n",
       "      <td>8636</td>\n",
       "      <td>4297</td>\n",
       "      <td>560</td>\n",
       "      <td>0.670935</td>\n",
       "      <td>0.680618</td>\n",
       "      <td>0.227714</td>\n",
       "      <td>0.693487</td>\n",
       "      <td>0.342849</td>\n",
       "      <td>0.745033</td>\n",
       "    </tr>\n",
       "    <tr>\n",
       "      <th>33</th>\n",
       "      <td>m34</td>\n",
       "      <td>[class_weight=balanced, penalty=l2, C=10, solv...</td>\n",
       "      <td>1267</td>\n",
       "      <td>8634</td>\n",
       "      <td>4299</td>\n",
       "      <td>560</td>\n",
       "      <td>0.670799</td>\n",
       "      <td>0.680541</td>\n",
       "      <td>0.227632</td>\n",
       "      <td>0.693487</td>\n",
       "      <td>0.342757</td>\n",
       "      <td>0.745033</td>\n",
       "    </tr>\n",
       "    <tr>\n",
       "      <th>34</th>\n",
       "      <td>m35</td>\n",
       "      <td>[class_weight=balanced, penalty=l2, C=100, sol...</td>\n",
       "      <td>1267</td>\n",
       "      <td>8633</td>\n",
       "      <td>4300</td>\n",
       "      <td>560</td>\n",
       "      <td>0.670732</td>\n",
       "      <td>0.680502</td>\n",
       "      <td>0.227591</td>\n",
       "      <td>0.693487</td>\n",
       "      <td>0.342710</td>\n",
       "      <td>0.745033</td>\n",
       "    </tr>\n",
       "    <tr>\n",
       "      <th>35</th>\n",
       "      <td>m36</td>\n",
       "      <td>[class_weight=balanced, penalty=l2, C=100, sol...</td>\n",
       "      <td>1266</td>\n",
       "      <td>8633</td>\n",
       "      <td>4300</td>\n",
       "      <td>561</td>\n",
       "      <td>0.670664</td>\n",
       "      <td>0.680228</td>\n",
       "      <td>0.227452</td>\n",
       "      <td>0.692939</td>\n",
       "      <td>0.342486</td>\n",
       "      <td>0.745033</td>\n",
       "    </tr>\n",
       "    <tr>\n",
       "      <th>36</th>\n",
       "      <td>m37</td>\n",
       "      <td>[class_weight=balanced, penalty=l2, C=100, sol...</td>\n",
       "      <td>1267</td>\n",
       "      <td>8636</td>\n",
       "      <td>4297</td>\n",
       "      <td>560</td>\n",
       "      <td>0.670935</td>\n",
       "      <td>0.680618</td>\n",
       "      <td>0.227714</td>\n",
       "      <td>0.693487</td>\n",
       "      <td>0.342849</td>\n",
       "      <td>0.745033</td>\n",
       "    </tr>\n",
       "    <tr>\n",
       "      <th>37</th>\n",
       "      <td>m38</td>\n",
       "      <td>[class_weight=balanced, penalty=l2, C=100, sol...</td>\n",
       "      <td>1267</td>\n",
       "      <td>8633</td>\n",
       "      <td>4300</td>\n",
       "      <td>560</td>\n",
       "      <td>0.670732</td>\n",
       "      <td>0.680502</td>\n",
       "      <td>0.227591</td>\n",
       "      <td>0.693487</td>\n",
       "      <td>0.342710</td>\n",
       "      <td>0.745033</td>\n",
       "    </tr>\n",
       "  </tbody>\n",
       "</table>\n",
       "</div>"
      ],
      "text/plain": [
       "   model                                              param    TP     TN  \\\n",
       "0     m1                                                 []    39  12865   \n",
       "1     m2                            [class_weight=balanced]  1267   8637   \n",
       "2     m3  [class_weight=balanced, penalty=l1, C=0.001, s...  1174   8698   \n",
       "3     m4  [class_weight=balanced, penalty=l1, C=0.001, s...  1183   8389   \n",
       "4     m5  [class_weight=balanced, penalty=l1, C=0.01, so...  1255   8676   \n",
       "5     m6  [class_weight=balanced, penalty=l1, C=0.01, so...  1256   8634   \n",
       "6     m7  [class_weight=balanced, penalty=l1, C=0.1, sol...  1264   8640   \n",
       "7     m8  [class_weight=balanced, penalty=l1, C=0.1, sol...  1264   8627   \n",
       "8     m9  [class_weight=balanced, penalty=l1, C=1, solve...  1264   8643   \n",
       "9    m10  [class_weight=balanced, penalty=l1, C=1, solve...  1266   8640   \n",
       "10   m11  [class_weight=balanced, penalty=l1, C=10, solv...  1267   8634   \n",
       "11   m12  [class_weight=balanced, penalty=l1, C=10, solv...  1267   8633   \n",
       "12   m13  [class_weight=balanced, penalty=l1, C=100, sol...  1267   8635   \n",
       "13   m14  [class_weight=balanced, penalty=l1, C=100, sol...  1267   8634   \n",
       "14   m15  [class_weight=balanced, penalty=l2, C=0.001, s...  1257   8644   \n",
       "15   m16  [class_weight=balanced, penalty=l2, C=0.001, s...  1257   8644   \n",
       "16   m17  [class_weight=balanced, penalty=l2, C=0.001, s...  1257   8644   \n",
       "17   m18  [class_weight=balanced, penalty=l2, C=0.001, s...  1259   8642   \n",
       "18   m19  [class_weight=balanced, penalty=l2, C=0.01, so...  1264   8624   \n",
       "19   m20  [class_weight=balanced, penalty=l2, C=0.01, so...  1264   8626   \n",
       "20   m21  [class_weight=balanced, penalty=l2, C=0.01, so...  1264   8626   \n",
       "21   m22  [class_weight=balanced, penalty=l2, C=0.01, so...  1264   8628   \n",
       "22   m23  [class_weight=balanced, penalty=l2, C=0.1, sol...  1266   8636   \n",
       "23   m24  [class_weight=balanced, penalty=l2, C=0.1, sol...  1267   8637   \n",
       "24   m25  [class_weight=balanced, penalty=l2, C=0.1, sol...  1266   8635   \n",
       "25   m26  [class_weight=balanced, penalty=l2, C=0.1, sol...  1266   8637   \n",
       "26   m27  [class_weight=balanced, penalty=l2, C=1, solve...  1267   8633   \n",
       "27   m28  [class_weight=balanced, penalty=l2, C=1, solve...  1267   8637   \n",
       "28   m29  [class_weight=balanced, penalty=l2, C=1, solve...  1267   8632   \n",
       "29   m30  [class_weight=balanced, penalty=l2, C=1, solve...  1267   8632   \n",
       "30   m31  [class_weight=balanced, penalty=l2, C=10, solv...  1267   8633   \n",
       "31   m32  [class_weight=balanced, penalty=l2, C=10, solv...  1267   8632   \n",
       "32   m33  [class_weight=balanced, penalty=l2, C=10, solv...  1267   8636   \n",
       "33   m34  [class_weight=balanced, penalty=l2, C=10, solv...  1267   8634   \n",
       "34   m35  [class_weight=balanced, penalty=l2, C=100, sol...  1267   8633   \n",
       "35   m36  [class_weight=balanced, penalty=l2, C=100, sol...  1266   8633   \n",
       "36   m37  [class_weight=balanced, penalty=l2, C=100, sol...  1267   8636   \n",
       "37   m38  [class_weight=balanced, penalty=l2, C=100, sol...  1267   8633   \n",
       "\n",
       "      FP    FN  accuracy  balanced_accuracy  precision    recall        f1  \\\n",
       "0     68  1788  0.874255           0.508044   0.364486  0.021346  0.040331   \n",
       "1   4296   560  0.671003           0.680657   0.227755  0.693487  0.342896   \n",
       "2   4235   653  0.668835           0.657563   0.217046  0.642583  0.324489   \n",
       "3   4544   644  0.648509           0.648080   0.206565  0.647510  0.313212   \n",
       "4   4257   572  0.672832           0.678880   0.227685  0.686918  0.342008   \n",
       "5   4299   571  0.670054           0.677530   0.226103  0.687466  0.340287   \n",
       "6   4293   563  0.671003           0.679952   0.227461  0.691845  0.342362   \n",
       "7   4306   563  0.670122           0.679449   0.226930  0.691845  0.341760   \n",
       "8   4290   563  0.671206           0.680067   0.227584  0.691845  0.342501   \n",
       "9   4293   561  0.671138           0.680499   0.227739  0.692939  0.342811   \n",
       "10  4299   560  0.670799           0.680541   0.227632  0.693487  0.342757   \n",
       "11  4300   560  0.670732           0.680502   0.227591  0.693487  0.342710   \n",
       "12  4298   560  0.670867           0.680579   0.227673  0.693487  0.342803   \n",
       "13  4299   560  0.670799           0.680541   0.227632  0.693487  0.342757   \n",
       "14  4289   570  0.670799           0.678190   0.226650  0.688013  0.340974   \n",
       "15  4289   570  0.670799           0.678190   0.226650  0.688013  0.340974   \n",
       "16  4289   570  0.670799           0.678190   0.226650  0.688013  0.340974   \n",
       "17  4291   568  0.670799           0.678660   0.226847  0.689108  0.341331   \n",
       "18  4309   563  0.669919           0.679333   0.226808  0.691845  0.341622   \n",
       "19  4307   563  0.670054           0.679410   0.226889  0.691845  0.341714   \n",
       "20  4307   563  0.670054           0.679410   0.226889  0.691845  0.341714   \n",
       "21  4305   563  0.670190           0.679488   0.226971  0.691845  0.341806   \n",
       "22  4297   561  0.670867           0.680344   0.227575  0.692939  0.342625   \n",
       "23  4296   560  0.671003           0.680657   0.227755  0.693487  0.342896   \n",
       "24  4298   561  0.670799           0.680306   0.227534  0.692939  0.342579   \n",
       "25  4296   561  0.670935           0.680383   0.227616  0.692939  0.342672   \n",
       "26  4300   560  0.670732           0.680502   0.227591  0.693487  0.342710   \n",
       "27  4296   560  0.671003           0.680657   0.227755  0.693487  0.342896   \n",
       "28  4301   560  0.670664           0.680463   0.227550  0.693487  0.342664   \n",
       "29  4301   560  0.670664           0.680463   0.227550  0.693487  0.342664   \n",
       "30  4300   560  0.670732           0.680502   0.227591  0.693487  0.342710   \n",
       "31  4301   560  0.670664           0.680463   0.227550  0.693487  0.342664   \n",
       "32  4297   560  0.670935           0.680618   0.227714  0.693487  0.342849   \n",
       "33  4299   560  0.670799           0.680541   0.227632  0.693487  0.342757   \n",
       "34  4300   560  0.670732           0.680502   0.227591  0.693487  0.342710   \n",
       "35  4300   561  0.670664           0.680228   0.227452  0.692939  0.342486   \n",
       "36  4297   560  0.670935           0.680618   0.227714  0.693487  0.342849   \n",
       "37  4300   560  0.670732           0.680502   0.227591  0.693487  0.342710   \n",
       "\n",
       "     roc_auc  \n",
       "0   0.745033  \n",
       "1   0.745033  \n",
       "2   0.745033  \n",
       "3   0.745033  \n",
       "4   0.745033  \n",
       "5   0.745033  \n",
       "6   0.745033  \n",
       "7   0.745033  \n",
       "8   0.745033  \n",
       "9   0.745033  \n",
       "10  0.745033  \n",
       "11  0.745033  \n",
       "12  0.745033  \n",
       "13  0.745033  \n",
       "14  0.745033  \n",
       "15  0.745033  \n",
       "16  0.745033  \n",
       "17  0.745033  \n",
       "18  0.745033  \n",
       "19  0.745033  \n",
       "20  0.745033  \n",
       "21  0.745033  \n",
       "22  0.745033  \n",
       "23  0.745033  \n",
       "24  0.745033  \n",
       "25  0.745033  \n",
       "26  0.745033  \n",
       "27  0.745033  \n",
       "28  0.745033  \n",
       "29  0.745033  \n",
       "30  0.745033  \n",
       "31  0.745033  \n",
       "32  0.745033  \n",
       "33  0.745033  \n",
       "34  0.745033  \n",
       "35  0.745033  \n",
       "36  0.745033  \n",
       "37  0.745033  "
      ]
     },
     "execution_count": 82,
     "metadata": {},
     "output_type": "execute_result"
    }
   ],
   "source": [
    "# Видно, что добавление регуляризации типа l1 ничего особо не меняет.\n",
    "# Попробуем то же самое сделать для регуляризации типа l2\n",
    "\n",
    "arr_C = [0.001, 0.01, 0.1, 1, 10, 100]\n",
    "arr_solver = ['newton-cg', 'lbfgs', 'sag', 'saga']\n",
    "i = 15\n",
    "\n",
    "for C_val in arr_C:\n",
    "    for solver_val in arr_solver:\n",
    "        model = LogisticRegression(C=C_val, \n",
    "                                   penalty='l2', \n",
    "                                   class_weight='balanced', \n",
    "                                   solver=solver_val, \n",
    "                                   random_state=RANDOM_SEED,\n",
    "                                   max_iter=MAX_ITER)\n",
    "\n",
    "        model.fit(X_train, y_train)\n",
    "        y_pred = model.predict(X_test)\n",
    "        probs = model.predict_proba(X_test)\n",
    "        probs = probs[:,1]\n",
    "        \n",
    "        metrics = add_model_metrics(metrics, 'm' + str(i), \n",
    "                         ['class_weight=balanced', 'penalty=l2', 'C='+str(C_val), 'solver='+ str(solver_val)], \n",
    "                         y_test, y_pred, y_pred_prob)\n",
    "        \n",
    "        i += 1\n",
    "\n",
    "metrics"
   ]
  },
  {
   "cell_type": "code",
   "execution_count": 83,
   "metadata": {
    "execution": {
     "iopub.execute_input": "2020-12-22T20:00:18.958457Z",
     "iopub.status.busy": "2020-12-22T20:00:18.957498Z",
     "iopub.status.idle": "2020-12-22T20:00:18.962773Z",
     "shell.execute_reply": "2020-12-22T20:00:18.962215Z"
    },
    "papermill": {
     "duration": 0.11802,
     "end_time": "2020-12-22T20:00:18.962881",
     "exception": false,
     "start_time": "2020-12-22T20:00:18.844861",
     "status": "completed"
    },
    "tags": []
   },
   "outputs": [
    {
     "data": {
      "image/png": "[encoded data removed]",
      "text/plain": [
       "<Figure size 432x288 with 1 Axes>"
      ]
     },
     "metadata": {
      "needs_background": "light"
     },
     "output_type": "display_data"
    }
   ],
   "source": [
    "# Регуляризация типа l2 так же особо не повлияла, в итоге можно просто пользоваться моделью 2 без регуляризации\n",
    "# Убедимся в этом, построив валидационную кривую для параметров, которые нашли через GridSearch\n",
    "pipe_lr = Pipeline([('scl', StandardScaler()),\n",
    "                    ('clf', LogisticRegression(class_weight='balanced',\n",
    "                                               penalty='l2',\n",
    "                                               solver = 'lbfgs',\n",
    "                                               random_state=RANDOM_SEED, \n",
    "                                               max_iter=MAX_ITER))])\n",
    "\n",
    "param_range = [0.001, 0.01, 0.1, 1.0, 10]\n",
    "train_scores, test_scores = validation_curve(\n",
    "                estimator=pipe_lr, \n",
    "                X=X_train, \n",
    "                y=y_train, \n",
    "                param_name='clf__C', \n",
    "                param_range=param_range,\n",
    "                cv=10)\n",
    "\n",
    "train_mean = np.mean(train_scores, axis=1)\n",
    "train_std = np.std(train_scores, axis=1)\n",
    "test_mean = np.mean(test_scores, axis=1)\n",
    "test_std = np.std(test_scores, axis=1)\n",
    "\n",
    "plt.plot(param_range, train_mean, \n",
    "         color='blue', marker='o', \n",
    "         markersize=5, label='Тренировочная Accuracy')\n",
    "\n",
    "plt.fill_between(param_range, train_mean + train_std,\n",
    "                 train_mean - train_std, alpha=0.15,\n",
    "                 color='blue')\n",
    "\n",
    "plt.plot(param_range, test_mean, \n",
    "         color='green', linestyle='--', \n",
    "         marker='s', markersize=5, \n",
    "         label='Валидационная Accuracy')\n",
    "\n",
    "plt.fill_between(param_range, \n",
    "                 test_mean + test_std,\n",
    "                 test_mean - test_std, \n",
    "                 alpha=0.15, color='green')\n",
    "\n",
    "plt.grid()\n",
    "plt.xscale('log')\n",
    "plt.legend(loc='lower right')\n",
    "plt.xlabel('Параметр C')\n",
    "plt.ylabel('Accuracy')\n",
    "\n",
    "plt.show()"
   ]
  },
  {
   "cell_type": "markdown",
   "metadata": {},
   "source": [
    "По графику видно, что параметр C и вообще регуляризация не влияют поведение модели"
   ]
  },
  {
   "cell_type": "code",
   "execution_count": 84,
   "metadata": {
    "execution": {
     "iopub.execute_input": "2020-12-22T20:00:19.190922Z",
     "iopub.status.busy": "2020-12-22T20:00:19.190302Z",
     "iopub.status.idle": "2020-12-22T20:00:19.193042Z",
     "shell.execute_reply": "2020-12-22T20:00:19.192592Z"
    },
    "papermill": {
     "duration": 0.118132,
     "end_time": "2020-12-22T20:00:19.193145",
     "exception": false,
     "start_time": "2020-12-22T20:00:19.075013",
     "status": "completed"
    },
    "tags": []
   },
   "outputs": [
    {
     "data": {
      "image/png": "[encoded data removed]",
      "text/plain": [
       "<Figure size 432x288 with 1 Axes>"
      ]
     },
     "metadata": {
      "needs_background": "light"
     },
     "output_type": "display_data"
    }
   ],
   "source": [
    "# И построим обучающую кривую для проверки смещения и разброса модели\n",
    "pipe_lr = Pipeline([('scl', StandardScaler()),\n",
    "                    ('clf', LogisticRegression(class_weight='balanced',\n",
    "                                               penalty='l2',\n",
    "                                               solver = 'lbfgs',\n",
    "                                               random_state=RANDOM_SEED, \n",
    "                                               max_iter=MAX_ITER))])\n",
    "\n",
    "train_sizes, train_scores, test_scores =\\\n",
    "                learning_curve(estimator=pipe_lr,\n",
    "                               X=X_train,\n",
    "                               y=y_train,\n",
    "                               train_sizes=np.linspace(0.1, 1.0, 10),\n",
    "                               cv=10,\n",
    "                               n_jobs=1)\n",
    "\n",
    "train_mean = np.mean(train_scores, axis=1)\n",
    "train_std = np.std(train_scores, axis=1)\n",
    "test_mean = np.mean(test_scores, axis=1)\n",
    "test_std = np.std(test_scores, axis=1)\n",
    "\n",
    "plt.plot(train_sizes, train_mean,\n",
    "         color='blue', marker='o',\n",
    "         markersize=5, label='Тренировочная Accuracy')\n",
    "\n",
    "plt.fill_between(train_sizes,\n",
    "                 train_mean + train_std,\n",
    "                 train_mean - train_std,\n",
    "                 alpha=0.15, color='blue')\n",
    "\n",
    "plt.plot(train_sizes, test_mean,\n",
    "         color='green', linestyle='--',\n",
    "         marker='s', markersize=5,\n",
    "         label='Валидационная Accuracy')\n",
    "\n",
    "plt.fill_between(train_sizes,\n",
    "                 test_mean + test_std,\n",
    "                 test_mean - test_std,\n",
    "                 alpha=0.15, color='green')\n",
    "\n",
    "plt.grid()\n",
    "plt.xlabel('Количество тренировочных данных')\n",
    "plt.ylabel('Accuracy')\n",
    "plt.legend(loc='lower right')\n",
    "plt.tight_layout()\n",
    "\n",
    "plt.show()"
   ]
  },
  {
   "cell_type": "markdown",
   "metadata": {
    "papermill": {
     "duration": 0.109368,
     "end_time": "2020-12-22T20:00:19.413200",
     "exception": false,
     "start_time": "2020-12-22T20:00:19.303832",
     "status": "completed"
    },
    "tags": []
   },
   "source": [
    "Две кривые очень неплохо приближаются и, следовательно, модель не имеет смещения. Наблюдается довольно ощутимая дисперсия у валидационных данных, но в целом кривые хорошо сближаются."
   ]
  },
  {
   "cell_type": "markdown",
   "metadata": {
    "papermill": {
     "duration": 0.110076,
     "end_time": "2020-12-22T20:00:19.633650",
     "exception": false,
     "start_time": "2020-12-22T20:00:19.523574",
     "status": "completed"
    },
    "tags": []
   },
   "source": [
    "Вывод: регуляризация не принесла значимых изменений. "
   ]
  },
  {
   "cell_type": "markdown",
   "metadata": {
    "papermill": {
     "duration": 0.110456,
     "end_time": "2020-12-22T20:00:19.856657",
     "exception": false,
     "start_time": "2020-12-22T20:00:19.746201",
     "status": "completed"
    },
    "tags": []
   },
   "source": [
    "## 4.4 Проверка значимости столбцов для модели"
   ]
  },
  {
   "cell_type": "code",
   "execution_count": 85,
   "metadata": {
    "execution": {
     "iopub.execute_input": "2020-12-22T20:00:20.089046Z",
     "iopub.status.busy": "2020-12-22T20:00:20.079907Z",
     "iopub.status.idle": "2020-12-22T20:00:28.674147Z",
     "shell.execute_reply": "2020-12-22T20:00:28.673612Z"
    },
    "papermill": {
     "duration": 8.70628,
     "end_time": "2020-12-22T20:00:28.674263",
     "exception": false,
     "start_time": "2020-12-22T20:00:19.967983",
     "status": "completed"
    },
    "tags": []
   },
   "outputs": [
    {
     "data": {
      "text/html": [
       "<div>\n",
       "<style scoped>\n",
       "    .dataframe tbody tr th:only-of-type {\n",
       "        vertical-align: middle;\n",
       "    }\n",
       "\n",
       "    .dataframe tbody tr th {\n",
       "        vertical-align: top;\n",
       "    }\n",
       "\n",
       "    .dataframe thead th {\n",
       "        text-align: right;\n",
       "    }\n",
       "</style>\n",
       "<table border=\"1\" class=\"dataframe\">\n",
       "  <thead>\n",
       "    <tr style=\"text-align: right;\">\n",
       "      <th></th>\n",
       "      <th>model</th>\n",
       "      <th>param</th>\n",
       "      <th>TP</th>\n",
       "      <th>TN</th>\n",
       "      <th>FP</th>\n",
       "      <th>FN</th>\n",
       "      <th>accuracy</th>\n",
       "      <th>balanced_accuracy</th>\n",
       "      <th>precision</th>\n",
       "      <th>recall</th>\n",
       "      <th>f1</th>\n",
       "      <th>roc_auc</th>\n",
       "    </tr>\n",
       "  </thead>\n",
       "  <tbody>\n",
       "    <tr>\n",
       "      <th>0</th>\n",
       "      <td>m5</td>\n",
       "      <td>[balanced, l2, 1]</td>\n",
       "      <td>1267</td>\n",
       "      <td>8637</td>\n",
       "      <td>4296</td>\n",
       "      <td>560</td>\n",
       "      <td>0.671003</td>\n",
       "      <td>0.680657</td>\n",
       "      <td>0.227755</td>\n",
       "      <td>0.693487</td>\n",
       "      <td>0.342896</td>\n",
       "      <td>0.745033</td>\n",
       "    </tr>\n",
       "  </tbody>\n",
       "</table>\n",
       "</div>"
      ],
      "text/plain": [
       "  model              param    TP    TN    FP   FN  accuracy  \\\n",
       "0    m5  [balanced, l2, 1]  1267  8637  4296  560  0.671003   \n",
       "\n",
       "   balanced_accuracy  precision    recall        f1   roc_auc  \n",
       "0           0.680657   0.227755  0.693487  0.342896  0.745033  "
      ]
     },
     "execution_count": 85,
     "metadata": {},
     "output_type": "execute_result"
    }
   ],
   "source": [
    "# Проверим важность столбцов несколькими способами.\n",
    "# Проверять будем на модели, которую посоветовал поиск.\n",
    "# Но сначала очистим наш накопитель оценок модели и прогоним модель с балансировкой заново\n",
    "metrics = pd.DataFrame(columns=['model','param','TP','TN','FP','FN', \n",
    "                              'accuracy','balanced_accuracy', 'precision','recall','f1','roc_auc'])\n",
    "model5 = LogisticRegression(class_weight='balanced',\n",
    "                            penalty='l2',\n",
    "                            C=1,\n",
    "                            solver = 'lbfgs',\n",
    "                            random_state=RANDOM_SEED, \n",
    "                            max_iter=MAX_ITER)\n",
    "\n",
    "model5.fit(X_train, y_train)\n",
    "\n",
    "y_pred = model5.predict(X_test)\n",
    "\n",
    "probs = model5.predict_proba(X_test)\n",
    "probs = probs[:,1]\n",
    "\n",
    "metrics = add_model_metrics(metrics, 'm5', ['balanced','l2','1'], y_test, y_pred, y_pred_prob)\n",
    "metrics"
   ]
  },
  {
   "cell_type": "code",
   "execution_count": 86,
   "metadata": {
    "execution": {
     "iopub.execute_input": "2020-12-22T20:00:28.912016Z",
     "iopub.status.busy": "2020-12-22T20:00:28.910621Z",
     "iopub.status.idle": "2020-12-22T20:00:30.131418Z",
     "shell.execute_reply": "2020-12-22T20:00:30.132175Z"
    },
    "papermill": {
     "duration": 1.344455,
     "end_time": "2020-12-22T20:00:30.132357",
     "exception": false,
     "start_time": "2020-12-22T20:00:28.787902",
     "status": "completed"
    },
    "tags": []
   },
   "outputs": [
    {
     "data": {
      "text/html": [
       "<div>\n",
       "<style scoped>\n",
       "    .dataframe tbody tr th:only-of-type {\n",
       "        vertical-align: middle;\n",
       "    }\n",
       "\n",
       "    .dataframe tbody tr th {\n",
       "        vertical-align: top;\n",
       "    }\n",
       "\n",
       "    .dataframe thead th {\n",
       "        text-align: right;\n",
       "    }\n",
       "</style>\n",
       "<table border=\"1\" class=\"dataframe\">\n",
       "  <thead>\n",
       "    <tr style=\"text-align: right;\">\n",
       "      <th></th>\n",
       "      <th>model</th>\n",
       "      <th>param</th>\n",
       "      <th>TP</th>\n",
       "      <th>TN</th>\n",
       "      <th>FP</th>\n",
       "      <th>FN</th>\n",
       "      <th>accuracy</th>\n",
       "      <th>balanced_accuracy</th>\n",
       "      <th>precision</th>\n",
       "      <th>recall</th>\n",
       "      <th>f1</th>\n",
       "      <th>roc_auc</th>\n",
       "    </tr>\n",
       "  </thead>\n",
       "  <tbody>\n",
       "    <tr>\n",
       "      <th>0</th>\n",
       "      <td>m5</td>\n",
       "      <td>[balanced, l2, 1]</td>\n",
       "      <td>1267</td>\n",
       "      <td>8637</td>\n",
       "      <td>4296</td>\n",
       "      <td>560</td>\n",
       "      <td>0.671003</td>\n",
       "      <td>0.680657</td>\n",
       "      <td>0.227755</td>\n",
       "      <td>0.693487</td>\n",
       "      <td>0.342896</td>\n",
       "      <td>0.745033</td>\n",
       "    </tr>\n",
       "    <tr>\n",
       "      <th>1</th>\n",
       "      <td>m6</td>\n",
       "      <td>[balanced, l1, 1]</td>\n",
       "      <td>1264</td>\n",
       "      <td>8643</td>\n",
       "      <td>4290</td>\n",
       "      <td>563</td>\n",
       "      <td>0.671206</td>\n",
       "      <td>0.680067</td>\n",
       "      <td>0.227584</td>\n",
       "      <td>0.691845</td>\n",
       "      <td>0.342501</td>\n",
       "      <td>0.745033</td>\n",
       "    </tr>\n",
       "  </tbody>\n",
       "</table>\n",
       "</div>"
      ],
      "text/plain": [
       "  model              param    TP    TN    FP   FN  accuracy  \\\n",
       "0    m5  [balanced, l2, 1]  1267  8637  4296  560  0.671003   \n",
       "1    m6  [balanced, l1, 1]  1264  8643  4290  563  0.671206   \n",
       "\n",
       "   balanced_accuracy  precision    recall        f1   roc_auc  \n",
       "0           0.680657   0.227755  0.693487  0.342896  0.745033  \n",
       "1           0.680067   0.227584  0.691845  0.342501  0.745033  "
      ]
     },
     "execution_count": 86,
     "metadata": {},
     "output_type": "execute_result"
    }
   ],
   "source": [
    "# И добавим для сравнения модель для первого варианта регуляризации\n",
    "model6 = LogisticRegression(class_weight='balanced',\n",
    "                            penalty='l1',\n",
    "                            C=1,\n",
    "                            solver = 'liblinear',\n",
    "                            random_state=RANDOM_SEED, \n",
    "                            max_iter=MAX_ITER)\n",
    "\n",
    "model6.fit(X_train, y_train)\n",
    "\n",
    "y_pred = model6.predict(X_test)\n",
    "\n",
    "probs = model6.predict_proba(X_test)\n",
    "probs = probs[:,1]\n",
    "\n",
    "metrics = add_model_metrics(metrics, 'm6', ['balanced','l1','1'], y_test, y_pred, y_pred_prob)\n",
    "metrics"
   ]
  },
  {
   "cell_type": "markdown",
   "metadata": {
    "papermill": {
     "duration": 0.112489,
     "end_time": "2020-12-22T20:00:30.361153",
     "exception": false,
     "start_time": "2020-12-22T20:00:30.248664",
     "status": "completed"
    },
    "tags": []
   },
   "source": [
    "Модели отличаются не очень сильно."
   ]
  },
  {
   "cell_type": "code",
   "execution_count": 87,
   "metadata": {
    "execution": {
     "iopub.execute_input": "2020-12-22T20:00:30.590992Z",
     "iopub.status.busy": "2020-12-22T20:00:30.590069Z",
     "iopub.status.idle": "2020-12-22T20:00:30.593306Z",
     "shell.execute_reply": "2020-12-22T20:00:30.592730Z"
    },
    "papermill": {
     "duration": 0.120011,
     "end_time": "2020-12-22T20:00:30.593424",
     "exception": false,
     "start_time": "2020-12-22T20:00:30.473413",
     "status": "completed"
    },
    "tags": []
   },
   "outputs": [],
   "source": [
    "col_cnt = len(X_train.columns)"
   ]
  },
  {
   "cell_type": "code",
   "execution_count": 88,
   "metadata": {
    "execution": {
     "iopub.execute_input": "2020-12-22T20:00:30.834318Z",
     "iopub.status.busy": "2020-12-22T20:00:30.833624Z",
     "iopub.status.idle": "2020-12-22T20:00:30.840735Z",
     "shell.execute_reply": "2020-12-22T20:00:30.840244Z"
    },
    "papermill": {
     "duration": 0.134022,
     "end_time": "2020-12-22T20:00:30.840855",
     "exception": false,
     "start_time": "2020-12-22T20:00:30.706833",
     "status": "completed"
    },
    "tags": []
   },
   "outputs": [
    {
     "data": {
      "text/plain": [
       "Series([], Name: coef, dtype: object)"
      ]
     },
     "metadata": {},
     "output_type": "display_data"
    },
    {
     "data": {
      "text/plain": [
       "col\n",
       "app_week_4          0.000436676\n",
       "app_hol               0.0118429\n",
       "income                0.0137842\n",
       "cat_age_0              0.018039\n",
       "edu_2                 0.0184062\n",
       "                       ...     \n",
       "region_rating_80       0.430618\n",
       "work_address_2          0.45688\n",
       "reg_7080               0.500475\n",
       "region_rating_20       0.551482\n",
       "score_bki               0.97218\n",
       "Name: coef, Length: 71, dtype: object"
      ]
     },
     "metadata": {},
     "output_type": "display_data"
    }
   ],
   "source": [
    "# 1 способ:  проверим коэффициенты в построенной модели \n",
    "df_coef = pd.DataFrame(np.hstack((np.array(X_train.columns).reshape(col_cnt,1), \n",
    "                                  model5.coef_.reshape(col_cnt,1))), columns = ['col', 'coef'])\n",
    "df_coef = df_coef.set_index('col')\n",
    "df_coef.coef = np.abs(df_coef.coef)\n",
    "\n",
    "display(df_coef[df_coef.coef==0].coef.sort_values())\n",
    "display(df_coef[df_coef.coef>0].coef.sort_values())"
   ]
  },
  {
   "cell_type": "code",
   "execution_count": 89,
   "metadata": {
    "execution": {
     "iopub.execute_input": "2020-12-22T20:00:31.078734Z",
     "iopub.status.busy": "2020-12-22T20:00:31.078096Z",
     "iopub.status.idle": "2020-12-22T20:00:39.541156Z",
     "shell.execute_reply": "2020-12-22T20:00:39.541730Z"
    },
    "papermill": {
     "duration": 8.587756,
     "end_time": "2020-12-22T20:00:39.541905",
     "exception": false,
     "start_time": "2020-12-22T20:00:30.954149",
     "status": "completed"
    },
    "tags": []
   },
   "outputs": [
    {
     "data": {
      "text/html": [
       "<div>\n",
       "<style scoped>\n",
       "    .dataframe tbody tr th:only-of-type {\n",
       "        vertical-align: middle;\n",
       "    }\n",
       "\n",
       "    .dataframe tbody tr th {\n",
       "        vertical-align: top;\n",
       "    }\n",
       "\n",
       "    .dataframe thead th {\n",
       "        text-align: right;\n",
       "    }\n",
       "</style>\n",
       "<table border=\"1\" class=\"dataframe\">\n",
       "  <thead>\n",
       "    <tr style=\"text-align: right;\">\n",
       "      <th></th>\n",
       "      <th>model</th>\n",
       "      <th>param</th>\n",
       "      <th>TP</th>\n",
       "      <th>TN</th>\n",
       "      <th>FP</th>\n",
       "      <th>FN</th>\n",
       "      <th>accuracy</th>\n",
       "      <th>balanced_accuracy</th>\n",
       "      <th>precision</th>\n",
       "      <th>recall</th>\n",
       "      <th>f1</th>\n",
       "      <th>roc_auc</th>\n",
       "    </tr>\n",
       "  </thead>\n",
       "  <tbody>\n",
       "    <tr>\n",
       "      <th>0</th>\n",
       "      <td>m5</td>\n",
       "      <td>[balanced, l2, 1]</td>\n",
       "      <td>1267</td>\n",
       "      <td>8637</td>\n",
       "      <td>4296</td>\n",
       "      <td>560</td>\n",
       "      <td>0.671003</td>\n",
       "      <td>0.680657</td>\n",
       "      <td>0.227755</td>\n",
       "      <td>0.693487</td>\n",
       "      <td>0.342896</td>\n",
       "      <td>0.745033</td>\n",
       "    </tr>\n",
       "    <tr>\n",
       "      <th>1</th>\n",
       "      <td>m6</td>\n",
       "      <td>[balanced, l1, 1]</td>\n",
       "      <td>1264</td>\n",
       "      <td>8643</td>\n",
       "      <td>4290</td>\n",
       "      <td>563</td>\n",
       "      <td>0.671206</td>\n",
       "      <td>0.680067</td>\n",
       "      <td>0.227584</td>\n",
       "      <td>0.691845</td>\n",
       "      <td>0.342501</td>\n",
       "      <td>0.745033</td>\n",
       "    </tr>\n",
       "    <tr>\n",
       "      <th>2</th>\n",
       "      <td>m5-a</td>\n",
       "      <td>[coeff 0]</td>\n",
       "      <td>1267</td>\n",
       "      <td>8636</td>\n",
       "      <td>4297</td>\n",
       "      <td>560</td>\n",
       "      <td>0.670935</td>\n",
       "      <td>0.680618</td>\n",
       "      <td>0.227714</td>\n",
       "      <td>0.693487</td>\n",
       "      <td>0.342849</td>\n",
       "      <td>0.745033</td>\n",
       "    </tr>\n",
       "  </tbody>\n",
       "</table>\n",
       "</div>"
      ],
      "text/plain": [
       "  model              param    TP    TN    FP   FN  accuracy  \\\n",
       "0    m5  [balanced, l2, 1]  1267  8637  4296  560  0.671003   \n",
       "1    m6  [balanced, l1, 1]  1264  8643  4290  563  0.671206   \n",
       "2  m5-a          [coeff 0]  1267  8636  4297  560  0.670935   \n",
       "\n",
       "   balanced_accuracy  precision    recall        f1   roc_auc  \n",
       "0           0.680657   0.227755  0.693487  0.342896  0.745033  \n",
       "1           0.680067   0.227584  0.691845  0.342501  0.745033  \n",
       "2           0.680618   0.227714  0.693487  0.342849  0.745033  "
      ]
     },
     "execution_count": 89,
     "metadata": {},
     "output_type": "execute_result"
    }
   ],
   "source": [
    "# Отбросим нулевую часть столбцов - на Kaggle они были, но тут почему-то все столбцы имеют коэффициенты > 0\n",
    "\n",
    "# notnull_cols = df_coef[df_coef.coef>0].index - это было на Kaggle. А здесь отбросим столбцы с малыми коэфф.\n",
    "notnull_cols = df_coef[df_coef.coef>0.01].index\n",
    "X_train_1 = X_train[notnull_cols]\n",
    "X_test_1 = X_test[notnull_cols]\n",
    "\n",
    "model5.fit(X_train_1, y_train)\n",
    "\n",
    "y_pred = model5.predict(X_test_1)\n",
    "probs = model5.predict_proba(X_test_1)\n",
    "probs = probs[:,1]\n",
    "\n",
    "metrics = add_model_metrics(metrics, 'm5-a', ['coeff 0'], y_test, y_pred, y_pred_prob)\n",
    "metrics"
   ]
  },
  {
   "cell_type": "code",
   "execution_count": 90,
   "metadata": {
    "execution": {
     "iopub.execute_input": "2020-12-22T20:00:39.793503Z",
     "iopub.status.busy": "2020-12-22T20:00:39.792845Z",
     "iopub.status.idle": "2020-12-22T20:00:43.391078Z",
     "shell.execute_reply": "2020-12-22T20:00:43.391675Z"
    },
    "papermill": {
     "duration": 3.71974,
     "end_time": "2020-12-22T20:00:43.391822",
     "exception": false,
     "start_time": "2020-12-22T20:00:39.672082",
     "status": "completed"
    },
    "tags": []
   },
   "outputs": [
    {
     "name": "stdout",
     "output_type": "stream",
     "text": [
      "Train ROC AUC: mean=0.7499, std=0.0016\n",
      "Test ROC AUC: mean=0.7395, std=0.0141\n"
     ]
    },
    {
     "data": {
      "text/plain": [
       "[<matplotlib.lines.Line2D at 0x19203d1a1c8>]"
      ]
     },
     "execution_count": 90,
     "metadata": {},
     "output_type": "execute_result"
    },
    {
     "data": {
      "image/png": "[encoded data removed]",
      "text/plain": [
       "<Figure size 432x432 with 1 Axes>"
      ]
     },
     "metadata": {
      "needs_background": "light"
     },
     "output_type": "display_data"
    }
   ],
   "source": [
    "# Видно, что отбрасывание нулевых столбцов не изменило модель\n",
    "# Проведем кросс-валидацию этой упрощенной модели\n",
    "temp_vec = cross_validate(model5, X_test_1, y_test, cv=10, scoring='roc_auc', return_train_score=True)\n",
    "\n",
    "arr_test = temp_vec['test_score']\n",
    "arr_train = temp_vec['train_score']\n",
    "\n",
    "print('Train ROC AUC: mean={:0.4f}'.format(np.mean(arr_train)) + \", std={:1.4f}\".format(np.std(arr_train))) \n",
    "print('Test ROC AUC: mean={:0.4f}'.format(np.mean(arr_test)) + \", std={:1.4f}\".format(np.std(arr_test))) \n",
    "\n",
    "plt.figure(figsize=(6, 6))\n",
    "plt.plot(range(10),temp_vec['test_score'])\n",
    "plt.plot(range(10),temp_vec['train_score'])"
   ]
  },
  {
   "cell_type": "markdown",
   "metadata": {
    "papermill": {
     "duration": 0.114344,
     "end_time": "2020-12-22T20:00:43.620297",
     "exception": false,
     "start_time": "2020-12-22T20:00:43.505953",
     "status": "completed"
    },
    "tags": []
   },
   "source": [
    "Разброс на тестовой части по-прежнему большой"
   ]
  },
  {
   "cell_type": "code",
   "execution_count": 91,
   "metadata": {
    "execution": {
     "iopub.execute_input": "2020-12-22T20:00:43.856465Z",
     "iopub.status.busy": "2020-12-22T20:00:43.855536Z",
     "iopub.status.idle": "2020-12-22T20:00:52.569756Z",
     "shell.execute_reply": "2020-12-22T20:00:52.570237Z"
    },
    "papermill": {
     "duration": 8.835346,
     "end_time": "2020-12-22T20:00:52.570400",
     "exception": false,
     "start_time": "2020-12-22T20:00:43.735054",
     "status": "completed"
    },
    "tags": []
   },
   "outputs": [
    {
     "data": {
      "text/html": [
       "<div>\n",
       "<style scoped>\n",
       "    .dataframe tbody tr th:only-of-type {\n",
       "        vertical-align: middle;\n",
       "    }\n",
       "\n",
       "    .dataframe tbody tr th {\n",
       "        vertical-align: top;\n",
       "    }\n",
       "\n",
       "    .dataframe thead th {\n",
       "        text-align: right;\n",
       "    }\n",
       "</style>\n",
       "<table border=\"1\" class=\"dataframe\">\n",
       "  <thead>\n",
       "    <tr style=\"text-align: right;\">\n",
       "      <th></th>\n",
       "      <th>col</th>\n",
       "      <th>important</th>\n",
       "    </tr>\n",
       "  </thead>\n",
       "  <tbody>\n",
       "  </tbody>\n",
       "</table>\n",
       "</div>"
      ],
      "text/plain": [
       "Empty DataFrame\n",
       "Columns: [col, important]\n",
       "Index: []"
      ]
     },
     "execution_count": 91,
     "metadata": {},
     "output_type": "execute_result"
    }
   ],
   "source": [
    "# 2 способ отбора: RFE. Подставим все признаки, которые сейчас есть\n",
    "rfe = RFE(model5, col_cnt)\n",
    "rfe = rfe.fit(X_train, y_train)\n",
    "\n",
    "df_imp = pd.DataFrame(np.hstack((np.array(X_train.columns).reshape(col_cnt,1), \n",
    "                                  rfe.support_.reshape(col_cnt,1))), columns = ['col', 'important'])\n",
    "df_imp[df_imp.important==False]"
   ]
  },
  {
   "cell_type": "markdown",
   "metadata": {
    "papermill": {
     "duration": 0.117799,
     "end_time": "2020-12-22T20:00:52.804709",
     "exception": false,
     "start_time": "2020-12-22T20:00:52.686910",
     "status": "completed"
    },
    "tags": []
   },
   "source": [
    "Все признаки вышли важными. Ничего отбрасывать нельзя"
   ]
  },
  {
   "cell_type": "code",
   "execution_count": 92,
   "metadata": {
    "execution": {
     "iopub.execute_input": "2020-12-22T20:00:53.039266Z",
     "iopub.status.busy": "2020-12-22T20:00:53.038346Z",
     "iopub.status.idle": "2020-12-22T20:01:06.416306Z",
     "shell.execute_reply": "2020-12-22T20:01:06.416752Z"
    },
    "papermill": {
     "duration": 13.4978,
     "end_time": "2020-12-22T20:01:06.416915",
     "exception": false,
     "start_time": "2020-12-22T20:00:52.919115",
     "status": "completed"
    },
    "tags": []
   },
   "outputs": [
    {
     "data": {
      "text/plain": [
       "score_bki           0.083421\n",
       "age                 0.067073\n",
       "income              0.064200\n",
       "bki_request_cnt     0.058857\n",
       "rate                0.057108\n",
       "                      ...   \n",
       "edu_4               0.001659\n",
       "region_rating_20    0.001522\n",
       "home_address_3      0.001392\n",
       "cat_addr_6          0.001203\n",
       "edu_5               0.000300\n",
       "Length: 71, dtype: float64"
      ]
     },
     "execution_count": 92,
     "metadata": {},
     "output_type": "execute_result"
    },
    {
     "data": {
      "image/png": "[encoded data removed]",
      "text/plain": [
       "<Figure size 432x432 with 1 Axes>"
      ]
     },
     "metadata": {
      "needs_background": "light"
     },
     "output_type": "display_data"
    }
   ],
   "source": [
    "# 3 способ отбора: ExtraTreesClassifier. \n",
    "model = ExtraTreesClassifier()\n",
    "model.fit(X_train, y_train)\n",
    "\n",
    "df_importance = pd.DataFrame(np.hstack((np.array(X_train.columns).reshape(col_cnt,1), \n",
    "                                  model.feature_importances_.reshape(col_cnt,1))), columns = ['col', 'imp'])\n",
    "\n",
    "plt.rcParams['figure.figsize'] = (6,6)\n",
    "feat_importances = pd.Series(model.feature_importances_, index=X_train.columns)\n",
    "feat_importances.nlargest(col_cnt).plot(kind='barh')\n",
    "feat_importances.nlargest(col_cnt)"
   ]
  },
  {
   "cell_type": "code",
   "execution_count": 93,
   "metadata": {
    "execution": {
     "iopub.execute_input": "2020-12-22T20:01:06.657220Z",
     "iopub.status.busy": "2020-12-22T20:01:06.656578Z",
     "iopub.status.idle": "2020-12-22T20:01:13.481968Z",
     "shell.execute_reply": "2020-12-22T20:01:13.481323Z"
    },
    "papermill": {
     "duration": 6.947277,
     "end_time": "2020-12-22T20:01:13.482110",
     "exception": false,
     "start_time": "2020-12-22T20:01:06.534833",
     "status": "completed"
    },
    "tags": []
   },
   "outputs": [
    {
     "data": {
      "text/html": [
       "<div>\n",
       "<style scoped>\n",
       "    .dataframe tbody tr th:only-of-type {\n",
       "        vertical-align: middle;\n",
       "    }\n",
       "\n",
       "    .dataframe tbody tr th {\n",
       "        vertical-align: top;\n",
       "    }\n",
       "\n",
       "    .dataframe thead th {\n",
       "        text-align: right;\n",
       "    }\n",
       "</style>\n",
       "<table border=\"1\" class=\"dataframe\">\n",
       "  <thead>\n",
       "    <tr style=\"text-align: right;\">\n",
       "      <th></th>\n",
       "      <th>model</th>\n",
       "      <th>param</th>\n",
       "      <th>TP</th>\n",
       "      <th>TN</th>\n",
       "      <th>FP</th>\n",
       "      <th>FN</th>\n",
       "      <th>accuracy</th>\n",
       "      <th>balanced_accuracy</th>\n",
       "      <th>precision</th>\n",
       "      <th>recall</th>\n",
       "      <th>f1</th>\n",
       "      <th>roc_auc</th>\n",
       "    </tr>\n",
       "  </thead>\n",
       "  <tbody>\n",
       "    <tr>\n",
       "      <th>0</th>\n",
       "      <td>m5</td>\n",
       "      <td>[balanced, l2, 1]</td>\n",
       "      <td>1267</td>\n",
       "      <td>8637</td>\n",
       "      <td>4296</td>\n",
       "      <td>560</td>\n",
       "      <td>0.671003</td>\n",
       "      <td>0.680657</td>\n",
       "      <td>0.227755</td>\n",
       "      <td>0.693487</td>\n",
       "      <td>0.342896</td>\n",
       "      <td>0.745033</td>\n",
       "    </tr>\n",
       "    <tr>\n",
       "      <th>1</th>\n",
       "      <td>m6</td>\n",
       "      <td>[balanced, l1, 1]</td>\n",
       "      <td>1264</td>\n",
       "      <td>8643</td>\n",
       "      <td>4290</td>\n",
       "      <td>563</td>\n",
       "      <td>0.671206</td>\n",
       "      <td>0.680067</td>\n",
       "      <td>0.227584</td>\n",
       "      <td>0.691845</td>\n",
       "      <td>0.342501</td>\n",
       "      <td>0.745033</td>\n",
       "    </tr>\n",
       "    <tr>\n",
       "      <th>2</th>\n",
       "      <td>m5-a</td>\n",
       "      <td>[coeff 0]</td>\n",
       "      <td>1267</td>\n",
       "      <td>8636</td>\n",
       "      <td>4297</td>\n",
       "      <td>560</td>\n",
       "      <td>0.670935</td>\n",
       "      <td>0.680618</td>\n",
       "      <td>0.227714</td>\n",
       "      <td>0.693487</td>\n",
       "      <td>0.342849</td>\n",
       "      <td>0.745033</td>\n",
       "    </tr>\n",
       "    <tr>\n",
       "      <th>3</th>\n",
       "      <td>m5-c</td>\n",
       "      <td>[ETC]</td>\n",
       "      <td>1205</td>\n",
       "      <td>8466</td>\n",
       "      <td>4467</td>\n",
       "      <td>622</td>\n",
       "      <td>0.655217</td>\n",
       "      <td>0.657078</td>\n",
       "      <td>0.212447</td>\n",
       "      <td>0.659551</td>\n",
       "      <td>0.321376</td>\n",
       "      <td>0.745033</td>\n",
       "    </tr>\n",
       "  </tbody>\n",
       "</table>\n",
       "</div>"
      ],
      "text/plain": [
       "  model              param    TP    TN    FP   FN  accuracy  \\\n",
       "0    m5  [balanced, l2, 1]  1267  8637  4296  560  0.671003   \n",
       "1    m6  [balanced, l1, 1]  1264  8643  4290  563  0.671206   \n",
       "2  m5-a          [coeff 0]  1267  8636  4297  560  0.670935   \n",
       "3  m5-c              [ETC]  1205  8466  4467  622  0.655217   \n",
       "\n",
       "   balanced_accuracy  precision    recall        f1   roc_auc  \n",
       "0           0.680657   0.227755  0.693487  0.342896  0.745033  \n",
       "1           0.680067   0.227584  0.691845  0.342501  0.745033  \n",
       "2           0.680618   0.227714  0.693487  0.342849  0.745033  \n",
       "3           0.657078   0.212447  0.659551  0.321376  0.745033  "
      ]
     },
     "metadata": {},
     "output_type": "display_data"
    }
   ],
   "source": [
    "# Попробуем удалить другие столбцы - те, что в ExtraTreesClassifier меньше 0.01\n",
    "imp_cols = feat_importances[feat_importances>0.01].index\n",
    "X_train_3 = X_train[imp_cols]\n",
    "X_test_3 = X_test[imp_cols]\n",
    "\n",
    "model5.fit(X_train_3, y_train)\n",
    "\n",
    "y_pred = model5.predict(X_test_3)\n",
    "probs = model5.predict_proba(X_test_3)\n",
    "probs = probs[:,1]\n",
    "\n",
    "metrics = add_model_metrics(metrics, 'm5-c', ['ETC'], y_test, y_pred, y_pred_prob)\n",
    "display(metrics)"
   ]
  },
  {
   "cell_type": "markdown",
   "metadata": {
    "papermill": {
     "duration": 0.11769,
     "end_time": "2020-12-22T20:01:13.723814",
     "exception": false,
     "start_time": "2020-12-22T20:01:13.606124",
     "status": "completed"
    },
    "tags": []
   },
   "source": [
    "Видно, что удаление этих столбцов ухудшило модель: комплексная метрика f1 уменьшилась"
   ]
  },
  {
   "cell_type": "code",
   "execution_count": 94,
   "metadata": {
    "execution": {
     "iopub.execute_input": "2020-12-22T20:01:13.972252Z",
     "iopub.status.busy": "2020-12-22T20:01:13.971546Z",
     "iopub.status.idle": "2020-12-22T20:01:14.534188Z",
     "shell.execute_reply": "2020-12-22T20:01:14.534774Z"
    },
    "papermill": {
     "duration": 0.690132,
     "end_time": "2020-12-22T20:01:14.534969",
     "exception": false,
     "start_time": "2020-12-22T20:01:13.844837",
     "status": "completed"
    },
    "tags": []
   },
   "outputs": [
    {
     "data": {
      "text/html": [
       "<div>\n",
       "<style scoped>\n",
       "    .dataframe tbody tr th:only-of-type {\n",
       "        vertical-align: middle;\n",
       "    }\n",
       "\n",
       "    .dataframe tbody tr th {\n",
       "        vertical-align: top;\n",
       "    }\n",
       "\n",
       "    .dataframe thead th {\n",
       "        text-align: right;\n",
       "    }\n",
       "</style>\n",
       "<table border=\"1\" class=\"dataframe\">\n",
       "  <thead>\n",
       "    <tr style=\"text-align: right;\">\n",
       "      <th></th>\n",
       "      <th>model</th>\n",
       "      <th>param</th>\n",
       "      <th>TP</th>\n",
       "      <th>TN</th>\n",
       "      <th>FP</th>\n",
       "      <th>FN</th>\n",
       "      <th>accuracy</th>\n",
       "      <th>balanced_accuracy</th>\n",
       "      <th>precision</th>\n",
       "      <th>recall</th>\n",
       "      <th>f1</th>\n",
       "      <th>roc_auc</th>\n",
       "    </tr>\n",
       "  </thead>\n",
       "  <tbody>\n",
       "    <tr>\n",
       "      <th>0</th>\n",
       "      <td>m5</td>\n",
       "      <td>[balanced, l2, 1]</td>\n",
       "      <td>1267</td>\n",
       "      <td>8637</td>\n",
       "      <td>4296</td>\n",
       "      <td>560</td>\n",
       "      <td>0.671003</td>\n",
       "      <td>0.680657</td>\n",
       "      <td>0.227755</td>\n",
       "      <td>0.693487</td>\n",
       "      <td>0.342896</td>\n",
       "      <td>0.745033</td>\n",
       "    </tr>\n",
       "    <tr>\n",
       "      <th>1</th>\n",
       "      <td>m6</td>\n",
       "      <td>[balanced, l1, 1]</td>\n",
       "      <td>1264</td>\n",
       "      <td>8643</td>\n",
       "      <td>4290</td>\n",
       "      <td>563</td>\n",
       "      <td>0.671206</td>\n",
       "      <td>0.680067</td>\n",
       "      <td>0.227584</td>\n",
       "      <td>0.691845</td>\n",
       "      <td>0.342501</td>\n",
       "      <td>0.745033</td>\n",
       "    </tr>\n",
       "    <tr>\n",
       "      <th>2</th>\n",
       "      <td>m5-a</td>\n",
       "      <td>[coeff 0]</td>\n",
       "      <td>1267</td>\n",
       "      <td>8636</td>\n",
       "      <td>4297</td>\n",
       "      <td>560</td>\n",
       "      <td>0.670935</td>\n",
       "      <td>0.680618</td>\n",
       "      <td>0.227714</td>\n",
       "      <td>0.693487</td>\n",
       "      <td>0.342849</td>\n",
       "      <td>0.745033</td>\n",
       "    </tr>\n",
       "    <tr>\n",
       "      <th>3</th>\n",
       "      <td>m5-c</td>\n",
       "      <td>[ETC]</td>\n",
       "      <td>1205</td>\n",
       "      <td>8466</td>\n",
       "      <td>4467</td>\n",
       "      <td>622</td>\n",
       "      <td>0.655217</td>\n",
       "      <td>0.657078</td>\n",
       "      <td>0.212447</td>\n",
       "      <td>0.659551</td>\n",
       "      <td>0.321376</td>\n",
       "      <td>0.745033</td>\n",
       "    </tr>\n",
       "    <tr>\n",
       "      <th>4</th>\n",
       "      <td>m5-d</td>\n",
       "      <td>[PCA]</td>\n",
       "      <td>1214</td>\n",
       "      <td>8584</td>\n",
       "      <td>4349</td>\n",
       "      <td>613</td>\n",
       "      <td>0.663821</td>\n",
       "      <td>0.664103</td>\n",
       "      <td>0.218228</td>\n",
       "      <td>0.664477</td>\n",
       "      <td>0.328552</td>\n",
       "      <td>0.745033</td>\n",
       "    </tr>\n",
       "  </tbody>\n",
       "</table>\n",
       "</div>"
      ],
      "text/plain": [
       "  model              param    TP    TN    FP   FN  accuracy  \\\n",
       "0    m5  [balanced, l2, 1]  1267  8637  4296  560  0.671003   \n",
       "1    m6  [balanced, l1, 1]  1264  8643  4290  563  0.671206   \n",
       "2  m5-a          [coeff 0]  1267  8636  4297  560  0.670935   \n",
       "3  m5-c              [ETC]  1205  8466  4467  622  0.655217   \n",
       "4  m5-d              [PCA]  1214  8584  4349  613  0.663821   \n",
       "\n",
       "   balanced_accuracy  precision    recall        f1   roc_auc  \n",
       "0           0.680657   0.227755  0.693487  0.342896  0.745033  \n",
       "1           0.680067   0.227584  0.691845  0.342501  0.745033  \n",
       "2           0.680618   0.227714  0.693487  0.342849  0.745033  \n",
       "3           0.657078   0.212447  0.659551  0.321376  0.745033  \n",
       "4           0.664103   0.218228  0.664477  0.328552  0.745033  "
      ]
     },
     "metadata": {},
     "output_type": "display_data"
    }
   ],
   "source": [
    "# 4 способ отбора: метод главных компонент. Оставим 20 признаков\n",
    "pca = PCA(n_components=20)\n",
    "X_train_4 = pca.fit_transform(X_train)\n",
    "X_test_4 = pca.transform(X_test)\n",
    "\n",
    "model5.fit(X_train_4, y_train)\n",
    "\n",
    "y_pred = model5.predict(X_test_4)\n",
    "probs = model5.predict_proba(X_test_4)\n",
    "probs = probs[:,1]\n",
    "\n",
    "metrics = add_model_metrics(metrics, 'm5-d', ['PCA'], y_test, y_pred, y_pred_prob)\n",
    "display(metrics)"
   ]
  },
  {
   "cell_type": "markdown",
   "metadata": {
    "papermill": {
     "duration": 0.117703,
     "end_time": "2020-12-22T20:01:14.779149",
     "exception": false,
     "start_time": "2020-12-22T20:01:14.661446",
     "status": "completed"
    },
    "tags": []
   },
   "source": [
    "Видно, что снова метрики f1 и recall ухудшились, но в целом существенно ничего не изменилось"
   ]
  },
  {
   "cell_type": "code",
   "execution_count": 95,
   "metadata": {
    "execution": {
     "iopub.execute_input": "2020-12-22T20:01:15.020395Z",
     "iopub.status.busy": "2020-12-22T20:01:15.019424Z",
     "iopub.status.idle": "2020-12-22T20:01:15.707014Z",
     "shell.execute_reply": "2020-12-22T20:01:15.706384Z"
    },
    "papermill": {
     "duration": 0.80892,
     "end_time": "2020-12-22T20:01:15.707125",
     "exception": false,
     "start_time": "2020-12-22T20:01:14.898205",
     "status": "completed"
    },
    "tags": []
   },
   "outputs": [
    {
     "data": {
      "text/html": [
       "<div>\n",
       "<style scoped>\n",
       "    .dataframe tbody tr th:only-of-type {\n",
       "        vertical-align: middle;\n",
       "    }\n",
       "\n",
       "    .dataframe tbody tr th {\n",
       "        vertical-align: top;\n",
       "    }\n",
       "\n",
       "    .dataframe thead th {\n",
       "        text-align: right;\n",
       "    }\n",
       "</style>\n",
       "<table border=\"1\" class=\"dataframe\">\n",
       "  <thead>\n",
       "    <tr style=\"text-align: right;\">\n",
       "      <th></th>\n",
       "      <th>model</th>\n",
       "      <th>param</th>\n",
       "      <th>TP</th>\n",
       "      <th>TN</th>\n",
       "      <th>FP</th>\n",
       "      <th>FN</th>\n",
       "      <th>accuracy</th>\n",
       "      <th>balanced_accuracy</th>\n",
       "      <th>precision</th>\n",
       "      <th>recall</th>\n",
       "      <th>f1</th>\n",
       "      <th>roc_auc</th>\n",
       "    </tr>\n",
       "  </thead>\n",
       "  <tbody>\n",
       "    <tr>\n",
       "      <th>0</th>\n",
       "      <td>m5</td>\n",
       "      <td>[balanced, l2, 1]</td>\n",
       "      <td>1267</td>\n",
       "      <td>8637</td>\n",
       "      <td>4296</td>\n",
       "      <td>560</td>\n",
       "      <td>0.671003</td>\n",
       "      <td>0.680657</td>\n",
       "      <td>0.227755</td>\n",
       "      <td>0.693487</td>\n",
       "      <td>0.342896</td>\n",
       "      <td>0.745033</td>\n",
       "    </tr>\n",
       "    <tr>\n",
       "      <th>1</th>\n",
       "      <td>m6</td>\n",
       "      <td>[balanced, l1, 1]</td>\n",
       "      <td>1264</td>\n",
       "      <td>8643</td>\n",
       "      <td>4290</td>\n",
       "      <td>563</td>\n",
       "      <td>0.671206</td>\n",
       "      <td>0.680067</td>\n",
       "      <td>0.227584</td>\n",
       "      <td>0.691845</td>\n",
       "      <td>0.342501</td>\n",
       "      <td>0.745033</td>\n",
       "    </tr>\n",
       "    <tr>\n",
       "      <th>2</th>\n",
       "      <td>m5-a</td>\n",
       "      <td>[coeff 0]</td>\n",
       "      <td>1267</td>\n",
       "      <td>8636</td>\n",
       "      <td>4297</td>\n",
       "      <td>560</td>\n",
       "      <td>0.670935</td>\n",
       "      <td>0.680618</td>\n",
       "      <td>0.227714</td>\n",
       "      <td>0.693487</td>\n",
       "      <td>0.342849</td>\n",
       "      <td>0.745033</td>\n",
       "    </tr>\n",
       "    <tr>\n",
       "      <th>3</th>\n",
       "      <td>m5-c</td>\n",
       "      <td>[ETC]</td>\n",
       "      <td>1205</td>\n",
       "      <td>8466</td>\n",
       "      <td>4467</td>\n",
       "      <td>622</td>\n",
       "      <td>0.655217</td>\n",
       "      <td>0.657078</td>\n",
       "      <td>0.212447</td>\n",
       "      <td>0.659551</td>\n",
       "      <td>0.321376</td>\n",
       "      <td>0.745033</td>\n",
       "    </tr>\n",
       "    <tr>\n",
       "      <th>4</th>\n",
       "      <td>m5-d</td>\n",
       "      <td>[PCA]</td>\n",
       "      <td>1214</td>\n",
       "      <td>8584</td>\n",
       "      <td>4349</td>\n",
       "      <td>613</td>\n",
       "      <td>0.663821</td>\n",
       "      <td>0.664103</td>\n",
       "      <td>0.218228</td>\n",
       "      <td>0.664477</td>\n",
       "      <td>0.328552</td>\n",
       "      <td>0.745033</td>\n",
       "    </tr>\n",
       "    <tr>\n",
       "      <th>5</th>\n",
       "      <td>m5-e</td>\n",
       "      <td>[SelectKBest]</td>\n",
       "      <td>1234</td>\n",
       "      <td>8527</td>\n",
       "      <td>4406</td>\n",
       "      <td>593</td>\n",
       "      <td>0.661314</td>\n",
       "      <td>0.667373</td>\n",
       "      <td>0.218794</td>\n",
       "      <td>0.675424</td>\n",
       "      <td>0.330521</td>\n",
       "      <td>0.745033</td>\n",
       "    </tr>\n",
       "  </tbody>\n",
       "</table>\n",
       "</div>"
      ],
      "text/plain": [
       "  model              param    TP    TN    FP   FN  accuracy  \\\n",
       "0    m5  [balanced, l2, 1]  1267  8637  4296  560  0.671003   \n",
       "1    m6  [balanced, l1, 1]  1264  8643  4290  563  0.671206   \n",
       "2  m5-a          [coeff 0]  1267  8636  4297  560  0.670935   \n",
       "3  m5-c              [ETC]  1205  8466  4467  622  0.655217   \n",
       "4  m5-d              [PCA]  1214  8584  4349  613  0.663821   \n",
       "5  m5-e      [SelectKBest]  1234  8527  4406  593  0.661314   \n",
       "\n",
       "   balanced_accuracy  precision    recall        f1   roc_auc  \n",
       "0           0.680657   0.227755  0.693487  0.342896  0.745033  \n",
       "1           0.680067   0.227584  0.691845  0.342501  0.745033  \n",
       "2           0.680618   0.227714  0.693487  0.342849  0.745033  \n",
       "3           0.657078   0.212447  0.659551  0.321376  0.745033  \n",
       "4           0.664103   0.218228  0.664477  0.328552  0.745033  \n",
       "5           0.667373   0.218794  0.675424  0.330521  0.745033  "
      ]
     },
     "metadata": {},
     "output_type": "display_data"
    }
   ],
   "source": [
    "# 5 способ отбора: SelectKBest\n",
    "# Для этого метода нужно, чтобы все значения были неотрицательными\n",
    "min_sbki = abs(X['score_bki'].min())\n",
    "X['score_bki'] = X['score_bki'] + min_sbki\n",
    "\n",
    "skb = SelectKBest(chi2, k=15)\n",
    "skb.fit(X, y)\n",
    "\n",
    "X_5 = skb.transform(X)\n",
    "X_5.shape\n",
    "\n",
    "imp_cols = X.columns[skb.get_support(indices=True)].tolist()\n",
    "X_train_5 = X_train[imp_cols]\n",
    "X_test_5 = X_test[imp_cols]\n",
    "\n",
    "model5.fit(X_train_5, y_train)\n",
    "\n",
    "y_pred = model5.predict(X_test_5)\n",
    "probs = model5.predict_proba(X_test_5)\n",
    "probs = probs[:,1]\n",
    "\n",
    "metrics = add_model_metrics(metrics, 'm5-e', ['SelectKBest'], y_test, y_pred, y_pred_prob)\n",
    "display(metrics)\n",
    "\n",
    "# Видно, что отбор признаков не имел значения. Можно только отбросить столбцы с нулевыми коэффициентами.\n",
    "# Простая модель с балансировкой и со всеми признаками - это лучший вариант"
   ]
  },
  {
   "cell_type": "markdown",
   "metadata": {
    "papermill": {
     "duration": 0.118068,
     "end_time": "2020-12-22T20:01:15.945353",
     "exception": false,
     "start_time": "2020-12-22T20:01:15.827285",
     "status": "completed"
    },
    "tags": []
   },
   "source": [
    "Вывод: отбор признаков не имел значения. \n",
    "Модель с балансировкой и со всеми признаками - это лучший вариант"
   ]
  },
  {
   "cell_type": "markdown",
   "metadata": {
    "papermill": {
     "duration": 0.118264,
     "end_time": "2020-12-22T20:01:16.181972",
     "exception": false,
     "start_time": "2020-12-22T20:01:16.063708",
     "status": "completed"
    },
    "tags": []
   },
   "source": [
    "# 5. Применение Undersampling и OverSampling"
   ]
  },
  {
   "cell_type": "markdown",
   "metadata": {
    "papermill": {
     "duration": 0.117491,
     "end_time": "2020-12-22T20:01:16.419329",
     "exception": false,
     "start_time": "2020-12-22T20:01:16.301838",
     "status": "completed"
    },
    "tags": []
   },
   "source": [
    "Воспользуемся другим методом побора модели: \n",
    "выравнивание классов методами UnderSampling и OverSsampling"
   ]
  },
  {
   "cell_type": "code",
   "execution_count": 96,
   "metadata": {
    "execution": {
     "iopub.execute_input": "2020-12-22T20:01:16.663169Z",
     "iopub.status.busy": "2020-12-22T20:01:16.662239Z",
     "iopub.status.idle": "2020-12-22T20:01:16.737308Z",
     "shell.execute_reply": "2020-12-22T20:01:16.736672Z"
    },
    "papermill": {
     "duration": 0.200043,
     "end_time": "2020-12-22T20:01:16.737431",
     "exception": false,
     "start_time": "2020-12-22T20:01:16.537388",
     "status": "completed"
    },
    "tags": []
   },
   "outputs": [
    {
     "data": {
      "text/plain": [
       "(18744,)"
      ]
     },
     "execution_count": 96,
     "metadata": {},
     "output_type": "execute_result"
    }
   ],
   "source": [
    "# UnderSampling - случайное удаление экземпляров избыточного класса\n",
    "rus = RandomUnderSampler(random_state=RANDOM_SEED)\n",
    "X_under, y_under = rus.fit_resample(X, y)\n",
    "\n",
    "y_under.shape"
   ]
  },
  {
   "cell_type": "code",
   "execution_count": 97,
   "metadata": {
    "execution": {
     "iopub.execute_input": "2020-12-22T20:01:16.986169Z",
     "iopub.status.busy": "2020-12-22T20:01:16.985532Z",
     "iopub.status.idle": "2020-12-22T20:01:17.993172Z",
     "shell.execute_reply": "2020-12-22T20:01:17.992469Z"
    },
    "papermill": {
     "duration": 1.134847,
     "end_time": "2020-12-22T20:01:17.993285",
     "exception": false,
     "start_time": "2020-12-22T20:01:16.858438",
     "status": "completed"
    },
    "tags": []
   },
   "outputs": [
    {
     "data": {
      "text/html": [
       "<div>\n",
       "<style scoped>\n",
       "    .dataframe tbody tr th:only-of-type {\n",
       "        vertical-align: middle;\n",
       "    }\n",
       "\n",
       "    .dataframe tbody tr th {\n",
       "        vertical-align: top;\n",
       "    }\n",
       "\n",
       "    .dataframe thead th {\n",
       "        text-align: right;\n",
       "    }\n",
       "</style>\n",
       "<table border=\"1\" class=\"dataframe\">\n",
       "  <thead>\n",
       "    <tr style=\"text-align: right;\">\n",
       "      <th></th>\n",
       "      <th>model</th>\n",
       "      <th>param</th>\n",
       "      <th>TP</th>\n",
       "      <th>TN</th>\n",
       "      <th>FP</th>\n",
       "      <th>FN</th>\n",
       "      <th>accuracy</th>\n",
       "      <th>balanced_accuracy</th>\n",
       "      <th>precision</th>\n",
       "      <th>recall</th>\n",
       "      <th>f1</th>\n",
       "      <th>roc_auc</th>\n",
       "    </tr>\n",
       "  </thead>\n",
       "  <tbody>\n",
       "    <tr>\n",
       "      <th>0</th>\n",
       "      <td>m5</td>\n",
       "      <td>[balanced, l2, 1]</td>\n",
       "      <td>1267</td>\n",
       "      <td>8637</td>\n",
       "      <td>4296</td>\n",
       "      <td>560</td>\n",
       "      <td>0.671003</td>\n",
       "      <td>0.680657</td>\n",
       "      <td>0.227755</td>\n",
       "      <td>0.693487</td>\n",
       "      <td>0.342896</td>\n",
       "      <td>0.745033</td>\n",
       "    </tr>\n",
       "    <tr>\n",
       "      <th>1</th>\n",
       "      <td>m6</td>\n",
       "      <td>[balanced, l1, 1]</td>\n",
       "      <td>1264</td>\n",
       "      <td>8643</td>\n",
       "      <td>4290</td>\n",
       "      <td>563</td>\n",
       "      <td>0.671206</td>\n",
       "      <td>0.680067</td>\n",
       "      <td>0.227584</td>\n",
       "      <td>0.691845</td>\n",
       "      <td>0.342501</td>\n",
       "      <td>0.745033</td>\n",
       "    </tr>\n",
       "    <tr>\n",
       "      <th>2</th>\n",
       "      <td>m5-a</td>\n",
       "      <td>[coeff 0]</td>\n",
       "      <td>1267</td>\n",
       "      <td>8636</td>\n",
       "      <td>4297</td>\n",
       "      <td>560</td>\n",
       "      <td>0.670935</td>\n",
       "      <td>0.680618</td>\n",
       "      <td>0.227714</td>\n",
       "      <td>0.693487</td>\n",
       "      <td>0.342849</td>\n",
       "      <td>0.745033</td>\n",
       "    </tr>\n",
       "    <tr>\n",
       "      <th>3</th>\n",
       "      <td>m5-c</td>\n",
       "      <td>[ETC]</td>\n",
       "      <td>1205</td>\n",
       "      <td>8466</td>\n",
       "      <td>4467</td>\n",
       "      <td>622</td>\n",
       "      <td>0.655217</td>\n",
       "      <td>0.657078</td>\n",
       "      <td>0.212447</td>\n",
       "      <td>0.659551</td>\n",
       "      <td>0.321376</td>\n",
       "      <td>0.745033</td>\n",
       "    </tr>\n",
       "    <tr>\n",
       "      <th>4</th>\n",
       "      <td>m5-d</td>\n",
       "      <td>[PCA]</td>\n",
       "      <td>1214</td>\n",
       "      <td>8584</td>\n",
       "      <td>4349</td>\n",
       "      <td>613</td>\n",
       "      <td>0.663821</td>\n",
       "      <td>0.664103</td>\n",
       "      <td>0.218228</td>\n",
       "      <td>0.664477</td>\n",
       "      <td>0.328552</td>\n",
       "      <td>0.745033</td>\n",
       "    </tr>\n",
       "    <tr>\n",
       "      <th>5</th>\n",
       "      <td>m5-e</td>\n",
       "      <td>[SelectKBest]</td>\n",
       "      <td>1234</td>\n",
       "      <td>8527</td>\n",
       "      <td>4406</td>\n",
       "      <td>593</td>\n",
       "      <td>0.661314</td>\n",
       "      <td>0.667373</td>\n",
       "      <td>0.218794</td>\n",
       "      <td>0.675424</td>\n",
       "      <td>0.330521</td>\n",
       "      <td>0.745033</td>\n",
       "    </tr>\n",
       "    <tr>\n",
       "      <th>6</th>\n",
       "      <td>m_under</td>\n",
       "      <td>[UnderSampling]</td>\n",
       "      <td>1264</td>\n",
       "      <td>1262</td>\n",
       "      <td>625</td>\n",
       "      <td>598</td>\n",
       "      <td>0.673780</td>\n",
       "      <td>0.673813</td>\n",
       "      <td>0.669137</td>\n",
       "      <td>0.678840</td>\n",
       "      <td>0.673954</td>\n",
       "      <td>0.738053</td>\n",
       "    </tr>\n",
       "  </tbody>\n",
       "</table>\n",
       "</div>"
      ],
      "text/plain": [
       "     model              param    TP    TN    FP   FN  accuracy  \\\n",
       "0       m5  [balanced, l2, 1]  1267  8637  4296  560  0.671003   \n",
       "1       m6  [balanced, l1, 1]  1264  8643  4290  563  0.671206   \n",
       "2     m5-a          [coeff 0]  1267  8636  4297  560  0.670935   \n",
       "3     m5-c              [ETC]  1205  8466  4467  622  0.655217   \n",
       "4     m5-d              [PCA]  1214  8584  4349  613  0.663821   \n",
       "5     m5-e      [SelectKBest]  1234  8527  4406  593  0.661314   \n",
       "6  m_under    [UnderSampling]  1264  1262   625  598  0.673780   \n",
       "\n",
       "   balanced_accuracy  precision    recall        f1   roc_auc  \n",
       "0           0.680657   0.227755  0.693487  0.342896  0.745033  \n",
       "1           0.680067   0.227584  0.691845  0.342501  0.745033  \n",
       "2           0.680618   0.227714  0.693487  0.342849  0.745033  \n",
       "3           0.657078   0.212447  0.659551  0.321376  0.745033  \n",
       "4           0.664103   0.218228  0.664477  0.328552  0.745033  \n",
       "5           0.667373   0.218794  0.675424  0.330521  0.745033  \n",
       "6           0.673813   0.669137  0.678840  0.673954  0.738053  "
      ]
     },
     "metadata": {},
     "output_type": "display_data"
    },
    {
     "data": {
      "image/png": "[encoded data removed]",
      "text/plain": [
       "<Figure size 288x288 with 1 Axes>"
      ]
     },
     "metadata": {
      "needs_background": "light"
     },
     "output_type": "display_data"
    },
    {
     "data": {
      "image/png": "[encoded data removed]",
      "text/plain": [
       "<Figure size 432x432 with 2 Axes>"
      ]
     },
     "metadata": {
      "needs_background": "light"
     },
     "output_type": "display_data"
    }
   ],
   "source": [
    "# Строим подобранную ранее модель на обрезанных данных\n",
    "X_train, X_test, y_train, y_test = train_test_split(X_under, y_under, test_size=0.20, random_state=RANDOM_SEED)\n",
    "\n",
    "model5.fit(X_train, y_train)\n",
    "\n",
    "y_pred = model5.predict(X_test)\n",
    "probs = model5.predict_proba(X_test)\n",
    "y_pred_prob = probs[:,1]\n",
    "\n",
    "metrics = add_model_metrics(metrics, 'm_under', ['UnderSampling'], y_test, y_pred, y_pred_prob)\n",
    "display(metrics)\n",
    "graph_roc_auc(y_test, y_pred_prob)\n",
    "graph_confusion_matrix(y_test, y_pred)"
   ]
  },
  {
   "cell_type": "markdown",
   "metadata": {
    "papermill": {
     "duration": 0.120833,
     "end_time": "2020-12-22T20:01:18.242011",
     "exception": false,
     "start_time": "2020-12-22T20:01:18.121178",
     "status": "completed"
    },
    "tags": []
   },
   "source": [
    "Метрика ROC AUC немного ухудшилась, но зато f1 улучшилась в 2 раза! "
   ]
  },
  {
   "cell_type": "code",
   "execution_count": 98,
   "metadata": {
    "execution": {
     "iopub.execute_input": "2020-12-22T20:01:18.490917Z",
     "iopub.status.busy": "2020-12-22T20:01:18.490255Z",
     "iopub.status.idle": "2020-12-22T20:01:18.853961Z",
     "shell.execute_reply": "2020-12-22T20:01:18.853332Z"
    },
    "papermill": {
     "duration": 0.490696,
     "end_time": "2020-12-22T20:01:18.854073",
     "exception": false,
     "start_time": "2020-12-22T20:01:18.363377",
     "status": "completed"
    },
    "tags": []
   },
   "outputs": [
    {
     "data": {
      "text/plain": [
       "(128854,)"
      ]
     },
     "execution_count": 98,
     "metadata": {},
     "output_type": "execute_result"
    }
   ],
   "source": [
    "# OverSampling - добавление экземпляров недостаточного класса\n",
    "ros = RandomOverSampler(random_state=0)\n",
    "X_over, y_over = ros.fit_resample(X, y)\n",
    "\n",
    "y_over.shape"
   ]
  },
  {
   "cell_type": "code",
   "execution_count": 99,
   "metadata": {
    "execution": {
     "iopub.execute_input": "2020-12-22T20:01:19.133194Z",
     "iopub.status.busy": "2020-12-22T20:01:19.131544Z",
     "iopub.status.idle": "2020-12-22T20:01:46.080896Z",
     "shell.execute_reply": "2020-12-22T20:01:46.080374Z"
    },
    "papermill": {
     "duration": 27.105326,
     "end_time": "2020-12-22T20:01:46.081026",
     "exception": false,
     "start_time": "2020-12-22T20:01:18.975700",
     "status": "completed"
    },
    "tags": []
   },
   "outputs": [
    {
     "data": {
      "text/html": [
       "<div>\n",
       "<style scoped>\n",
       "    .dataframe tbody tr th:only-of-type {\n",
       "        vertical-align: middle;\n",
       "    }\n",
       "\n",
       "    .dataframe tbody tr th {\n",
       "        vertical-align: top;\n",
       "    }\n",
       "\n",
       "    .dataframe thead th {\n",
       "        text-align: right;\n",
       "    }\n",
       "</style>\n",
       "<table border=\"1\" class=\"dataframe\">\n",
       "  <thead>\n",
       "    <tr style=\"text-align: right;\">\n",
       "      <th></th>\n",
       "      <th>model</th>\n",
       "      <th>param</th>\n",
       "      <th>TP</th>\n",
       "      <th>TN</th>\n",
       "      <th>FP</th>\n",
       "      <th>FN</th>\n",
       "      <th>accuracy</th>\n",
       "      <th>balanced_accuracy</th>\n",
       "      <th>precision</th>\n",
       "      <th>recall</th>\n",
       "      <th>f1</th>\n",
       "      <th>roc_auc</th>\n",
       "    </tr>\n",
       "  </thead>\n",
       "  <tbody>\n",
       "    <tr>\n",
       "      <th>0</th>\n",
       "      <td>m5</td>\n",
       "      <td>[balanced, l2, 1]</td>\n",
       "      <td>1267</td>\n",
       "      <td>8637</td>\n",
       "      <td>4296</td>\n",
       "      <td>560</td>\n",
       "      <td>0.671003</td>\n",
       "      <td>0.680657</td>\n",
       "      <td>0.227755</td>\n",
       "      <td>0.693487</td>\n",
       "      <td>0.342896</td>\n",
       "      <td>0.745033</td>\n",
       "    </tr>\n",
       "    <tr>\n",
       "      <th>1</th>\n",
       "      <td>m6</td>\n",
       "      <td>[balanced, l1, 1]</td>\n",
       "      <td>1264</td>\n",
       "      <td>8643</td>\n",
       "      <td>4290</td>\n",
       "      <td>563</td>\n",
       "      <td>0.671206</td>\n",
       "      <td>0.680067</td>\n",
       "      <td>0.227584</td>\n",
       "      <td>0.691845</td>\n",
       "      <td>0.342501</td>\n",
       "      <td>0.745033</td>\n",
       "    </tr>\n",
       "    <tr>\n",
       "      <th>2</th>\n",
       "      <td>m5-a</td>\n",
       "      <td>[coeff 0]</td>\n",
       "      <td>1267</td>\n",
       "      <td>8636</td>\n",
       "      <td>4297</td>\n",
       "      <td>560</td>\n",
       "      <td>0.670935</td>\n",
       "      <td>0.680618</td>\n",
       "      <td>0.227714</td>\n",
       "      <td>0.693487</td>\n",
       "      <td>0.342849</td>\n",
       "      <td>0.745033</td>\n",
       "    </tr>\n",
       "    <tr>\n",
       "      <th>3</th>\n",
       "      <td>m5-c</td>\n",
       "      <td>[ETC]</td>\n",
       "      <td>1205</td>\n",
       "      <td>8466</td>\n",
       "      <td>4467</td>\n",
       "      <td>622</td>\n",
       "      <td>0.655217</td>\n",
       "      <td>0.657078</td>\n",
       "      <td>0.212447</td>\n",
       "      <td>0.659551</td>\n",
       "      <td>0.321376</td>\n",
       "      <td>0.745033</td>\n",
       "    </tr>\n",
       "    <tr>\n",
       "      <th>4</th>\n",
       "      <td>m5-d</td>\n",
       "      <td>[PCA]</td>\n",
       "      <td>1214</td>\n",
       "      <td>8584</td>\n",
       "      <td>4349</td>\n",
       "      <td>613</td>\n",
       "      <td>0.663821</td>\n",
       "      <td>0.664103</td>\n",
       "      <td>0.218228</td>\n",
       "      <td>0.664477</td>\n",
       "      <td>0.328552</td>\n",
       "      <td>0.745033</td>\n",
       "    </tr>\n",
       "    <tr>\n",
       "      <th>5</th>\n",
       "      <td>m5-e</td>\n",
       "      <td>[SelectKBest]</td>\n",
       "      <td>1234</td>\n",
       "      <td>8527</td>\n",
       "      <td>4406</td>\n",
       "      <td>593</td>\n",
       "      <td>0.661314</td>\n",
       "      <td>0.667373</td>\n",
       "      <td>0.218794</td>\n",
       "      <td>0.675424</td>\n",
       "      <td>0.330521</td>\n",
       "      <td>0.745033</td>\n",
       "    </tr>\n",
       "    <tr>\n",
       "      <th>6</th>\n",
       "      <td>m_under</td>\n",
       "      <td>[UnderSampling]</td>\n",
       "      <td>1264</td>\n",
       "      <td>1262</td>\n",
       "      <td>625</td>\n",
       "      <td>598</td>\n",
       "      <td>0.673780</td>\n",
       "      <td>0.673813</td>\n",
       "      <td>0.669137</td>\n",
       "      <td>0.678840</td>\n",
       "      <td>0.673954</td>\n",
       "      <td>0.738053</td>\n",
       "    </tr>\n",
       "    <tr>\n",
       "      <th>7</th>\n",
       "      <td>m_over</td>\n",
       "      <td>[OverSampling]</td>\n",
       "      <td>8710</td>\n",
       "      <td>8634</td>\n",
       "      <td>4243</td>\n",
       "      <td>4184</td>\n",
       "      <td>0.673005</td>\n",
       "      <td>0.673003</td>\n",
       "      <td>0.672431</td>\n",
       "      <td>0.675508</td>\n",
       "      <td>0.673966</td>\n",
       "      <td>0.739059</td>\n",
       "    </tr>\n",
       "  </tbody>\n",
       "</table>\n",
       "</div>"
      ],
      "text/plain": [
       "     model              param    TP    TN    FP    FN  accuracy  \\\n",
       "0       m5  [balanced, l2, 1]  1267  8637  4296   560  0.671003   \n",
       "1       m6  [balanced, l1, 1]  1264  8643  4290   563  0.671206   \n",
       "2     m5-a          [coeff 0]  1267  8636  4297   560  0.670935   \n",
       "3     m5-c              [ETC]  1205  8466  4467   622  0.655217   \n",
       "4     m5-d              [PCA]  1214  8584  4349   613  0.663821   \n",
       "5     m5-e      [SelectKBest]  1234  8527  4406   593  0.661314   \n",
       "6  m_under    [UnderSampling]  1264  1262   625   598  0.673780   \n",
       "7   m_over     [OverSampling]  8710  8634  4243  4184  0.673005   \n",
       "\n",
       "   balanced_accuracy  precision    recall        f1   roc_auc  \n",
       "0           0.680657   0.227755  0.693487  0.342896  0.745033  \n",
       "1           0.680067   0.227584  0.691845  0.342501  0.745033  \n",
       "2           0.680618   0.227714  0.693487  0.342849  0.745033  \n",
       "3           0.657078   0.212447  0.659551  0.321376  0.745033  \n",
       "4           0.664103   0.218228  0.664477  0.328552  0.745033  \n",
       "5           0.667373   0.218794  0.675424  0.330521  0.745033  \n",
       "6           0.673813   0.669137  0.678840  0.673954  0.738053  \n",
       "7           0.673003   0.672431  0.675508  0.673966  0.739059  "
      ]
     },
     "metadata": {},
     "output_type": "display_data"
    },
    {
     "data": {
      "image/png": "[encoded data removed]",
      "text/plain": [
       "<Figure size 288x288 with 1 Axes>"
      ]
     },
     "metadata": {
      "needs_background": "light"
     },
     "output_type": "display_data"
    },
    {
     "data": {
      "image/png": "[encoded data removed]",
      "text/plain": [
       "<Figure size 432x432 with 2 Axes>"
      ]
     },
     "metadata": {
      "needs_background": "light"
     },
     "output_type": "display_data"
    }
   ],
   "source": [
    "# Строим подобранную ранее модель на добавленных данных\n",
    "X_train, X_test, y_train, y_test = train_test_split(X_over, y_over, test_size=0.20, random_state=RANDOM_SEED)\n",
    "\n",
    "model5.fit(X_train, y_train)\n",
    "\n",
    "y_pred = model5.predict(X_test)\n",
    "probs = model5.predict_proba(X_test)\n",
    "y_pred_prob = probs[:,1]\n",
    "\n",
    "metrics = add_model_metrics(metrics, 'm_over', ['OverSampling'], y_test, y_pred, y_pred_prob)\n",
    "display(metrics)\n",
    "graph_roc_auc(y_test, y_pred_prob)\n",
    "graph_confusion_matrix(y_test, y_pred)"
   ]
  },
  {
   "cell_type": "markdown",
   "metadata": {
    "papermill": {
     "duration": 0.125068,
     "end_time": "2020-12-22T20:01:46.330714",
     "exception": false,
     "start_time": "2020-12-22T20:01:46.205646",
     "status": "completed"
    },
    "tags": []
   },
   "source": [
    "Метрика ROC AUC тоже хуже базовой, но f1 еще улучшилась."
   ]
  },
  {
   "cell_type": "markdown",
   "metadata": {
    "papermill": {
     "duration": 0.124506,
     "end_time": "2020-12-22T20:01:46.579496",
     "exception": false,
     "start_time": "2020-12-22T20:01:46.454990",
     "status": "completed"
    },
    "tags": []
   },
   "source": [
    "С точки зрения соревнований брать эту модель не стоит, но с точки зрения здравого смысла - это пока наилучший результат, так как метрика f1 выросла в 2 раза, при том, что ROC AUC ухудшилась всего лишь на тысячные доли."
   ]
  },
  {
   "cell_type": "markdown",
   "metadata": {
    "papermill": {
     "duration": 0.12525,
     "end_time": "2020-12-22T20:01:46.829084",
     "exception": false,
     "start_time": "2020-12-22T20:01:46.703834",
     "status": "completed"
    },
    "tags": []
   },
   "source": [
    "# 6. Submission"
   ]
  },
  {
   "cell_type": "code",
   "execution_count": 100,
   "metadata": {
    "execution": {
     "iopub.execute_input": "2020-12-22T20:01:47.087363Z",
     "iopub.status.busy": "2020-12-22T20:01:47.086689Z",
     "iopub.status.idle": "2020-12-22T20:02:00.539755Z",
     "shell.execute_reply": "2020-12-22T20:02:00.539286Z"
    },
    "papermill": {
     "duration": 13.586392,
     "end_time": "2020-12-22T20:02:00.539958",
     "exception": false,
     "start_time": "2020-12-22T20:01:46.953566",
     "status": "completed"
    },
    "tags": []
   },
   "outputs": [
    {
     "name": "stdout",
     "output_type": "stream",
     "text": [
      "(36349, 72) (73799, 72) (73799, 71) (73799,) (36349, 71)\n"
     ]
    },
    {
     "data": {
      "text/html": [
       "<div>\n",
       "<style scoped>\n",
       "    .dataframe tbody tr th:only-of-type {\n",
       "        vertical-align: middle;\n",
       "    }\n",
       "\n",
       "    .dataframe tbody tr th {\n",
       "        vertical-align: top;\n",
       "    }\n",
       "\n",
       "    .dataframe thead th {\n",
       "        text-align: right;\n",
       "    }\n",
       "</style>\n",
       "<table border=\"1\" class=\"dataframe\">\n",
       "  <thead>\n",
       "    <tr style=\"text-align: right;\">\n",
       "      <th></th>\n",
       "      <th>client_id</th>\n",
       "      <th>default</th>\n",
       "    </tr>\n",
       "  </thead>\n",
       "  <tbody>\n",
       "    <tr>\n",
       "      <th>0</th>\n",
       "      <td>74835</td>\n",
       "      <td>0.208770</td>\n",
       "    </tr>\n",
       "    <tr>\n",
       "      <th>1</th>\n",
       "      <td>17527</td>\n",
       "      <td>0.755019</td>\n",
       "    </tr>\n",
       "    <tr>\n",
       "      <th>2</th>\n",
       "      <td>75683</td>\n",
       "      <td>0.353792</td>\n",
       "    </tr>\n",
       "    <tr>\n",
       "      <th>3</th>\n",
       "      <td>26883</td>\n",
       "      <td>0.370279</td>\n",
       "    </tr>\n",
       "    <tr>\n",
       "      <th>4</th>\n",
       "      <td>28862</td>\n",
       "      <td>0.138347</td>\n",
       "    </tr>\n",
       "  </tbody>\n",
       "</table>\n",
       "</div>"
      ],
      "text/plain": [
       "   client_id   default\n",
       "0      74835  0.208770\n",
       "1      17527  0.755019\n",
       "2      75683  0.353792\n",
       "3      26883  0.370279\n",
       "4      28862  0.138347"
      ]
     },
     "execution_count": 100,
     "metadata": {},
     "output_type": "execute_result"
    }
   ],
   "source": [
    "# Заново формируем тренировочную и тестовую части данных\n",
    "train_data = data[data['sample']==1].drop(['sample'], axis=1)\n",
    "test_data = data[data['sample']==0].drop(['sample'], axis=1)\n",
    "\n",
    "# Подготовка\n",
    "X_train = train_data.drop(['default'], axis=1)\n",
    "y_train = train_data['default'] \n",
    "X_test = test_data.drop(['default'], axis=1)\n",
    "\n",
    "# Заново берем столбцы с ненулевыми коэффициентами\n",
    "# X_train = X_train[notnull_cols] \n",
    "# X_test = X_test[notnull_cols]   \n",
    " \n",
    "# Проверка\n",
    "print(test_data.shape, train_data.shape, X_train.shape, y_train.shape, X_test.shape)\n",
    "\n",
    "# Модель \n",
    "model5.fit(X_train, y_train)\n",
    "y_pred_prob = model5.predict_proba(X_test)[:,1]\n",
    "\n",
    "# Сохранение результата\n",
    "submit = pd.DataFrame(df_test['client_id'])\n",
    "submit['default']=y_pred_prob\n",
    "submit.to_csv('submission.csv', index=False)\n",
    "\n",
    "submit.head(5)"
   ]
  }
 ],
 "metadata": {
  "kernelspec": {
   "display_name": "Python 3",
   "language": "python",
   "name": "python3"
  },
  "language_info": {
   "codemirror_mode": {
    "name": "ipython",
    "version": 3
   },
   "file_extension": ".py",
   "mimetype": "text/x-python",
   "name": "python",
   "nbconvert_exporter": "python",
   "pygments_lexer": "ipython3",
   "version": "3.7.6"
  },
  "papermill": {
   "duration": 171.236951,
   "end_time": "2020-12-22T20:02:00.778197",
   "environment_variables": {},
   "exception": null,
   "input_path": "__notebook__.ipynb",
   "output_path": "__notebook__.ipynb",
   "parameters": {},
   "start_time": "2020-12-22T19:59:09.541246",
   "version": "2.1.0"
  }
 },
 "nbformat": 4,
 "nbformat_minor": 4
}
