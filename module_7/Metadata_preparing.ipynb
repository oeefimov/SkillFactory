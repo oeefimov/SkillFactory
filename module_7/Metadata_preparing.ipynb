{
 "cells": [
  {
   "cell_type": "markdown",
   "metadata": {},
   "source": [
    "# Обработка метаданных для снижения нагрузки"
   ]
  },
  {
   "cell_type": "markdown",
   "metadata": {},
   "source": [
    "В отдельный ноутбук вынесена обработка файла meta_Grocery_and_Gourmet_Food.json.\n",
    "\n",
    "Сделано это для того, чтобы снизить нагрузку на выделенные ресурсы в Kaggle и избежать ошибки переполнения памяти."
   ]
  },
  {
   "cell_type": "markdown",
   "metadata": {},
   "source": [
    "# Библиотеки и функции"
   ]
  },
  {
   "cell_type": "code",
   "execution_count": 1,
   "metadata": {
    "_cell_guid": "b1076dfc-b9ad-4769-8c92-a6c4dae69d19",
    "_uuid": "8f2839f25d086af736a60e9eeb907d3b93b6e0e5"
   },
   "outputs": [],
   "source": [
    "import numpy as np\n",
    "import pandas as pd\n",
    "from collections import Counter\n",
    "import json\n",
    "import re\n",
    "from datetime import datetime, date, time\n",
    "\n",
    "\n",
    "import matplotlib.pyplot as plt\n",
    "%matplotlib inline\n",
    "\n",
    "import seaborn as sns\n",
    "\n",
    "import warnings\n",
    "warnings.filterwarnings(\"ignore\")\n",
    "\n",
    "from wordcloud import WordCloud, STOPWORDS \n",
    "import string\n",
    "import re\n",
    "import nltk\n",
    "from nltk.util import ngrams\n",
    "from collections import Counter\n",
    "from sklearn.feature_extraction import DictVectorizer\n",
    "from sklearn.feature_extraction.text import CountVectorizer, TfidfVectorizer\n",
    "from sklearn.decomposition import PCA\n",
    "from textblob import TextBlob\n",
    "\n",
    "import itertools\n",
    "# import ast\n",
    "from itertools import combinations\n",
    "from scipy.stats import ttest_ind, pearsonr"
   ]
  },
  {
   "cell_type": "code",
   "execution_count": 12,
   "metadata": {},
   "outputs": [],
   "source": [
    "# Полезные функции\n",
    "\n",
    "# Определение выбросов\n",
    "def get_outlier(df, col):\n",
    "    Q3 = pd.DataFrame.quantile(df, q=0.75, axis=0, numeric_only=True, interpolation='midpoint')[col]\n",
    "    Q1 = pd.DataFrame.quantile(df, q=0.25, axis=0, numeric_only=True, interpolation='midpoint')[col]\n",
    "    IQR = round(Q3-Q1,1)\n",
    "    return df[~df[col].between(Q1 - 1.5*IQR, Q3 + 1.5*IQR)][col], Q1 - 1.5*IQR, Q3 + 1.5*IQR\n",
    "\n",
    "# Информация о выбросах с графиками\n",
    "def show_info(df, col, show=True):\n",
    "    # Выводим количество выбросов и их границы\n",
    "    out, lim1, lim2 = get_outlier(df, col)\n",
    "    minCol = df[col].min()\n",
    "    maxCol = df[col].max()\n",
    "    median = df[col].median()\n",
    "    nulCol = sum(pd.isnull(df[col]))\n",
    "    \n",
    "    cnt = min(int(df[col].value_counts().count()),2000)\n",
    "    \n",
    "    if show:\n",
    "        print('Не заполнено: ', nulCol)\n",
    "        print('Минимум: ', minCol)\n",
    "        print('Максимум: ', maxCol)\n",
    "        print('Медиана: ', median)\n",
    "        print('Количество выбросов: ', len(out))\n",
    "        if len(out) > 0:\n",
    "            print('Нижняя граница выбросов: ', lim1)\n",
    "            print('Верхняя граница выбросов: ', lim2)\n",
    "\n",
    "        # Выводим графики: гистограмму и боксплот\n",
    "        fig, axes = plt.subplots(1,2,figsize=(12,4))\n",
    "        axes[0].hist(df[col], bins=cnt)\n",
    "        axes[1].boxplot(df[col])\n",
    "    \n",
    "    return {'med': median, 'lm1': lim1, 'lm2': lim2}\n",
    "\n",
    "\n",
    "\n",
    "\n",
    "# Сравнение двух графиков \n",
    "def val_log_plot(df, col):\n",
    "    fig, ax = plt.subplots(1, 2, figsize=(10, 5))\n",
    "\n",
    "    ax[0].hist(df[col], rwidth=0.9, alpha=0.7, bins=15)\n",
    "    ax[0].set_title(col)\n",
    "\n",
    "    ax[1].hist(np.log(df[col]+1), rwidth=0.9, alpha=0.7, bins=15)\n",
    "    ax[1].set_title('log of '+col)\n",
    "\n",
    "    plt.show()\n",
    "\n",
    "# График с боксплотами\n",
    "def show_boxplot(df, x_col, y_col):\n",
    "    plt.figure(figsize=(12, 8))\n",
    "    g = sns.boxplot(y=y_col, x=x_col, data=df, color='yellow')\n",
    "    g.set_title(y_col + ' of ' + x_col, fontsize=20)\n",
    "    g.set_ylabel(y_col, fontsize=15)\n",
    "    g.set_xticklabels(g.get_xticklabels(),rotation=45)\n",
    "    plt.show()\n",
    "\n",
    "\n",
    "# Преобразование в None для строковых признаков\n",
    "def set_None(value):\n",
    "    if value is None:\n",
    "        return value\n",
    "    else:        \n",
    "        str_value = str(value).strip()\n",
    "        if str_value == '' or str_value.lower() == 'nan':\n",
    "            return None\n",
    "        else:\n",
    "            return str_value\n",
    "\n",
    "\n",
    "# перевод в нижний регистр\n",
    "def set_lower(value):\n",
    "    if value is None:\n",
    "        return value\n",
    "    else:\n",
    "        return value.lower()\n",
    "    \n",
    "\n",
    "# Получение самых популярных элементов списков\n",
    "def get_top_bottom(column, percent):\n",
    "    lst_temp = list(column.value_counts())\n",
    "    tmp_sum = 0\n",
    "    all_sum = sum(lst_temp)\n",
    "    top_index = 0\n",
    "\n",
    "    for cnt in lst_temp:\n",
    "        tmp_sum += cnt\n",
    "        if tmp_sum >= all_sum * percent/100:\n",
    "            top_index = lst_temp.index(cnt)\n",
    "            break;\n",
    "\n",
    "    all_val = column.value_counts().index\n",
    "    top_val = list(all_val)[:top_index]\n",
    "    bottom_val = list(set(all_val) - set(top_val))\n",
    "\n",
    "    return top_val, bottom_val"
   ]
  },
  {
   "cell_type": "markdown",
   "metadata": {},
   "source": [
    "# Чтение данных"
   ]
  },
  {
   "cell_type": "code",
   "execution_count": 2,
   "metadata": {},
   "outputs": [],
   "source": [
    "# Читаем данные\n",
    "with open('meta_Grocery_and_Gourmet_Food.json') as f:\n",
    "    meta_list = []\n",
    "    for line in f.readlines():\n",
    "        meta_list.append(json.loads(line))\n",
    "        \n",
    "meta = pd.DataFrame(meta_list)\n",
    "\n",
    "# Удаляем фичи с большим количеством пропусков,\n",
    "meta = meta.drop(['similar_item', 'tech1', 'fit', 'date'], axis=1)\n",
    "\n",
    "# Удаляем непригодные к использованию фичи и фичи, собранные из других столбцов\n",
    "meta = meta.drop(['details', 'image'], axis=1)"
   ]
  },
  {
   "cell_type": "markdown",
   "metadata": {},
   "source": [
    "# Анализ и подготовка данных"
   ]
  },
  {
   "cell_type": "code",
   "execution_count": 3,
   "metadata": {},
   "outputs": [],
   "source": [
    "# Для более подробного анализа превратим фичи в виде списков в строки\n",
    "metastr = meta.copy()\n",
    "metastr['category'] = metastr['category'].astype('str')\n",
    "metastr['also_view'] = metastr['also_view'].astype('str')\n",
    "metastr['also_buy'] = metastr['also_buy'].astype('str')\n",
    "metastr['feature'] = metastr['feature'].astype('str')\n",
    "metastr['rank'] = metastr['rank'].astype('str')"
   ]
  },
  {
   "cell_type": "code",
   "execution_count": 4,
   "metadata": {},
   "outputs": [
    {
     "name": "stdout",
     "output_type": "stream",
     "text": [
      "<class 'pandas.core.frame.DataFrame'>\n",
      "RangeIndex: 287209 entries, 0 to 287208\n",
      "Data columns (total 11 columns):\n",
      " #   Column       Non-Null Count   Dtype \n",
      "---  ------       --------------   ----- \n",
      " 0   category     287209 non-null  object\n",
      " 1   description  251802 non-null  object\n",
      " 2   title        287205 non-null  object\n",
      " 3   brand        275787 non-null  object\n",
      " 4   rank         275494 non-null  object\n",
      " 5   also_view    121012 non-null  object\n",
      " 6   main_cat     285716 non-null  object\n",
      " 7   price        132136 non-null  object\n",
      " 8   asin         287209 non-null  object\n",
      " 9   also_buy     83332 non-null   object\n",
      " 10  feature      16374 non-null   object\n",
      "dtypes: object(11)\n",
      "memory usage: 24.1+ MB\n"
     ]
    }
   ],
   "source": [
    "meta.info()"
   ]
  },
  {
   "cell_type": "markdown",
   "metadata": {},
   "source": [
    "## category"
   ]
  },
  {
   "cell_type": "code",
   "execution_count": 7,
   "metadata": {},
   "outputs": [
    {
     "name": "stdout",
     "output_type": "stream",
     "text": [
      "<class 'pandas.core.frame.DataFrame'>\n",
      "RangeIndex: 287209 entries, 0 to 287208\n",
      "Data columns (total 1 columns):\n",
      " #   Column    Non-Null Count   Dtype \n",
      "---  ------    --------------   ----- \n",
      " 0   category  287209 non-null  object\n",
      "dtypes: object(1)\n",
      "memory usage: 2.2+ MB\n",
      "\n",
      "Уникальных значений:  1356\n"
     ]
    }
   ],
   "source": [
    "meta[['category']].info()\n",
    "print('')\n",
    "print('Уникальных значений: ', len(metastr.category.unique()))"
   ]
  },
  {
   "cell_type": "markdown",
   "metadata": {},
   "source": [
    "Пропусков нет. В столбце находятся списки категорий товара."
   ]
  },
  {
   "cell_type": "code",
   "execution_count": 8,
   "metadata": {},
   "outputs": [
    {
     "data": {
      "text/plain": [
       "['Grocery & Gourmet Food', 'Dairy, Cheese & Eggs', 'Cheese', 'Gouda']"
      ]
     },
     "execution_count": 8,
     "metadata": {},
     "output_type": "execute_result"
    }
   ],
   "source": [
    "meta.iloc[0]['category']"
   ]
  },
  {
   "cell_type": "code",
   "execution_count": 9,
   "metadata": {},
   "outputs": [],
   "source": [
    "# Создадим фичу с длиной списка категорий\n",
    "meta['category_len'] = meta['category'].apply(lambda x: len(x))"
   ]
  },
  {
   "cell_type": "code",
   "execution_count": 10,
   "metadata": {},
   "outputs": [
    {
     "data": {
      "text/plain": [
       "4     126767\n",
       "3      79210\n",
       "5      67782\n",
       "2      11002\n",
       "6       2396\n",
       "8         19\n",
       "9         15\n",
       "7          8\n",
       "10         7\n",
       "11         2\n",
       "13         1\n",
       "Name: category_len, dtype: int64"
      ]
     },
     "execution_count": 10,
     "metadata": {},
     "output_type": "execute_result"
    }
   ],
   "source": [
    "meta['category_len'].value_counts()"
   ]
  },
  {
   "cell_type": "code",
   "execution_count": 13,
   "metadata": {},
   "outputs": [
    {
     "name": "stdout",
     "output_type": "stream",
     "text": [
      "Не заполнено:  0\n",
      "Минимум:  2\n",
      "Максимум:  13\n",
      "Медиана:  4.0\n",
      "Количество выбросов:  2448\n",
      "Нижняя граница выбросов:  1.5\n",
      "Верхняя граница выбросов:  5.5\n"
     ]
    },
    {
     "data": {
      "text/plain": [
       "{'med': 4.0, 'lm1': 1.5, 'lm2': 5.5}"
      ]
     },
     "execution_count": 13,
     "metadata": {},
     "output_type": "execute_result"
    },
    {
     "data": {
      "image/png": "[encoded data removed]",
      "text/plain": [
       "<Figure size 864x288 with 2 Axes>"
      ]
     },
     "metadata": {
      "needs_background": "light"
     },
     "output_type": "display_data"
    }
   ],
   "source": [
    "show_info(meta, 'category_len')"
   ]
  },
  {
   "cell_type": "code",
   "execution_count": 14,
   "metadata": {},
   "outputs": [],
   "source": [
    "# Добавим столбец с выбросами количества категорий\n",
    "meta['category_len_out'] = meta['category_len'].apply(lambda x: 1 if x > 2 and x < 6  else 0)"
   ]
  },
  {
   "cell_type": "code",
   "execution_count": 15,
   "metadata": {},
   "outputs": [
    {
     "data": {
      "text/plain": [
       "Grocery & Gourmet Food                    287209\n",
       "Beverages                                  61747\n",
       "Cooking & Baking                           46153\n",
       "Coffee, Tea & Cocoa                        45203\n",
       "Candy & Chocolate                          40694\n",
       "Snack Foods                                32282\n",
       "Tea                                        23516\n",
       "Herbs, Spices & Seasonings                 19226\n",
       "Coffee                                     18669\n",
       "Bottled Beverages, Water & Drink Mixes     15401\n",
       "Sauces, Gravies & Marinades                11019\n",
       "Frosting, Icing & Decorations              10752\n",
       "Canned, Jarred & Packaged Foods            10078\n",
       "Food & Beverage Gifts                       9665\n",
       "Cookies                                     8574\n",
       "Jelly Beans & Gummy Candy                   8337\n",
       "Cake & Cupcake Toppers                      8325\n",
       "Breakfast Foods                             7728\n",
       "Tea Samplers                                7612\n",
       "Mixed Spices & Seasonings                   7606\n",
       "Name: category, dtype: int64"
      ]
     },
     "execution_count": 15,
     "metadata": {},
     "output_type": "execute_result"
    }
   ],
   "source": [
    "mtr = meta.category.explode().value_counts()\n",
    "mtr[0:20]"
   ]
  },
  {
   "cell_type": "code",
   "execution_count": 16,
   "metadata": {},
   "outputs": [],
   "source": [
    "# Создадим dummy-переменные\n",
    "N = 20\n",
    "top_val = mtr.index[0:N]\n",
    "bottom_val = mtr.index[N:]\n",
    "i = 1\n",
    "for val in top_val:\n",
    "    meta['cat'+str(i)] = meta['category'].apply(lambda x: 1 if val in x else 0)\n",
    "    i += 1\n",
    "    \n",
    "meta['cat_other'] = meta['category'].apply(lambda x: 1 if len(set(x) & set(bottom_val)) > 0 else 0)"
   ]
  },
  {
   "cell_type": "code",
   "execution_count": 17,
   "metadata": {},
   "outputs": [
    {
     "name": "stdout",
     "output_type": "stream",
     "text": [
      "['Grocery & Gourmet Food', 'Dairy, Cheese & Eggs', 'Cheese', 'Cheddar']\n"
     ]
    },
    {
     "data": {
      "text/plain": [
       "category            [Grocery & Gourmet Food, Dairy, Cheese & Eggs,...\n",
       "description         [White Cheddar has long been a favorite on the...\n",
       "title               Country White Cheddar Cheese from Wisconsin Ch...\n",
       "brand                                         The Wisconsin Cheeseman\n",
       "rank                                      67,318inGroceryGourmetFood(\n",
       "also_view           [B009Y7I2F0, B00N07R6F2, B005ZFTLZU, B005ZFU6O...\n",
       "main_cat                                                      Grocery\n",
       "price                                                          $29.99\n",
       "asin                                                       B000BPG88C\n",
       "also_buy                                                          NaN\n",
       "feature                                                           NaN\n",
       "category_len                                                        4\n",
       "category_len_out                                                    1\n",
       "cat1                                                                1\n",
       "cat2                                                                0\n",
       "cat3                                                                0\n",
       "cat4                                                                0\n",
       "cat5                                                                0\n",
       "cat6                                                                0\n",
       "cat7                                                                0\n",
       "cat8                                                                0\n",
       "cat9                                                                0\n",
       "cat10                                                               0\n",
       "cat11                                                               0\n",
       "cat12                                                               0\n",
       "cat13                                                               0\n",
       "cat14                                                               0\n",
       "cat15                                                               0\n",
       "cat16                                                               0\n",
       "cat17                                                               0\n",
       "cat18                                                               0\n",
       "cat19                                                               0\n",
       "cat20                                                               0\n",
       "cat_other                                                           1\n",
       "Name: 9834, dtype: object"
      ]
     },
     "execution_count": 17,
     "metadata": {},
     "output_type": "execute_result"
    }
   ],
   "source": [
    "# Проверим на примере\n",
    "print(meta.iloc[9834].category)\n",
    "meta.iloc[9834]"
   ]
  },
  {
   "cell_type": "markdown",
   "metadata": {},
   "source": [
    "## description"
   ]
  },
  {
   "cell_type": "code",
   "execution_count": 19,
   "metadata": {},
   "outputs": [
    {
     "name": "stdout",
     "output_type": "stream",
     "text": [
      "<class 'pandas.core.frame.DataFrame'>\n",
      "RangeIndex: 287209 entries, 0 to 287208\n",
      "Data columns (total 1 columns):\n",
      " #   Column       Non-Null Count   Dtype \n",
      "---  ------       --------------   ----- \n",
      " 0   description  251802 non-null  object\n",
      "dtypes: object(1)\n",
      "memory usage: 2.2+ MB\n"
     ]
    }
   ],
   "source": [
    "meta[['description']].info()"
   ]
  },
  {
   "cell_type": "code",
   "execution_count": 20,
   "metadata": {},
   "outputs": [
    {
     "data": {
      "text/plain": [
       "[\"USDA Prime Fresh American Lamb Chops. Avg cut 1.1/4'' inch weight is 6 oz per chop. Ideal for broiling or Grilling.Always fresh, never frozen. All our USDA Prime meat is custom cut to order, and vacuum packed. We chill the meat to preserve the freshness for shipping only.\",\n",
       " 'Statements regarding dietary supplements have not been evaluated by the FDA and are not intended to diagnose, treat, cure, or prevent any disease or health condition.']"
      ]
     },
     "execution_count": 20,
     "metadata": {},
     "output_type": "execute_result"
    }
   ],
   "source": [
    "# Глянем на данные\n",
    "meta.description[23343]"
   ]
  },
  {
   "cell_type": "markdown",
   "metadata": {},
   "source": [
    "Проведем анализ текста. Можно было бы в качестве новой фичи взять длину описания, но делать это не будем, потому что она вряд ли влияет на оценку."
   ]
  },
  {
   "cell_type": "code",
   "execution_count": 21,
   "metadata": {},
   "outputs": [],
   "source": [
    "# Заменим пропуски пустой строкой\n",
    "meta['description'] = meta['description'].apply(set_None)\n",
    "meta['description'] = meta['description'].apply(set_lower)\n",
    "meta['description'] = meta['description'].apply(lambda x: '' if x is None else x)"
   ]
  },
  {
   "cell_type": "code",
   "execution_count": 22,
   "metadata": {},
   "outputs": [],
   "source": [
    "# Заменим перевод строки '\\n' и знаки препинания на ' '\n",
    "intab = \".,;:!?-'()\" \n",
    "outtab = \"          \" \n",
    "trantab = str.maketrans(intab, outtab)\n",
    "\n",
    "meta['description'] = meta['description'].apply(lambda x: x.replace('\\n', ' '))\n",
    "meta['description'] = meta['description'].apply(lambda x: x.translate(trantab))"
   ]
  },
  {
   "cell_type": "code",
   "execution_count": 23,
   "metadata": {},
   "outputs": [],
   "source": [
    "# Проведем анализ текста TF-IDF и снизим размерность\n",
    "stopwords=nltk.corpus.stopwords.words()\n",
    "description = meta['description'].copy(deep=True)\n",
    "\n",
    "tf_idf = TfidfVectorizer(max_features=50, stop_words=stopwords)\n",
    "tf_idf_feature = tf_idf.fit_transform(description).toarray()\n",
    "\n",
    "pca = PCA(n_components=2, random_state=0)\n",
    "tf_idf_pc = pca.fit_transform(tf_idf_feature)\n",
    "df_tfidf = pd.DataFrame(tf_idf_pc, columns=['desc_tfidf1', 'desc_tfidf2'])\n",
    "\n",
    "meta = pd.concat([meta, df_tfidf], axis=1)"
   ]
  },
  {
   "cell_type": "code",
   "execution_count": 24,
   "metadata": {},
   "outputs": [
    {
     "data": {
      "text/plain": [
       "category               [Grocery & Gourmet Food, Meat & Seafood, Lamb]\n",
       "description         [\"usda prime fresh american lamb chops  avg cu...\n",
       "title               USDA Prime Fresh American Lamb Rib Chops Frenc...\n",
       "brand                                                     PastaCheese\n",
       "rank                                     394,794inGroceryGourmetFood(\n",
       "also_view           [B06WWH9Q34, B001DTMLRM, B000Q19PEK, B00TQ6OC7...\n",
       "main_cat                                                      Grocery\n",
       "price                                                          $69.99\n",
       "asin                                                       B000Q19PEA\n",
       "also_buy                                                 [B007OC3734]\n",
       "feature                                                           NaN\n",
       "category_len                                                        3\n",
       "category_len_out                                                    1\n",
       "cat1                                                                1\n",
       "cat2                                                                0\n",
       "cat3                                                                0\n",
       "cat4                                                                0\n",
       "cat5                                                                0\n",
       "cat6                                                                0\n",
       "cat7                                                                0\n",
       "cat8                                                                0\n",
       "cat9                                                                0\n",
       "cat10                                                               0\n",
       "cat11                                                               0\n",
       "cat12                                                               0\n",
       "cat13                                                               0\n",
       "cat14                                                               0\n",
       "cat15                                                               0\n",
       "cat16                                                               0\n",
       "cat17                                                               0\n",
       "cat18                                                               0\n",
       "cat19                                                               0\n",
       "cat20                                                               0\n",
       "cat_other                                                           1\n",
       "desc_tfidf1                                                  0.137558\n",
       "desc_tfidf2                                                 0.0720483\n",
       "Name: 23343, dtype: object"
      ]
     },
     "execution_count": 24,
     "metadata": {},
     "output_type": "execute_result"
    }
   ],
   "source": [
    "meta.iloc[23343]"
   ]
  },
  {
   "cell_type": "markdown",
   "metadata": {},
   "source": [
    "## brand"
   ]
  },
  {
   "cell_type": "code",
   "execution_count": 31,
   "metadata": {},
   "outputs": [
    {
     "name": "stdout",
     "output_type": "stream",
     "text": [
      "<class 'pandas.core.frame.DataFrame'>\n",
      "RangeIndex: 287209 entries, 0 to 287208\n",
      "Data columns (total 1 columns):\n",
      " #   Column  Non-Null Count   Dtype \n",
      "---  ------  --------------   ----- \n",
      " 0   brand   275787 non-null  object\n",
      "dtypes: object(1)\n",
      "memory usage: 2.2+ MB\n",
      "\n",
      "Уникальных значений:  38915\n"
     ]
    }
   ],
   "source": [
    "meta[['brand']].info()\n",
    "print('')\n",
    "print('Уникальных значений: ', len(metastr.brand.unique()))"
   ]
  },
  {
   "cell_type": "code",
   "execution_count": 32,
   "metadata": {},
   "outputs": [
    {
     "data": {
      "text/plain": [
       "Unknown                           1782\n",
       "Black Tie Mercantile              1458\n",
       "Trader Joe's                      1234\n",
       "McCormick                         1041\n",
       "The Nutty Fruit House              998\n",
       "Starbucks                          924\n",
       "Jelly Belly                        902\n",
       "Nestle                             779\n",
       "Frontier                           771\n",
       "Green Mountain Coffee Roasters     734\n",
       "Bob's Red Mill                     716\n",
       "DecoPac                            713\n",
       "HERSHEY'S                          712\n",
       "Roland                             690\n",
       "Wholespice                         656\n",
       "Cadbury                            634\n",
       "Quaker                             616\n",
       "Lindt                              596\n",
       "Kraft                              595\n",
       "Ghirardelli                        594\n",
       "Name: brand, dtype: int64"
      ]
     },
     "execution_count": 32,
     "metadata": {},
     "output_type": "execute_result"
    }
   ],
   "source": [
    "meta['brand'].value_counts()[:20]"
   ]
  },
  {
   "cell_type": "markdown",
   "metadata": {},
   "source": [
    "Есть пропуски, но их не слишком много. Заменим их строкой 'Unknown'.   \n",
    "Снова выделим N самых популярных брендов и превратим в dummy-переменные.   "
   ]
  },
  {
   "cell_type": "code",
   "execution_count": 33,
   "metadata": {},
   "outputs": [],
   "source": [
    "meta.brand = meta.brand.fillna('Unknown')"
   ]
  },
  {
   "cell_type": "code",
   "execution_count": 34,
   "metadata": {},
   "outputs": [],
   "source": [
    "mtr = meta['brand'].value_counts()\n",
    "N = 15"
   ]
  },
  {
   "cell_type": "code",
   "execution_count": 35,
   "metadata": {},
   "outputs": [],
   "source": [
    "# Создадим dummy-переменные\n",
    "top_val = mtr.index[0:N]\n",
    "bottom_val = mtr.index[N:]\n",
    "i = 1\n",
    "for val in top_val:\n",
    "    meta['brand'+str(i)] = meta['brand'].apply(lambda x: 1 if val == x else 0)\n",
    "    i += 1\n",
    "    \n",
    "meta['brand_other'] = meta['brand'].apply(lambda x: 1 if x in bottom_val else 0)"
   ]
  },
  {
   "cell_type": "code",
   "execution_count": 36,
   "metadata": {},
   "outputs": [
    {
     "data": {
      "text/plain": [
       "category            [Grocery & Gourmet Food, Food & Beverage Gifts...\n",
       "description         [ it+s simply the perfect gift for friends and...\n",
       "title               Katie Reilly's Irish Soda Bread Mix Gift Bag, ...\n",
       "brand                                                  Katie Reilly's\n",
       "rank                                     710,773inGroceryGourmetFood(\n",
       "also_view                                                         NaN\n",
       "main_cat                                                      Grocery\n",
       "price                                                             NaN\n",
       "asin                                                       B001EPPJRE\n",
       "also_buy                                                          NaN\n",
       "feature                                                           NaN\n",
       "category_len                                                        3\n",
       "category_len_out                                                    1\n",
       "cat1                                                                1\n",
       "cat2                                                                0\n",
       "cat3                                                                0\n",
       "cat4                                                                0\n",
       "cat5                                                                0\n",
       "cat6                                                                0\n",
       "cat7                                                                0\n",
       "cat8                                                                0\n",
       "cat9                                                                0\n",
       "cat10                                                               0\n",
       "cat11                                                               0\n",
       "cat12                                                               0\n",
       "cat13                                                               0\n",
       "cat14                                                               1\n",
       "cat15                                                               0\n",
       "cat16                                                               0\n",
       "cat17                                                               0\n",
       "cat18                                                               0\n",
       "cat19                                                               0\n",
       "cat20                                                               0\n",
       "cat_other                                                           1\n",
       "desc_tfidf1                                                 -0.046306\n",
       "desc_tfidf2                                                  -0.19386\n",
       "brand1                                                              0\n",
       "brand2                                                              0\n",
       "brand3                                                              0\n",
       "brand4                                                              0\n",
       "brand5                                                              0\n",
       "brand6                                                              0\n",
       "brand7                                                              0\n",
       "brand8                                                              0\n",
       "brand9                                                              0\n",
       "brand10                                                             0\n",
       "brand11                                                             0\n",
       "brand12                                                             0\n",
       "brand13                                                             0\n",
       "brand14                                                             0\n",
       "brand15                                                             0\n",
       "brand_other                                                         1\n",
       "Name: 40892, dtype: object"
      ]
     },
     "execution_count": 36,
     "metadata": {},
     "output_type": "execute_result"
    }
   ],
   "source": [
    "meta.iloc[40892]"
   ]
  },
  {
   "cell_type": "markdown",
   "metadata": {},
   "source": [
    "## title"
   ]
  },
  {
   "cell_type": "code",
   "execution_count": 37,
   "metadata": {},
   "outputs": [
    {
     "name": "stdout",
     "output_type": "stream",
     "text": [
      "<class 'pandas.core.frame.DataFrame'>\n",
      "RangeIndex: 287209 entries, 0 to 287208\n",
      "Data columns (total 1 columns):\n",
      " #   Column  Non-Null Count   Dtype \n",
      "---  ------  --------------   ----- \n",
      " 0   title   287205 non-null  object\n",
      "dtypes: object(1)\n",
      "memory usage: 2.2+ MB\n",
      "\n",
      "Уникальных значений:  281642\n"
     ]
    }
   ],
   "source": [
    "meta[['title']].info()\n",
    "print('')\n",
    "print('Уникальных значений: ', len(metastr.title.unique()))"
   ]
  },
  {
   "cell_type": "code",
   "execution_count": 38,
   "metadata": {},
   "outputs": [],
   "source": [
    "# Есть пропуски, заполним их\n",
    "meta.title = meta.title.apply(set_None)\n",
    "meta.title = meta.apply(lambda row: row['title'] if not (row['title'] is None) \\\n",
    "                        else 'Unknown item brand of '+row['brand'] if not row['brand'] is None \\\n",
    "                        else 'Unknown item', axis=1)"
   ]
  },
  {
   "cell_type": "code",
   "execution_count": 40,
   "metadata": {},
   "outputs": [
    {
     "data": {
      "text/plain": [
       "'var aPageStart = (new Date()).getTime();\\nvar ue_t0=ue_t0||+new Date();\\n\\nwindow.ue_ihb = (window.ue_ihb || window.ueinit || 0) + 1;\\nif (window.ue_ihb === 1) {\\n\\nvar ue_csm = window,\\n    ue_hob = +new Date();\\n(function(d){var e=d.ue=d.ue||{},f=Date.now||function(){return+new Date};e.d=function(b){return f()-(b?0:d.ue_t0)};e.stub=function(b,a){if(!b[a]){var c=[];b[a]=function(){c.push([c.slice.call(arguments),e.d(),d.ue_id])};b[a].replay=function(b){for(var a;a=c.shift();)b(a[0],a[1],a[2])};b[a].isStub=1}};e.exec=function(b,a){return function(){if(1==window.ueinit)try{return b.apply(this,arguments)}catch(c){ueLogError(c,{attribution:a||\"undefined\",logLevel:\"WARN\"})}}}})(ue_csm);\\n\\n\\n    var ue_err_chan = \\'jserr-rw\\';\\n(function(d,e){function h(f,b){if(!(a.ec>a.mxe)&&f){a.ter.push(f);b=b||{};var c=f.logLevel||b.logLevel;c&&c!==k&&c!==m&&c!==n&&c!==p||a.ec++;c&&c!=k||a.ecf++;b.pageURL=\"\"+(e.location?e.location.href:\"\");b.logLevel=c;b.attribution=f.attribution||b.attribution;a.erl.push({ex:f,info:b})}}function l(a,b,c,e,g){d.ueLogError({m:a,f:b,l:c,c:\"\"+e,err:g,fromOnError:1,args:arguments},g?{attribution:g.attribution,logLevel:g.logLevel}:void 0);return!1}var k=\"FATAL\",m=\"ERROR\",n=\"WARN\",p=\"DOWNGRADED\",a={ec:0,ecf:0,\\npec:0,ts:0,erl:[],ter:[],mxe:50,startTimer:function(){a.ts++;setInterval(function(){d.ue&&a.pec<a.ec&&d.uex(\"at\");a.pec=a.ec},1E4)}};l.skipTrace=1;h.skipTrace=1;h.isStub=1;d.ueLogError=h;d.ue_err=a;e.onerror=l})(ue_csm,window);\\n\\n\\nvar ue_id = \\'1SEDXY3HQ2EHWEY72C59\\',\\n    ue_url = \\'/gp/uedata\\',\\n    ue_navtiming = 1,\\n    ue_mid = \\'ATVPDKIKX0DER\\',\\n    ue_sid = \\'144-9395456-0839349\\',\\n    ue_sn = \\'www.amazon.com\\',\\n    ue_furl = \\'fls-na.amazon.com\\',\\n    ue_surl = \\'https://unagi-na.amazon.com/1/events/com.amazon.csm.nexusclient.prod\\',\\n    ue_int = 0,\\n    ue_fcsn = 1,\\n    ue_urt = 3,\\n    ue_rpl_ns = \\'cel-rpl\\',\\n    ue_ddq = 1,\\n    ue_fpf = \\'//fls-na.amazon.com/1/batch/1/OP/ATVPDKIKX0DER:144-9395456-0839349:1SEDXY3HQ2EHWEY72C59$uedata=s:\\',\\n    ue_rsc = 0,\\n    ue_mcimp = 3,\\n    ue_sbuimp = 1,\\n\\n    ue_swi = 1;\\nfunction ue_viz(){(function(c,e,a){function k(b){if(c.ue.viz.length<p&&!l){var a=b.type;b=b.originalEvent;/^focus./.test(a)&&b&&(b.toElement||b.fromElement||b.relatedTarget)||(a=e[m]||(\"blur\"==a||\"focusout\"==a?\"hidden\":\"visible\"),c.ue.viz.push(a+\":\"+(+new Date-c.ue.t0)),\"visible\"==a&&(ue.isl&&uex(\"at\"),l=1))}}for(var l=0,f,g,m,n=[\"\",\"webkit\",\"o\",\"ms\",\"moz\"],d=0,p=20,h=0;h<n.length&&!d;h++)if(a=n[h],f=(a?a+\"H\":\"h\")+\"idden\",d=\"boolean\"==typeof e[f])g=a+\"visibilitychange\",m=(a?a+\"V\":\"v\")+\"isibilityState\";\\nk({});d&&e.addEventListener(g,k,0);c.ue&&d&&(c.ue.pageViz={event:g,propHid:f})})(ue_csm,document,window)};\\n\\n(function(a,g,u){function x(a){return a&&a.replace&&a.replace(/^\\\\s+|\\\\s+$/g,\"\")}function q(a){return\"undefined\"===typeof a}function y(a){try{var b=u.cookie.match(RegExp(\"(^| )\"+a+\"=([^;]+)\"));if(b)return b[2].trim()}catch(c){}}function A(d,b){d&&(a.ue_id=h.id=h.rid=d,a.ue_fpf=a.ue_fpf.replace(/((.*?:){2})(\\\\w+)/,function(a,b){return b+d}));b&&(a.ue_fpf=a.ue_fpf.replace(/(.*?:)(\\\\w|-)+/,function(a,d){return d+b}),a.ue_sid=b);a.ue.tag(\"accelerated-experience\")}function t(d,b,c,k){var g=k||+new Date,n;\\na.ueam&&a.ueam(b,d,k);if(b||q(c)){if(d)for(n in k=b?f(\"t\",b)||f(\"t\",b,{}):a.ue.t,k[d]=g,c)c.hasOwnProperty(n)&&f(n,b,c[n]);return g}}function f(d,b,c){var f=a.ue,g=b&&b!=f.id?f.sc[b]:f;g||(g=f.sc[b]={});\"id\"==d&&c&&(f.cfa2=1);return g[d]=c||g[d]}function C(d,b,c,f,g){c=\"on\"+c;var n=b[c];\"function\"===typeof n?d&&(a.ue.h[d]=n):n=function(){};b[c]=g?function(a){f(a);n(a)}:function(a){n(a);f(a)};b[c]&&(b[c].isUeh=1)}function D(d,b,c){function k(b,c){var e=[b],J=0,g={},n,k;c?(e.push(\"m=1\"),g[c]=1):g=a.ue.sc;\\nfor(k in g)if(g.hasOwnProperty(k)){var l=f(\"wb\",k),h=f(\"t\",k)||{},p=f(\"t0\",k)||a.ue.t0,m;if(c||2==l){l=l?J++:\"\";e.push(\"sc\"+l+\"=\"+k);for(m in h)3>=m.length&&!q(h[m])&&null!==h[m]&&e.push(m+l+\"=\"+(h[m]-p));e.push(\"t\"+l+\"=\"+h[d]);if(f(\"ctb\",k)||f(\"wb\",k))n=1}}!z&&n&&e.push(\"ctb=1\");return e.join(\"&\")}function B(b,c,d,e){if(b){var f=a.ue_err,k;a.ue_url&&(!e||!a.ue.log)&&b&&0<b.length&&(k=new Image,a.ue.iel.push(k),k.src=b);K?a.ue_fpf&&g.encodeURIComponent&&b&&(e=new Image,b=\"\"+a.ue_fpf+g.encodeURIComponent(b)+\\n\":\"+(+new Date-a.ue_t0),a.ue.iel.push(e),e.src=b):a.ue.log&&(k=g.chrome&&\"ul\"==c,a.ue.log(b,\"uedata\",a.ue_svi?{n:1,img:!e&&k?1:0}:{n:1}),a.ue.ielf.push(b));f&&!f.ts&&f.startTimer();a.ue.b&&(f=a.ue.b,a.ue.b=\"\",B(f,c,d,1))}}function n(b){if(!ue.collected){var c=b.timing,e=b.navigation,d=ue.t;c&&(d.na_=c.navigationStart,d.ul_=c.unloadEventStart,d._ul=c.unloadEventEnd,d.rd_=c.redirectStart,d._rd=c.redirectEnd,d.fe_=c.fetchStart,d.lk_=c.domainLookupStart,d._lk=c.domainLookupEnd,d.co_=c.connectStart,d._co=\\nc.connectEnd,d.sc_=c.secureConnectionStart,d.rq_=c.requestStart,d.rs_=c.responseStart,d._rs=c.responseEnd,d.dl_=c.domLoading,d.di_=c.domInteractive,d.de_=c.domContentLoadedEventStart,d._de=c.domContentLoadedEventEnd,d._dc=c.domComplete,d.ld_=c.loadEventStart,d._ld=c.loadEventEnd,c=d.na_,b=\"function\"!==typeof b.now||q(c)?0:new Date(c+b.now())-new Date,d.ntd=b+a.ue.t0);e&&(d.ty=e.type+a.ue.t0,d.rc=e.redirectCount+a.ue.t0);ue.collected=1}}function s(b){var c=r&&r.navigation?r.navigation.type:w,d=c&&\\n2!=c,e=a.ue.bfini;a.ue.cfa2||(e&&1<e&&(b+=\"&bfform=1\",d||(a.ue.isBFT=e-1)),2==c&&(b+=\"&bfnt=1\",a.ue.isBFT=a.ue.isBFT||1),a.ue.ssw&&a.ue.isBFT&&(q(a.ue.isNRBF)&&(c=a.ue.ssw(a.ue.oid),c.e||q(c.val)||(a.ue.isNRBF=1<c.val?0:1)),q(a.ue.isNRBF)||(b+=\"&nrbf=\"+a.ue.isNRBF)),a.ue.isBFT&&!a.ue.isNRBF&&(b+=\"&bft=\"+a.ue.isBFT));return b}if(!h.paused&&(b||q(c))){for(var p in c)c.hasOwnProperty(p)&&f(p,b,c[p]);t(\"pc\",b,c);p=f(\"id\",b)||a.ue.id;var e=a.ue.url+\"?\"+d+\"&v=\"+a.ue.v+\"&id=\"+p,z=f(\"ctb\",b)||f(\"wb\",b),r=\\ng.performance||g.webkitPerformance,l,m;z&&(e+=\"&ctb=\"+z);1<a.ueinit&&(e+=\"&ic=\"+a.ueinit);!a.ue._fi||\"at\"!=d||b&&b!=p||(e+=a.ue._fi());if(!(\"ld\"!=d&&\"ul\"!=d||b&&b!=p)){if(\"ld\"==d){try{g.onbeforeunload&&g.onbeforeunload.isUeh&&(g.onbeforeunload=null)}catch(y){}if(g.chrome)for(m=0;m<ue.ulh.length;m++)E(\"beforeunload\",ue.ulh[m]);(m=u.ue_backdetect)&&m.ue_back&&m.ue_back.value++;a._uess&&(l=a._uess());a.ue.isl=1}ue._bf&&(e+=\"&bf=\"+ue._bf());a.ue_navtiming&&r&&r.timing&&(f(\"ctb\",p,\"1\"),1==a.ue_navtiming&&\\nt(\"tc\",w,w,r.timing.navigationStart));r&&n(r);a.ue.t.hob=a.ue_hob;a.ue.t.hoe=a.ue_hoe;a.ue.ifr&&(e+=\"&ifr=1\")}t(d,b,c);c=\"ld\"==d&&b&&f(\"wb\",b);var v;c||b&&b!==p||L(b);c||p==a.ue.oid||M((f(\"t\",b)||{}).tc||+f(\"t0\",b),+f(\"t0\",b));a.ue_mbl&&a.ue_mbl.cnt&&!c&&(e+=a.ue_mbl.cnt());c?f(\"wb\",b,2):\"ld\"==d&&(h.lid=x(p));for(v in a.ue.sc)if(1==f(\"wb\",v))break;if(c){if(a.ue.s)return;e=k(e,null)}else m=k(e,null),m!=e&&(m=s(m),a.ue.b=m),l&&(e+=l),e=k(e,b||a.ue.id);e=s(e);if(a.ue.b||c)for(v in a.ue.sc)2==f(\"wb\",\\nv)&&delete a.ue.sc[v];l=0;ue._rt&&(e+=\"&rt=\"+ue._rt());c||(a.ue.s=0,(l=a.ue_err)&&0<l.ec&&l.pec<l.ec&&(l.pec=l.ec,e+=\"&ec=\"+l.ec+\"&ecf=\"+l.ecf),l=f(\"ctb\",b),f(\"t\",b,{}));e&&a.ue.tag&&0<a.ue.tag().length&&(e+=\"&csmtags=\"+a.ue.tag().join(\"|\"),a.ue.tag=a.ue.tagC());e&&a.ue.viz&&0<a.ue.viz.length&&(e+=\"&viz=\"+a.ue.viz.join(\"|\"),a.ue.viz=[]);e&&!q(a.ue_pty)&&(e+=\"&pty=\"+a.ue_pty+\"&spty=\"+a.ue_spty+\"&pti=\"+a.ue_pti);e&&a.ue.tabid&&(e+=\"&tid=\"+a.ue.tabid);e&&a.ue.aftb&&(e+=\"&aftb=1\");e&&a.ue.sbf&&(e+=\"&sbf=1\");\\n!a.ue._ui||b&&b!=p||(e+=a.ue._ui());a.ue.a=e;B(e,d,l,c)}}function L(a){var b=g.ue_csm_markers||{},c;for(c in b)b.hasOwnProperty(c)&&t(c,a,w,b[c])}function s(d,b,c){c=c||g;a.ue_pel&&window.EventTarget&&window.EventTarget.prototype&&window.EventTarget.prototype.addEventListener?window.EventTarget.prototype.addEventListener.call(c,d,b,!!window.ue_clf):c.addEventListener?c.addEventListener(d,b,!!window.ue_clf):c.attachEvent&&c.attachEvent(\"on\"+d,b)}function E(d,b,c){c=c||g;a.ue_pel&&window.EventTarget&&\\nwindow.EventTarget.prototype&&window.EventTarget.prototype.removeEventListener?window.EventTarget.prototype.removeEventListener.call(c,d,b,!!window.ue_clf):c.removeEventListener?c.removeEventListener(d,b,!!window.ue_clf):c.detachEvent&&c.detachEvent(\"on\"+d,b)}function F(){function d(){a.onUl()}function b(a){return function(){c[a]||(c[a]=1,D(a))}}var c=a.ue.r,f,h;a.onLd=b(\"ld\");a.onLdEnd=b(\"ld\");a.onUl=b(\"ul\");f={stop:b(\"os\")};g.chrome?(s(\"beforeunload\",d),ue.ulh.push(d)):f[N]=a.onUl;for(h in f)f.hasOwnProperty(h)&&\\nC(0,g,h,f[h]);a.ue_viz&&ue_viz();O&&s(\"readystatechange\",P,u);s(\"load\",a.onLd);t(\"ue\")}function P(){\"complete\"===u.readyState&&(Q?setTimeout(G,0):G())}function G(){var d;if(!(d=ue.isl)&&(d=R))a:{d=u.images||[];for(var b=0;b<d.length;b++)if(!1===d[b].complete){d=!1;break a}d=!0}if(!d)a.onUl()}function M(d,b){a.ue_mbl&&a.ue_mbl.ajax&&a.ue_mbl.ajax(d,b);a.ue.tag(\"ajax-transition\")}a.ueinit=(a.ueinit||0)+1;var h={t0:g.aPageStart||a.ue_t0,id:a.ue_id,url:a.ue_url,rid:a.ue_id,a:\"\",b:\"\",h:{},r:{ld:0,oe:0,\\nul:0},s:1,t:{},sc:{},iel:[],ielf:[],fc_idx:{},viz:[],v:\"0.202589.0\",d:a.ue&&a.ue.d,log:a.ue&&a.ue.log,clog:a.ue&&a.ue.clog,onflush:a.ue&&a.ue.onflush,onunload:a.ue&&a.ue.onunload,stub:a.ue&&a.ue.stub,lr:a.ue&&a.ue.lr,exec:a.ue&&a.ue.exec,event:a.ue&&a.ue.event,onSushiUnload:a.ue&&a.ue.onSushiUnload,onSushiFlush:a.ue&&a.ue.onSushiFlush,ulh:[],cfa2:0,paused:!1},K=a.ue_fpf?1:0,O=1===a.ue_rsc||3===a.ue_rsc,Q=3===a.ue_rsc,R=1===a.ue_rsc,N=\"beforeunload\",w;h.oid=x(h.id);h.lid=x(h.id);a.ue=h;a.ue._t0=a.ue.t0;\\na.ue.tagC=function(){var a={};return function(b){b&&(a[b]=1);b=[];for(var c in a)a.hasOwnProperty(c)&&b.push(c);return b}};a.ue.tag=a.ue.tagC();a.ue.ifr=g.top!==g.self||g.frameElement?1:0;ue.attach=s;ue.detach=E;if(\"000-0000000-8675309\"===a.ue_sid){var H=y(\"cdn-rid\"),I=y(\"session-id\");H&&I&&A(H,I)}a.uei=F;a.ueh=C;a.ues=f;a.uet=t;a.uex=D;h.reset=A;h.pause=function(a){h.paused=a};F()})(ue_csm,window,ue_csm.document);\\n\\n\\nue.stub(ue,\"event\");ue.stub(ue,\"onSushiUnload\");ue.stub(ue,\"onSushiFlush\");\\n\\nue.stub(ue,\"log\");ue.stub(ue,\"onunload\");ue.stub(ue,\"onflush\");\\n(function(c){var a=c.ue;a.cv={};a.cv.scopes={};a.count=function(d,c,b){var e={},f=a.cv,g=b&&0===b.c;e.counter=d;e.value=c;e.t=a.d();b&&b.scope&&(f=a.cv.scopes[b.scope]=a.cv.scopes[b.scope]||{},e.scope=b.scope);if(void 0===c)return f[d];f[d]=c;d=0;b&&b.bf&&(d=1);ue_csm.ue_sclog||!a.clog||0!==d||g?a.log&&a.log(e,\"csmcount\",{c:1,bf:d}):a.clog(e,\"csmcount\",{bf:d})};a.count(\"baselineCounter2\",1);a&&a.event&&(a.event({requestId:c.ue_id||\"rid\",server:c.ue_sn||\"sn\",obfuscatedMarketplaceId:c.ue_mid||\"mid\"},\\n\"csm\",\"csm.CSMBaselineEvent.4\"),a.count(\"nexusBaselineCounter\",1,{bf:1}))})(ue_csm);\\n\\n\\n\\nvar ue_hoe = +new Date();\\n}\\nwindow.ueinit = window.ue_ihb;\\n\\n\\n\\n\\n(function(g,h,O,pa){function k(a){w&&w.tag&&w.tag(q(\":\",\"aui\",a))}function v(a,b){w&&w.count&&w.count(\"aui:\"+a,0===b?0:b||(w.count(\"aui:\"+a)||0)+1)}function l(a){try{return a.test(navigator.userAgent)}catch(b){return!1}}function x(a,b,c){a.addEventListener?a.addEventListener(b,c,!1):a.attachEvent&&a.attachEvent(\"on\"+b,c)}function q(a,b,c,d){b=b&&c?b+a+c:b||c;return d?q(a,b,d):b}function F(a,b,c){try{Object.defineProperty(a,b,{value:c,writable:!1})}catch(d){a[b]=c}return c}function P(){return setTimeout(Y,\\n0)}function qa(a,b){var c=a.length,d=c,f=function(){d--||(Q.push(b),R||(P(),R=!0))};for(f();c--;)Z[a[c]]?f():(z[a[c]]=z[a[c]]||[]).push(f)}function ra(a,b,c,d,f){var e=h.createElement(a?\"script\":\"link\");x(e,\"error\",d);f&&x(e,\"load\",f);if(a){e.type=\"text/javascript\";e.async=!0;if(a=c)a=-1!==b.indexOf(\"images/I\")||/AUIClients/.test(b);a&&e.setAttribute(\"crossorigin\",\"anonymous\");e.src=b}else e.rel=\"stylesheet\",e.href=b;h.getElementsByTagName(\"head\")[0].appendChild(e)}function aa(a,b){function c(c,d){function f(){ra(b,\\nc,h,function(b){!G&&h?(h=!1,v(\"resource_retry\"),f()):(v(\"resource_error\"),a.log(\"Asset failed to load: \"+c,G?\"WARN\":void 0));b&&b.stopPropagation?b.stopPropagation():g.event&&(g.event.cancelBubble=!0)},d)}if(ba[c])return!1;ba[c]=!0;v(\"resource_count\");var h=!0;return!f()}if(b){var d=0,f=0;c.andConfirm=function(a,b){return c(a,function(){d++;b&&b.apply(this,arguments)})};c.confirm=function(){f++};c.getCsriCounters=function(){return{reqs:d,full:f}}}return c}function sa(a,b,c){for(var d={name:a,guard:function(c){return b.guardFatal(a,\\nc)},logError:function(c,d,f){b.logError(c,d,f,a)}},f=[],e=0;e<c.length;e++)H.hasOwnProperty(c[e])&&(f[e]=S.hasOwnProperty(c[e])?S[c[e]](H[c[e]],d):H[c[e]]);return f}function A(a,b,c,d,f){return function(e,h){function n(){var a=null;d?a=h:\"function\"===typeof h&&(p.start=B(),a=h.apply(g,sa(e,k,l)),p.end=B());if(b){H[e]=a;a=e;for(Z[a]=!0;(z[a]||[]).length;)z[a].shift()();delete z[a]}p.done=!0}var k=f||this;\"function\"===typeof e&&(h=e,e=void 0);b&&(e=e?e.replace(ca,\"\"):\"__NONAME__\",T.hasOwnProperty(e)&&\\nk.error(q(\", reregistered by \",q(\" by \",e+\" already registered\",T[e]),k.attribution),e),T[e]=k.attribution);for(var l=[],m=0;m<a.length;m++)l[m]=a[m].replace(ca,\"\");var p=da[e||\"anon\"+ ++ta]={depend:l,registered:B(),namespace:k.namespace};c?n():qa(l,k.guardFatal(e,n));return{decorate:function(a){S[e]=k.guardFatal(e,a)}}}}function ea(a){return function(){var b=Array.prototype.slice.call(arguments);return{execute:A(b,!1,a,!1,this),register:A(b,!0,a,!1,this)}}}function U(a,b){return function(c,d){d||\\n(d=c,c=void 0);var f=this.attribution;return function(){y.push(b||{attribution:f,name:c,logLevel:a});var e=d.apply(this,arguments);y.pop();return e}}}function I(a,b){this.load={js:aa(this,!0),css:aa(this)};F(this,\"namespace\",b);F(this,\"attribution\",a)}function fa(){h.body?r.trigger(\"a-bodyBegin\"):setTimeout(fa,20)}function C(a,b){if(b){for(var c=a.className.split(\" \"),d=c.length;d--;)if(c[d]===b)return;a.className+=\" \"+b}}function ga(a,b){for(var c=a.className.split(\" \"),d=[],f;void 0!==(f=c.pop());)f&&\\nf!==b&&d.push(f);a.className=d.join(\" \")}function ha(a){try{return a()}catch(b){return!1}}function J(){if(K){var a=g.innerWidth?{w:g.innerWidth,h:g.innerHeight}:{w:m.clientWidth,h:m.clientHeight};5<Math.abs(a.w-V.w)||50<a.h-V.h?(V=a,L=4,(a=n.mobile||n.tablet?450<a.w&&a.w>a.h:1250<=a.w)?C(m,\"a-ws\"):ga(m,\"a-ws\")):0<L&&(L--,ia=setTimeout(J,16))}}function ua(a){(K=void 0===a?!K:!!a)&&J()}function va(){return K}function t(a,b){return\"sw:\"+(b||\"\")+\":\"+a+\":\"}function ja(a,b,c,d){if(c){b=l(/Chrome/i)&&!l(/Edge/i)&&\\n!l(/OPR/i)&&!a.capabilities.isAmazonApp;var f=t(d,\"browser\"),e=t(d,\"prod_mshop\"),g=t(d,\"beta_mshop\");!a.capabilities.isAmazonApp&&c.browser&&b&&(k(f+\"supported\"),c.browser.action(f,d));!b&&c.browser&&k(f+\"unsupported\");c.prodMshop&&k(e+\"unsupported\");c.betaMshop&&k(g+\"unsupported\")}}\"use strict\";var M=O.now=O.now||function(){return+new O},B=function(a){return a&&a.now?a.now.bind(a):M}(g.performance);pa=B();var u=g.AmazonUIPageJS||g.P;if(u&&u.when&&u.register)throw Error(\"A copy of P has already been loaded on this page.\");\\nvar w=g.ue;k();k(\"aui_build_date:3.18.16-2018-12-25\");var Q=[],R=!1,Y;Y=function(){for(var a=P(),b=M();Q.length;)if(Q.shift()(),50<M()-b)return;clearTimeout(a);R=!1};l(/OS 6_[0-9]+ like Mac OS X/i)&&x(g,\"scroll\",P);var Z={},z={},ba={},G=!1;x(g,\"beforeunload\",function(){G=!0;setTimeout(function(){G=!1},1E4)});var ca=/^prv:/,T={},H={},S={},da={},ta=0,D,y=[],ka=g.onerror;g.onerror=function(a,b,c,d,f){f&&\"object\"===typeof f||(f=Error(a,b,c),f.columnNumber=d,f.stack=b||c||d?q(String.fromCharCode(92),f.message,\\n\"at \"+q(\":\",b,c,d)):void 0);var e=y.pop()||{};f.attribution=q(\":\",f.attribution||e.attribution,e.name);f.logLevel=e.logLevel;f.attribution&&console&&console.log&&console.log([f.logLevel||\"ERROR\",a,\"thrown by\",f.attribution].join(\" \"));y=[];ka&&(e=[].slice.call(arguments),e[4]=f,ka.apply(g,e))};I.prototype={logError:function(a,b,c,d){b={message:b,logLevel:c||\"ERROR\",attribution:q(\":\",this.attribution,d)};if(g.ueLogError)return g.ueLogError(a||b,a?b:null),!0;console&&console.error&&(console.log(b),\\nconsole.error(a));return!1},error:function(a,b,c,d){a=Error(q(\":\",d,a,c));a.attribution=q(\":\",this.attribution,b);throw a;},guardError:U(),guardFatal:U(\"FATAL\"),guardCurrent:function(a){var b=y[y.length-1];return b?U(b.logLevel,b).call(this,a):a},log:function(a,b,c){return this.logError(null,a,b,c)},declare:A([],!0,!0,!0),register:A([],!0),execute:A([]),AUI_BUILD_DATE:\"3.18.16-2018-12-25\",when:ea(),now:ea(!0),trigger:function(a,b,c){var d=M();this.declare(a,{data:b,pageElapsedTime:d-(g.aPageStart||\\nNaN),triggerTime:d});c&&c.instrument&&D.when(\"prv:a-logTrigger\").execute(function(b){b(a)})},handleTriggers:function(){this.log(\"handleTriggers deprecated\")},attributeErrors:function(a){return new I(a)},_namespace:function(a,b){return new I(a,b)}};var r=F(g,\"AmazonUIPageJS\",new I);D=r._namespace(\"PageJS\",\"AmazonUI\");D.declare(\"prv:p-debug\",da);r.declare(\"p-recorder-events\",[]);r.declare(\"p-recorder-stop\",function(){});F(g,\"P\",r);fa();if(h.addEventListener){var la;h.addEventListener(\"DOMContentLoaded\",\\nla=function(){r.trigger(\"a-domready\");h.removeEventListener(\"DOMContentLoaded\",la,!1)},!1)}var m=h.documentElement,W=function(){var a=[\"O\",\"ms\",\"Moz\",\"Webkit\"],b=h.createElement(\"div\");return{testGradients:function(){b.style.cssText=\"background-image:-webkit-gradient(linear,left top,right bottom,from(#9f9),to(white));background-image:-webkit-linear-gradient(left top,#9f9,white);background-image:linear-gradient(left top,#9f9,white);\";return-1<b.style.backgroundImage.indexOf(\"gradient\")},test:function(c){var d=\\nc.charAt(0).toUpperCase()+c.substr(1);c=(a.join(d+\" \")+d+\" \"+c).split(\" \");for(d=c.length;d--;)if(\"\"===b.style[c[d]])return!0;return!1},testTransform3d:function(){var a=!1;g.matchMedia&&(a=g.matchMedia(\"(-webkit-transform-3d)\").matches);return a}}}(),u=m.className,ma=/(^| )a-mobile( |$)/.test(u),na=/(^| )a-tablet( |$)/.test(u),n={audio:function(){return!!h.createElement(\"audio\").canPlayType},video:function(){return!!h.createElement(\"video\").canPlayType},canvas:function(){return!!h.createElement(\"canvas\").getContext},\\nsvg:function(){return!!h.createElementNS&&!!h.createElementNS(\"http://www.w3.org/2000/svg\",\"svg\").createSVGRect},offline:function(){return navigator.hasOwnProperty&&navigator.hasOwnProperty(\"onLine\")&&navigator.onLine},dragDrop:function(){return\"draggable\"in h.createElement(\"span\")},geolocation:function(){return!!navigator.geolocation},history:function(){return!(!g.history||!g.history.pushState)},webworker:function(){return!!g.Worker},autofocus:function(){return\"autofocus\"in h.createElement(\"input\")},\\ninputPlaceholder:function(){return\"placeholder\"in h.createElement(\"input\")},textareaPlaceholder:function(){return\"placeholder\"in h.createElement(\"textarea\")},localStorage:function(){return\"localStorage\"in g&&null!==g.localStorage},orientation:function(){return\"orientation\"in g},touch:function(){return\"ontouchend\"in h},gradients:function(){return W.testGradients()},hires:function(){var a=g.devicePixelRatio&&1.5<=g.devicePixelRatio||g.matchMedia&&g.matchMedia(\"(min-resolution:144dpi)\").matches;v(\"hiRes\"+\\n(ma?\"Mobile\":na?\"Tablet\":\"Desktop\"),a?1:0);return a},transform3d:function(){return W.testTransform3d()},touchScrolling:function(){return l(/Windowshop|android.([3-9]|[L-Z])|OS ([5-9]|[1-9][0-9]+)(_[0-9]{1,2})+ like Mac OS X|Chrome|Silk|Firefox|Trident.+?; Touch/i)},ios:function(){return l(/OS [1-9][0-9]*(_[0-9]*)+ like Mac OS X/i)&&!l(/trident|Edge/i)},android:function(){return l(/android.([1-9]|[L-Z])/i)&&!l(/trident|Edge/i)},mobile:function(){return ma},tablet:function(){return na}},p;for(p in n)n.hasOwnProperty(p)&&\\n(n[p]=ha(n[p]));for(var X=\"textShadow textStroke boxShadow borderRadius borderImage opacity transform transition\".split(\" \"),N=0;N<X.length;N++)n[X[N]]=ha(function(){return W.test(X[N])});var K=!0,ia=0,V={w:0,h:0},L=4;J();x(g,\"resize\",function(){clearTimeout(ia);L=4;J()});var oa={getItem:function(a){try{return g.localStorage.getItem(a)}catch(b){}},setItem:function(a,b){try{return g.localStorage.setItem(a,b)}catch(c){}}};ga(m,\"a-no-js\");C(m,\"a-js\");!l(/OS [1-8](_[0-9]*)+ like Mac OS X/i)||g.navigator.standalone||\\nl(/safari/i)||C(m,\"a-ember\");u=[];for(p in n)n.hasOwnProperty(p)&&n[p]&&u.push(\"a-\"+p.replace(/([A-Z])/g,function(a){return\"-\"+a.toLowerCase()}));C(m,u.join(\" \"));m.setAttribute(\"data-aui-build-date\",\"3.18.16-2018-12-25\");r.register(\"p-detect\",function(){return{capabilities:n,localStorage:n.localStorage&&oa,toggleResponsiveGrid:ua,responsiveGridEnabled:va}});l(/UCBrowser/i)||n.localStorage&&C(m,oa.getItem(\"a-font-class\"));r.declare(\"a-event-revised-handling\",!1);var E=navigator.serviceWorker;E&&x(E,\\n\"message\",function(a){a&&a.data&&v(a.data.k,a.data.v)});p={reg:{},unreg:{}};p.unreg.browser={action:function(a,b){var c=E.getRegistrations();c&&c.then(function(c){c.forEach(function(c){c.unregister().then(function(){v(a+\"success\")}).catch(function(c){r.logError(c,\"[AUI SW] Failed to \"+b+\" service worker: \");v(a+\"failure\")})})})}};(function(a){var b=a.reg,c=a.unreg;E&&E.getRegistrations?(D.when(\"A\",\"a-util\").execute(function(a,b){ja(a,b,c,\"unregister\")}),x(g,\"load\",function(){D.when(\"A\",\"a-util\").execute(function(a,\\nc){ja(a,c,b,\"register\")})})):(b&&(b.browser&&k(t(\"register\",\"browser\")+\"unsupported\"),b.prodMshop&&k(t(\"register\",\"prod_mshop\")+\"unsupported\"),b.betaMshop&&k(t(\"register\",\"beta_mshop\")+\"unsupported\")),c&&(c.browser&&k(t(\"unregister\",\"browser\")+\"unsupported\"),c.prodMshop&&k(t(\"unregister\",\"prod_mshop\")+\"unsupported\"),c.betaMshop&&k(t(\"unregister\",\"beta_mshop\")+\"unsupported\")))})(p);r.declare(\"a-fix-event-off\",!1);v(\"pagejs:pkgExecTime\",B()-NaN)})(window,document,Date);\\n(window.AmazonUIPageJS ? AmazonUIPageJS : P).when(\\'sp.load.js\\').execute(function() {\\n  (window.AmazonUIPageJS ? AmazonUIPageJS : P).load.js(\\'https://images-na.ssl-images-amazon.com/images/I/61o5HuBKUHL._RC|11IYhapguOL.js,61VQRvc280L.js,21iSNz47xoL.js,012FVc3131L.js,119KAWlHU6L.js,31fv8bqHLoL.js,31ReKJl2X6L.js,51WivJzk7vL.js,11AHlQhPRjL.js,01NATrwbNUL.js,11aNYFFS5hL.js,116tgw9TSaL.js,21auxuI+dRL.js,01PoLXBDXWL.js,61GDyZ5kYqL.js,01mi-J86cyL.js,11BOgvnnntL.js,31SG6rlHlbL.js,01rpauTep4L.js,01iyxuSGj4L.js,01XI-Ief5sL.js_.js?AUIClients/AmazonUI#168183-T1.177619-T1.144375-T1\\');\\n});\\n\\n\\n.nav-sprite-v1 .nav-sprite, .nav-sprite-v1 .nav-icon {\\n  background-image: url(https://images-na.ssl-images-amazon.com/images/G/01/gno/sprites/nav-sprite-global_bluebeacon-V3-1x_optimized._CB483188077_.png);\\n  background-position: 0 1000px;\\n  background-repeat: repeat-x;\\n}\\n.nav-spinner {\\n  background-image: url(https://images-na.ssl-images-amazon.com/images/G/01/javascripts/lib/popover/images/snake._CB192571611_.gif);\\n  background-position: center center;\\n  background-repeat: no-repeat;\\n}\\n.nav-timeline-icon, .nav-access-image, .nav-timeline-prime-icon {\\n  background-image: url(https://images-na.ssl-images-amazon.com/images/G/01/gno/sprites/timeline_sprite_1x._CB276239408_.png);\\n  background-repeat: no-repeat;\\n}\\n\\n\\n\\n\\n\\n.ap_popover_unsprited .ap_body .ap_left{background-image:url(https://images-na.ssl-images-amazon.com/images/G/01/javascripts/lib/popover/images/po_left_17._V1_.png)}.ap_popover_unsprited .ap_body .ap_right{background-image:url(https://images-na.ssl-images-amazon.com/images/G/01/javascripts/lib/popover/images/po_right_17._V1_.png)}.ap_popover_unsprited .ap_header .ap_left{background-image:url(https://images-na.ssl-images-amazon.com/images/G/01/javascripts/lib/popover/images/po_top_left._V1_.png)}.ap_popover_unsprited .ap_header .ap_right{background-image:url(https://images-na.ssl-images-amazon.com/images/G/01/javascripts/lib/popover/images/po_top_right._V1_.png)}.ap_popover_unsprited .ap_header .ap_middle{background-image:url(https://images-na.ssl-images-amazon.com/images/G/01/javascripts/lib/popover/images/po_top._V1_.png)}.ap_popover_unsprited .ap_footer .ap_left{background-image:url(https://images-na.ssl-images-amazon.com/images/G/01/javascripts/lib/popover/images/po_bottom_left._V1_.png)}.ap_popover_unsprited .ap_footer .ap_right{background-image:url(https://images-na.ssl-images-amazon.com/images/G/01/javascripts/lib/popover/images/po_bottom_right._V1_.png)}.ap_popover_unsprited .ap_footer .ap_middle{background-image:url(https://images-na.ssl-images-amazon.com/images/G/01/javascripts/lib/popover/images/po_bottom._V1_.png)}.ap_popover_sprited .ap_body .ap_left,.ap_popover_sprited .ap_body .ap_right{background-image:url(https://images-na.ssl-images-amazon.com/images/G/01/javascripts/lib/popover/images/light/sprite-v._V1_.png)}.ap_popover_sprited .ap_closebutton,.ap_popover_sprited .ap_footer .ap_left,.ap_popover_sprited .ap_footer .ap_middle,.ap_popover_sprited .ap_footer .ap_right,.ap_popover_sprited .ap_header .ap_left,.ap_popover_sprited .ap_header .ap_middle,.ap_popover_sprited .ap_header .ap_right{background-image:url(https://images-na.ssl-images-amazon.com/images/G/01/javascripts/lib/popover/images/light/sprite-h._V1_.png)}.ap_popover_sprited .ap_body .ap_left-arrow,.ap_popover_sprited .ap_body .ap_right-arrow{background-image:url(https://images-na.ssl-images-amazon.com/images/G/01/javascripts/lib/popover/images/light/sprite-arrow-v._V1_.png)}.ap_popover{position:absolute;outline:0}.ap_body{height:100%;min-height:36px;position:relative;background-color:#fff;margin:0 17px}.ap_body .ap_left,.ap_popover_sprited .ap_body .ap_left-arrow{width:17px;height:100%;position:absolute;top:0;left:-17px;background-attachment:scroll;background-repeat:repeat-y}.ap_popover_sprited .ap_body .ap_left{background-position:0 top}.ap_body .ap_right,.ap_popover_sprited .ap_body .ap_right-arrow{width:17px;height:100%;position:absolute;top:0;right:-17px;background-attachment:scroll;background-repeat:repeat-y}.ap_popover_sprited .ap_body .ap_right{background-position:-51px top}.ap_footer,.ap_header{position:relative;width:100%}.ap_footer *,.ap_header *{height:26px}.ap_header .ap_left{position:absolute;top:0;left:0;width:34px;background-attachment:scroll;background-repeat:no-repeat}.ap_popover_sprited .ap_header .ap_left{background-position:left -2px}.ap_header .ap_right{width:34px;position:absolute;top:0;right:0;background-attachment:scroll;background-repeat:no-repeat}.ap_popover_sprited .ap_header .ap_right{background-position:right -2px}.ap_header .ap_middle{margin:0 34px;background-attachment:scroll;background-repeat:repeat-x}.ap_popover_sprited .ap_header .ap_middle{background-position:0 -70px}.ap_footer .ap_left{position:absolute;top:0;left:0;width:34px;background-attachment:scroll;background-repeat:no-repeat}.ap_popover_sprited .ap_footer .ap_left{background-position:left -40px}.ap_footer .ap_right{width:34px;position:absolute;top:0;right:0;background-attachment:scroll;background-repeat:no-repeat}.ap_popover_sprited .ap_footer .ap_right{background-position:right -40px}.ap_footer .ap_middle{margin:0 34px;background-attachment:scroll;background-repeat:repeat-x}.ap_popover_sprited .ap_footer .ap_middle{background-position:0 -108px}.ap_popover .ap_titlebar{display:none;position:absolute;left:0;top:0;background-color:#EAF3FE;border-bottom:1px solid #C2DDF2;font-size:14px;font-weight:700;margin:8px 18px;white-space:nowrap;overflow:hidden}.ap_popover .ap_titlebar.multiline{white-space:normal;overflow:visible}.ap_popover .ap_titlebar .ap_title{padding:4px 0;margin-left:10px;overflow:hidden}#ap_overlay,#ap_overlay div{background-color:#3F4C58;width:100%;position:absolute;top:0;left:0;z-index:99}.ap_popover .ap_close{position:absolute;right:18px;top:13px}.ap_popover .ap_close a{padding:5px;text-decoration:none;outline:0}.ap_popover .ap_close .ap_closetext{display:none;margin-right:5px;line-height:1em}.ap_popover .ap_closebutton{display:-moz-inline-box;display:inline-block;width:15px;height:15px;background-repeat:no-repeat;background-position:0 -136px;position:relative;overflow:hidden;vertical-align:top}.ap_popover .ap_closebutton span{position:absolute;top:-9999px}.ap_popover .ap_close img{vertical-align:top}.ap_classic{border-top:1px solid #ccc;border-left:1px solid #ccc;border-bottom:1px solid #2F2F1D;border-right:1px solid #2F2F1D;background-color:#EFEDD4;padding:3px}.ap_classic .ap_titlebar{color:#86875D;font-size:12px;padding:0 0 3px 0;line-height:1em}.ap_classic .ap_close{float:right}.ap_classic .ap_content{clear:both;background-color:#fff;border:1px solid #ACA976;padding:8px;font-size:11px}\\n\\n\\n\\n\\n(function(d,b,m){function c(a){return\"--private-amznjqshim-\"+a}function e(a,l){var b=c(l);d.now(b).execute(c(a+\"-\"+b)+\"-\"+f++,function(a){void 0===a&&d.declare(b,!0)})}function h(a){e(\"markRequested\",\"functionality-requested:\"+a)}function g(a){e(\"completedStage\",\"stage-\"+a)}b.goN2Debug||(b.goN2Debug={info:function(){}});\"use strict\";var f=0,k=b.amznJQ=new function(){this.addLogical=this.addStyle=this.addStyles=this.PLNow=this.windowOnLoad=function(){};this.declareAvailable=function(a){e(\"declaring\",\\na)};this.available=function(a,b){a=c(a);h(a);d.when(a,c(\"jQuery\")).execute(c(\"available-\"+a)+\"-\"+f++,b)};this.onReady=function(a,b){a=c(a);h(a);d.when(a,\"a-domready\",c(\"jQuery\")).execute(c(\"onReady-\"+a)+\"-\"+f++,b)};this.onCompletion=function(a,b){var e=c(\"stage-\"+a);d.when(e,c(\"jQuery\")).execute(b)};this.completedStage=function(a){g(a)};this.addPL=function(a){d.when(\"a-preload\").execute(c(\"Preloader\")+\"-\"+f++,function(b){b.preload(a)})};this.strings={};this.chars={}};d.when(\"load\").execute(c(\"fail-safe-stages\"),\\nfunction(){g(\"amznJQ.theFold\");g(\"amznJQ.criticalFeature\")});d.when(\"jQuery\").execute(\"define amznJQ jQuery\",function(a){b.jQuery||(b.jQuery=a);k.jQuery||(k.jQuery=a);e(\"declaring\",\"jQuery\")})})(window.P||window.AmazonUIPageJS,window,document);\\n(window.AmazonUIPageJS ? AmazonUIPageJS : P).when(\\'atf\\').execute(function(){\\n  (window.AmazonUIPageJS ? AmazonUIPageJS : P).load.js(\\'https://images-na.ssl-images-amazon.com/images/I/417QjYmMtBL.js?AUIClients/AmazonPopoversAUIShim#us\\');\\n  (window.AmazonUIPageJS ? AmazonUIPageJS : P).load.js(\\'https://images-na.ssl-images-amazon.com/images/I/31gnJjWvxPL._RC|11div+n5b+L.js,21lOtnkorWL.js,51CysS8km3L.js,31g6QUCju5L.js,21+4XneTXRL.js,318rs4piGPL.js,01jEqq6I0UL.js,0185ITV0M6L.js,41+MVzL0WbL.js,217XOv1WjVL.js,01Gx8DhrplL.js,011qZnP-NfL.js,11H+quk5jAL.js,21FBJlPfM6L.js,11ZdiaYG8gL.js,81Mo7y0dCeL.js,6179IBZcR+L.js,31UjTApGOPL.js,01LHJt5PiyL.js,11B9yJN+bnL.js,31Ac-cQ+ZWL.js,01fEkjo0KKL.js,0193uyIciNL.js,41D4kRuiy9L.js,31ad06VRAqL.js,11e9-8uUHQL.js,01s9HEfbt3L.js,11iHZuQapKL.js,61iXRFOTloL.js,11WBo+4152L.js,11MQqFPEK+L.js,41EDKFa-8YL.js,11G4c43OZvL.js,21Ug6yrFIdL.js,3133OUNaHqL.js,11jf5oS-4FL.js,01X2zigX4kL.js,210mdW2-ZEL.js,21mymEONFtL.js,61+TkNaM7yL.js,515EXqsrGfL.js,21OJDARBhQL.js,41s+OBPxTPL.js,01IWUb29Q4L.js,01JzE3-DfLL.js_.js?AUIClients/USHardlinesDetailPageMetaAssetFixed#desktop.us.164772-T1.141052-T1.146207-T1.172469-T1.155915-T1.111960-T1.146883-T1.151985-T1.136850-T1.123392-T1.114779-T1.120067-T1.131900-T1.184660-C.162909-C.108310-T1.156391-T1.80562-T1.107686-T1.172346-T1.133003-T1\\');\\n  (window.AmazonUIPageJS ? AmazonUIPageJS : P).load.js(\\'https://images-na.ssl-images-amazon.com/images/I/21e71NrLt3L._RC|11Ze1YhMgJL.js,21Wa0ZZVAmL.js,31qpl48GBDL.js,41UXUgXh7tL.js,31bQ6uPDcgL.js,312xLUEw6sL.js,51EkUAdxEhL.js,21NDIsf0a1L.js,015TRQC5i+L.js,61e7xszHEhL.js,01lcH4zcTaL.js,01OtvpwikQL.js,51TAluzWqWL.js,01qwoVEkKlL.js,21mR+GlPoIL.js,01qXU4-2A0L.js,11wTwl+500L.js,517jAXjzzNL.js,01qPwv8D5hL.js,01YivelYW5L.js,016QFWAAdML.js,41dzl0sSZuL.js,11Gx+6S5O-L.js,21IZ0MO8WtL.js,41FZjmiJywL.js,017s5z---TL.js,31ZS5TQVWDL.js,51p2fLVTtlL.js,51ldtX6xp6L.js,21w43LSQ1-L.js,01FOcSLtmBL.js_.js?AUIClients/USHardlinesDetailPageMetaAssetVariable_TURBO_DESKTOP#desktop.us.171964-T1.137613-T1.159929-T1.146207-T1.167162-T1.153662-T1.103061-T1.123392-T1.153197-T1.150150-T1.152622-T1.127433-T1.126331-T1.179985-T1.87783-T2.159402-T1.108343-T1.109378-T1.143147-T1.147957-T1.154031-T1.171818-T1.169593-T1\\');\\n});\\n\\n{\"deviceType\":\"web\"}\\n{\"widgetSchema\":\"dp:widget:\",\"dimensionSchema\":\"dp:dims:\"}\\n\\n\\n  #cm_cr_dpwidget .a-size-micro {\\n    font-size: 9px;\\n  } \\n\\n  #cm_cr_dpwidget .c7yTopDownDashedStrike {\\n    border-top: 1px dashed #A9A9A9;\\n    border-bottom: 1px dashed #A9A9A9;\\n  }\\n\\n  #cm_cr_dpwidget .c7yBadgeAUI {\\n    text-transform: uppercase;\\n    letter-spacing: 0.5px;\\n    padding: 2px;\\n    white-space: nowrap;\\n  }\\n\\n\\n.nav-sprite-v1 .nav-sprite, .nav-sprite-v1 .nav-icon {\\n  background-image: url(https://images-na.ssl-images-amazon.com/images/G/01/gno/sprites/nav-sprite-global_bluebeacon-V3-1x_optimized._CB483188077_.png);\\n  background-position: 0 1000px;\\n  background-repeat: repeat-x;\\n}\\n.nav-spinner {\\n  background-image: url(https://images-na.ssl-images-amazon.com/images/G/01/javascripts/lib/popover/images/snake._CB192571611_.gif);\\n  background-position: center center;\\n  background-repeat: no-repeat;\\n}\\n.nav-timeline-icon, .nav-access-image, .nav-timeline-prime-icon {\\n  background-image: url(https://images-na.ssl-images-amazon.com/images/G/01/gno/sprites/timeline_sprite_1x._CB276239408_.png);\\n  background-repeat: no-repeat;\\n}\\n\\n\\n  \\n    .tagEdit {\\n      padding-bottom:4px;\\n      padding-top:4px;\\n    }\\n\\n    .edit-tag {\\n      width: 155px;\\n      margin-left: 10px;\\n    }\\n\\n    .list-tags {\\n      white-space: nowrap;\\n      padding: 1px 0px 0px 0px;\\n    }\\n\\n   #suggest-table {\\n      display: none;\\n      position: absolute;\\n      z-index: 2;\\n      background-color: #fff;\\n      border: 1px solid #9ac;\\n    }\\n\\n    #suggest-table tr td{\\n      color: #333;\\n      font: 11px Verdana, sans-serif;\\n      padding: 2px;\\n    }\\n\\n    #suggest-table tr.hovered {\\n      color: #efedd4;\\n      background-color: #9ac;\\n    }\\n\\n  \\n  .see-popular {\\n    padding: 1.3em 0 0 0;\\n  }\\n\\n  .tag-cols {\\n    border-collapse: collapse;\\n  }\\n\\n  .tag-cols td {\\n    vertical-align: top;\\n    width: 250px;\\n    padding-right: 30px;\\n  }\\n\\n  .tag-cols .tag-row {\\n    padding: 0 0 7px 0px;\\n  }\\n\\n  .tag-cols .see-all {\\n    white-space: nowrap;\\n    padding-top: 5px;\\n  }\\n\\n  .tags-piles-feedback {\\n    display: none;\\n    color: #000;\\n    font-size: 0.9em;\\n    font-weight: bold;\\n    margin: 0px 0 0 0;\\n   }\\n\\n  .tag-cols i {\\n    display: none;\\n    cursor: pointer;\\n    cursor: hand;\\n    float: left;\\n    font-style: normal;\\n    font-size: 0px;\\n    vertical-align: bottom;\\n    width: 16px;\\n    height: 16px;\\n    margin-top: 1px;\\n    margin-right: 3px;\\n  }\\n\\n  .tag-cols .snake {\\n    display: block;\\n    background: url(\\'https://images-na.ssl-images-amazon.com/images/G/01/x-locale/communities/tags/graysnake._CB192250049_.gif\\');\\n  }\\n\\n  #tagContentHolder .tip {\\n    display: none;\\n    color: #999;\\n    font-size: 10px;\\n    padding-top: 0.25em;\\n  }\\n\\n  #tagContentHolder .tip a {\\n    color: #999 !important;\\n    text-decoration: none !important;\\n    border-bottom: solid 1px #CCC;\\n  }\\n\\n  .nowrap {\\n    white-space: nowrap;\\n  }\\n\\n  #tgEnableVoting {\\n    display: none;\\n  }\\n\\n  #tagContentHolder .count {\\n    color: #666;\\n    font-size: 10px;\\n    margin-left: 3px;\\n    white-space: nowrap;\\n  }\\n\\n  .count.tgVoting {\\n    cursor: pointer;\\n  }\\n\\n  .tgVoting .tgCounter {\\n    margin-right: 3px;\\n    border-bottom: 1px dashed #003399;\\n    color: #003399;\\n  }\\n\\n\\n.c2c-inline-sprite {\\n    display: -moz-inline-box;\\n    display: inline-block;\\n    margin: 0;padding: 0; \\n    position: relative;\\n    overflow: hidden;\\n    vertical-align: middle;\\n    background-image: url(https://images-na.ssl-images-amazon.com/images/G/01/electronics/click2call/click2call-sprite._CB156431432_.png);\\n    background-repeat: no-repeat;\\n}\\n.c2c-inline-sprite span {\\n    position:absolute;\\n    top:-9999px;\\n}\\n\\n.dp-call-me-button {\\n    width:52px;\\n    height:22px;\\n    background-position:0px -57px; \\n}\\n\\n\\n/* Different sprites/images used CSS Start */\\n.swSprite {background-image: url(https://images-na.ssl-images-amazon.com/images/G/01/common/sprites/sprite-site-wide-3._CB375430972_.png); }\\n.dpSprite {background-image: url(https://images-na.ssl-images-amazon.com/images/G/01/common/sprites/sprite-dp-2._CB384267953_.png); }\\n.wl-button-sprite {background-image: url(https://images-na.ssl-images-amazon.com/images/G/01/x-locale/communities/wishlist/add-to-wl-button-sprite._CB192250042_.gif); }\\n.cBoxTL, .cBoxTR, .cBoxBL, .cBoxBR { background-image:url(https://images-na.ssl-images-amazon.com/images/G/01/common/sprites/sprite-site-wide-2._CB146303866_.png); }\\n.auiTestSprite { background: url(https://images-na.ssl-images-amazon.com/images/G/01/nav2/images/sprite-carousel-btns-stars2._CB376388587_.png) no-repeat scroll 0 0 transparent; }\\nspan.amtchelp { background: url(https://images-na.ssl-images-amazon.com/images/G/01/SellerForums/amz/images/help-16x16._CB137691369_.gif) no-repeat scroll right bottom transparent; }\\n.shuttleGradient { background: url(https://images-na.ssl-images-amazon.com/images/G/01/x-locale/communities/customerimage/shuttle-gradient._CB192250138_.gif); }\\n.twisterPopoverArrow { background: url(https://images-na.ssl-images-amazon.com/images/G/01/gateway/csw/tri-down._CB155542082_.png); }\\n#finderUpdateButton img, #finderShowMoreDevicesLink, #finderHideMoreDevicesLink {background-image: url(https://images-na.ssl-images-amazon.com/images/G/01/nav2/finders/finder-fits-sprites._CB192545788_.gif);}\\n.cmtySprite { background-image: url(https://images-na.ssl-images-amazon.com/images/G/01/common/sprites/sprite-communities._CB320811603_.png); background-repeat: no-repeat; }\\n\\n/* Different sprites/images used CSS End */\\n\\n\\n\\n/* Best Seller Badging */\\n.simsWrapper .shoveler ul { height: 220px;}\\n\\n\\n  .medSprite { background-image: url(\\'https://images-na.ssl-images-amazon.com/images/G/01/common/sprites/sprite-media-platform._CB247725847_.png\\'); background-repeat: no-repeat; }\\n\\n\\n\\n<!--\\nfunction amz_js_PopWin(url,name,options){\\n  var ContextWindow = window.open(url,name,options);\\n  ContextWindow.focus();\\n  return false;\\n}\\n//-->\\n\\n\\n\\n\\n\\n\\nAmazon.com : Biofair Organic Quinoa Pops 120g : Grocery & Gourmet Food\\n\\n\\n\\n// =============================================================================\\n// Function Class: Show/Hide product promotions & special offers link\\n// =============================================================================\\n\\nfunction showElement(id) {\\n  var elm = document.getElementById(id);\\n  if (elm) {\\n    elm.style.visibility = \\'visible\\';\\n    if (elm.getAttribute(\\'name\\') == \\'heroQuickPromoDiv\\') {\\n      elm.style.display = \\'block\\';\\n    }\\n  }\\n}\\nfunction hideElement(id) {\\n  var elm = document.getElementById(id);\\n  if (elm) {\\n    elm.style.visibility = \\'hidden\\';\\n    if (elm.getAttribute(\\'name\\') == \\'heroQuickPromoDiv\\') {\\n      elm.style.display = \\'none\\';\\n    }\\n  }\\n}\\nfunction showHideElement(h_id, div_id) {\\n  var hiddenTag = document.getElementById(h_id);\\n  if (hiddenTag) {\\n    showElement(div_id);\\n  } else {\\n    hideElement(div_id);\\n  }\\n}\\n\\n    if(typeof P === \\'object\\' && typeof P.when === \\'function\\'){\\n    P.register(\"isLazyLoadWeblabEnabled\", function(){\\n        var  isWeblabEnabled = 1;\\n        return isWeblabEnabled;\\n      });\\n    }\\n\\n\\twindow.isBowserFeatureCleanup = 0;\\n\\t\\nvar touchDeviceDetected = false;\\n\\n\\n        P.when(\\'atf\\').register(\\'sp.load.js\\');\\n\\n\\nvar CSMReqs={af:{c:2,p:\\'atf\\'},cf:{c:2,p:\\'cf\\'},x1:{c:1,p:\\'x1\\'},x2:{c:1,p:\\'x2\\'}};\\nfunction setCSMReq(a){\\n    a=a.toLowerCase();\\n    var b=CSMReqs[a];\\n    if(b&&--b.c==0){\\n        if(typeof uet==\\'function\\'){uet(a); (a == \\'af\\') && (typeof replaceImg === \\'function\\') && replaceImg();};\\n        if(typeof P != \\'undefined\\'){\\n            P.register(b.p);\\n            if(a == \\'af\\') {\\n                if(typeof uet === \\'function\\') {\\n                    uet(\\'bb\\', \\'TwisterAUIWait\\', {wb: 1});\\n                }\\n            }\\n        };\\n    }\\n}\\nif(typeof P != \\'undefined\\') {\\n    P.when(\\'A\\').execute(function(A) {\\n        if(typeof uet === \\'function\\') {\\n            uet(\\'af\\', \\'TwisterAUIWait\\', {wb: 1});\\n        }\\n    });\\n}\\n\\nvar addlongPoleTag = function(marker,customtag){\\n    marker=marker.toLowerCase();\\n    var b=CSMReqs[marker];\\n    if(b.c == 0){\\n        if(window.ue && typeof ue.tag === \\'function\\') {\\n            ue.tag(customtag);\\n        }\\n    }\\n};\\n;(function(_onerror){\\n  var old_error_handler = _onerror;\\n  var attributionMap = {\\n          \"BrowserAddon\":{\\n            logLevel: \"ERROR\",\\n            files:[\\n                /^res:\\\\/\\\\//, \\n                /^resource:\\\\/\\\\//, /^chrome:\\\\/\\\\//, \\n                /^chrome-extension:\\\\/\\\\//, /^extensions\\\\//, \\n                /^file:\\\\/\\\\/\\\\//, /^chrome\\\\/RendererExtensionBindings/, \\n                /^plugin\\\\/amazon_com_detail\\\\.js/, \\n                /^miscellaneous_bindings/, \\n              \\n                // plugin in china\\n                /^http.?:\\\\/\\\\/([^\\\\s\\\\.]+\\\\.)*qhimg\\\\.com/,\\n              \\n                // plugin in India\\n                /^http.?:\\\\/\\\\/([^\\\\s\\\\.]+\\\\.)*datafastguru\\\\.info/,\\n\\n                /^http.?:\\\\/\\\\/sc1\\\\.checkpoint\\\\.com\\\\/dev\\\\/abine\\\\/scripts\\\\/inject\\\\.js/,\\n\\n                /^http.?:\\\\/\\\\/([^\\\\s\\\\.]+\\\\.)*image2play\\\\.com/,\\n\\n                /^http.?:\\\\/\\\\/([^\\\\s\\\\.]+\\\\.)*wajam\\\\.com/,\\n\\n                /^http.?:\\\\/\\\\/([^\\\\s\\\\.]+\\\\.)*ydstatic\\\\.com/,\\n\\n\\t\\t/^https?:\\\\/\\\\/([^\\\\s\\\\.]+\\\\.)*googleapis\\\\.com\\\\/ajax\\\\/libs\\\\/jquery/,\\n\\n\\t\\t/^https?:\\\\/\\\\/www\\\\.superfish\\\\.com\\\\/ws/,\\n\\n\\t\\t/^https?:\\\\/\\\\/api.imideo.com\\\\/v2/,\\n\\n\\t\\t/^https?:\\\\/\\\\/minibar.iminent.com/,\\n\\n\\t\\t/^https?:\\\\/\\\\/translate.googleusercontent.com/,\\n\\t\\n\\t\\t/^includes\\\\/helper/\\n            ]\\n          }\\n  };\\n\\n    function findMatch(f){\\n\\tfor(var attribution in attributionMap){\\n\\t    var i=0;\\n\\t    var attributionValue = attributionMap[attribution];\\n\\t    var files = attributionValue[\\'files\\'];\\n\\t    while(files[i]){\\n\\t\\tif(f.match(files[i])){\\n\\t            var exception={};\\n\\t\\t    exception.attribution = attribution;\\n\\t\\t    if(attributionValue.hasOwnProperty(\"logLevel\")){\\n\\t\\t\\texception.logLevel = attributionValue[\\'logLevel\\'];\\t\\n\\t\\t    }\\n\\t\\treturn exception;\\n           \\t}\\n\\t\\ti++;\\n\\t    }\\n        }\\n\\treturn null;\\n    }\\n\\n\\n    function dpOnErrorOverride(message, file, line, col, error){\\n     var matchingErrorFound = false;\\n     if(typeof file == \"string\"){\\n        try{\\n\\t    var jsException = findMatch(file);\\n\\t    if(jsException && typeof jsException === \"object\"){\\n                jsException.m =  message;\\n                jsException.f = file;\\n                jsException.l = line;\\n                jsException.c =  \"\" + (col || \"\");\\n                jsException.err =  error;\\n                jsException.fromOnError = 1;\\n                jsException.args = arguments;\\n                if(window.ueLogError){\\n               \\t    window.ueLogError(jsException);\\n\\t\\t    matchingErrorFound = true;\\n\\t\\t    if(ue && ue.count){\\n\\t\\t        ue.count(\"dpJavascriptAffectedErrors\", (ue.count(\"dpJavascriptAffectedErrors\") || 0) + 1);\\n\\t\\t        ue.count(\"dpJSError\" + jsException.attribution, (ue.count(\"dpJSError\" + jsException.attribution) || 0) + 1);\\n\\t\\t    }\\n\\t        }\\n            }\\n\\t}catch(exception){\\n\\t    if(window.ueLogError){\\n\\t        window.ueLogError(exception,{message: \"dpOnErrorOverride: error occurred - \", logLevel:\"FATAL\"});\\n\\t    }\\n\\t}\\n    }\\n\\tif(!matchingErrorFound){ \\n          old_error_handler.apply(this, arguments);\\n\\t}\\n        return false;\\n    }\\n\\n      dpOnErrorOverride.skipTrace = 1;\\n      window.onerror = dpOnErrorOverride;\\n    })(window.onerror);\\n\\n\\nvar gbEnableTwisterJS  = 0;\\nvar isTwisterPage = 0;\\n  isTwisterPage = 1;\\n\\n\\n\\n/* Override for Native DropDown changes */\\n       #buybox_feature_div .a-native-dropdown, #buybox .a-native-dropdown { opacity: 1; filter: alpha(opacity=100); z-index: auto; position: static; display: inline; font-weight: normal;}\\n       #buybox_feature_div label.a-native-dropdown, #buybox label.a-native-dropdown {padding-right: 5px;}\\n       #buybox_feature_div .a-dropdown-container .a-button-dropdown, #buybox .a-dropdown-container .a-button-dropdown  { display: none !important;}\\n     #buybox_feature_div #OneClickBox, #buybox #OneClickBox { text-align:center;}\\n     #buybox_feature_div #oneClickAvailable, #buybox #oneClickAvailable { text-align:center;}\\n     #defaultChildDropdown_feature_div .a-native-dropdown { display: inline;}\\n     #defaultChildDropdown_feature_div .a-dropdown-container .a-button-dropdown { display: none !important;}\\n\\n\\n\\n\\n\\nP.when(\"p-detect\").execute(function() {\\n    var h = document.documentElement;\\n    h.className = h.className.replace(/(^|\\\\b)a-touch(\\\\b|$)/g,\"\");\\n});\\n\\nwindow.weblabs = {};\\n\\n\\n\\n\\nwindow.ue_ihe = (window.ue_ihe || 0) + 1;\\nif (window.ue_ihe === 1) {\\n(function(e,c){function h(b,a){f.push([b,a])}function g(b,a){if(b){var c=e.head||e.getElementsByTagName(\"head\")[0]||e.documentElement,d=e.createElement(\"script\");d.async=\"async\";d.src=b;d.setAttribute(\"crossorigin\",\"anonymous\");a&&a.onerror&&(d.onerror=a.onerror);a&&a.onload&&(d.onload=a.onload);c.insertBefore(d,c.firstChild)}}function k(){ue.uels=g;for(var b=0;b<f.length;b++){var a=f[b];g(a[0],a[1])}ue.deffered=1}var f=[];c.ue&&(ue.uels=h,c.ue.attach&&c.ue.attach(\"load\",k))})(document,window);\\n(function(k,l,g){function m(a){c||(c=b[a.type].id,\"undefined\"===typeof a.clientX?(e=a.pageX,f=a.pageY):(e=a.clientX,f=a.clientY),2!=c||h&&(h!=e||n!=f)?(r(),d.isl&&l.setTimeout(function(){p(\"at\",d.id)},0)):(h=e,n=f,c=0))}function r(){for(var a in b)b.hasOwnProperty(a)&&d.detach(a,m,b[a].parent)}function s(){for(var a in b)b.hasOwnProperty(a)&&d.attach(a,m,b[a].parent)}function t(){var a=\"\";!q&&c&&(q=1,a+=\"&ui=\"+c);return a}var d=k.ue,p=k.uex,q=0,c=0,h,n,e,f,b={click:{id:1,parent:g},mousemove:{id:2,\\nparent:g},scroll:{id:3,parent:l},keydown:{id:4,parent:g}};d&&p&&(s(),d._ui=t)})(ue_csm,window,document);\\n\\n\\n\\n    if (window.ue && window.ue.uels) {\\n            var cel_widgets = [ { \"c\":\"celwidget\" },{ \"c\":\"feature\" } ];\\n\\n                ue.uels(\"https://images-na.ssl-images-amazon.com/images/G/01/AUIClients/ClientSideMetricsAUIJavascript@jserrorsForester.10f2559e93ec589d92509318a7e2acbac74c343a._V2_.js\");\\n    }\\n\\n(function(k,c){function l(a,b){return a.filter(function(a){return a.initiatorType==b})}function f(a,c){if(b.t[a]){var g=b.t[a]-b._t0,e=c.filter(function(a){return 0!==a.responseEnd&&m(a)<g}),f=l(e,\"script\"),h=l(e,\"link\"),k=l(e,\"img\"),n=e.map(function(a){return a.name.split(\"/\")[2]}).filter(function(a,b,c){return a&&c.lastIndexOf(a)==b}),q=e.filter(function(a){return a.duration<p}),s=g-Math.max.apply(null,e.map(m))<r|0;\"af\"==a&&(b._afjs=f.length);return a+\":\"+[e[d],f[d],h[d],k[d],n[d],q[d],s].join(\"-\")}}\\nfunction m(a){return a.responseEnd-(b._t0-c.timing.navigationStart)}function n(){var a=c[h](\"resource\"),d=f(\"cf\",a),g=f(\"af\",a),a=f(\"ld\",a);delete b._rt;b._ld=b.t.ld-b._t0;b._art&&b._art();return[d,g,a].join(\"_\")}var p=20,r=50,d=\"length\",b=k.ue,h=\"getEntriesByType\";b._rre=m;b._rt=c&&c.timing&&c[h]&&n})(ue_csm,window.performance);\\n\\n\\n(function(s,l){function m(b,e,c){c=c||new Date(+new Date+t);c=\"expires=\"+c.toUTCString();n.cookie=b+\"=\"+e+\";\"+c+\";path=/\"}function p(b){b+=\"=\";for(var e=n.cookie.split(\";\"),c=0;c<e.length;c++){for(var a=e[c];\" \"==a.charAt(0);)a=a.substring(1);if(0===a.indexOf(b))return decodeURIComponent(a.substring(b.length,a.length))}return\"\"}function q(b,e,c){if(!e)return b;-1<b.indexOf(\"{\")&&(b=\"\");for(var a=b.split(\"&\"),f,d=!1,h=!1,g=0;g<a.length;g++)f=a[g].split(\":\"),f[0]==e?(!c||d?a.splice(g,1):(f[1]=c,a[g]=\\nf.join(\":\")),h=d=!0):2>f.length&&(a.splice(g,1),h=!0);h&&(b=a.join(\"&\"));!d&&c&&(0<b.length&&(b+=\"&\"),b+=e+\":\"+c);return b}var k=s.ue||{},t=6048E7,n=ue_csm.document||l.document,r=null,d;a:{try{d=l.localStorage;break a}catch(u){}d=void 0}k.count&&k.count(\"csm.cookieSize\",document.cookie.length);k.cookie={get:p,set:m,updateCsmHit:function(b,e,c){try{var a;if(!(a=r)){var f;a:{try{if(d&&d.getItem){f=d.getItem(\"csm-hit\");break a}}catch(k){}f=void 0}a=f||p(\"csm-hit\")||\"{}\"}a=q(a,b,e);r=a=q(a,\"t\",+new Date);\\ntry{d&&d.setItem&&d.setItem(\"csm-hit\",a)}catch(h){}m(\"csm-hit\",a,c)}catch(g){\"function\"==typeof l.ueLogError&&ueLogError(Error(\"Cookie manager: \"+g.message),{logLevel:\"WARN\"})}}}})(ue_csm,window);\\n\\n(function(l,d){function c(b){b=\"\";var c=a.isBFT?\"b\":\"s\",d=\"\"+a.oid,f=\"\"+a.lid,g=d;d!=f&&20==f.length&&(c+=\"a\",g+=\"-\"+f);a.tabid&&(b=a.tabid+\"+\");b+=c+\"-\"+g;b!=e&&100>b.length&&(e=b,a.cookie?a.cookie.updateCsmHit(m,b+(\"|\"+ +new Date)):document.cookie=\"csm-hit=\"+b+(\"|\"+ +new Date)+n+\"; path=/\")}function p(){e=0}function h(b){!0===d[a.pageViz.propHid]?e=0:!1===d[a.pageViz.propHid]&&c({type:\"visible\"})}var n=\"; expires=\"+(new Date(+new Date+6048E5)).toGMTString(),m=\"tb\",e,a=l.ue||{},k=a.pageViz&&a.pageViz.event&&\\na.pageViz.propHid;a.attach&&(a.attach(\"click\",c),a.attach(\"keyup\",c),k||(a.attach(\"focus\",c),a.attach(\"blur\",p)),k&&(a.attach(a.pageViz.event,h,d),h({})));a.aftb=1})(ue_csm,document);\\n\\n\\nue_csm.ue.stub(ue,\"impression\");\\n\\n\\n(function(k,d,h){function f(a,c,b){a&&a.indexOf&&0===a.indexOf(\"http\")&&0!==a.indexOf(\"https\")&&l(s,c,a,b)}function g(a,c,b){a&&a.indexOf&&(location.href.split(\"#\")[0]!=a&&null!==a&&\"undefined\"!==typeof a||l(t,c,a,b))}function l(a,c,b,e){m[b]||(e=u&&e?n(e):\"N/A\",d.ueLogError&&d.ueLogError({message:a+c+\" : \"+b,logLevel:v,stack:\"N/A\"},{attribution:e}),m[b]=1,p++)}function e(a,c){if(a&&c)for(var b=0;b<a.length;b++)try{c(a[b])}catch(d){}}function q(){return d.performance&&d.performance.getEntriesByType?\\nd.performance.getEntriesByType(\"resource\"):[]}function n(a){if(a.id)return\"//*[@id=\\'\"+a.id+\"\\']\";var c;c=1;var b;for(b=a.previousSibling;b;b=b.previousSibling)b.nodeName==a.nodeName&&(c+=1);b=a.nodeName;1!=c&&(b+=\"[\"+c+\"]\");a.parentNode&&(b=n(a.parentNode)+\"/\"+b);return b}function w(){var a=h.images;a&&a.length&&e(a,function(a){var b=a.getAttribute(\"src\");f(b,\"img\",a);g(b,\"img\",a)})}function x(){var a=h.scripts;a&&a.length&&e(a,function(a){var b=a.getAttribute(\"src\");f(b,\"script\",a);g(b,\"script\",a)})}\\nfunction y(){var a=h.styleSheets;a&&a.length&&e(a,function(a){if(a=a.ownerNode){var b=a.getAttribute(\"href\");f(b,\"style\",a);g(b,\"style\",a)}})}function z(){if(A){var a=q();e(a,function(a){f(a.name,a.initiatorType)})}}function B(){e(q(),function(a){g(a.name,a.initiatorType)})}function r(){var a;a=d.location&&d.location.protocol?d.location.protocol:void 0;\"https:\"==a&&(z(),w(),x(),y(),B(),p<C&&setTimeout(r,D))}var s=\"[CSM] Insecure content detected \",t=\"[CSM] Ajax request to same page detected \",v=\"WARN\",\\nm={},p=0,D=k.ue_nsip||1E3,C=5,A=1==k.ue_urt,u=!0;ue_csm.ue_disableNonSecure||(d.performance&&d.performance.setResourceTimingBufferSize&&d.performance.setResourceTimingBufferSize(300),r())})(ue_csm,window,document);\\n\\n(function(d){d.ue_cel_stub||(d.ue_cel_stub=function(){var b={};return{registerModule:function(a,c){b[a]||(b[a]=c,b[a].on())},replayModule:function(a,c){b[a]&&(b[a].replay(c),b[a].off(),delete b[a])}}}())})(ue_csm);\\n(function(a,d,h){a.ue_mcm_stub||a.ue&&a.ue.isBF||(a.ue_mcm_stub=function(){function e(a){var b=c.d(),e=(d.body||{}).scrollWidth,k=(d.body||{}).scrollHeight,f;h&&\"function\"===typeof h.now&&a.timeStamp&&(f=h.now()-a.timeStamp,f=parseFloat(f.toFixed(2)));g.push({rawEvent:a,additionalData:{ots:b,ow:e,oh:k,odt:f}})}var c=a.ue,g=[];return{on:function(){c.attach&&c.attach(\"click\",e,d)},off:function(){c.detach&&c.detach(\"click\",e,d)},replay:function(a){for(var b=0;b<g.length;b++)a(g[b].rawEvent,g[b].additionalData)}}}(),\\na.ue_cel_stub&&a.ue_cel_stub.registerModule(\"mcm\",a.ue_mcm_stub))})(ue_csm,document,window.performance);\\n\\n\\nue.stub(ue,\"trigger\");ue.trigger&&ue.trigger(\"CSM_CLIENT_WEBLAB_TRIGGER\",\"C\");\\n\\n\\nif(window.ue&&uet) { uet(\\'bb\\'); }\\n\\n}\\n\\n\\nwindow.P && P.register(\\'bb\\');\\nif (typeof ues === \\'function\\') {\\n  ues(\\'t0\\', \\'portal-bb\\', new Date());\\n  ues(\\'ctb\\', \\'portal-bb\\', 1);\\n}\\n\\n\\n{\"AUI_160684\":\"C\",\"AUI_157141\":\"C\",\"AUI_TNR_V2_180836\":\"C\",\"AUI_UX_114039\":\"C\",\"AUI_UX_113788\":\"C\",\"AUI_UX_145937\":\"C\",\"AUI_57326\":\"C\",\"AUI_158613\":\"C\",\"AUI_149818\":\"C\",\"AUI_72554\":\"C\",\"AUI_BOLT_62845\":\"C\",\"AUI_UX_60000\":\"C\",\"AUI_ATTR_VALIDATIONS_1_51371\":\"C\",\"AUI_ACCESSIBILITY_49860\":\"C\",\"AUI_152852\":\"C\",\"AUI_PERF_130093\":\"C\",\"AUI_UX_138741\":\"C\"}typeof uex === \\'function\\' && uex(\\'ld\\', \\'portal-bb\\', {wb: 1})\\n\\n\\n\\n(function(d){document.createElement(\"header\");function b(e){return[].slice.call(e)}function c(f,e){return{m:f,a:b(e)}}var a=function(f){var g={};g._sourceName=f;g._replay=[];g.getNow=function(i,h){return h};function e(i,h,j){i[j]=function(){g._replay.push(h.concat(c(j,arguments)))}}g.when=function(){var i=[c(\"when\",arguments)];var h={};e(h,i,\"run\");e(h,i,\"declare\");e(h,i,\"publish\");e(h,i,\"build\");return h};e(g,[],\"declare\");e(g,[],\"build\");e(g,[],\"publish\");e(g,[],\"importEvent\");a._shims.push(g);return g};a._shims=[];if(!d.$Nav){d.$Nav=a(\"rcx-nav\")}if(!d.$Nav.make){d.$Nav.make=a}}(window));\\n$Nav.importEvent(\\'navbarJS-beaconbelt\\');\\n$Nav.declare(\\'img.sprite\\', {\\n  \\'png8\\': \\'https://images-na.ssl-images-amazon.com/images/G/01/gno/sprites/global-sprite_bluebeacon-v1._CB327533540_.png\\',\\n  \\'png32\\': \\'https://images-na.ssl-images-amazon.com/images/G/01/gno/sprites/nav-sprite-global_bluebeacon-V3-1x_optimized._CB483188077_.png\\',\\n  \\'png32-2x\\': \\'https://images-na.ssl-images-amazon.com/images/G/01/gno/sprites/nav-sprite-global_bluebeacon-V3-2x_optimized._CB474516457_.png\\'\\n});\\nwindow._navbarSpriteUrl = \\'https://images-na.ssl-images-amazon.com/images/G/01/gno/sprites/nav-sprite-global_bluebeacon-V3-1x_optimized._CB483188077_.png\\';\\n$Nav.declare(\\'img.pixel\\', \\'https://images-na.ssl-images-amazon.com/images/G/01/x-locale/common/transparent-pixel._CB386942464_.gif\\');\\n\\n\\n\\n\\n\\n(window.AmazonUIPageJS ? AmazonUIPageJS : P).when(\\'navCF\\').execute(function(){\\n  (window.AmazonUIPageJS ? AmazonUIPageJS : P).load.js(\\'https://images-na.ssl-images-amazon.com/images/I/41hnizKJASL._RC|71SIAV5MN4L.js,61ybdwam-8L.js,41MSv8-3arL.js,113NkCQYmFL.js,01wBjiz9OvL.js,21YI5xZWAwL.js,31SFwv+1S1L.js,51+klsvwgqL.js,31Sch+N9NhL.js_.js?AUIClients/AmazonNavigationDesktopMetaAsset#desktop\\');\\n});\\n\\n\\n\\n\\n\\n\\n    if(window.navmet===undefined) {\\n      window.navmet=[];\\n      if (window.performance && window.performance.timing && window.ue_t0) {\\n        var t = window.performance.timing;\\n        var now = + new Date();\\n        window.navmet.basic = {\\n          \\'networkLatency\\': (t.responseStart - t.fetchStart),\\n          \\'navFirstPaint\\': (now - t.responseStart),\\n          \\'NavStart\\': (now - window.ue_t0)\\n        };\\n      }\\n    }\\n\\nwindow.navmet.tmp=+new Date();\\n\\n    window.uet && uet(\\'ns\\');\\n    window._navbar = (function (o) {\\n      o.componentLoaded = o.loading = function(){};\\n      o.browsepromos = {};\\n      o.issPromos = [];\\n      return o;\\n    }(window._navbar || {}));\\n    window._navbar.declareOnLoad = function () { window.$Nav && $Nav.declare(\\'page.load\\'); };\\n    if (window.addEventListener) {\\n      window.addEventListener(\"load\", window._navbar.declareOnLoad, false);\\n    } else if (window.attachEvent) {\\n      window.attachEvent(\"onload\", window._navbar.declareOnLoad);\\n    } else if (window.$Nav) {\\n      $Nav.when(\\'page.domReady\\').run(\"OnloadFallbackSetup\", function () {\\n        window._navbar.declareOnLoad();\\n      });\\n    }\\n    window.$Nav && $Nav.declare(\\'logEvent.enabled\\',\\n      \\'false\\');\\n\\n    window.$Nav && $Nav.declare(\\'config.lightningDeals\\', {});\\n  \\n\\n      div#navSwmHoliday.nav-focus {border: none;margin: 0;}\\n    \\n\\n      try {\\n        if(window.navmet===undefined)window.navmet=[]; if(window.$Nav) { $Nav.when(\\'$\\', \\'config\\', \\'flyout.accountList\\', \\'SignInRedirect\\', \\'dataPanel\\').run(\\'accountListRedirectFix\\', function ($, config, flyout, SignInRedirect, dataPanel) { if (!config.accountList) { return; } flyout.getPanel().onData(function (data) { if (SignInRedirect) { var $anchors = $(\\'[data-nav-role=signin]\\', flyout.elem()); $.each($anchors, function(i, anchorEl) {SignInRedirect.setRedirectUrl($(anchorEl), null, null);});}});}); $Nav.when(\\'$\\', \\'config\\').run(\\'subnavSpacious\\', function ($, config) {if(config.pageType === \\'ShoppingCart\\' && config.subPageType === \\'NewHUC\\') { $(\\'#nav-subnav.spacious\\').hide(); }}); $Nav.when(\\'$\\').run(\\'defineIsArray\\', function(jQuery) { if(jQuery.isArray===undefined) { jQuery.isArray=function(param) { if(param.length===undefined) { return false; } return true; }; } }); $Nav.declare(\\'config.cartFlyoutDisabled\\', \\'true\\'); $Nav.when(\\'$\\',\\'$F\\',\\'config\\',\\'logEvent\\',\\'panels\\',\\'phoneHome\\',\\'dataPanel\\',\\'flyouts.renderPromo\\',\\'flyouts.sloppyTrigger\\',\\'flyouts.accessibility\\',\\'util.mouseOut\\',\\'util.onKey\\',\\'debug.param\\').build(\\'flyouts.buildSubPanels\\',function($,$F,config,logEvent,panels,phoneHome,dataPanel,renderPromo,createSloppyTrigger,a11yHandler,mouseOutUtility,onKey,debugParam){var flyoutDebug=debugParam(\\'navFlyoutClick\\');return function(flyout,event){var linkKeys=[];$(\\'.nav-item\\',flyout.elem()).each(function(){var $item=$(this);linkKeys.push({link:$item,panelKey:$item.attr(\\'data-nav-panelkey\\')});});if(linkKeys.length===0){return;} var visible=false;var $parent=$(\\'<div class=\\\\\\'nav-subcats\\\\\\'></'"
      ]
     },
     "execution_count": 40,
     "metadata": {},
     "output_type": "execute_result"
    }
   ],
   "source": [
    "# Встречаются \"мусорные\" названия, в которые затесался js-код. Подчистим их\n",
    "meta.iloc[31885].title"
   ]
  },
  {
   "cell_type": "code",
   "execution_count": 41,
   "metadata": {},
   "outputs": [
    {
     "name": "stdout",
     "output_type": "stream",
     "text": [
      "Unknown item brand of Biofair\n"
     ]
    }
   ],
   "source": [
    "# Подчистим плохие названия товара\n",
    "# Название можно вытащить и из js-кода, который подсунут вместо названия,\n",
    "# и частично из описания, например так:  description[:50],\n",
    "# но обойдемся примитивным решением\n",
    "meta.title = meta.apply(lambda row: row['title'] if not ('var aP' in row['title']) \\\n",
    "                        else 'Unknown item brand of '+row['brand'] if not row['brand'] is None \\\n",
    "                        else 'Unknown item', axis=1)\n",
    "print(meta.iloc[31885].title)"
   ]
  },
  {
   "cell_type": "code",
   "execution_count": 42,
   "metadata": {},
   "outputs": [
    {
     "name": "stdout",
     "output_type": "stream",
     "text": [
      "Wilton Jimmies Rainbow Sprinkle Assortment, 3.2 oz. - Cake Decorating Supplies\n",
      "[ sprinkle your treats with sweet color using this assortment of jimmies in blue  red  green  yellow  orange  and pink  these rainbow sprinkles are great for cupcakes  cakes and other desserts  ]\n"
     ]
    }
   ],
   "source": [
    "print(meta.title[67])\n",
    "print(meta.description[67])"
   ]
  },
  {
   "cell_type": "markdown",
   "metadata": {},
   "source": [
    "Информация в title пересекается с description. Title удалять не будем, он нам пригодится для вывода предсказанных товаров. Удалить можно description."
   ]
  },
  {
   "cell_type": "markdown",
   "metadata": {},
   "source": [
    "## rank"
   ]
  },
  {
   "cell_type": "code",
   "execution_count": 44,
   "metadata": {},
   "outputs": [
    {
     "name": "stdout",
     "output_type": "stream",
     "text": [
      "<class 'pandas.core.frame.DataFrame'>\n",
      "RangeIndex: 287209 entries, 0 to 287208\n",
      "Data columns (total 1 columns):\n",
      " #   Column  Non-Null Count   Dtype \n",
      "---  ------  --------------   ----- \n",
      " 0   rank    275494 non-null  object\n",
      "dtypes: object(1)\n",
      "memory usage: 2.2+ MB\n",
      "\n",
      "Уникальных значений:  246967\n"
     ]
    }
   ],
   "source": [
    "meta[['rank']].info()\n",
    "print('')\n",
    "print('Уникальных значений: ', len(metastr['rank'].unique()))"
   ]
  },
  {
   "cell_type": "code",
   "execution_count": 45,
   "metadata": {},
   "outputs": [
    {
     "data": {
      "text/plain": [
       "nan                               11715\n",
       "17,849inGroceryGourmetFood(          14\n",
       "41,792inGroceryGourmetFood(           8\n",
       "289,988inGroceryGourmetFood(          5\n",
       "50,411inGroceryGourmetFood(           5\n",
       "                                  ...  \n",
       "185,263inGroceryGourmetFood(          1\n",
       "540,391inGroceryGourmetFood(          1\n",
       "234,310inGroceryGourmetFood(          1\n",
       "1,371,081inGroceryGourmetFood(        1\n",
       "799,433inGroceryGourmetFood(          1\n",
       "Name: rank, Length: 246967, dtype: int64"
      ]
     },
     "execution_count": 45,
     "metadata": {},
     "output_type": "execute_result"
    }
   ],
   "source": [
    "metastr['rank'].value_counts()"
   ]
  },
  {
   "cell_type": "markdown",
   "metadata": {},
   "source": [
    "Видно, что поле устроено так: рейтинг в сети + название сети.    \n",
    "Пропусков около 5%. Будем считать, что у пропущенных значений ранг = 9999999.   \n",
    "Среди данных есть и затесавшийся мусор нестрокового типа. Почистим."
   ]
  },
  {
   "cell_type": "markdown",
   "metadata": {},
   "source": [
    "Приведем значения данного признака к единому числовому виду"
   ]
  },
  {
   "cell_type": "code",
   "execution_count": 46,
   "metadata": {},
   "outputs": [],
   "source": [
    "# Приведем к строкам\n",
    "meta['rank'] = meta['rank'].astype('str')\n",
    "meta['rank'] = meta['rank'].apply(set_None)"
   ]
  },
  {
   "cell_type": "code",
   "execution_count": 47,
   "metadata": {},
   "outputs": [],
   "source": [
    "# Заполним пропуски\n",
    "meta['rank'] = meta['rank'].fillna('9999999inNoname')"
   ]
  },
  {
   "cell_type": "code",
   "execution_count": 48,
   "metadata": {},
   "outputs": [],
   "source": [
    "# Разделим оценку и категорию товара\n",
    "meta['rank0'] = meta['rank'].apply(lambda x: x.split('in')[0])\n",
    "meta['rank1'] = meta['rank'].apply(lambda x: x.split('in')[1])"
   ]
  },
  {
   "cell_type": "code",
   "execution_count": 49,
   "metadata": {},
   "outputs": [
    {
     "name": "stdout",
     "output_type": "stream",
     "text": [
      "['Grocery' 'Kitchen' 'Health' 'Patio' 'Noname' 'Toys' 'Beauty' 'Sports'\n",
      " 'Arts' 'Electronics' 'Pet' 'Industrial' 'CDsV' 'Tools' 'Office'\n",
      " 'MoviesTV' 'Automotive' 'Software' 'Cloth' 'Camera' 'Musical' 'Baby'\n",
      " 'Video Games' 'AmazonLaunchpad' 'Appliances' 'GiftCards']\n"
     ]
    }
   ],
   "source": [
    "# Нормализуем категорию товара\n",
    "stores = ['Grocery', 'Health', 'Office', 'Sports', 'Kitchen', 'Patio', 'Beauty', 'GiftCards',\n",
    "          'Automotive', 'Appliances', 'MoviesTV', 'Baby', 'AmazonLaunchpad', 'Video Games',\n",
    "          'Tools', 'Industrial', 'Toys', 'Pet', 'Electronics', 'Camera', 'Musical', 'Arts', 'Software']\n",
    "\n",
    "for st in stores:\n",
    "    meta['rank1'] = meta['rank1'].apply(lambda x: st if st in x else x)\n",
    "    \n",
    "# Проверяем\n",
    "print(meta['rank1'].unique())"
   ]
  },
  {
   "cell_type": "code",
   "execution_count": 50,
   "metadata": {},
   "outputs": [],
   "source": [
    "# Нормализуем рейтинг товара\n",
    "meta['rank0'] = meta['rank0'].apply(lambda x: re.sub('\\D', '', x)).astype('float').astype('int32')"
   ]
  },
  {
   "cell_type": "code",
   "execution_count": 51,
   "metadata": {},
   "outputs": [],
   "source": [
    "meantr = meta[meta['rank0'] < 9999999]['rank0'].mean()\n",
    "meta['rank0'] = meta['rank0'].apply(lambda x: x if x < 9999999 else meantr)"
   ]
  },
  {
   "cell_type": "code",
   "execution_count": 52,
   "metadata": {},
   "outputs": [
    {
     "data": {
      "image/png": "[encoded data removed]",
      "text/plain": [
       "<Figure size 720x360 with 2 Axes>"
      ]
     },
     "metadata": {
      "needs_background": "light"
     },
     "output_type": "display_data"
    }
   ],
   "source": [
    "# Проверим распределение\n",
    "val_log_plot(meta, 'rank0')"
   ]
  },
  {
   "cell_type": "markdown",
   "metadata": {},
   "source": [
    "Логарифмирование приводит к почти нормальному виду.   \n",
    "Было предположение, что ранг рассчитывался отдельно по каждой категории и что стоит нормализовать его отдельно по категориям. Но пример ниже показывает, что данных не хвататет. Например, в категории 'Pet' уникальных товаров 128, а рейтинги у них более 100 тысяч. То есть либо рейтинг по категорям, но мы имеем не все товары в категории - либо рейтинг сквозной по всем товарам. С первым вариантом ничего не поделать. Поэтому предположим второй вариант."
   ]
  },
  {
   "cell_type": "code",
   "execution_count": 53,
   "metadata": {},
   "outputs": [
    {
     "data": {
      "text/plain": [
       "2976       140227.0\n",
       "2992       711344.0\n",
       "3126      1270722.0\n",
       "3193       122031.0\n",
       "3194      1372236.0\n",
       "            ...    \n",
       "274121     223949.0\n",
       "274630     270190.0\n",
       "279261      41117.0\n",
       "279975     361597.0\n",
       "283354     581259.0\n",
       "Name: rank0, Length: 128, dtype: float64"
      ]
     },
     "metadata": {},
     "output_type": "display_data"
    }
   ],
   "source": [
    "display(meta[meta.rank1=='Pet'].rank0)"
   ]
  },
  {
   "cell_type": "code",
   "execution_count": 54,
   "metadata": {},
   "outputs": [],
   "source": [
    "# Прологарифмируем рейтинг\n",
    "meta['rank0'] = np.log(meta['rank0'])"
   ]
  },
  {
   "cell_type": "markdown",
   "metadata": {},
   "source": [
    "## also_view"
   ]
  },
  {
   "cell_type": "code",
   "execution_count": 55,
   "metadata": {},
   "outputs": [
    {
     "name": "stdout",
     "output_type": "stream",
     "text": [
      "<class 'pandas.core.frame.DataFrame'>\n",
      "RangeIndex: 287209 entries, 0 to 287208\n",
      "Data columns (total 1 columns):\n",
      " #   Column     Non-Null Count   Dtype \n",
      "---  ------     --------------   ----- \n",
      " 0   also_view  121012 non-null  object\n",
      "dtypes: object(1)\n",
      "memory usage: 2.2+ MB\n",
      "\n",
      "Уникальных значений:  114541\n"
     ]
    },
    {
     "data": {
      "text/plain": [
       "nan                                                                                                                                                                                                                                                                                                                                                                                                                                                                                                                                                                                                                                                                                                                                                                                                   166197\n",
       "['B07FP2GBMC', 'B015AN72FM', 'B004B7C524', 'B00H5INMZU', 'B00MQXYWOE', 'B005D8T86G', 'B008XJAP8C', 'B008OGCH80', 'B00VCCPAEQ', 'B0001M10TM', 'B00IQXHEOI', 'B01F9LPP4U', 'B000N8GUC6', 'B00BEQO67M', 'B071KH1X16', 'B01LY39JST', 'B003X3ZPRY', 'B00F2R5FCE', 'B00AJRKITM', 'B00ZK8YJD6', 'B074XB3XF5', 'B004MGB0YS', 'B000B6FL3Y', 'B001PQRENO', 'B0001M10VA', 'B00A36R26G', 'B013M4COAE', 'B000YV93Z8', 'B075ZBD9F5', 'B00E5UF81W', 'B00WN59GRI', 'B001PQMJIY', 'B008PSCKXE', 'B07GF3KC13', 'B00060P9XM', 'B00XCA1PKY', 'B00FOLNUZC', 'B000N8OL5Y', 'B00VDEMF0K', 'B000N55YQW', 'B075YS1SWB', 'B004M16JMQ', 'B002OH6CO0', 'B0004MV7AG', 'B0000CNU1S', 'B07CVLPQZQ', 'B008OGCQYK', 'B001VNGJX2', 'B009UT87OS', 'B00V57URXC', 'B00PJOAY1M', 'B0052Y60EY', 'B00016XJVK', 'B01G18CNEK', 'B00VU2KJMQ']        22\n",
       "['B07G348HYR']                                                                                                                                                                                                                                                                                                                                                                                                                                                                                                                                                                                                                                                                                                                                                                                            22\n",
       "['B000REJY7E']                                                                                                                                                                                                                                                                                                                                                                                                                                                                                                                                                                                                                                                                                                                                                                                            19\n",
       "['B001GM60LE']                                                                                                                                                                                                                                                                                                                                                                                                                                                                                                                                                                                                                                                                                                                                                                                            19\n",
       "                                                                                                                                                                                                                                                                                                                                                                                                                                                                                                                                                                                                                                                                                                                                                                                                       ...  \n",
       "['B074MJWQWM', 'B0767NJ1QM', 'B07HHJ3P1G', 'B079KJM4M2', 'B01BGHMXIW', 'B00LXEZ4D0', 'B01BGQFJB6', 'B07H2MMPBF', 'B0721J1L2X', 'B074Q33LM8', 'B071RLQKPQ', 'B06Y613969', 'B01EILS67U', 'B00JGXTIXM', 'B01BHFZQR8', 'B001LNVBSA', 'B01E0DT620', 'B01MRCLE7E', 'B0087QM8CW', 'B01DOHOFC4', 'B0071CIZA2', 'B0015HP0GG', 'B075G5M9LK', 'B006VD4AWO', 'B07H2MGY76', 'B00WTACDY0', 'B076JQG3VC', 'B078SDH4V8', 'B00JQFK7U8', 'B007AEDOQQ', 'B00344HE94', 'B00QNZUXK8', 'B076MP12QF', 'B01EG5DBYG', 'B0046E8ZLM', 'B01CC1XPT2', 'B07GLWM3WH', 'B00MPXVRNE', 'B019G6FY0O', 'B014B1VK02', 'B00K0T03N0', 'B00FGINRTM', 'B01IDPPZNU', 'B008HTJ90S', 'B00PDULWPY', 'B01NBL3SA7', 'B07C68CWQJ', 'B001Q5KXDW', 'B00U3WWXA0']                                                                                             1\n",
       "['B00FIUCG1S', 'B00469VTJ2', 'B07DPQ7LXJ', 'B00CHU1ZSM', 'B00CHU2072', 'B01G82PZ5S', 'B01NH5B266', 'B001AB4G7G', 'B00FIUC08W', 'B00FIUCBJK', 'B01LY9TYZU']                                                                                                                                                                                                                                                                                                                                                                                                                                                                                                                                                                                                                                                 1\n",
       "['B00N1D5UBW', 'B012CUEC8G', 'B016QGC7A2', 'B079P78NVT', 'B005EKI02Q', 'B00XMYUEEI', 'B0014E2UP4', 'B00MZGEA8U', 'B00Q47SNRA']                                                                                                                                                                                                                                                                                                                                                                                                                                                                                                                                                                                                                                                                             1\n",
       "['B002X1993I', 'B00OWXOXRC', 'B00DTDPUUU', 'B005HPE87Y', 'B01CD83O5E', 'B004AIMVXW']                                                                                                                                                                                                                                                                                                                                                                                                                                                                                                                                                                                                                                                                                                                       1\n",
       "['B0731XJWH5', 'B003RX74AQ', 'B000VVWUMY']                                                                                                                                                                                                                                                                                                                                                                                                                                                                                                                                                                                                                                                                                                                                                                 1\n",
       "Name: also_view, Length: 114541, dtype: int64"
      ]
     },
     "metadata": {},
     "output_type": "display_data"
    }
   ],
   "source": [
    "meta[['also_view']].info()\n",
    "print('')\n",
    "print('Уникальных значений: ', len(metastr['also_view'].unique()))\n",
    "display(metastr['also_view'].value_counts())"
   ]
  },
  {
   "cell_type": "code",
   "execution_count": 56,
   "metadata": {},
   "outputs": [
    {
     "name": "stdout",
     "output_type": "stream",
     "text": [
      "['B00NUS00Z4', 'B00NZEO5R2', 'B0087EO21Y', 'B01AJ5GT7S', 'B01N014KFH', 'B001NG72UQ', 'B0000DYNFF', 'B001NGAT60', 'B001SAWMHA', 'B001NG72RY', 'B001VNKZQY', 'B008XDJ1C4', 'B07JJYVV39', 'B06W2G86T1', 'B00CL9QRQY', 'B076JNKD6W', 'B019LQISSY', 'B07H5VHSDQ', 'B00IEVYOW2', 'B075Y6TMMM', 'B07H64W18P', 'B008BTHDQQ', 'B00OYW1T8C', 'B001NG7242', 'B00UQOF6F4', 'B000KEPBBY', 'B00NUOTOY6', 'B003SLQG5G', 'B001NG72EC', 'B0087EO47Q', 'B0087EO42G', 'B0000DYNFI', 'B00O09AM7I', 'B00NZD1878']\n"
     ]
    }
   ],
   "source": [
    "print(meta.also_view[892])"
   ]
  },
  {
   "cell_type": "markdown",
   "metadata": {},
   "source": [
    "Признак показывает, какие товары просматривали вместе с данным товаром.    \n",
    "Пропусков - половина. Будем считать, что если значений нет, то список просматриваемых пустой. То есть, с товаром ничего не просматривали.   \n",
    "Приведем поле к списку и пропуски заполним пустыми списками."
   ]
  },
  {
   "cell_type": "code",
   "execution_count": 57,
   "metadata": {},
   "outputs": [],
   "source": [
    "# Заполним пропуски\n",
    "meta['also_view'] = meta['also_view'].apply(set_None)\n",
    "meta['also_view'] = meta['also_view'].apply(lambda x: [] if x is None else x)"
   ]
  },
  {
   "cell_type": "code",
   "execution_count": 58,
   "metadata": {},
   "outputs": [
    {
     "data": {
      "text/plain": [
       "237219                                                   []\n",
       "286553    ['B07DQQZQQ3', 'B00AFYP5T2', 'B07DV1T3JT', 'B0...\n",
       "236270                                       ['B00TS6W8NE']\n",
       "141316                         ['B00GT0VRES', 'B01LYVBTSA']\n",
       "269538                                                   []\n",
       "Name: also_view, dtype: object"
      ]
     },
     "execution_count": 58,
     "metadata": {},
     "output_type": "execute_result"
    }
   ],
   "source": [
    "meta.also_view.sample(5)"
   ]
  },
  {
   "cell_type": "markdown",
   "metadata": {},
   "source": [
    "Столбец будем использовать для вывода в сервисе. Для моделирования непонятно, нужен ли он. Попозже можно попробовать добавить длины списков как новую фичу."
   ]
  },
  {
   "cell_type": "markdown",
   "metadata": {},
   "source": [
    "## main_cat"
   ]
  },
  {
   "cell_type": "code",
   "execution_count": 59,
   "metadata": {},
   "outputs": [
    {
     "name": "stdout",
     "output_type": "stream",
     "text": [
      "<class 'pandas.core.frame.DataFrame'>\n",
      "RangeIndex: 287209 entries, 0 to 287208\n",
      "Data columns (total 1 columns):\n",
      " #   Column    Non-Null Count   Dtype \n",
      "---  ------    --------------   ----- \n",
      " 0   main_cat  285716 non-null  object\n",
      "dtypes: object(1)\n",
      "memory usage: 2.2+ MB\n",
      "\n",
      "Уникальных значений:  27\n"
     ]
    },
    {
     "data": {
      "text/plain": [
       "Grocery                         261994\n",
       "Amazon Home                       8957\n",
       "Health & Personal Care            8547\n",
       "Toys & Games                      1935\n",
       "All Beauty                        1604\n",
       "Industrial & Scientific            981\n",
       "Office Products                    610\n",
       "Sports & Outdoors                  396\n",
       "Cell Phones & Accessories          167\n",
       "Pet Supplies                       133\n",
       "Arts, Crafts & Sewing              132\n",
       "Baby                                95\n",
       "Tools & Home Improvement            66\n",
       "Computers                           39\n",
       "All Electronics                     20\n",
       "Home Audio & Theater                15\n",
       "Automotive                           7\n",
       "Movies & TV                          4\n",
       "Musical Instruments                  3\n",
       "Camera & Photo                       3\n",
       "Video Games                          2\n",
       "Software                             2\n",
       "Gift Cards                           1\n",
       "Car Electronics                      1\n",
       "Portable Audio & Accessories         1\n",
       "Appliances                           1\n",
       "Name: main_cat, dtype: int64"
      ]
     },
     "metadata": {},
     "output_type": "display_data"
    }
   ],
   "source": [
    "meta[['main_cat']].info()\n",
    "print('')\n",
    "print('Уникальных значений: ', len(metastr['main_cat'].unique()))\n",
    "display(metastr['main_cat'].value_counts())"
   ]
  },
  {
   "cell_type": "markdown",
   "metadata": {},
   "source": [
    "Видно, что эта фича повторяет созданную только что фичу rank1. Поэтому rank1 можно удалить."
   ]
  },
  {
   "cell_type": "code",
   "execution_count": 60,
   "metadata": {},
   "outputs": [],
   "source": [
    "meta = meta.drop(['rank1'], axis=1)"
   ]
  },
  {
   "cell_type": "code",
   "execution_count": 61,
   "metadata": {},
   "outputs": [],
   "source": [
    "# Избавимся от пропусков\n",
    "meta.main_cat = meta.main_cat.fillna('Noname')"
   ]
  },
  {
   "cell_type": "markdown",
   "metadata": {},
   "source": [
    "Столбец будет полезен не при моделировании, а для выдачи информации о рекомендованном товаре."
   ]
  },
  {
   "cell_type": "markdown",
   "metadata": {},
   "source": [
    "## price"
   ]
  },
  {
   "cell_type": "code",
   "execution_count": 62,
   "metadata": {},
   "outputs": [
    {
     "name": "stdout",
     "output_type": "stream",
     "text": [
      "<class 'pandas.core.frame.DataFrame'>\n",
      "RangeIndex: 287209 entries, 0 to 287208\n",
      "Data columns (total 1 columns):\n",
      " #   Column  Non-Null Count   Dtype \n",
      "---  ------  --------------   ----- \n",
      " 0   price   132136 non-null  object\n",
      "dtypes: object(1)\n",
      "memory usage: 2.2+ MB\n",
      "\n",
      "Уникальных значений:  9338\n"
     ]
    },
    {
     "data": {
      "text/plain": [
       "$14.99              2076\n",
       "$9.99               2029\n",
       "$19.99              1580\n",
       "$12.99              1498\n",
       "$7.99               1209\n",
       "                    ... \n",
       "$82.69                 1\n",
       "$168.50                1\n",
       "$59.07                 1\n",
       "$135.72                1\n",
       "$38.00 - $885.00       1\n",
       "Name: price, Length: 9337, dtype: int64"
      ]
     },
     "metadata": {},
     "output_type": "display_data"
    }
   ],
   "source": [
    "meta[['price']].info()\n",
    "print('')\n",
    "print('Уникальных значений: ', len(metastr['price'].unique()))\n",
    "display(metastr['price'].value_counts())"
   ]
  },
  {
   "cell_type": "markdown",
   "metadata": {},
   "source": [
    "Пропусков примерно половина. Для моделирования заменим пропуски средней ценой по каждой категории (main_cat)."
   ]
  },
  {
   "cell_type": "code",
   "execution_count": 63,
   "metadata": {},
   "outputs": [],
   "source": [
    "# Чистим данные\n",
    "meta['price'] = meta['price'].apply(set_None)\n",
    "meta.price = meta.price.fillna('$0.00')\n",
    "meta['price'] = meta['price'].apply(lambda x: re.sub('[^\\d\\.]', '', x))\n",
    "\n",
    "meta['price'] = meta['price'].apply(lambda x: '0.00' if re.match(\"^\\d+?\\.\\d+?$\", x) is None else x).astype('float')"
   ]
  },
  {
   "cell_type": "code",
   "execution_count": 64,
   "metadata": {},
   "outputs": [
    {
     "data": {
      "text/html": [
       "<div>\n",
       "<style scoped>\n",
       "    .dataframe tbody tr th:only-of-type {\n",
       "        vertical-align: middle;\n",
       "    }\n",
       "\n",
       "    .dataframe tbody tr th {\n",
       "        vertical-align: top;\n",
       "    }\n",
       "\n",
       "    .dataframe thead th {\n",
       "        text-align: right;\n",
       "    }\n",
       "</style>\n",
       "<table border=\"1\" class=\"dataframe\">\n",
       "  <thead>\n",
       "    <tr style=\"text-align: right;\">\n",
       "      <th></th>\n",
       "      <th>category</th>\n",
       "      <th>description</th>\n",
       "      <th>title</th>\n",
       "      <th>brand</th>\n",
       "      <th>rank</th>\n",
       "      <th>also_view</th>\n",
       "      <th>main_cat</th>\n",
       "      <th>price</th>\n",
       "      <th>asin</th>\n",
       "      <th>also_buy</th>\n",
       "      <th>...</th>\n",
       "      <th>brand8</th>\n",
       "      <th>brand9</th>\n",
       "      <th>brand10</th>\n",
       "      <th>brand11</th>\n",
       "      <th>brand12</th>\n",
       "      <th>brand13</th>\n",
       "      <th>brand14</th>\n",
       "      <th>brand15</th>\n",
       "      <th>brand_other</th>\n",
       "      <th>rank0</th>\n",
       "    </tr>\n",
       "  </thead>\n",
       "  <tbody>\n",
       "    <tr>\n",
       "      <th>1</th>\n",
       "      <td>[Grocery &amp; Gourmet Food, Cooking &amp; Baking, Sug...</td>\n",
       "      <td>[ shipped from uk  please allow 10 to 21 busin...</td>\n",
       "      <td>Trim Healthy Mama Xylitol</td>\n",
       "      <td>Unknown</td>\n",
       "      <td>315,867inGroceryGourmetFood(</td>\n",
       "      <td>[]</td>\n",
       "      <td>Grocery</td>\n",
       "      <td>0.0</td>\n",
       "      <td>0853347867</td>\n",
       "      <td>[B01898YHXK, B01BCM6LAC, B00Q4OL47O, B00Q4OL5Q...</td>\n",
       "      <td>...</td>\n",
       "      <td>0</td>\n",
       "      <td>0</td>\n",
       "      <td>0</td>\n",
       "      <td>0</td>\n",
       "      <td>0</td>\n",
       "      <td>0</td>\n",
       "      <td>0</td>\n",
       "      <td>0</td>\n",
       "      <td>0</td>\n",
       "      <td>12.663077</td>\n",
       "    </tr>\n",
       "    <tr>\n",
       "      <th>16</th>\n",
       "      <td>[Grocery &amp; Gourmet Food, Canned, Jarred &amp; Pack...</td>\n",
       "      <td>[ kashmiri mirch is a special blend of medium ...</td>\n",
       "      <td>MDH Kashmiri Mirch 100g</td>\n",
       "      <td>MDH</td>\n",
       "      <td>329,103inGroceryGourmetFood(</td>\n",
       "      <td>['B07BY73J3N']</td>\n",
       "      <td>Grocery</td>\n",
       "      <td>0.0</td>\n",
       "      <td>5478541265</td>\n",
       "      <td>NaN</td>\n",
       "      <td>...</td>\n",
       "      <td>0</td>\n",
       "      <td>0</td>\n",
       "      <td>0</td>\n",
       "      <td>0</td>\n",
       "      <td>0</td>\n",
       "      <td>0</td>\n",
       "      <td>0</td>\n",
       "      <td>0</td>\n",
       "      <td>1</td>\n",
       "      <td>12.704126</td>\n",
       "    </tr>\n",
       "    <tr>\n",
       "      <th>17</th>\n",
       "      <td>[Grocery &amp; Gourmet Food, Canned, Jarred &amp; Pack...</td>\n",
       "      <td>[\"whether you prefer them stuffed  pitted  or ...</td>\n",
       "      <td>Goya Stuffed Olive with Minced Tuna 5.25 ounce...</td>\n",
       "      <td>Goya</td>\n",
       "      <td>626,163inGroceryGourmetFood(</td>\n",
       "      <td>[]</td>\n",
       "      <td>Grocery</td>\n",
       "      <td>0.0</td>\n",
       "      <td>5643467860</td>\n",
       "      <td>[B004IMJL1U]</td>\n",
       "      <td>...</td>\n",
       "      <td>0</td>\n",
       "      <td>0</td>\n",
       "      <td>0</td>\n",
       "      <td>0</td>\n",
       "      <td>0</td>\n",
       "      <td>0</td>\n",
       "      <td>0</td>\n",
       "      <td>0</td>\n",
       "      <td>1</td>\n",
       "      <td>13.347366</td>\n",
       "    </tr>\n",
       "    <tr>\n",
       "      <th>18</th>\n",
       "      <td>[Grocery &amp; Gourmet Food, Breads &amp; Bakery, Cakes]</td>\n",
       "      <td>[\"new birthday cake m&amp;m s\"   statements regard...</td>\n",
       "      <td>Mars New Birthday Cake M&amp;M's 39.7G - American ...</td>\n",
       "      <td>Mars</td>\n",
       "      <td>673,482inGroceryGourmetFood(</td>\n",
       "      <td>[]</td>\n",
       "      <td>Grocery</td>\n",
       "      <td>0.0</td>\n",
       "      <td>6040343958</td>\n",
       "      <td>NaN</td>\n",
       "      <td>...</td>\n",
       "      <td>0</td>\n",
       "      <td>0</td>\n",
       "      <td>0</td>\n",
       "      <td>0</td>\n",
       "      <td>0</td>\n",
       "      <td>0</td>\n",
       "      <td>0</td>\n",
       "      <td>0</td>\n",
       "      <td>1</td>\n",
       "      <td>13.420217</td>\n",
       "    </tr>\n",
       "    <tr>\n",
       "      <th>19</th>\n",
       "      <td>[Grocery &amp; Gourmet Food, Frozen, Ice Cream &amp; N...</td>\n",
       "      <td>[ make your very own ice cream treats at home ...</td>\n",
       "      <td>Chill Factor Ice Cream Maker (Choc Delight)</td>\n",
       "      <td>Chill Factor</td>\n",
       "      <td>1,636,575inHealthHousehold(</td>\n",
       "      <td>[]</td>\n",
       "      <td>Health &amp; Personal Care</td>\n",
       "      <td>0.0</td>\n",
       "      <td>6040763906</td>\n",
       "      <td>NaN</td>\n",
       "      <td>...</td>\n",
       "      <td>0</td>\n",
       "      <td>0</td>\n",
       "      <td>0</td>\n",
       "      <td>0</td>\n",
       "      <td>0</td>\n",
       "      <td>0</td>\n",
       "      <td>0</td>\n",
       "      <td>0</td>\n",
       "      <td>1</td>\n",
       "      <td>14.308116</td>\n",
       "    </tr>\n",
       "    <tr>\n",
       "      <th>...</th>\n",
       "      <td>...</td>\n",
       "      <td>...</td>\n",
       "      <td>...</td>\n",
       "      <td>...</td>\n",
       "      <td>...</td>\n",
       "      <td>...</td>\n",
       "      <td>...</td>\n",
       "      <td>...</td>\n",
       "      <td>...</td>\n",
       "      <td>...</td>\n",
       "      <td>...</td>\n",
       "      <td>...</td>\n",
       "      <td>...</td>\n",
       "      <td>...</td>\n",
       "      <td>...</td>\n",
       "      <td>...</td>\n",
       "      <td>...</td>\n",
       "      <td>...</td>\n",
       "      <td>...</td>\n",
       "      <td>...</td>\n",
       "      <td>...</td>\n",
       "    </tr>\n",
       "    <tr>\n",
       "      <th>287199</th>\n",
       "      <td>[Grocery &amp; Gourmet Food, Beverages, Bottled Be...</td>\n",
       "      <td>[ we get it  most meal replacements and protei...</td>\n",
       "      <td>WakeShake Collagen Protein Meal Replacement Sh...</td>\n",
       "      <td>WakeShake</td>\n",
       "      <td>269,860inGroceryGourmetFood(</td>\n",
       "      <td>['B072KFZ9TQ', 'B0759SL8Y6', 'B06W2K24CZ', 'B0...</td>\n",
       "      <td>Grocery</td>\n",
       "      <td>0.0</td>\n",
       "      <td>B01HJ7QPKU</td>\n",
       "      <td>[B01LZ73FXY, B07229QF2F, B01H298206, 162860264...</td>\n",
       "      <td>...</td>\n",
       "      <td>0</td>\n",
       "      <td>0</td>\n",
       "      <td>0</td>\n",
       "      <td>0</td>\n",
       "      <td>0</td>\n",
       "      <td>0</td>\n",
       "      <td>0</td>\n",
       "      <td>0</td>\n",
       "      <td>1</td>\n",
       "      <td>12.505659</td>\n",
       "    </tr>\n",
       "    <tr>\n",
       "      <th>287200</th>\n",
       "      <td>[Grocery &amp; Gourmet Food, Cooking &amp; Baking, Fro...</td>\n",
       "      <td>[ features/specifications  product style 24pcs...</td>\n",
       "      <td>Drhob 24 Pcs Icing Piping Nozzles Pastry Tips ...</td>\n",
       "      <td>Dhrob</td>\n",
       "      <td>&gt;#603,338 in Grocery &amp; Gourmet Food (See Top 1...</td>\n",
       "      <td>[]</td>\n",
       "      <td>Amazon Home</td>\n",
       "      <td>0.0</td>\n",
       "      <td>B01HJ9Y7OO</td>\n",
       "      <td>NaN</td>\n",
       "      <td>...</td>\n",
       "      <td>0</td>\n",
       "      <td>0</td>\n",
       "      <td>0</td>\n",
       "      <td>0</td>\n",
       "      <td>0</td>\n",
       "      <td>0</td>\n",
       "      <td>0</td>\n",
       "      <td>0</td>\n",
       "      <td>1</td>\n",
       "      <td>13.310233</td>\n",
       "    </tr>\n",
       "    <tr>\n",
       "      <th>287202</th>\n",
       "      <td>[Grocery &amp; Gourmet Food, Cooking &amp; Baking, Coo...</td>\n",
       "      <td>[ light golden color  mild dry sherry flavor  ...</td>\n",
       "      <td>Holland House Sherry Cooking Wine 16 fl.oz</td>\n",
       "      <td>Mizkan</td>\n",
       "      <td>459,035inGroceryGourmetFood(</td>\n",
       "      <td>[]</td>\n",
       "      <td>Grocery</td>\n",
       "      <td>0.0</td>\n",
       "      <td>B01HJEK5QS</td>\n",
       "      <td>NaN</td>\n",
       "      <td>...</td>\n",
       "      <td>0</td>\n",
       "      <td>0</td>\n",
       "      <td>0</td>\n",
       "      <td>0</td>\n",
       "      <td>0</td>\n",
       "      <td>0</td>\n",
       "      <td>0</td>\n",
       "      <td>0</td>\n",
       "      <td>1</td>\n",
       "      <td>13.036882</td>\n",
       "    </tr>\n",
       "    <tr>\n",
       "      <th>287203</th>\n",
       "      <td>[Grocery &amp; Gourmet Food, Condiments &amp; Salad Dr...</td>\n",
       "      <td>[ a unique blend of herbs  just goddess from h...</td>\n",
       "      <td>HAMPTON CREEK Just Goddess Dressing, 12 Fluid ...</td>\n",
       "      <td>Hampton Creek</td>\n",
       "      <td>492,676inGroceryGourmetFood(</td>\n",
       "      <td>[]</td>\n",
       "      <td>Grocery</td>\n",
       "      <td>0.0</td>\n",
       "      <td>B01HJEO4QK</td>\n",
       "      <td>[B01HJEHE9E, B01HJF6FRA, B01N6LF9LZ]</td>\n",
       "      <td>...</td>\n",
       "      <td>0</td>\n",
       "      <td>0</td>\n",
       "      <td>0</td>\n",
       "      <td>0</td>\n",
       "      <td>0</td>\n",
       "      <td>0</td>\n",
       "      <td>0</td>\n",
       "      <td>0</td>\n",
       "      <td>1</td>\n",
       "      <td>13.107607</td>\n",
       "    </tr>\n",
       "    <tr>\n",
       "      <th>287204</th>\n",
       "      <td>[Grocery &amp; Gourmet Food, Jams, Jellies &amp; Sweet...</td>\n",
       "      <td>[ caffarel fruit jellies are a product of ital...</td>\n",
       "      <td>Caffarel Fruit Jellies, Organic Assorted, 200 ...</td>\n",
       "      <td>Caffarel</td>\n",
       "      <td>369,384inGroceryGourmetFood(</td>\n",
       "      <td>[]</td>\n",
       "      <td>Grocery</td>\n",
       "      <td>0.0</td>\n",
       "      <td>B01HJFBN9A</td>\n",
       "      <td>[B01HULC3TC, B07C8L4NWL, B014UTG6D6, B01M3UOLAP]</td>\n",
       "      <td>...</td>\n",
       "      <td>0</td>\n",
       "      <td>0</td>\n",
       "      <td>0</td>\n",
       "      <td>0</td>\n",
       "      <td>0</td>\n",
       "      <td>0</td>\n",
       "      <td>0</td>\n",
       "      <td>0</td>\n",
       "      <td>1</td>\n",
       "      <td>12.819592</td>\n",
       "    </tr>\n",
       "  </tbody>\n",
       "</table>\n",
       "<p>155173 rows × 53 columns</p>\n",
       "</div>"
      ],
      "text/plain": [
       "                                                 category  \\\n",
       "1       [Grocery & Gourmet Food, Cooking & Baking, Sug...   \n",
       "16      [Grocery & Gourmet Food, Canned, Jarred & Pack...   \n",
       "17      [Grocery & Gourmet Food, Canned, Jarred & Pack...   \n",
       "18       [Grocery & Gourmet Food, Breads & Bakery, Cakes]   \n",
       "19      [Grocery & Gourmet Food, Frozen, Ice Cream & N...   \n",
       "...                                                   ...   \n",
       "287199  [Grocery & Gourmet Food, Beverages, Bottled Be...   \n",
       "287200  [Grocery & Gourmet Food, Cooking & Baking, Fro...   \n",
       "287202  [Grocery & Gourmet Food, Cooking & Baking, Coo...   \n",
       "287203  [Grocery & Gourmet Food, Condiments & Salad Dr...   \n",
       "287204  [Grocery & Gourmet Food, Jams, Jellies & Sweet...   \n",
       "\n",
       "                                              description  \\\n",
       "1       [ shipped from uk  please allow 10 to 21 busin...   \n",
       "16      [ kashmiri mirch is a special blend of medium ...   \n",
       "17      [\"whether you prefer them stuffed  pitted  or ...   \n",
       "18      [\"new birthday cake m&m s\"   statements regard...   \n",
       "19      [ make your very own ice cream treats at home ...   \n",
       "...                                                   ...   \n",
       "287199  [ we get it  most meal replacements and protei...   \n",
       "287200  [ features/specifications  product style 24pcs...   \n",
       "287202  [ light golden color  mild dry sherry flavor  ...   \n",
       "287203  [ a unique blend of herbs  just goddess from h...   \n",
       "287204  [ caffarel fruit jellies are a product of ital...   \n",
       "\n",
       "                                                    title          brand  \\\n",
       "1                               Trim Healthy Mama Xylitol        Unknown   \n",
       "16                                MDH Kashmiri Mirch 100g            MDH   \n",
       "17      Goya Stuffed Olive with Minced Tuna 5.25 ounce...           Goya   \n",
       "18      Mars New Birthday Cake M&M's 39.7G - American ...           Mars   \n",
       "19            Chill Factor Ice Cream Maker (Choc Delight)   Chill Factor   \n",
       "...                                                   ...            ...   \n",
       "287199  WakeShake Collagen Protein Meal Replacement Sh...      WakeShake   \n",
       "287200  Drhob 24 Pcs Icing Piping Nozzles Pastry Tips ...          Dhrob   \n",
       "287202         Holland House Sherry Cooking Wine 16 fl.oz         Mizkan   \n",
       "287203  HAMPTON CREEK Just Goddess Dressing, 12 Fluid ...  Hampton Creek   \n",
       "287204  Caffarel Fruit Jellies, Organic Assorted, 200 ...       Caffarel   \n",
       "\n",
       "                                                     rank  \\\n",
       "1                            315,867inGroceryGourmetFood(   \n",
       "16                           329,103inGroceryGourmetFood(   \n",
       "17                           626,163inGroceryGourmetFood(   \n",
       "18                           673,482inGroceryGourmetFood(   \n",
       "19                            1,636,575inHealthHousehold(   \n",
       "...                                                   ...   \n",
       "287199                       269,860inGroceryGourmetFood(   \n",
       "287200  >#603,338 in Grocery & Gourmet Food (See Top 1...   \n",
       "287202                       459,035inGroceryGourmetFood(   \n",
       "287203                       492,676inGroceryGourmetFood(   \n",
       "287204                       369,384inGroceryGourmetFood(   \n",
       "\n",
       "                                                also_view  \\\n",
       "1                                                      []   \n",
       "16                                         ['B07BY73J3N']   \n",
       "17                                                     []   \n",
       "18                                                     []   \n",
       "19                                                     []   \n",
       "...                                                   ...   \n",
       "287199  ['B072KFZ9TQ', 'B0759SL8Y6', 'B06W2K24CZ', 'B0...   \n",
       "287200                                                 []   \n",
       "287202                                                 []   \n",
       "287203                                                 []   \n",
       "287204                                                 []   \n",
       "\n",
       "                      main_cat  price        asin  \\\n",
       "1                      Grocery    0.0  0853347867   \n",
       "16                     Grocery    0.0  5478541265   \n",
       "17                     Grocery    0.0  5643467860   \n",
       "18                     Grocery    0.0  6040343958   \n",
       "19      Health & Personal Care    0.0  6040763906   \n",
       "...                        ...    ...         ...   \n",
       "287199                 Grocery    0.0  B01HJ7QPKU   \n",
       "287200             Amazon Home    0.0  B01HJ9Y7OO   \n",
       "287202                 Grocery    0.0  B01HJEK5QS   \n",
       "287203                 Grocery    0.0  B01HJEO4QK   \n",
       "287204                 Grocery    0.0  B01HJFBN9A   \n",
       "\n",
       "                                                 also_buy  ... brand8  brand9  \\\n",
       "1       [B01898YHXK, B01BCM6LAC, B00Q4OL47O, B00Q4OL5Q...  ...      0       0   \n",
       "16                                                    NaN  ...      0       0   \n",
       "17                                           [B004IMJL1U]  ...      0       0   \n",
       "18                                                    NaN  ...      0       0   \n",
       "19                                                    NaN  ...      0       0   \n",
       "...                                                   ...  ...    ...     ...   \n",
       "287199  [B01LZ73FXY, B07229QF2F, B01H298206, 162860264...  ...      0       0   \n",
       "287200                                                NaN  ...      0       0   \n",
       "287202                                                NaN  ...      0       0   \n",
       "287203               [B01HJEHE9E, B01HJF6FRA, B01N6LF9LZ]  ...      0       0   \n",
       "287204   [B01HULC3TC, B07C8L4NWL, B014UTG6D6, B01M3UOLAP]  ...      0       0   \n",
       "\n",
       "        brand10  brand11  brand12  brand13  brand14  brand15  brand_other  \\\n",
       "1             0        0        0        0        0        0            0   \n",
       "16            0        0        0        0        0        0            1   \n",
       "17            0        0        0        0        0        0            1   \n",
       "18            0        0        0        0        0        0            1   \n",
       "19            0        0        0        0        0        0            1   \n",
       "...         ...      ...      ...      ...      ...      ...          ...   \n",
       "287199        0        0        0        0        0        0            1   \n",
       "287200        0        0        0        0        0        0            1   \n",
       "287202        0        0        0        0        0        0            1   \n",
       "287203        0        0        0        0        0        0            1   \n",
       "287204        0        0        0        0        0        0            1   \n",
       "\n",
       "            rank0  \n",
       "1       12.663077  \n",
       "16      12.704126  \n",
       "17      13.347366  \n",
       "18      13.420217  \n",
       "19      14.308116  \n",
       "...           ...  \n",
       "287199  12.505659  \n",
       "287200  13.310233  \n",
       "287202  13.036882  \n",
       "287203  13.107607  \n",
       "287204  12.819592  \n",
       "\n",
       "[155173 rows x 53 columns]"
      ]
     },
     "execution_count": 64,
     "metadata": {},
     "output_type": "execute_result"
    }
   ],
   "source": [
    "meta[meta['price']==0]"
   ]
  },
  {
   "cell_type": "code",
   "execution_count": 65,
   "metadata": {},
   "outputs": [],
   "source": [
    "# Пропуски заполняем средним значением по главной категории товара\n",
    "match = dict(np.round(meta[meta['price']>0].groupby('main_cat')['price'].mean(),2))\n",
    "match1 = dict(np.round(meta.groupby('main_cat')['price'].mean(),2))\n",
    "\n",
    "match['Camera & Photo'] = 25.00\n",
    "match['Cell Phones & Accessories'] = 15.00\n",
    "match['Home Audio & Theater'] = 5.00\n",
    "match['Musical Instruments'] = 30.00\n",
    "match['Software'] = 20.00\n",
    "\n",
    "meta['price'] = meta.apply(lambda row: match[row['main_cat']] if row['main_cat'] in match and row['price']==0 else row['price'], \n",
    "                           axis = 1)"
   ]
  },
  {
   "cell_type": "code",
   "execution_count": 66,
   "metadata": {},
   "outputs": [],
   "source": [
    "meta['price'] = meta['price'].apply(lambda x: 5 if x==0 else x)"
   ]
  },
  {
   "cell_type": "code",
   "execution_count": 67,
   "metadata": {},
   "outputs": [
    {
     "data": {
      "image/png": "[encoded data removed]",
      "text/plain": [
       "<Figure size 720x360 with 2 Axes>"
      ]
     },
     "metadata": {
      "needs_background": "light"
     },
     "output_type": "display_data"
    }
   ],
   "source": [
    "val_log_plot(meta,'price')"
   ]
  },
  {
   "cell_type": "code",
   "execution_count": 68,
   "metadata": {},
   "outputs": [],
   "source": [
    "# Прологарифмируем цену, так как логарифмирование приводит распределение к нормальному\n",
    "meta['price_log'] = np.log(meta['price'])"
   ]
  },
  {
   "cell_type": "markdown",
   "metadata": {},
   "source": [
    "## also_buy"
   ]
  },
  {
   "cell_type": "code",
   "execution_count": 69,
   "metadata": {},
   "outputs": [
    {
     "name": "stdout",
     "output_type": "stream",
     "text": [
      "<class 'pandas.core.frame.DataFrame'>\n",
      "RangeIndex: 287209 entries, 0 to 287208\n",
      "Data columns (total 1 columns):\n",
      " #   Column    Non-Null Count  Dtype \n",
      "---  ------    --------------  ----- \n",
      " 0   also_buy  83332 non-null  object\n",
      "dtypes: object(1)\n",
      "memory usage: 2.2+ MB\n",
      "\n",
      "Уникальных значений:  80064\n"
     ]
    },
    {
     "data": {
      "text/plain": [
       "nan                                                                                                                                                                                                                                                                                                                                                                                                                                                                                                                                                                                                                                                                                                                                                                                                                                                                                                                                                                                                                                                                                                                       203877\n",
       "['B07CX6LN8T']                                                                                                                                                                                                                                                                                                                                                                                                                                                                                                                                                                                                                                                                                                                                                                                                                                                                                                                                                                                                                                                                                                               162\n",
       "['B00061CAPG']                                                                                                                                                                                                                                                                                                                                                                                                                                                                                                                                                                                                                                                                                                                                                                                                                                                                                                                                                                                                                                                                                                                89\n",
       "['B0043E6P58']                                                                                                                                                                                                                                                                                                                                                                                                                                                                                                                                                                                                                                                                                                                                                                                                                                                                                                                                                                                                                                                                                                                43\n",
       "['B00CJ8I9MC']                                                                                                                                                                                                                                                                                                                                                                                                                                                                                                                                                                                                                                                                                                                                                                                                                                                                                                                                                                                                                                                                                                                34\n",
       "                                                                                                                                                                                                                                                                                                                                                                                                                                                                                                                                                                                                                                                                                                                                                                                                                                                                                                                                                                                                                                                                                                                           ...  \n",
       "['B01KL8L27U', 'B00RB9GJZI', 'B00RB9SF5K', 'B00R8924EQ', 'B073WTC4VH', 'B01EZ2OKOK', 'B00I8RKG06', 'B00R7FTESA', 'B07GCWLWTM', 'B00P73NASO', 'B0721YLSXG', 'B00I9FVI22', 'B006J2TTPU', 'B001R3BQNY', 'B077FFV72N', 'B005DM3N2M', 'B002KQ6TIE', 'B077DXXNBT', 'B0768PF545', 'B07895SH2Y', 'B00MK8NK7U', 'B00PEQZXSY', 'B0781VSS63', 'B07FDQ88L3', 'B000FJX878', 'B074P6D21H', 'B01FJEAU5Q', 'B00CQ5M0PU', '0989226751', 'B005GEYS94', 'B00XCYWYPK', 'B007LTRR0O', 'B00CPTR7WS', 'B0077JLHKO', 'B0187S2NLU', 'B00D1DP00S', 'B00ADYXY7E', 'B00G9E1GYA', 'B00X24X0KI', 'B077DYWYHF']                                                                                                                                                                                                                                                                                                                                                                                                                                                                                                                                               1\n",
       "['B000WLJR4C', 'B00099XOMI', 'B01IF0GFQO', 'B00099XLQM', 'B000R4FHZW', 'B000VDREQE', 'B000Q5I6XC', 'B01IRIONK4', 'B00G4UG112', 'B000R32RJC', 'B00FZGZKHW', 'B000PWNKFU', 'B000PXZZQG', 'B000WHSD5A', 'B000QJAXCU', 'B00GV46API', 'B0029JS1ZG', 'B000R9EEH4', 'B000UEUAGU', 'B000RYFRVG', 'B000R30PFA', 'B00G4U6UY0', 'B0005Z8CUK', 'B000UENHBU', 'B000R32OEK', 'B00LOQDJBG']                                                                                                                                                                                                                                                                                                                                                                                                                                                                                                                                                                                                                                                                                                                                                   1\n",
       "['B00TBJ601Y', 'B01NAXNRWN', 'B008DZ2JT4', 'B00TBJ8P6W', 'B01N34Z4TJ', 'B06XTSCH5V', 'B017NVB0N4', 'B00L487ZUU', 'B008DZ1OQ8', 'B01DWZ934I', 'B017QUWJWI', 'B00TBJ8FRQ', 'B071XJ8RZ4', 'B006O0KQUO', 'B0012QDYK4', 'B003X3RPB8', 'B008DZ02OI']                                                                                                                                                                                                                                                                                                                                                                                                                                                                                                                                                                                                                                                                                                                                                                                                                                                                                 1\n",
       "['B00H0MD076', 'B00H1C9CN6', 'B00H0QS7E8', 'B071W72MF8', 'B01NB9KC61', 'B00F01Q8H8', 'B01ATWI4WO', 'B00H2A7JSC', 'B071WB42H9', 'B001JG6REC', 'B003G91PNS', 'B008BUUQEG', 'B00TMG1ASE', 'B012MN0KF2', 'B004281MKI', 'B00PUQ3GAA', 'B00H2AXMTW']                                                                                                                                                                                                                                                                                                                                                                                                                                                                                                                                                                                                                                                                                                                                                                                                                                                                                 1\n",
       "['B000G2UUOS', 'B0094IXKME', 'B00Q2DQ5IK', 'B07982VR9D', 'B0094IXKQ0', 'B00B1UE4GY', 'B00F9XUMS8', 'B00BP9K87U', 'B00CC962FE', 'B00HWOH0JQ', 'B010LWFX9O', 'B00N46882E', 'B00I5A3V0I', 'B076ZQKBSZ', 'B00HWOH2YY', 'B019YHSYV6', 'B073WVQZN6', 'B071LQBR4X', 'B00P9HAZU4', 'B076DJ441D', 'B017VUE7GE', 'B009SE5LBW', 'B00KQH342I', 'B076M439S5', 'B00UXI4ASM', 'B000VK8BNW', 'B000YDYX56', 'B00K28JN4O', 'B00VZ5XOAC', 'B01MR06U1A', 'B079ZLLNG7', 'B00OJA0DKE', 'B01MZZRGFX', 'B01N9H5N48', 'B00BCG0OB6', 'B0195HK51M', 'B07711VVZD', 'B00WH0MYZA', 'B01CKJAYYK', 'B079DFLWDH', 'B00CEAQQWU', 'B008MIGHFE', 'B00V4KWGEI', 'B00KKC6AJ8', 'B01GIUFHBW', 'B00VB1XXVU', 'B00SX7IT7I', 'B00OJ9FEAE', 'B079DML776', 'B078Z2LGD1', 'B002ZJ4IYI', 'B07DSK4R7F', 'B01MRKG335', 'B07CSGVMH6', 'B0079J3TXU', 'B074HH16BG', 'B07C2S9KDT', 'B01MPWOJ3G', 'B00PG32AZO', 'B00U3RGAMW', 'B00EOVIO5O', 'B00NQLE5JC', 'B00FBCZCWS', 'B00DLDH1N2', 'B0032ZB03G', 'B00856TSCC', 'B00BP36RTY', 'B001IZHSII', 'B00KYWHCXW', 'B0738R2QH3', 'B007K687HA', 'B00GGBLPVU', 'B0143NQW2E', 'B00DBEUJMQ', 'B00T0YYIUA', 'B0779JKBL5', 'B000EXW6PU']         1\n",
       "Name: also_buy, Length: 80064, dtype: int64"
      ]
     },
     "metadata": {},
     "output_type": "display_data"
    }
   ],
   "source": [
    "meta[['also_buy']].info()\n",
    "print('')\n",
    "print('Уникальных значений: ', len(metastr['also_buy'].unique()))\n",
    "display(metastr['also_buy'].value_counts())"
   ]
  },
  {
   "cell_type": "markdown",
   "metadata": {},
   "source": [
    "Признак показывает, какие товары покупали вместе с данным товаром.   \n",
    "Пропусков - подавляющее большинство, но пропущенные значения легко истолковываются. Они означают, что с товаром ничего не покупали.   \n",
    "Приведем поле к списку и пропуски заполним пустыми списками."
   ]
  },
  {
   "cell_type": "code",
   "execution_count": 70,
   "metadata": {},
   "outputs": [],
   "source": [
    "# Заполним пропуски\n",
    "meta['also_buy'] = meta['also_buy'].apply(set_None)\n",
    "meta['also_buy'] = meta['also_buy'].apply(lambda x: [] if x is None else x)"
   ]
  },
  {
   "cell_type": "markdown",
   "metadata": {},
   "source": [
    "Данный столбец пригодится не для моделирования, а для рекомендации напрямую."
   ]
  },
  {
   "cell_type": "markdown",
   "metadata": {},
   "source": [
    "## feature"
   ]
  },
  {
   "cell_type": "code",
   "execution_count": 71,
   "metadata": {},
   "outputs": [
    {
     "data": {
      "text/plain": [
       "['Includes a .25-ounce bottle of cake sparkles',\n",
       " 'Instantly adds colorful accents to cakes, cupcakes and iced cookie',\n",
       " 'No-mess, taste-free formula',\n",
       " 'Comes in a variety of color options',\n",
       " 'Comes in a variety of color options to fit all of your decorating style needs']"
      ]
     },
     "execution_count": 71,
     "metadata": {},
     "output_type": "execute_result"
    }
   ],
   "source": [
    "meta.feature[90]"
   ]
  },
  {
   "cell_type": "code",
   "execution_count": 73,
   "metadata": {},
   "outputs": [
    {
     "name": "stdout",
     "output_type": "stream",
     "text": [
      "<class 'pandas.core.frame.DataFrame'>\n",
      "RangeIndex: 287209 entries, 0 to 287208\n",
      "Data columns (total 1 columns):\n",
      " #   Column   Non-Null Count  Dtype \n",
      "---  ------   --------------  ----- \n",
      " 0   feature  16374 non-null  object\n",
      "dtypes: object(1)\n",
      "memory usage: 2.2+ MB\n",
      "\n",
      "Уникальных значений:  12153\n"
     ]
    },
    {
     "data": {
      "text/plain": [
       "nan                                                                                                                                                                                                                                                                                                                                                                                                                                                                                                                                                                                                                                                                                                                                                   270835\n",
       "['High quality edibles to decorate your cupcakes, cookies, baked goods and ice cream; Items within same container may vary slightly in shade', 'This product is prepared and packaged using machines that may come in contact with Wheat/Gluten, Eggs, Dairy Products, Peanuts, Soy, and Tree Nuts', 'Store in cool, dry area for long shelf life', 'Certified Kosher, Made in the USA', 'Combine with Dress My Cupcake wrappers, tissue pom poms and vintage straws to complete your dessert table']                                                                                                                                                                                                                                                    113\n",
       "['One of our core values is to treat each other with dignity and respect.', 'Our commitment is to strengthen every community we serve.', \"We care about your coffee 'from crop to cup' and every step in between.\", 'We believe our purchases and partnerships help coffee farming families enjoy a better standard of living in their local community.']                                                                                                                                                                                                                                                                                                                                                                                                 48\n",
       "['Certified gluten-free: Certificate ID: 63003, Issue date 1/18/18']                                                                                                                                                                                                                                                                                                                                                                                                                                                                                                                                                                                                                                                                                      45\n",
       "['This item is NOT included in your Prime membership for free shipping', 'By purchasing from me, you agree to all terms in my description', 'When using Express shipping, signature confirmation is required', 'Personalize cake topper by adding a Gift Message. Check \"This is a gift\" box after adding to cart', 'If I have not sent you a confirmation message through Amazon, then I HAVE NOT received your personalization request and your image will be sent without ANY wording']                                                                                                                                                                                                                                                                42\n",
       "                                                                                                                                                                                                                                                                                                                                                                                                                                                                                                                                                                                                                                                                                                                                                       ...  \n",
       "['edible cake topper sheet! Great for a themed birthday party or event!', 'Topper measures 11\" x 8\", will fill a 1/4 sheet cake perfectly', 'Personalization is available by adding a Gift Message. Please add your personalized message at checkout OR send us an email immediately after you make your purchase to ensure personalization for your item!', 'High quality frosting sheets and edible ink are gluten/dairy free. Contains no known allergens or peanut products. FDA approved and certified kosher.', 'Notice: This product is for the services in creating, customizing and printing your edible image for personal use. Images and characters remain the property of their respective copyright holders and may not be resold.']         1\n",
       "[\"Head to Monster's University with this fun cake decorating kit.\", 'Made of food-safe plastic.', 'Approximately 3-Inch Height', 'Includes Mike studying figurine, Sully scaring figuring, and a Monsters University layon.', 'Figurines can be used as toys after your celebration.']                                                                                                                                                                                                                                                                                                                                                                                                                                                                     1\n",
       "['Vintage ~ Swarovski Crystal Wedding Cake Topper ~ Letter P']                                                                                                                                                                                                                                                                                                                                                                                                                                                                                                                                                                                                                                                                                             1\n",
       "['Dried Tepin Chili', '1/2 oz']                                                                                                                                                                                                                                                                                                                                                                                                                                                                                                                                                                                                                                                                                                                            1\n",
       "['Non-GMO verified', 'Naturally Gluten Free']                                                                                                                                                                                                                                                                                                                                                                                                                                                                                                                                                                                                                                                                                                              1\n",
       "Name: feature, Length: 12153, dtype: int64"
      ]
     },
     "metadata": {},
     "output_type": "display_data"
    }
   ],
   "source": [
    "meta[['feature']].info()\n",
    "print('')\n",
    "print('Уникальных значений: ', len(metastr['feature'].unique()))\n",
    "display(metastr['feature'].value_counts())"
   ]
  },
  {
   "cell_type": "markdown",
   "metadata": {},
   "source": [
    "Подавляющее количество строк имеют значение nan для данной фичи. Удалим столбец."
   ]
  },
  {
   "cell_type": "code",
   "execution_count": 76,
   "metadata": {},
   "outputs": [],
   "source": [
    "meta = meta.drop(['feature'], axis=1)"
   ]
  },
  {
   "cell_type": "markdown",
   "metadata": {},
   "source": [
    "# Сохранение обработанного результата"
   ]
  },
  {
   "cell_type": "code",
   "execution_count": 77,
   "metadata": {},
   "outputs": [
    {
     "data": {
      "text/plain": [
       "(287209, 53)"
      ]
     },
     "execution_count": 77,
     "metadata": {},
     "output_type": "execute_result"
    }
   ],
   "source": [
    "meta.shape"
   ]
  },
  {
   "cell_type": "code",
   "execution_count": 79,
   "metadata": {},
   "outputs": [],
   "source": [
    "# Удалим дубли. Для этого приведем списочные фичи к строкам.\n",
    "# Для более подробного анализа превратим фичи в виде списков в строки\n",
    "meta['category'] = meta['category'].astype('str')\n",
    "meta['also_view'] = meta['also_view'].astype('str')\n",
    "meta['also_buy'] = meta['also_buy'].astype('str')\n",
    "meta['rank'] = meta['rank'].astype('str')"
   ]
  },
  {
   "cell_type": "code",
   "execution_count": 80,
   "metadata": {},
   "outputs": [
    {
     "data": {
      "text/plain": [
       "(283512, 53)"
      ]
     },
     "execution_count": 80,
     "metadata": {},
     "output_type": "execute_result"
    }
   ],
   "source": [
    "meta = meta.drop_duplicates()\n",
    "meta.shape"
   ]
  },
  {
   "cell_type": "code",
   "execution_count": 81,
   "metadata": {},
   "outputs": [],
   "source": [
    "meta.to_csv('meta_prep.csv', index=False)"
   ]
  }
 ],
 "metadata": {
  "kernelspec": {
   "display_name": "Python 3",
   "language": "python",
   "name": "python3"
  },
  "language_info": {
   "codemirror_mode": {
    "name": "ipython",
    "version": 3
   },
   "file_extension": ".py",
   "mimetype": "text/x-python",
   "name": "python",
   "nbconvert_exporter": "python",
   "pygments_lexer": "ipython3",
   "version": "3.7.6"
  }
 },
 "nbformat": 4,
 "nbformat_minor": 4
}
