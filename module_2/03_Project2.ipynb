{
 "cells": [
  {
   "cell_type": "code",
   "execution_count": 1,
   "metadata": {},
   "outputs": [],
   "source": [
    "import pandas as pd\n",
    "import numpy as np\n",
    "from itertools import combinations\n",
    "from scipy.stats import ttest_ind\n",
    "from scipy.stats import pearsonr\n",
    "from scipy.stats import spearmanr\n",
    "from scipy.stats import kendalltau\n",
    "from scipy.stats import normaltest\n",
    "from scipy import stats\n",
    "from scipy.stats import shapiro"
   ]
  },
  {
   "cell_type": "markdown",
   "metadata": {},
   "source": [
    "# Начальная подготовка данных и начальные проверки"
   ]
  },
  {
   "cell_type": "code",
   "execution_count": 2,
   "metadata": {},
   "outputs": [],
   "source": [
    "pd.set_option('display.max_columns', 50)"
   ]
  },
  {
   "cell_type": "code",
   "execution_count": 14,
   "metadata": {},
   "outputs": [],
   "source": [
    "# Список столбцов для удаления\n",
    "drop_list = []\n",
    "\n",
    "# Процедура добавления столбца в список для удаления\n",
    "def drop(col):\n",
    "    if col not in drop_list:\n",
    "        drop_list.append(col)\n",
    "        \n",
    "\n",
    "# Функция преобразования пустых или пробельных или NaN данных строкового типа в значение None\n",
    "# для числовых столбцов это не годится, так как их отсутствующие данные заполняются только NaN\n",
    "def set_None(value):\n",
    "    if value is None:\n",
    "        return value\n",
    "    else:\n",
    "        str_value = str(value).strip()\n",
    "        if str_value == '' or str_value.lower() == 'nan':\n",
    "            return None\n",
    "        else:\n",
    "            return str_value\n",
    "        \n",
    "\n",
    "# Функция получения выбросов по столбцу\n",
    "def get_outlier(df, col):\n",
    "    Q3 = pd.DataFrame.quantile(df, q=0.75, axis=0, numeric_only=True, interpolation='midpoint')[col]\n",
    "    Q1 = pd.DataFrame.quantile(df, q=0.25, axis=0, numeric_only=True, interpolation='midpoint')[col]\n",
    "    IQR = round(Q3-Q1,1)\n",
    "    return df[~df[col].between(Q1 - 1.5*IQR, Q3 + 1.5*IQR)][col]\n",
    "\n",
    "\n",
    "# Функция вычисления попарного p_value при множественном значении столбца\n",
    "def get_stat_dif(df, col, col_num, gauss):\n",
    "    \n",
    "    p_list =[]\n",
    "    res = '' \n",
    "    \n",
    "    cols = df.loc[:, col].value_counts().index\n",
    "    combinations_all = list(combinations(cols, 2))\n",
    "    conv = 0.05 / len(combinations_all) # пороговый уровень значимости с поправкой Бонферрони\n",
    "    \n",
    "    for comb in combinations_all:\n",
    "        if gauss:\n",
    "            p_value = ttest_ind(df.loc[df.loc[:, col] == comb[0], col_num], \n",
    "                     df.loc[df.loc[:, col] == comb[1], col_num]).pvalue\n",
    "        else:\n",
    "            p_value = stats.mannwhitneyu(df.loc[df.loc[:, col] == comb[0], col_num],\n",
    "                     df.loc[df.loc[:, col] == comb[1], col_num]).pvalue\n",
    "        \n",
    "        p_list.append(p_value)\n",
    "        \n",
    "        if p_value < conv:\n",
    "            res = ' значимость есть: для ' + str(comb) + ' p_value = ' + str(p_value)\n",
    "            break\n",
    "            \n",
    "    if res == '':\n",
    "        res = ' значимости нет: min(p_value) = ' + str(min(p_list))\n",
    "    \n",
    "    if gauss:\n",
    "        res = 'Для порога ' + str(conv) + ' по критерию Стьюдента' + res\n",
    "    else:\n",
    "        res = 'Для порога ' + str(conv) + ' по критерию Манна-Уитни' + res\n",
    "    \n",
    "    return res"
   ]
  },
  {
   "cell_type": "code",
   "execution_count": 3,
   "metadata": {},
   "outputs": [],
   "source": [
    "stud = pd.read_csv('stud_math.csv')"
   ]
  },
  {
   "cell_type": "code",
   "execution_count": 4,
   "metadata": {},
   "outputs": [],
   "source": [
    "# В наборе еще присутствует столбец \"studytime, granular\". Переименуем его.\n",
    "\n",
    "stud.rename(columns={'studytime, granular': 'studytime_granular',}, inplace=True)"
   ]
  },
  {
   "cell_type": "code",
   "execution_count": 5,
   "metadata": {},
   "outputs": [
    {
     "data": {
      "text/html": [
       "<div>\n",
       "<style scoped>\n",
       "    .dataframe tbody tr th:only-of-type {\n",
       "        vertical-align: middle;\n",
       "    }\n",
       "\n",
       "    .dataframe tbody tr th {\n",
       "        vertical-align: top;\n",
       "    }\n",
       "\n",
       "    .dataframe thead th {\n",
       "        text-align: right;\n",
       "    }\n",
       "</style>\n",
       "<table border=\"1\" class=\"dataframe\">\n",
       "  <thead>\n",
       "    <tr style=\"text-align: right;\">\n",
       "      <th></th>\n",
       "      <th>school</th>\n",
       "      <th>sex</th>\n",
       "      <th>age</th>\n",
       "      <th>address</th>\n",
       "      <th>famsize</th>\n",
       "      <th>Pstatus</th>\n",
       "      <th>Medu</th>\n",
       "      <th>Fedu</th>\n",
       "      <th>Mjob</th>\n",
       "      <th>Fjob</th>\n",
       "      <th>reason</th>\n",
       "      <th>guardian</th>\n",
       "      <th>traveltime</th>\n",
       "      <th>studytime</th>\n",
       "      <th>failures</th>\n",
       "      <th>schoolsup</th>\n",
       "      <th>famsup</th>\n",
       "      <th>paid</th>\n",
       "      <th>activities</th>\n",
       "      <th>nursery</th>\n",
       "      <th>studytime_granular</th>\n",
       "      <th>higher</th>\n",
       "      <th>internet</th>\n",
       "      <th>romantic</th>\n",
       "      <th>famrel</th>\n",
       "      <th>freetime</th>\n",
       "      <th>goout</th>\n",
       "      <th>health</th>\n",
       "      <th>absences</th>\n",
       "      <th>score</th>\n",
       "    </tr>\n",
       "  </thead>\n",
       "  <tbody>\n",
       "    <tr>\n",
       "      <th>0</th>\n",
       "      <td>GP</td>\n",
       "      <td>F</td>\n",
       "      <td>18</td>\n",
       "      <td>U</td>\n",
       "      <td>NaN</td>\n",
       "      <td>A</td>\n",
       "      <td>4.0</td>\n",
       "      <td>4.0</td>\n",
       "      <td>at_home</td>\n",
       "      <td>teacher</td>\n",
       "      <td>course</td>\n",
       "      <td>mother</td>\n",
       "      <td>2.0</td>\n",
       "      <td>2.0</td>\n",
       "      <td>0.0</td>\n",
       "      <td>yes</td>\n",
       "      <td>no</td>\n",
       "      <td>no</td>\n",
       "      <td>no</td>\n",
       "      <td>yes</td>\n",
       "      <td>-6.0</td>\n",
       "      <td>yes</td>\n",
       "      <td>NaN</td>\n",
       "      <td>no</td>\n",
       "      <td>4.0</td>\n",
       "      <td>3.0</td>\n",
       "      <td>4.0</td>\n",
       "      <td>3.0</td>\n",
       "      <td>6.0</td>\n",
       "      <td>30.0</td>\n",
       "    </tr>\n",
       "    <tr>\n",
       "      <th>1</th>\n",
       "      <td>GP</td>\n",
       "      <td>F</td>\n",
       "      <td>17</td>\n",
       "      <td>U</td>\n",
       "      <td>GT3</td>\n",
       "      <td>NaN</td>\n",
       "      <td>1.0</td>\n",
       "      <td>1.0</td>\n",
       "      <td>at_home</td>\n",
       "      <td>other</td>\n",
       "      <td>course</td>\n",
       "      <td>father</td>\n",
       "      <td>1.0</td>\n",
       "      <td>2.0</td>\n",
       "      <td>0.0</td>\n",
       "      <td>no</td>\n",
       "      <td>yes</td>\n",
       "      <td>no</td>\n",
       "      <td>no</td>\n",
       "      <td>no</td>\n",
       "      <td>-6.0</td>\n",
       "      <td>yes</td>\n",
       "      <td>yes</td>\n",
       "      <td>no</td>\n",
       "      <td>5.0</td>\n",
       "      <td>3.0</td>\n",
       "      <td>3.0</td>\n",
       "      <td>3.0</td>\n",
       "      <td>4.0</td>\n",
       "      <td>30.0</td>\n",
       "    </tr>\n",
       "    <tr>\n",
       "      <th>2</th>\n",
       "      <td>GP</td>\n",
       "      <td>F</td>\n",
       "      <td>15</td>\n",
       "      <td>U</td>\n",
       "      <td>LE3</td>\n",
       "      <td>T</td>\n",
       "      <td>1.0</td>\n",
       "      <td>1.0</td>\n",
       "      <td>at_home</td>\n",
       "      <td>other</td>\n",
       "      <td>other</td>\n",
       "      <td>mother</td>\n",
       "      <td>1.0</td>\n",
       "      <td>2.0</td>\n",
       "      <td>3.0</td>\n",
       "      <td>yes</td>\n",
       "      <td>no</td>\n",
       "      <td>NaN</td>\n",
       "      <td>no</td>\n",
       "      <td>yes</td>\n",
       "      <td>-6.0</td>\n",
       "      <td>yes</td>\n",
       "      <td>yes</td>\n",
       "      <td>NaN</td>\n",
       "      <td>4.0</td>\n",
       "      <td>3.0</td>\n",
       "      <td>2.0</td>\n",
       "      <td>3.0</td>\n",
       "      <td>10.0</td>\n",
       "      <td>50.0</td>\n",
       "    </tr>\n",
       "    <tr>\n",
       "      <th>3</th>\n",
       "      <td>GP</td>\n",
       "      <td>F</td>\n",
       "      <td>15</td>\n",
       "      <td>U</td>\n",
       "      <td>GT3</td>\n",
       "      <td>T</td>\n",
       "      <td>4.0</td>\n",
       "      <td>2.0</td>\n",
       "      <td>health</td>\n",
       "      <td>NaN</td>\n",
       "      <td>home</td>\n",
       "      <td>mother</td>\n",
       "      <td>1.0</td>\n",
       "      <td>3.0</td>\n",
       "      <td>0.0</td>\n",
       "      <td>no</td>\n",
       "      <td>yes</td>\n",
       "      <td>yes</td>\n",
       "      <td>yes</td>\n",
       "      <td>yes</td>\n",
       "      <td>-9.0</td>\n",
       "      <td>yes</td>\n",
       "      <td>yes</td>\n",
       "      <td>yes</td>\n",
       "      <td>3.0</td>\n",
       "      <td>2.0</td>\n",
       "      <td>2.0</td>\n",
       "      <td>5.0</td>\n",
       "      <td>2.0</td>\n",
       "      <td>75.0</td>\n",
       "    </tr>\n",
       "    <tr>\n",
       "      <th>4</th>\n",
       "      <td>GP</td>\n",
       "      <td>F</td>\n",
       "      <td>16</td>\n",
       "      <td>U</td>\n",
       "      <td>GT3</td>\n",
       "      <td>T</td>\n",
       "      <td>3.0</td>\n",
       "      <td>3.0</td>\n",
       "      <td>other</td>\n",
       "      <td>other</td>\n",
       "      <td>home</td>\n",
       "      <td>father</td>\n",
       "      <td>1.0</td>\n",
       "      <td>2.0</td>\n",
       "      <td>0.0</td>\n",
       "      <td>no</td>\n",
       "      <td>yes</td>\n",
       "      <td>yes</td>\n",
       "      <td>no</td>\n",
       "      <td>yes</td>\n",
       "      <td>-6.0</td>\n",
       "      <td>yes</td>\n",
       "      <td>no</td>\n",
       "      <td>no</td>\n",
       "      <td>4.0</td>\n",
       "      <td>3.0</td>\n",
       "      <td>2.0</td>\n",
       "      <td>5.0</td>\n",
       "      <td>4.0</td>\n",
       "      <td>50.0</td>\n",
       "    </tr>\n",
       "  </tbody>\n",
       "</table>\n",
       "</div>"
      ],
      "text/plain": [
       "  school sex  age address famsize Pstatus  Medu  Fedu     Mjob     Fjob  \\\n",
       "0     GP   F   18       U     NaN       A   4.0   4.0  at_home  teacher   \n",
       "1     GP   F   17       U     GT3     NaN   1.0   1.0  at_home    other   \n",
       "2     GP   F   15       U     LE3       T   1.0   1.0  at_home    other   \n",
       "3     GP   F   15       U     GT3       T   4.0   2.0   health      NaN   \n",
       "4     GP   F   16       U     GT3       T   3.0   3.0    other    other   \n",
       "\n",
       "   reason guardian  traveltime  studytime  failures schoolsup famsup paid  \\\n",
       "0  course   mother         2.0        2.0       0.0       yes     no   no   \n",
       "1  course   father         1.0        2.0       0.0        no    yes   no   \n",
       "2   other   mother         1.0        2.0       3.0       yes     no  NaN   \n",
       "3    home   mother         1.0        3.0       0.0        no    yes  yes   \n",
       "4    home   father         1.0        2.0       0.0        no    yes  yes   \n",
       "\n",
       "  activities nursery  studytime_granular higher internet romantic  famrel  \\\n",
       "0         no     yes                -6.0    yes      NaN       no     4.0   \n",
       "1         no      no                -6.0    yes      yes       no     5.0   \n",
       "2         no     yes                -6.0    yes      yes      NaN     4.0   \n",
       "3        yes     yes                -9.0    yes      yes      yes     3.0   \n",
       "4         no     yes                -6.0    yes       no       no     4.0   \n",
       "\n",
       "   freetime  goout  health  absences  score  \n",
       "0       3.0    4.0     3.0       6.0   30.0  \n",
       "1       3.0    3.0     3.0       4.0   30.0  \n",
       "2       3.0    2.0     3.0      10.0   50.0  \n",
       "3       2.0    2.0     5.0       2.0   75.0  \n",
       "4       3.0    2.0     5.0       4.0   50.0  "
      ]
     },
     "execution_count": 5,
     "metadata": {},
     "output_type": "execute_result"
    }
   ],
   "source": [
    "stud.head()"
   ]
  },
  {
   "cell_type": "code",
   "execution_count": 6,
   "metadata": {},
   "outputs": [
    {
     "name": "stdout",
     "output_type": "stream",
     "text": [
      "<class 'pandas.core.frame.DataFrame'>\n",
      "RangeIndex: 395 entries, 0 to 394\n",
      "Data columns (total 30 columns):\n",
      " #   Column              Non-Null Count  Dtype  \n",
      "---  ------              --------------  -----  \n",
      " 0   school              395 non-null    object \n",
      " 1   sex                 395 non-null    object \n",
      " 2   age                 395 non-null    int64  \n",
      " 3   address             378 non-null    object \n",
      " 4   famsize             368 non-null    object \n",
      " 5   Pstatus             350 non-null    object \n",
      " 6   Medu                392 non-null    float64\n",
      " 7   Fedu                371 non-null    float64\n",
      " 8   Mjob                376 non-null    object \n",
      " 9   Fjob                359 non-null    object \n",
      " 10  reason              378 non-null    object \n",
      " 11  guardian            364 non-null    object \n",
      " 12  traveltime          367 non-null    float64\n",
      " 13  studytime           388 non-null    float64\n",
      " 14  failures            373 non-null    float64\n",
      " 15  schoolsup           386 non-null    object \n",
      " 16  famsup              356 non-null    object \n",
      " 17  paid                355 non-null    object \n",
      " 18  activities          381 non-null    object \n",
      " 19  nursery             379 non-null    object \n",
      " 20  studytime_granular  388 non-null    float64\n",
      " 21  higher              375 non-null    object \n",
      " 22  internet            361 non-null    object \n",
      " 23  romantic            364 non-null    object \n",
      " 24  famrel              368 non-null    float64\n",
      " 25  freetime            384 non-null    float64\n",
      " 26  goout               387 non-null    float64\n",
      " 27  health              380 non-null    float64\n",
      " 28  absences            383 non-null    float64\n",
      " 29  score               389 non-null    float64\n",
      "dtypes: float64(12), int64(1), object(17)\n",
      "memory usage: 92.7+ KB\n"
     ]
    }
   ],
   "source": [
    "stud.info()"
   ]
  },
  {
   "cell_type": "code",
   "execution_count": 7,
   "metadata": {},
   "outputs": [],
   "source": [
    "# Так как оценка - главный объект исследования, удалим строки с отсутствующими оценками.\n",
    "\n",
    "stud = stud[~stud.score.isnull()]"
   ]
  },
  {
   "cell_type": "code",
   "execution_count": 8,
   "metadata": {},
   "outputs": [
    {
     "data": {
      "text/plain": [
       "<matplotlib.axes._subplots.AxesSubplot at 0x244067bf188>"
      ]
     },
     "execution_count": 8,
     "metadata": {},
     "output_type": "execute_result"
    },
    {
     "data": {
      "image/png": "[encoded data removed]",
      "text/plain": [
       "<Figure size 432x288 with 1 Axes>"
      ]
     },
     "metadata": {
      "needs_background": "light"
     },
     "output_type": "display_data"
    }
   ],
   "source": [
    "# Проверим вид распределения оценок\n",
    "\n",
    "stud['score'].plot(kind = 'hist', grid = True, bins=20)"
   ]
  },
  {
   "cell_type": "code",
   "execution_count": 10,
   "metadata": {},
   "outputs": [
    {
     "data": {
      "text/plain": [
       "<matplotlib.axes._subplots.AxesSubplot at 0x24408000f08>"
      ]
     },
     "execution_count": 10,
     "metadata": {},
     "output_type": "execute_result"
    },
    {
     "data": {
      "image/png": "[encoded data removed]",
      "text/plain": [
       "<Figure size 432x288 with 1 Axes>"
      ]
     },
     "metadata": {
      "needs_background": "light"
     },
     "output_type": "display_data"
    }
   ],
   "source": [
    "# На гистограмме видно, что ненулевые оценки близки к нормальному распределению,\n",
    "# но нулевые оценки выбиваются из этой картины.\n",
    "# Исключим их из рассмотрения, поскольку они не укладываются в нормальное распределение,\n",
    "# и по причине того, что нулевые оценки обычно не ставят. Скорее всего, это ошибочные данные.\n",
    "\n",
    "stud = stud[stud.score > 0]\n",
    "stud['score'].plot(kind = 'hist', grid = True, bins=16)"
   ]
  },
  {
   "cell_type": "code",
   "execution_count": 15,
   "metadata": {},
   "outputs": [
    {
     "name": "stdout",
     "output_type": "stream",
     "text": [
      "Количество выбросов: 0\n"
     ]
    }
   ],
   "source": [
    "print('Количество выбросов:', get_outlier(stud,'score').count())"
   ]
  },
  {
   "cell_type": "code",
   "execution_count": 16,
   "metadata": {},
   "outputs": [
    {
     "name": "stdout",
     "output_type": "stream",
     "text": [
      "shapiro p_value= 0.0001710323995212093\n",
      "По shapiro распределение не похоже на нормальное\n",
      "normaltest p_value= 0.051812401238085656\n",
      "По normaltest распределение подобно нормальному\n"
     ]
    }
   ],
   "source": [
    "# Выбросов нет. \n",
    "# Проверим на нормальность распределения по двум критериям с допущением 0.05.\n",
    "\n",
    "alpha = 0.05\n",
    "\n",
    "u, p_value = shapiro(stud.score)\n",
    "print('shapiro p_value=', p_value)\n",
    "if p_value > alpha:\n",
    "    print('По shapiro распределение подобно нормальному')\n",
    "else:\n",
    "    print('По shapiro распределение не похоже на нормальное')\n",
    "    \n",
    "u, p_value = normaltest(stud.score)\n",
    "print('normaltest p_value=', p_value)\n",
    "if p_value > alpha:\n",
    "    print('По normaltest распределение подобно нормальному')\n",
    "else:\n",
    "    print('По normaltest распределение не похоже на нормальное')"
   ]
  },
  {
   "cell_type": "code",
   "execution_count": 17,
   "metadata": {},
   "outputs": [
    {
     "data": {
      "text/html": [
       "<div>\n",
       "<style scoped>\n",
       "    .dataframe tbody tr th:only-of-type {\n",
       "        vertical-align: middle;\n",
       "    }\n",
       "\n",
       "    .dataframe tbody tr th {\n",
       "        vertical-align: top;\n",
       "    }\n",
       "\n",
       "    .dataframe thead th {\n",
       "        text-align: right;\n",
       "    }\n",
       "</style>\n",
       "<table border=\"1\" class=\"dataframe\">\n",
       "  <thead>\n",
       "    <tr style=\"text-align: right;\">\n",
       "      <th></th>\n",
       "      <th>school</th>\n",
       "      <th>sex</th>\n",
       "      <th>age</th>\n",
       "      <th>address</th>\n",
       "      <th>famsize</th>\n",
       "      <th>Pstatus</th>\n",
       "      <th>Medu</th>\n",
       "      <th>Fedu</th>\n",
       "      <th>Mjob</th>\n",
       "      <th>Fjob</th>\n",
       "      <th>reason</th>\n",
       "      <th>guardian</th>\n",
       "      <th>traveltime</th>\n",
       "      <th>studytime</th>\n",
       "      <th>failures</th>\n",
       "      <th>schoolsup</th>\n",
       "      <th>famsup</th>\n",
       "      <th>paid</th>\n",
       "      <th>activities</th>\n",
       "      <th>nursery</th>\n",
       "      <th>studytime_granular</th>\n",
       "      <th>higher</th>\n",
       "      <th>internet</th>\n",
       "      <th>romantic</th>\n",
       "      <th>famrel</th>\n",
       "      <th>freetime</th>\n",
       "      <th>goout</th>\n",
       "      <th>health</th>\n",
       "      <th>absences</th>\n",
       "      <th>score</th>\n",
       "    </tr>\n",
       "  </thead>\n",
       "  <tbody>\n",
       "    <tr>\n",
       "      <th>174</th>\n",
       "      <td>GP</td>\n",
       "      <td>F</td>\n",
       "      <td>16</td>\n",
       "      <td>U</td>\n",
       "      <td>LE3</td>\n",
       "      <td>NaN</td>\n",
       "      <td>3.0</td>\n",
       "      <td>3.0</td>\n",
       "      <td>NaN</td>\n",
       "      <td>other</td>\n",
       "      <td>reputation</td>\n",
       "      <td>mother</td>\n",
       "      <td>2.0</td>\n",
       "      <td>2.0</td>\n",
       "      <td>0.0</td>\n",
       "      <td>no</td>\n",
       "      <td>yes</td>\n",
       "      <td>yes</td>\n",
       "      <td>yes</td>\n",
       "      <td>yes</td>\n",
       "      <td>-6.0</td>\n",
       "      <td>yes</td>\n",
       "      <td>yes</td>\n",
       "      <td>no</td>\n",
       "      <td>4.0</td>\n",
       "      <td>4.0</td>\n",
       "      <td>5.0</td>\n",
       "      <td>4.0</td>\n",
       "      <td>4.0</td>\n",
       "      <td>45.0</td>\n",
       "    </tr>\n",
       "    <tr>\n",
       "      <th>226</th>\n",
       "      <td>GP</td>\n",
       "      <td>F</td>\n",
       "      <td>17</td>\n",
       "      <td>U</td>\n",
       "      <td>GT3</td>\n",
       "      <td>T</td>\n",
       "      <td>3.0</td>\n",
       "      <td>2.0</td>\n",
       "      <td>other</td>\n",
       "      <td>other</td>\n",
       "      <td>course</td>\n",
       "      <td>mother</td>\n",
       "      <td>NaN</td>\n",
       "      <td>2.0</td>\n",
       "      <td>0.0</td>\n",
       "      <td>no</td>\n",
       "      <td>no</td>\n",
       "      <td>no</td>\n",
       "      <td>yes</td>\n",
       "      <td>no</td>\n",
       "      <td>-6.0</td>\n",
       "      <td>yes</td>\n",
       "      <td>yes</td>\n",
       "      <td>no</td>\n",
       "      <td>5.0</td>\n",
       "      <td>3.0</td>\n",
       "      <td>4.0</td>\n",
       "      <td>3.0</td>\n",
       "      <td>10.0</td>\n",
       "      <td>75.0</td>\n",
       "    </tr>\n",
       "    <tr>\n",
       "      <th>268</th>\n",
       "      <td>GP</td>\n",
       "      <td>M</td>\n",
       "      <td>18</td>\n",
       "      <td>U</td>\n",
       "      <td>NaN</td>\n",
       "      <td>NaN</td>\n",
       "      <td>4.0</td>\n",
       "      <td>2.0</td>\n",
       "      <td>NaN</td>\n",
       "      <td>other</td>\n",
       "      <td>reputation</td>\n",
       "      <td>father</td>\n",
       "      <td>NaN</td>\n",
       "      <td>2.0</td>\n",
       "      <td>0.0</td>\n",
       "      <td>no</td>\n",
       "      <td>NaN</td>\n",
       "      <td>yes</td>\n",
       "      <td>yes</td>\n",
       "      <td>yes</td>\n",
       "      <td>-6.0</td>\n",
       "      <td>yes</td>\n",
       "      <td>yes</td>\n",
       "      <td>yes</td>\n",
       "      <td>5.0</td>\n",
       "      <td>4.0</td>\n",
       "      <td>5.0</td>\n",
       "      <td>5.0</td>\n",
       "      <td>10.0</td>\n",
       "      <td>50.0</td>\n",
       "    </tr>\n",
       "    <tr>\n",
       "      <th>120</th>\n",
       "      <td>GP</td>\n",
       "      <td>F</td>\n",
       "      <td>15</td>\n",
       "      <td>U</td>\n",
       "      <td>GT3</td>\n",
       "      <td>T</td>\n",
       "      <td>1.0</td>\n",
       "      <td>2.0</td>\n",
       "      <td>at_home</td>\n",
       "      <td>NaN</td>\n",
       "      <td>course</td>\n",
       "      <td>mother</td>\n",
       "      <td>1.0</td>\n",
       "      <td>2.0</td>\n",
       "      <td>0.0</td>\n",
       "      <td>no</td>\n",
       "      <td>no</td>\n",
       "      <td>no</td>\n",
       "      <td>no</td>\n",
       "      <td>no</td>\n",
       "      <td>-6.0</td>\n",
       "      <td>yes</td>\n",
       "      <td>yes</td>\n",
       "      <td>no</td>\n",
       "      <td>3.0</td>\n",
       "      <td>2.0</td>\n",
       "      <td>3.0</td>\n",
       "      <td>1.0</td>\n",
       "      <td>NaN</td>\n",
       "      <td>75.0</td>\n",
       "    </tr>\n",
       "    <tr>\n",
       "      <th>68</th>\n",
       "      <td>GP</td>\n",
       "      <td>F</td>\n",
       "      <td>15</td>\n",
       "      <td>R</td>\n",
       "      <td>LE3</td>\n",
       "      <td>T</td>\n",
       "      <td>2.0</td>\n",
       "      <td>2.0</td>\n",
       "      <td>health</td>\n",
       "      <td>NaN</td>\n",
       "      <td>reputation</td>\n",
       "      <td>mother</td>\n",
       "      <td>NaN</td>\n",
       "      <td>2.0</td>\n",
       "      <td>NaN</td>\n",
       "      <td>yes</td>\n",
       "      <td>yes</td>\n",
       "      <td>NaN</td>\n",
       "      <td>no</td>\n",
       "      <td>yes</td>\n",
       "      <td>-6.0</td>\n",
       "      <td>yes</td>\n",
       "      <td>yes</td>\n",
       "      <td>no</td>\n",
       "      <td>4.0</td>\n",
       "      <td>1.0</td>\n",
       "      <td>3.0</td>\n",
       "      <td>4.0</td>\n",
       "      <td>2.0</td>\n",
       "      <td>40.0</td>\n",
       "    </tr>\n",
       "  </tbody>\n",
       "</table>\n",
       "</div>"
      ],
      "text/plain": [
       "    school sex  age address famsize Pstatus  Medu  Fedu     Mjob   Fjob  \\\n",
       "174     GP   F   16       U     LE3     NaN   3.0   3.0      NaN  other   \n",
       "226     GP   F   17       U     GT3       T   3.0   2.0    other  other   \n",
       "268     GP   M   18       U     NaN     NaN   4.0   2.0      NaN  other   \n",
       "120     GP   F   15       U     GT3       T   1.0   2.0  at_home    NaN   \n",
       "68      GP   F   15       R     LE3       T   2.0   2.0   health    NaN   \n",
       "\n",
       "         reason guardian  traveltime  studytime  failures schoolsup famsup  \\\n",
       "174  reputation   mother         2.0        2.0       0.0        no    yes   \n",
       "226      course   mother         NaN        2.0       0.0        no     no   \n",
       "268  reputation   father         NaN        2.0       0.0        no    NaN   \n",
       "120      course   mother         1.0        2.0       0.0        no     no   \n",
       "68   reputation   mother         NaN        2.0       NaN       yes    yes   \n",
       "\n",
       "    paid activities nursery  studytime_granular higher internet romantic  \\\n",
       "174  yes        yes     yes                -6.0    yes      yes       no   \n",
       "226   no        yes      no                -6.0    yes      yes       no   \n",
       "268  yes        yes     yes                -6.0    yes      yes      yes   \n",
       "120   no         no      no                -6.0    yes      yes       no   \n",
       "68   NaN         no     yes                -6.0    yes      yes       no   \n",
       "\n",
       "     famrel  freetime  goout  health  absences  score  \n",
       "174     4.0       4.0    5.0     4.0       4.0   45.0  \n",
       "226     5.0       3.0    4.0     3.0      10.0   75.0  \n",
       "268     5.0       4.0    5.0     5.0      10.0   50.0  \n",
       "120     3.0       2.0    3.0     1.0       NaN   75.0  \n",
       "68      4.0       1.0    3.0     4.0       2.0   40.0  "
      ]
     },
     "metadata": {},
     "output_type": "display_data"
    },
    {
     "name": "stdout",
     "output_type": "stream",
     "text": [
      "<class 'pandas.core.frame.DataFrame'>\n",
      "Int64Index: 352 entries, 0 to 394\n",
      "Data columns (total 30 columns):\n",
      " #   Column              Non-Null Count  Dtype  \n",
      "---  ------              --------------  -----  \n",
      " 0   school              352 non-null    object \n",
      " 1   sex                 352 non-null    object \n",
      " 2   age                 352 non-null    int64  \n",
      " 3   address             338 non-null    object \n",
      " 4   famsize             328 non-null    object \n",
      " 5   Pstatus             311 non-null    object \n",
      " 6   Medu                350 non-null    float64\n",
      " 7   Fedu                331 non-null    float64\n",
      " 8   Mjob                335 non-null    object \n",
      " 9   Fjob                320 non-null    object \n",
      " 10  reason              337 non-null    object \n",
      " 11  guardian            323 non-null    object \n",
      " 12  traveltime          329 non-null    float64\n",
      " 13  studytime           345 non-null    float64\n",
      " 14  failures            332 non-null    float64\n",
      " 15  schoolsup           343 non-null    object \n",
      " 16  famsup              316 non-null    object \n",
      " 17  paid                316 non-null    object \n",
      " 18  activities          340 non-null    object \n",
      " 19  nursery             340 non-null    object \n",
      " 20  studytime_granular  345 non-null    float64\n",
      " 21  higher              333 non-null    object \n",
      " 22  internet            323 non-null    object \n",
      " 23  romantic            323 non-null    object \n",
      " 24  famrel              328 non-null    float64\n",
      " 25  freetime            344 non-null    float64\n",
      " 26  goout               346 non-null    float64\n",
      " 27  health              339 non-null    float64\n",
      " 28  absences            342 non-null    float64\n",
      " 29  score               352 non-null    float64\n",
      "dtypes: float64(12), int64(1), object(17)\n",
      "memory usage: 85.2+ KB\n"
     ]
    }
   ],
   "source": [
    "# Вывод: распределение почти нормальное, что и видно по гистограмме.\n",
    "# Скорее всего, нулевые оценки - это потерянные данные, сглаживающие распределение до нормального.\n",
    "\n",
    "# Посмотрим на другие данные\n",
    "display(stud.sample(5))\n",
    "stud.info()"
   ]
  },
  {
   "cell_type": "code",
   "execution_count": 18,
   "metadata": {},
   "outputs": [],
   "source": [
    "# В строковых столбцах есть незаполненнные данные в виде NaN. \n",
    "# Превратим их все в None, чтобы не воспринимать NaN как строку\n",
    "\n",
    "str_cols = stud.iloc[:, (np.where(stud.dtypes == 'object'))[0]].columns\n",
    "for col in str_cols:\n",
    "    stud[col] = stud[col].apply(set_None)"
   ]
  },
  {
   "cell_type": "code",
   "execution_count": 20,
   "metadata": {},
   "outputs": [
    {
     "data": {
      "text/html": [
       "<div>\n",
       "<style scoped>\n",
       "    .dataframe tbody tr th:only-of-type {\n",
       "        vertical-align: middle;\n",
       "    }\n",
       "\n",
       "    .dataframe tbody tr th {\n",
       "        vertical-align: top;\n",
       "    }\n",
       "\n",
       "    .dataframe thead th {\n",
       "        text-align: right;\n",
       "    }\n",
       "</style>\n",
       "<table border=\"1\" class=\"dataframe\">\n",
       "  <thead>\n",
       "    <tr style=\"text-align: right;\">\n",
       "      <th></th>\n",
       "      <th>age</th>\n",
       "      <th>Medu</th>\n",
       "      <th>Fedu</th>\n",
       "      <th>traveltime</th>\n",
       "      <th>studytime</th>\n",
       "      <th>failures</th>\n",
       "      <th>studytime_granular</th>\n",
       "      <th>famrel</th>\n",
       "      <th>freetime</th>\n",
       "      <th>goout</th>\n",
       "      <th>health</th>\n",
       "      <th>absences</th>\n",
       "      <th>score</th>\n",
       "    </tr>\n",
       "  </thead>\n",
       "  <tbody>\n",
       "    <tr>\n",
       "      <th>age</th>\n",
       "      <td>1.000000</td>\n",
       "      <td>-0.122979</td>\n",
       "      <td>-0.121617</td>\n",
       "      <td>0.095370</td>\n",
       "      <td>-0.011426</td>\n",
       "      <td>0.235875</td>\n",
       "      <td>0.011426</td>\n",
       "      <td>0.074152</td>\n",
       "      <td>0.004837</td>\n",
       "      <td>0.123638</td>\n",
       "      <td>-0.056173</td>\n",
       "      <td>0.112599</td>\n",
       "      <td>-0.131542</td>\n",
       "    </tr>\n",
       "    <tr>\n",
       "      <th>Medu</th>\n",
       "      <td>-0.122979</td>\n",
       "      <td>1.000000</td>\n",
       "      <td>0.247339</td>\n",
       "      <td>-0.165394</td>\n",
       "      <td>0.070533</td>\n",
       "      <td>-0.205944</td>\n",
       "      <td>-0.070533</td>\n",
       "      <td>-0.000958</td>\n",
       "      <td>0.021002</td>\n",
       "      <td>0.080556</td>\n",
       "      <td>-0.038050</td>\n",
       "      <td>-0.027377</td>\n",
       "      <td>0.186477</td>\n",
       "    </tr>\n",
       "    <tr>\n",
       "      <th>Fedu</th>\n",
       "      <td>-0.121617</td>\n",
       "      <td>0.247339</td>\n",
       "      <td>1.000000</td>\n",
       "      <td>0.042074</td>\n",
       "      <td>0.049060</td>\n",
       "      <td>-0.141995</td>\n",
       "      <td>-0.049060</td>\n",
       "      <td>0.049613</td>\n",
       "      <td>-0.071328</td>\n",
       "      <td>-0.026507</td>\n",
       "      <td>0.025874</td>\n",
       "      <td>0.000245</td>\n",
       "      <td>0.069842</td>\n",
       "    </tr>\n",
       "    <tr>\n",
       "      <th>traveltime</th>\n",
       "      <td>0.095370</td>\n",
       "      <td>-0.165394</td>\n",
       "      <td>0.042074</td>\n",
       "      <td>1.000000</td>\n",
       "      <td>-0.101490</td>\n",
       "      <td>0.091757</td>\n",
       "      <td>0.101490</td>\n",
       "      <td>-0.023920</td>\n",
       "      <td>-0.023067</td>\n",
       "      <td>0.029374</td>\n",
       "      <td>-0.000092</td>\n",
       "      <td>-0.047560</td>\n",
       "      <td>-0.075516</td>\n",
       "    </tr>\n",
       "    <tr>\n",
       "      <th>studytime</th>\n",
       "      <td>-0.011426</td>\n",
       "      <td>0.070533</td>\n",
       "      <td>0.049060</td>\n",
       "      <td>-0.101490</td>\n",
       "      <td>1.000000</td>\n",
       "      <td>-0.156406</td>\n",
       "      <td>-1.000000</td>\n",
       "      <td>0.063856</td>\n",
       "      <td>-0.128661</td>\n",
       "      <td>-0.029686</td>\n",
       "      <td>-0.085469</td>\n",
       "      <td>-0.030187</td>\n",
       "      <td>0.142055</td>\n",
       "    </tr>\n",
       "    <tr>\n",
       "      <th>failures</th>\n",
       "      <td>0.235875</td>\n",
       "      <td>-0.205944</td>\n",
       "      <td>-0.141995</td>\n",
       "      <td>0.091757</td>\n",
       "      <td>-0.156406</td>\n",
       "      <td>1.000000</td>\n",
       "      <td>0.156406</td>\n",
       "      <td>-0.011414</td>\n",
       "      <td>0.127391</td>\n",
       "      <td>0.126770</td>\n",
       "      <td>0.064083</td>\n",
       "      <td>0.089541</td>\n",
       "      <td>-0.289377</td>\n",
       "    </tr>\n",
       "    <tr>\n",
       "      <th>studytime_granular</th>\n",
       "      <td>0.011426</td>\n",
       "      <td>-0.070533</td>\n",
       "      <td>-0.049060</td>\n",
       "      <td>0.101490</td>\n",
       "      <td>-1.000000</td>\n",
       "      <td>0.156406</td>\n",
       "      <td>1.000000</td>\n",
       "      <td>-0.063856</td>\n",
       "      <td>0.128661</td>\n",
       "      <td>0.029686</td>\n",
       "      <td>0.085469</td>\n",
       "      <td>0.030187</td>\n",
       "      <td>-0.142055</td>\n",
       "    </tr>\n",
       "    <tr>\n",
       "      <th>famrel</th>\n",
       "      <td>0.074152</td>\n",
       "      <td>-0.000958</td>\n",
       "      <td>0.049613</td>\n",
       "      <td>-0.023920</td>\n",
       "      <td>0.063856</td>\n",
       "      <td>-0.011414</td>\n",
       "      <td>-0.063856</td>\n",
       "      <td>1.000000</td>\n",
       "      <td>0.162283</td>\n",
       "      <td>0.050751</td>\n",
       "      <td>0.096471</td>\n",
       "      <td>-0.089609</td>\n",
       "      <td>0.046717</td>\n",
       "    </tr>\n",
       "    <tr>\n",
       "      <th>freetime</th>\n",
       "      <td>0.004837</td>\n",
       "      <td>0.021002</td>\n",
       "      <td>-0.071328</td>\n",
       "      <td>-0.023067</td>\n",
       "      <td>-0.128661</td>\n",
       "      <td>0.127391</td>\n",
       "      <td>0.128661</td>\n",
       "      <td>0.162283</td>\n",
       "      <td>1.000000</td>\n",
       "      <td>0.296392</td>\n",
       "      <td>0.072729</td>\n",
       "      <td>0.007748</td>\n",
       "      <td>-0.012457</td>\n",
       "    </tr>\n",
       "    <tr>\n",
       "      <th>goout</th>\n",
       "      <td>0.123638</td>\n",
       "      <td>0.080556</td>\n",
       "      <td>-0.026507</td>\n",
       "      <td>0.029374</td>\n",
       "      <td>-0.029686</td>\n",
       "      <td>0.126770</td>\n",
       "      <td>0.029686</td>\n",
       "      <td>0.050751</td>\n",
       "      <td>0.296392</td>\n",
       "      <td>1.000000</td>\n",
       "      <td>-0.010343</td>\n",
       "      <td>-0.050616</td>\n",
       "      <td>-0.182286</td>\n",
       "    </tr>\n",
       "    <tr>\n",
       "      <th>health</th>\n",
       "      <td>-0.056173</td>\n",
       "      <td>-0.038050</td>\n",
       "      <td>0.025874</td>\n",
       "      <td>-0.000092</td>\n",
       "      <td>-0.085469</td>\n",
       "      <td>0.064083</td>\n",
       "      <td>0.085469</td>\n",
       "      <td>0.096471</td>\n",
       "      <td>0.072729</td>\n",
       "      <td>-0.010343</td>\n",
       "      <td>1.000000</td>\n",
       "      <td>-0.014308</td>\n",
       "      <td>-0.075340</td>\n",
       "    </tr>\n",
       "    <tr>\n",
       "      <th>absences</th>\n",
       "      <td>0.112599</td>\n",
       "      <td>-0.027377</td>\n",
       "      <td>0.000245</td>\n",
       "      <td>-0.047560</td>\n",
       "      <td>-0.030187</td>\n",
       "      <td>0.089541</td>\n",
       "      <td>0.030187</td>\n",
       "      <td>-0.089609</td>\n",
       "      <td>0.007748</td>\n",
       "      <td>-0.050616</td>\n",
       "      <td>-0.014308</td>\n",
       "      <td>1.000000</td>\n",
       "      <td>-0.014039</td>\n",
       "    </tr>\n",
       "    <tr>\n",
       "      <th>score</th>\n",
       "      <td>-0.131542</td>\n",
       "      <td>0.186477</td>\n",
       "      <td>0.069842</td>\n",
       "      <td>-0.075516</td>\n",
       "      <td>0.142055</td>\n",
       "      <td>-0.289377</td>\n",
       "      <td>-0.142055</td>\n",
       "      <td>0.046717</td>\n",
       "      <td>-0.012457</td>\n",
       "      <td>-0.182286</td>\n",
       "      <td>-0.075340</td>\n",
       "      <td>-0.014039</td>\n",
       "      <td>1.000000</td>\n",
       "    </tr>\n",
       "  </tbody>\n",
       "</table>\n",
       "</div>"
      ],
      "text/plain": [
       "                         age      Medu      Fedu  traveltime  studytime  \\\n",
       "age                 1.000000 -0.122979 -0.121617    0.095370  -0.011426   \n",
       "Medu               -0.122979  1.000000  0.247339   -0.165394   0.070533   \n",
       "Fedu               -0.121617  0.247339  1.000000    0.042074   0.049060   \n",
       "traveltime          0.095370 -0.165394  0.042074    1.000000  -0.101490   \n",
       "studytime          -0.011426  0.070533  0.049060   -0.101490   1.000000   \n",
       "failures            0.235875 -0.205944 -0.141995    0.091757  -0.156406   \n",
       "studytime_granular  0.011426 -0.070533 -0.049060    0.101490  -1.000000   \n",
       "famrel              0.074152 -0.000958  0.049613   -0.023920   0.063856   \n",
       "freetime            0.004837  0.021002 -0.071328   -0.023067  -0.128661   \n",
       "goout               0.123638  0.080556 -0.026507    0.029374  -0.029686   \n",
       "health             -0.056173 -0.038050  0.025874   -0.000092  -0.085469   \n",
       "absences            0.112599 -0.027377  0.000245   -0.047560  -0.030187   \n",
       "score              -0.131542  0.186477  0.069842   -0.075516   0.142055   \n",
       "\n",
       "                    failures  studytime_granular    famrel  freetime  \\\n",
       "age                 0.235875            0.011426  0.074152  0.004837   \n",
       "Medu               -0.205944           -0.070533 -0.000958  0.021002   \n",
       "Fedu               -0.141995           -0.049060  0.049613 -0.071328   \n",
       "traveltime          0.091757            0.101490 -0.023920 -0.023067   \n",
       "studytime          -0.156406           -1.000000  0.063856 -0.128661   \n",
       "failures            1.000000            0.156406 -0.011414  0.127391   \n",
       "studytime_granular  0.156406            1.000000 -0.063856  0.128661   \n",
       "famrel             -0.011414           -0.063856  1.000000  0.162283   \n",
       "freetime            0.127391            0.128661  0.162283  1.000000   \n",
       "goout               0.126770            0.029686  0.050751  0.296392   \n",
       "health              0.064083            0.085469  0.096471  0.072729   \n",
       "absences            0.089541            0.030187 -0.089609  0.007748   \n",
       "score              -0.289377           -0.142055  0.046717 -0.012457   \n",
       "\n",
       "                       goout    health  absences     score  \n",
       "age                 0.123638 -0.056173  0.112599 -0.131542  \n",
       "Medu                0.080556 -0.038050 -0.027377  0.186477  \n",
       "Fedu               -0.026507  0.025874  0.000245  0.069842  \n",
       "traveltime          0.029374 -0.000092 -0.047560 -0.075516  \n",
       "studytime          -0.029686 -0.085469 -0.030187  0.142055  \n",
       "failures            0.126770  0.064083  0.089541 -0.289377  \n",
       "studytime_granular  0.029686  0.085469  0.030187 -0.142055  \n",
       "famrel              0.050751  0.096471 -0.089609  0.046717  \n",
       "freetime            0.296392  0.072729  0.007748 -0.012457  \n",
       "goout               1.000000 -0.010343 -0.050616 -0.182286  \n",
       "health             -0.010343  1.000000 -0.014308 -0.075340  \n",
       "absences           -0.050616 -0.014308  1.000000 -0.014039  \n",
       "score              -0.182286 -0.075340 -0.014039  1.000000  "
      ]
     },
     "execution_count": 20,
     "metadata": {},
     "output_type": "execute_result"
    }
   ],
   "source": [
    "# Посмотрим на корреляцию числовых столбцов\n",
    "stud.corr()"
   ]
  },
  {
   "cell_type": "code",
   "execution_count": 21,
   "metadata": {},
   "outputs": [],
   "source": [
    "# Видно, что столбцы studytime и studytime_granular коррелируют абсолютно.\n",
    "# Удалим столбец studytime_granular\n",
    "\n",
    "drop('studytime_granular')"
   ]
  },
  {
   "cell_type": "code",
   "execution_count": 23,
   "metadata": {},
   "outputs": [
    {
     "name": "stdout",
     "output_type": "stream",
     "text": [
      "<class 'pandas.core.frame.DataFrame'>\n",
      "Int64Index: 352 entries, 0 to 394\n",
      "Data columns (total 30 columns):\n",
      " #   Column              Non-Null Count  Dtype  \n",
      "---  ------              --------------  -----  \n",
      " 0   school              352 non-null    object \n",
      " 1   sex                 352 non-null    object \n",
      " 2   age                 352 non-null    int64  \n",
      " 3   address             338 non-null    object \n",
      " 4   famsize             328 non-null    object \n",
      " 5   Pstatus             311 non-null    object \n",
      " 6   Medu                350 non-null    float64\n",
      " 7   Fedu                331 non-null    float64\n",
      " 8   Mjob                335 non-null    object \n",
      " 9   Fjob                320 non-null    object \n",
      " 10  reason              337 non-null    object \n",
      " 11  guardian            323 non-null    object \n",
      " 12  traveltime          329 non-null    float64\n",
      " 13  studytime           345 non-null    float64\n",
      " 14  failures            332 non-null    float64\n",
      " 15  schoolsup           343 non-null    object \n",
      " 16  famsup              316 non-null    object \n",
      " 17  paid                316 non-null    object \n",
      " 18  activities          340 non-null    object \n",
      " 19  nursery             340 non-null    object \n",
      " 20  studytime_granular  345 non-null    float64\n",
      " 21  higher              333 non-null    object \n",
      " 22  internet            323 non-null    object \n",
      " 23  romantic            323 non-null    object \n",
      " 24  famrel              328 non-null    float64\n",
      " 25  freetime            344 non-null    float64\n",
      " 26  goout               346 non-null    float64\n",
      " 27  health              339 non-null    float64\n",
      " 28  absences            342 non-null    float64\n",
      " 29  score               352 non-null    float64\n",
      "dtypes: float64(12), int64(1), object(17)\n",
      "memory usage: 85.2+ KB\n"
     ]
    }
   ],
   "source": [
    "# Между остальными столбцами зависимости очень слабые. \n",
    "# Посмотрим на каждый числовой столбец более пристально. Уберем выбросы и составим корреляцию с оценкой (score).\n",
    "stud.info()"
   ]
  },
  {
   "cell_type": "markdown",
   "metadata": {},
   "source": [
    "# Анализ количественных столбцов"
   ]
  },
  {
   "cell_type": "markdown",
   "metadata": {},
   "source": [
    "### Столбец age"
   ]
  },
  {
   "cell_type": "code",
   "execution_count": 24,
   "metadata": {},
   "outputs": [
    {
     "name": "stdout",
     "output_type": "stream",
     "text": [
      "Уникальных значений age: 8\n",
      "Незаполненных значений age: 0\n"
     ]
    },
    {
     "data": {
      "text/html": [
       "<div>\n",
       "<style scoped>\n",
       "    .dataframe tbody tr th:only-of-type {\n",
       "        vertical-align: middle;\n",
       "    }\n",
       "\n",
       "    .dataframe tbody tr th {\n",
       "        vertical-align: top;\n",
       "    }\n",
       "\n",
       "    .dataframe thead th {\n",
       "        text-align: right;\n",
       "    }\n",
       "</style>\n",
       "<table border=\"1\" class=\"dataframe\">\n",
       "  <thead>\n",
       "    <tr style=\"text-align: right;\">\n",
       "      <th></th>\n",
       "      <th>age</th>\n",
       "    </tr>\n",
       "  </thead>\n",
       "  <tbody>\n",
       "    <tr>\n",
       "      <th>16</th>\n",
       "      <td>96</td>\n",
       "    </tr>\n",
       "    <tr>\n",
       "      <th>17</th>\n",
       "      <td>90</td>\n",
       "    </tr>\n",
       "    <tr>\n",
       "      <th>15</th>\n",
       "      <td>76</td>\n",
       "    </tr>\n",
       "    <tr>\n",
       "      <th>18</th>\n",
       "      <td>69</td>\n",
       "    </tr>\n",
       "    <tr>\n",
       "      <th>19</th>\n",
       "      <td>16</td>\n",
       "    </tr>\n",
       "    <tr>\n",
       "      <th>20</th>\n",
       "      <td>3</td>\n",
       "    </tr>\n",
       "    <tr>\n",
       "      <th>22</th>\n",
       "      <td>1</td>\n",
       "    </tr>\n",
       "    <tr>\n",
       "      <th>21</th>\n",
       "      <td>1</td>\n",
       "    </tr>\n",
       "  </tbody>\n",
       "</table>\n",
       "</div>"
      ],
      "text/plain": [
       "    age\n",
       "16   96\n",
       "17   90\n",
       "15   76\n",
       "18   69\n",
       "19   16\n",
       "20    3\n",
       "22    1\n",
       "21    1"
      ]
     },
     "execution_count": 24,
     "metadata": {},
     "output_type": "execute_result"
    }
   ],
   "source": [
    "# Проверим уникальные и пустые значения\n",
    "\n",
    "print('Уникальных значений age: ' + str(stud.age.nunique()))\n",
    "print('Незаполненных значений age: ' + str(len(stud[stud.age.isnull()].studytime.index)))\n",
    "pd.DataFrame(stud.age.value_counts())"
   ]
  },
  {
   "cell_type": "code",
   "execution_count": 25,
   "metadata": {},
   "outputs": [
    {
     "data": {
      "text/plain": [
       "<matplotlib.axes._subplots.AxesSubplot at 0x244081823c8>"
      ]
     },
     "execution_count": 25,
     "metadata": {},
     "output_type": "execute_result"
    },
    {
     "data": {
      "image/png": "[encoded data removed]",
      "text/plain": [
       "<Figure size 432x288 with 1 Axes>"
      ]
     },
     "metadata": {
      "needs_background": "light"
     },
     "output_type": "display_data"
    }
   ],
   "source": [
    "stud['age'].plot(kind = 'hist', grid = True, bins=8)"
   ]
  },
  {
   "cell_type": "code",
   "execution_count": 26,
   "metadata": {},
   "outputs": [
    {
     "name": "stdout",
     "output_type": "stream",
     "text": [
      "Количество выбросов: 1\n"
     ]
    },
    {
     "data": {
      "text/plain": [
       "247    22\n",
       "Name: age, dtype: int64"
      ]
     },
     "metadata": {},
     "output_type": "display_data"
    }
   ],
   "source": [
    "# Распределение похоже на \"обрезанное\" нормальное.\n",
    "# Проверим на выбросы\n",
    "\n",
    "out = get_outlier(stud,'age')\n",
    "print('Количество выбросов:', out.count())\n",
    "display(out)"
   ]
  },
  {
   "cell_type": "code",
   "execution_count": 27,
   "metadata": {},
   "outputs": [
    {
     "name": "stdout",
     "output_type": "stream",
     "text": [
      "normaltest p_value= 0.002862442153038958\n",
      "По normaltest распределение не похоже на нормальное\n"
     ]
    }
   ],
   "source": [
    "# Возраст = 22 года является выбросом. Уберем его и проверим распределение на нормальность.\n",
    "\n",
    "df = stud[stud.age < 22]\n",
    "\n",
    "u, p_value = normaltest(df.age)\n",
    "print('normaltest p_value=', p_value)\n",
    "if p_value > alpha:\n",
    "    print('По normaltest распределение подобно нормальному')\n",
    "else:\n",
    "    print('По normaltest распределение не похоже на нормальное')"
   ]
  },
  {
   "cell_type": "code",
   "execution_count": 28,
   "metadata": {},
   "outputs": [
    {
     "data": {
      "text/plain": [
       "<matplotlib.axes._subplots.AxesSubplot at 0x24408168908>"
      ]
     },
     "execution_count": 28,
     "metadata": {},
     "output_type": "execute_result"
    },
    {
     "data": {
      "image/png": "[encoded data removed]",
      "text/plain": [
       "<Figure size 432x288 with 1 Axes>"
      ]
     },
     "metadata": {
      "needs_background": "light"
     },
     "output_type": "display_data"
    }
   ],
   "source": [
    "# Посмотрим на сборную box-диаграмму\n",
    "df.boxplot(column='score', by='age')"
   ]
  },
  {
   "cell_type": "code",
   "execution_count": 29,
   "metadata": {},
   "outputs": [
    {
     "data": {
      "text/plain": [
       "<matplotlib.axes._subplots.AxesSubplot at 0x244081fb308>"
      ]
     },
     "execution_count": 29,
     "metadata": {},
     "output_type": "execute_result"
    },
    {
     "data": {
      "image/png": "[encoded data removed]",
      "text/plain": [
       "<Figure size 432x288 with 1 Axes>"
      ]
     },
     "metadata": {
      "needs_background": "light"
     },
     "output_type": "display_data"
    }
   ],
   "source": [
    "# Cкорее всего, 3 человека возрастом 20 лет учатся осознанно, и их высокие оценки обусловлены\n",
    "# желанием получить образование в зрелом возрасте. \n",
    "# А 2 балбеса возрастом 21 и 22 года - это второгодники с низкими оценками.\n",
    "# Вообще, возраст более 18 кажется сомнительным, потому что обычно в школе учатся до 18 лет.\n",
    "# Попробуем убрать возраст старше 18 лет (его и не так много в датасете) и сравнить оценки\n",
    "\n",
    "df = stud[stud.age <= 18]\n",
    "df.groupby(by = ['age'])['score'].mean().plot(kind = 'bar', grid= True)"
   ]
  },
  {
   "cell_type": "code",
   "execution_count": 30,
   "metadata": {},
   "outputs": [
    {
     "data": {
      "text/html": [
       "<div>\n",
       "<style scoped>\n",
       "    .dataframe tbody tr th:only-of-type {\n",
       "        vertical-align: middle;\n",
       "    }\n",
       "\n",
       "    .dataframe tbody tr th {\n",
       "        vertical-align: top;\n",
       "    }\n",
       "\n",
       "    .dataframe thead th {\n",
       "        text-align: right;\n",
       "    }\n",
       "</style>\n",
       "<table border=\"1\" class=\"dataframe\">\n",
       "  <thead>\n",
       "    <tr style=\"text-align: right;\">\n",
       "      <th></th>\n",
       "      <th>score</th>\n",
       "      <th>age</th>\n",
       "    </tr>\n",
       "  </thead>\n",
       "  <tbody>\n",
       "    <tr>\n",
       "      <th>score</th>\n",
       "      <td>1.000000</td>\n",
       "      <td>-0.119655</td>\n",
       "    </tr>\n",
       "    <tr>\n",
       "      <th>age</th>\n",
       "      <td>-0.119655</td>\n",
       "      <td>1.000000</td>\n",
       "    </tr>\n",
       "  </tbody>\n",
       "</table>\n",
       "</div>"
      ],
      "text/plain": [
       "          score       age\n",
       "score  1.000000 -0.119655\n",
       "age   -0.119655  1.000000"
      ]
     },
     "execution_count": 30,
     "metadata": {},
     "output_type": "execute_result"
    }
   ],
   "source": [
    "# Похоже, с возрастом оценки в среднем становятся хуже.\n",
    "# Возможно, появляются другие, более \"взрослые\" интересы. \n",
    "# Вычислим корреляцию возраста с оценками на очищенных данных.\n",
    "\n",
    "pd.DataFrame(df.age, df.score).reset_index().corr()"
   ]
  },
  {
   "cell_type": "code",
   "execution_count": 31,
   "metadata": {},
   "outputs": [
    {
     "name": "stdout",
     "output_type": "stream",
     "text": [
      "Пирсон p_value = 0.034099011905442726\n",
      "Спирмен p_value = 0.02429333375237283\n",
      "Кендалл p_value = 0.02286436028853191\n"
     ]
    }
   ],
   "source": [
    "# Кореляция слабая, но все-таки присутствует.\n",
    "# Чтобы убедиться в зависимости величин, проверим гипотезу независимости разными способами, вычислив p_value\n",
    "# Корреляция по Спирмену и Кендаллу лучше подходят для шкальных измерений, чем Пирсон.\n",
    "# У нас как раз шкала: 15, 16, 17, 18.\n",
    "\n",
    "print('Пирсон p_value =',pearsonr(df['age'], df['score'])[1])\n",
    "print('Спирмен p_value =',spearmanr(df['age'], df['score'])[1])\n",
    "print('Кендалл p_value =',kendalltau(df['age'], df['score'])[1])"
   ]
  },
  {
   "cell_type": "code",
   "execution_count": 24,
   "metadata": {},
   "outputs": [],
   "source": [
    "# Нулевая гипотеза состояла в том, что величины не зависят друг от друга.\n",
    "# Если p_value больше уровня значимости (возьмем его = 0.05), то нулевая гипотеза подтверждается.\n",
    "# В данном случае p_value < 0.05, что дает основание принять альтернативную гипотезу: между величинами есть зависимость."
   ]
  },
  {
   "cell_type": "markdown",
   "metadata": {},
   "source": [
    "### Вывод для age: зависимость от возраста присутствует"
   ]
  },
  {
   "cell_type": "markdown",
   "metadata": {},
   "source": [
    "### Столбец Medu"
   ]
  },
  {
   "cell_type": "code",
   "execution_count": 32,
   "metadata": {},
   "outputs": [
    {
     "name": "stdout",
     "output_type": "stream",
     "text": [
      "Уникальных значений Medu: 5\n",
      "Незаполненных значений Medu: 2\n"
     ]
    },
    {
     "data": {
      "text/html": [
       "<div>\n",
       "<style scoped>\n",
       "    .dataframe tbody tr th:only-of-type {\n",
       "        vertical-align: middle;\n",
       "    }\n",
       "\n",
       "    .dataframe tbody tr th {\n",
       "        vertical-align: top;\n",
       "    }\n",
       "\n",
       "    .dataframe thead th {\n",
       "        text-align: right;\n",
       "    }\n",
       "</style>\n",
       "<table border=\"1\" class=\"dataframe\">\n",
       "  <thead>\n",
       "    <tr style=\"text-align: right;\">\n",
       "      <th></th>\n",
       "      <th>Medu</th>\n",
       "    </tr>\n",
       "  </thead>\n",
       "  <tbody>\n",
       "    <tr>\n",
       "      <th>4.0</th>\n",
       "      <td>125</td>\n",
       "    </tr>\n",
       "    <tr>\n",
       "      <th>2.0</th>\n",
       "      <td>88</td>\n",
       "    </tr>\n",
       "    <tr>\n",
       "      <th>3.0</th>\n",
       "      <td>87</td>\n",
       "    </tr>\n",
       "    <tr>\n",
       "      <th>1.0</th>\n",
       "      <td>47</td>\n",
       "    </tr>\n",
       "    <tr>\n",
       "      <th>0.0</th>\n",
       "      <td>3</td>\n",
       "    </tr>\n",
       "  </tbody>\n",
       "</table>\n",
       "</div>"
      ],
      "text/plain": [
       "     Medu\n",
       "4.0   125\n",
       "2.0    88\n",
       "3.0    87\n",
       "1.0    47\n",
       "0.0     3"
      ]
     },
     "execution_count": 32,
     "metadata": {},
     "output_type": "execute_result"
    }
   ],
   "source": [
    "# Medu\n",
    "# Проверим уникальные и пустые значения\n",
    "\n",
    "print('Уникальных значений Medu: ' + str(stud.Medu.nunique()))\n",
    "print('Незаполненных значений Medu: ' + str(len(stud[stud.Medu.isnull()].Medu.index)))\n",
    "pd.DataFrame(stud.Medu.value_counts())\n",
    "# Есть с нулевым уровнем образования 3 человека. Возможно, данных об образовании этих людей просто нет"
   ]
  },
  {
   "cell_type": "code",
   "execution_count": 33,
   "metadata": {},
   "outputs": [],
   "source": [
    "# Исключим строки с NaN-значениями\n",
    "\n",
    "df = stud[~stud.Medu.isnull()]"
   ]
  },
  {
   "cell_type": "code",
   "execution_count": 34,
   "metadata": {},
   "outputs": [
    {
     "data": {
      "text/plain": [
       "<matplotlib.axes._subplots.AxesSubplot at 0x244083a1f08>"
      ]
     },
     "execution_count": 34,
     "metadata": {},
     "output_type": "execute_result"
    },
    {
     "data": {
      "image/png": "[encoded data removed]",
      "text/plain": [
       "<Figure size 432x288 with 1 Axes>"
      ]
     },
     "metadata": {
      "needs_background": "light"
     },
     "output_type": "display_data"
    }
   ],
   "source": [
    "# Посмотрим на распределение оценок по образованию матери\n",
    "df.groupby(by = ['Medu'])['score'].mean().plot(kind = 'bar', grid= True)"
   ]
  },
  {
   "cell_type": "code",
   "execution_count": 36,
   "metadata": {},
   "outputs": [
    {
     "data": {
      "text/html": [
       "<div>\n",
       "<style scoped>\n",
       "    .dataframe tbody tr th:only-of-type {\n",
       "        vertical-align: middle;\n",
       "    }\n",
       "\n",
       "    .dataframe tbody tr th {\n",
       "        vertical-align: top;\n",
       "    }\n",
       "\n",
       "    .dataframe thead th {\n",
       "        text-align: right;\n",
       "    }\n",
       "</style>\n",
       "<table border=\"1\" class=\"dataframe\">\n",
       "  <thead>\n",
       "    <tr style=\"text-align: right;\">\n",
       "      <th></th>\n",
       "      <th>school</th>\n",
       "      <th>sex</th>\n",
       "      <th>age</th>\n",
       "      <th>address</th>\n",
       "      <th>famsize</th>\n",
       "      <th>Pstatus</th>\n",
       "      <th>Medu</th>\n",
       "      <th>Fedu</th>\n",
       "      <th>Mjob</th>\n",
       "      <th>Fjob</th>\n",
       "      <th>reason</th>\n",
       "      <th>guardian</th>\n",
       "      <th>traveltime</th>\n",
       "      <th>studytime</th>\n",
       "      <th>failures</th>\n",
       "      <th>schoolsup</th>\n",
       "      <th>famsup</th>\n",
       "      <th>paid</th>\n",
       "      <th>activities</th>\n",
       "      <th>nursery</th>\n",
       "      <th>studytime_granular</th>\n",
       "      <th>higher</th>\n",
       "      <th>internet</th>\n",
       "      <th>romantic</th>\n",
       "      <th>famrel</th>\n",
       "      <th>freetime</th>\n",
       "      <th>goout</th>\n",
       "      <th>health</th>\n",
       "      <th>absences</th>\n",
       "      <th>score</th>\n",
       "    </tr>\n",
       "  </thead>\n",
       "  <tbody>\n",
       "    <tr>\n",
       "      <th>127</th>\n",
       "      <td>GP</td>\n",
       "      <td>F</td>\n",
       "      <td>19</td>\n",
       "      <td>U</td>\n",
       "      <td>GT3</td>\n",
       "      <td>T</td>\n",
       "      <td>0.0</td>\n",
       "      <td>1.0</td>\n",
       "      <td>at_home</td>\n",
       "      <td>other</td>\n",
       "      <td>course</td>\n",
       "      <td>other</td>\n",
       "      <td>1.0</td>\n",
       "      <td>2.0</td>\n",
       "      <td>3.0</td>\n",
       "      <td>no</td>\n",
       "      <td>None</td>\n",
       "      <td>no</td>\n",
       "      <td>no</td>\n",
       "      <td>no</td>\n",
       "      <td>-6.0</td>\n",
       "      <td>no</td>\n",
       "      <td>no</td>\n",
       "      <td>no</td>\n",
       "      <td>3.0</td>\n",
       "      <td>4.0</td>\n",
       "      <td>2.0</td>\n",
       "      <td>5.0</td>\n",
       "      <td>2.0</td>\n",
       "      <td>45.0</td>\n",
       "    </tr>\n",
       "    <tr>\n",
       "      <th>249</th>\n",
       "      <td>GP</td>\n",
       "      <td>M</td>\n",
       "      <td>16</td>\n",
       "      <td>U</td>\n",
       "      <td>GT3</td>\n",
       "      <td>T</td>\n",
       "      <td>0.0</td>\n",
       "      <td>2.0</td>\n",
       "      <td>other</td>\n",
       "      <td>other</td>\n",
       "      <td>other</td>\n",
       "      <td>mother</td>\n",
       "      <td>1.0</td>\n",
       "      <td>1.0</td>\n",
       "      <td>0.0</td>\n",
       "      <td>no</td>\n",
       "      <td>no</td>\n",
       "      <td>yes</td>\n",
       "      <td>no</td>\n",
       "      <td>None</td>\n",
       "      <td>-3.0</td>\n",
       "      <td>yes</td>\n",
       "      <td>yes</td>\n",
       "      <td>no</td>\n",
       "      <td>4.0</td>\n",
       "      <td>3.0</td>\n",
       "      <td>2.0</td>\n",
       "      <td>5.0</td>\n",
       "      <td>0.0</td>\n",
       "      <td>75.0</td>\n",
       "    </tr>\n",
       "    <tr>\n",
       "      <th>324</th>\n",
       "      <td>GP</td>\n",
       "      <td>F</td>\n",
       "      <td>17</td>\n",
       "      <td>U</td>\n",
       "      <td>LE3</td>\n",
       "      <td>T</td>\n",
       "      <td>0.0</td>\n",
       "      <td>2.0</td>\n",
       "      <td>at_home</td>\n",
       "      <td>at_home</td>\n",
       "      <td>home</td>\n",
       "      <td>father</td>\n",
       "      <td>2.0</td>\n",
       "      <td>3.0</td>\n",
       "      <td>0.0</td>\n",
       "      <td>no</td>\n",
       "      <td>no</td>\n",
       "      <td>no</td>\n",
       "      <td>no</td>\n",
       "      <td>yes</td>\n",
       "      <td>-9.0</td>\n",
       "      <td>yes</td>\n",
       "      <td>yes</td>\n",
       "      <td>no</td>\n",
       "      <td>3.0</td>\n",
       "      <td>3.0</td>\n",
       "      <td>3.0</td>\n",
       "      <td>2.0</td>\n",
       "      <td>0.0</td>\n",
       "      <td>75.0</td>\n",
       "    </tr>\n",
       "  </tbody>\n",
       "</table>\n",
       "</div>"
      ],
      "text/plain": [
       "    school sex  age address famsize Pstatus  Medu  Fedu     Mjob     Fjob  \\\n",
       "127     GP   F   19       U     GT3       T   0.0   1.0  at_home    other   \n",
       "249     GP   M   16       U     GT3       T   0.0   2.0    other    other   \n",
       "324     GP   F   17       U     LE3       T   0.0   2.0  at_home  at_home   \n",
       "\n",
       "     reason guardian  traveltime  studytime  failures schoolsup famsup paid  \\\n",
       "127  course    other         1.0        2.0       3.0        no   None   no   \n",
       "249   other   mother         1.0        1.0       0.0        no     no  yes   \n",
       "324    home   father         2.0        3.0       0.0        no     no   no   \n",
       "\n",
       "    activities nursery  studytime_granular higher internet romantic  famrel  \\\n",
       "127         no      no                -6.0     no       no       no     3.0   \n",
       "249         no    None                -3.0    yes      yes       no     4.0   \n",
       "324         no     yes                -9.0    yes      yes       no     3.0   \n",
       "\n",
       "     freetime  goout  health  absences  score  \n",
       "127       4.0    2.0     5.0       2.0   45.0  \n",
       "249       3.0    2.0     5.0       0.0   75.0  \n",
       "324       3.0    3.0     2.0       0.0   75.0  "
      ]
     },
     "execution_count": 36,
     "metadata": {},
     "output_type": "execute_result"
    }
   ],
   "source": [
    "# Выводится странная картина: там, где матери без образования, у детей оценки выше\n",
    "# Посмотрим на эти записи\n",
    "\n",
    "df[df.Medu==0]"
   ]
  },
  {
   "cell_type": "code",
   "execution_count": 37,
   "metadata": {},
   "outputs": [],
   "source": [
    "# Скорее всего, где и у отца низкое образование и у ребенка низкий балл 45 - это реально у матери нет образования\n",
    "# А там, где у детей высокие баллы = 75, а у родителей или нет образования, или оно невысокое, это ошибочные данные.\n",
    "# Но для простоты исключим все нулевые значения, тем более, что их количество ничтожно мало.\n",
    "\n",
    "df = df[df.Medu > 0]"
   ]
  },
  {
   "cell_type": "code",
   "execution_count": 38,
   "metadata": {},
   "outputs": [
    {
     "data": {
      "text/plain": [
       "<matplotlib.axes._subplots.AxesSubplot at 0x24408861488>"
      ]
     },
     "execution_count": 38,
     "metadata": {},
     "output_type": "execute_result"
    },
    {
     "data": {
      "image/png": "[encoded data removed]",
      "text/plain": [
       "<Figure size 432x288 with 1 Axes>"
      ]
     },
     "metadata": {
      "needs_background": "light"
     },
     "output_type": "display_data"
    }
   ],
   "source": [
    "# Посмотрим на сборную box-диаграмму\n",
    "\n",
    "df.boxplot(column='score', by='Medu')"
   ]
  },
  {
   "cell_type": "code",
   "execution_count": 39,
   "metadata": {},
   "outputs": [],
   "source": [
    "# Нашлись 2 выброса у Medu=2.0. Удалим их.\n",
    "\n",
    "df = df[~((df.Medu==2) & (df.score>=90))]"
   ]
  },
  {
   "cell_type": "code",
   "execution_count": 40,
   "metadata": {},
   "outputs": [
    {
     "data": {
      "text/html": [
       "<div>\n",
       "<style scoped>\n",
       "    .dataframe tbody tr th:only-of-type {\n",
       "        vertical-align: middle;\n",
       "    }\n",
       "\n",
       "    .dataframe tbody tr th {\n",
       "        vertical-align: top;\n",
       "    }\n",
       "\n",
       "    .dataframe thead th {\n",
       "        text-align: right;\n",
       "    }\n",
       "</style>\n",
       "<table border=\"1\" class=\"dataframe\">\n",
       "  <thead>\n",
       "    <tr style=\"text-align: right;\">\n",
       "      <th></th>\n",
       "      <th>score</th>\n",
       "      <th>Medu</th>\n",
       "    </tr>\n",
       "  </thead>\n",
       "  <tbody>\n",
       "    <tr>\n",
       "      <th>score</th>\n",
       "      <td>1.000000</td>\n",
       "      <td>0.215908</td>\n",
       "    </tr>\n",
       "    <tr>\n",
       "      <th>Medu</th>\n",
       "      <td>0.215908</td>\n",
       "      <td>1.000000</td>\n",
       "    </tr>\n",
       "  </tbody>\n",
       "</table>\n",
       "</div>"
      ],
      "text/plain": [
       "          score      Medu\n",
       "score  1.000000  0.215908\n",
       "Medu   0.215908  1.000000"
      ]
     },
     "execution_count": 40,
     "metadata": {},
     "output_type": "execute_result"
    }
   ],
   "source": [
    "# Составим корреляцию с оценками на почищенных данных.\n",
    "\n",
    "pd.DataFrame(df.Medu, df.score).reset_index().corr()"
   ]
  },
  {
   "cell_type": "code",
   "execution_count": 41,
   "metadata": {},
   "outputs": [
    {
     "name": "stdout",
     "output_type": "stream",
     "text": [
      "Спирмен p_value = 9.23848694032104e-05\n"
     ]
    }
   ],
   "source": [
    "# Кореляция невысока, но присутствует.\n",
    "# Чтобы убедиться в зависимости величин, проверим гипотезу независимости, вычислив p_value.\n",
    "# Вычислим по Спирмену, так как у нас шкала: 1, 2, 3, 4.\n",
    "\n",
    "print('Спирмен p_value =',spearmanr(df.Medu, df.score)[1])"
   ]
  },
  {
   "cell_type": "code",
   "execution_count": 34,
   "metadata": {},
   "outputs": [],
   "source": [
    "# В данном случае p_value < 0.05, что дает основание принять альтернативную гипотезу: между величинами есть зависимость."
   ]
  },
  {
   "cell_type": "markdown",
   "metadata": {},
   "source": [
    "### Вывод для Medu: зависимость от образования матери присутствует"
   ]
  },
  {
   "cell_type": "markdown",
   "metadata": {},
   "source": [
    "### Столбец Fedu"
   ]
  },
  {
   "cell_type": "code",
   "execution_count": 42,
   "metadata": {},
   "outputs": [
    {
     "name": "stdout",
     "output_type": "stream",
     "text": [
      "Уникальных значений Fedu: 6\n",
      "Незаполненных значений Fedu: 21\n"
     ]
    },
    {
     "data": {
      "text/html": [
       "<div>\n",
       "<style scoped>\n",
       "    .dataframe tbody tr th:only-of-type {\n",
       "        vertical-align: middle;\n",
       "    }\n",
       "\n",
       "    .dataframe tbody tr th {\n",
       "        vertical-align: top;\n",
       "    }\n",
       "\n",
       "    .dataframe thead th {\n",
       "        text-align: right;\n",
       "    }\n",
       "</style>\n",
       "<table border=\"1\" class=\"dataframe\">\n",
       "  <thead>\n",
       "    <tr style=\"text-align: right;\">\n",
       "      <th></th>\n",
       "      <th>Fedu</th>\n",
       "    </tr>\n",
       "  </thead>\n",
       "  <tbody>\n",
       "    <tr>\n",
       "      <th>2.0</th>\n",
       "      <td>94</td>\n",
       "    </tr>\n",
       "    <tr>\n",
       "      <th>3.0</th>\n",
       "      <td>89</td>\n",
       "    </tr>\n",
       "    <tr>\n",
       "      <th>4.0</th>\n",
       "      <td>80</td>\n",
       "    </tr>\n",
       "    <tr>\n",
       "      <th>1.0</th>\n",
       "      <td>65</td>\n",
       "    </tr>\n",
       "    <tr>\n",
       "      <th>0.0</th>\n",
       "      <td>2</td>\n",
       "    </tr>\n",
       "    <tr>\n",
       "      <th>40.0</th>\n",
       "      <td>1</td>\n",
       "    </tr>\n",
       "  </tbody>\n",
       "</table>\n",
       "</div>"
      ],
      "text/plain": [
       "      Fedu\n",
       "2.0     94\n",
       "3.0     89\n",
       "4.0     80\n",
       "1.0     65\n",
       "0.0      2\n",
       "40.0     1"
      ]
     },
     "execution_count": 42,
     "metadata": {},
     "output_type": "execute_result"
    }
   ],
   "source": [
    "# Fedu\n",
    "# Проверим уникальные и пустые значения\n",
    "\n",
    "print('Уникальных значений Fedu: ' + str(stud.Fedu.nunique()))\n",
    "print('Незаполненных значений Fedu: ' + str(len(stud[stud.Fedu.isnull()].Fedu.index)))\n",
    "pd.DataFrame(stud.Fedu.value_counts())\n",
    "\n",
    "# Есть с нулевым образованием 2 человека. Скорее всего, это неизвестное образование."
   ]
  },
  {
   "cell_type": "code",
   "execution_count": 43,
   "metadata": {},
   "outputs": [],
   "source": [
    "# Удалим явно ошибочное значение 40, а также значения NaN.\n",
    "\n",
    "df = stud[stud.Fedu < 40]"
   ]
  },
  {
   "cell_type": "code",
   "execution_count": 44,
   "metadata": {},
   "outputs": [
    {
     "name": "stdout",
     "output_type": "stream",
     "text": [
      "Количество выбросов: 2\n"
     ]
    },
    {
     "data": {
      "text/plain": [
       "76     0.0\n",
       "171    0.0\n",
       "Name: Fedu, dtype: float64"
      ]
     },
     "metadata": {},
     "output_type": "display_data"
    }
   ],
   "source": [
    "# Проверим на выбросы образование отца\n",
    "\n",
    "out = get_outlier(df,'Fedu')\n",
    "print('Количество выбросов:', out.count())\n",
    "display(out)"
   ]
  },
  {
   "cell_type": "code",
   "execution_count": 45,
   "metadata": {},
   "outputs": [],
   "source": [
    "# Удалим выбросы\n",
    "\n",
    "df = df[df.Fedu > 0]"
   ]
  },
  {
   "cell_type": "code",
   "execution_count": 46,
   "metadata": {},
   "outputs": [
    {
     "data": {
      "text/plain": [
       "<matplotlib.axes._subplots.AxesSubplot at 0x2440892dd48>"
      ]
     },
     "execution_count": 46,
     "metadata": {},
     "output_type": "execute_result"
    },
    {
     "data": {
      "image/png": "[encoded data removed]",
      "text/plain": [
       "<Figure size 432x288 with 1 Axes>"
      ]
     },
     "metadata": {
      "needs_background": "light"
     },
     "output_type": "display_data"
    }
   ],
   "source": [
    "# Посмотрим распределение средних оценок по образованию отца\n",
    "df.groupby(by = ['Fedu'])['score'].mean().plot(kind = 'bar', grid= True)"
   ]
  },
  {
   "cell_type": "code",
   "execution_count": 47,
   "metadata": {},
   "outputs": [
    {
     "data": {
      "text/plain": [
       "<matplotlib.axes._subplots.AxesSubplot at 0x2440892d3c8>"
      ]
     },
     "execution_count": 47,
     "metadata": {},
     "output_type": "execute_result"
    },
    {
     "data": {
      "image/png": "[encoded data removed]",
      "text/plain": [
       "<Figure size 432x288 with 1 Axes>"
      ]
     },
     "metadata": {
      "needs_background": "light"
     },
     "output_type": "display_data"
    }
   ],
   "source": [
    "df.boxplot(column='score', by='Fedu')"
   ]
  },
  {
   "cell_type": "code",
   "execution_count": 48,
   "metadata": {},
   "outputs": [
    {
     "name": "stdout",
     "output_type": "stream",
     "text": [
      "Спирмен p_value = 0.006319095740639738\n"
     ]
    }
   ],
   "source": [
    "# Видно, что медианы у Fedu = 2 и 3 совпадают, а средние - нет. Но это не очень важно.\n",
    "# Однозначно лишь определяется, что оценки более низкие у отцов с начальным образованием,\n",
    "# а у остальных отцов картина примерно одинаковая.\n",
    "# Скорее всего, из-за того, что матери больше занимаются с детьми и оказывают большее влияние на ребенка.\n",
    "# Но, вообще, это признанный факт, что интеллект матери генетически влияет на интеллект ребенка больше, \n",
    "# чем интеллект отца, ввиду расположения генов интеллекта на X-хромосоме.\n",
    "\n",
    "# Проверим значимость по Спирмену.\n",
    "\n",
    "print('Спирмен p_value =',spearmanr(df.Fedu, df.score)[1])"
   ]
  },
  {
   "cell_type": "code",
   "execution_count": 49,
   "metadata": {},
   "outputs": [
    {
     "data": {
      "text/html": [
       "<div>\n",
       "<style scoped>\n",
       "    .dataframe tbody tr th:only-of-type {\n",
       "        vertical-align: middle;\n",
       "    }\n",
       "\n",
       "    .dataframe tbody tr th {\n",
       "        vertical-align: top;\n",
       "    }\n",
       "\n",
       "    .dataframe thead th {\n",
       "        text-align: right;\n",
       "    }\n",
       "</style>\n",
       "<table border=\"1\" class=\"dataframe\">\n",
       "  <thead>\n",
       "    <tr style=\"text-align: right;\">\n",
       "      <th></th>\n",
       "      <th>Medu</th>\n",
       "      <th>Fedu</th>\n",
       "    </tr>\n",
       "  </thead>\n",
       "  <tbody>\n",
       "    <tr>\n",
       "      <th>Medu</th>\n",
       "      <td>1.000000</td>\n",
       "      <td>0.849628</td>\n",
       "    </tr>\n",
       "    <tr>\n",
       "      <th>Fedu</th>\n",
       "      <td>0.849628</td>\n",
       "      <td>1.000000</td>\n",
       "    </tr>\n",
       "  </tbody>\n",
       "</table>\n",
       "</div>"
      ],
      "text/plain": [
       "          Medu      Fedu\n",
       "Medu  1.000000  0.849628\n",
       "Fedu  0.849628  1.000000"
      ]
     },
     "execution_count": 49,
     "metadata": {},
     "output_type": "execute_result"
    }
   ],
   "source": [
    "# В данном случае p_value < 0.05, что дает основание принять альтернативную гипотезу: между величинами есть зависимость.\n",
    "# Однако это p_value больше, чем p_value для матерей. \n",
    "# То есть, подтвердилась бОльшая значимость образования матери.\n",
    "# Проверим корреляцию между образованиями матери и отца\n",
    "\n",
    "df = df[~df.Medu.isnull()]\n",
    "pd.DataFrame(df.Fedu, df.Medu).reset_index().corr()"
   ]
  },
  {
   "cell_type": "code",
   "execution_count": 50,
   "metadata": {},
   "outputs": [],
   "source": [
    "# Корреляция на непустых данных очень высокая, что не удивительно, \n",
    "# потому что супруги обычно примерно одного уровня образования.\n",
    "# Столбец Fedu можно исключить. Вместо Fedu достаточно рассмотреть Medu\n",
    "\n",
    "drop('Fedu')"
   ]
  },
  {
   "cell_type": "markdown",
   "metadata": {},
   "source": [
    "### Вывод для Fedu: зависимость от образования отца присутствует, но образование отца коррелирует с образованием матери, поэтому столбец исключаем"
   ]
  },
  {
   "cell_type": "markdown",
   "metadata": {},
   "source": [
    "### Столбец traveltime"
   ]
  },
  {
   "cell_type": "code",
   "execution_count": 55,
   "metadata": {},
   "outputs": [
    {
     "name": "stdout",
     "output_type": "stream",
     "text": [
      "Уникальных значений traveltime: 4\n",
      "Незаполненных значений traveltime: 23\n"
     ]
    },
    {
     "data": {
      "text/html": [
       "<div>\n",
       "<style scoped>\n",
       "    .dataframe tbody tr th:only-of-type {\n",
       "        vertical-align: middle;\n",
       "    }\n",
       "\n",
       "    .dataframe tbody tr th {\n",
       "        vertical-align: top;\n",
       "    }\n",
       "\n",
       "    .dataframe thead th {\n",
       "        text-align: right;\n",
       "    }\n",
       "</style>\n",
       "<table border=\"1\" class=\"dataframe\">\n",
       "  <thead>\n",
       "    <tr style=\"text-align: right;\">\n",
       "      <th></th>\n",
       "      <th>traveltime</th>\n",
       "    </tr>\n",
       "  </thead>\n",
       "  <tbody>\n",
       "    <tr>\n",
       "      <th>1.0</th>\n",
       "      <td>219</td>\n",
       "    </tr>\n",
       "    <tr>\n",
       "      <th>2.0</th>\n",
       "      <td>86</td>\n",
       "    </tr>\n",
       "    <tr>\n",
       "      <th>3.0</th>\n",
       "      <td>17</td>\n",
       "    </tr>\n",
       "    <tr>\n",
       "      <th>4.0</th>\n",
       "      <td>7</td>\n",
       "    </tr>\n",
       "  </tbody>\n",
       "</table>\n",
       "</div>"
      ],
      "text/plain": [
       "     traveltime\n",
       "1.0         219\n",
       "2.0          86\n",
       "3.0          17\n",
       "4.0           7"
      ]
     },
     "execution_count": 55,
     "metadata": {},
     "output_type": "execute_result"
    }
   ],
   "source": [
    "# traveltime\n",
    "# Проверим уникальные и пустые значения\n",
    "\n",
    "print('Уникальных значений traveltime: ' + str(stud.traveltime.nunique()))\n",
    "print('Незаполненных значений traveltime: ' + str(len(stud[stud.traveltime.isnull()].traveltime.index)))\n",
    "pd.DataFrame(stud.traveltime.value_counts())"
   ]
  },
  {
   "cell_type": "code",
   "execution_count": 52,
   "metadata": {},
   "outputs": [],
   "source": [
    "# Удалим значения NaN.\n",
    "\n",
    "df = stud[stud.traveltime >= 0]"
   ]
  },
  {
   "cell_type": "code",
   "execution_count": 54,
   "metadata": {},
   "outputs": [
    {
     "name": "stdout",
     "output_type": "stream",
     "text": [
      "Количество выбросов: 7\n"
     ]
    },
    {
     "data": {
      "text/plain": [
       "61     4.0\n",
       "108    4.0\n",
       "149    4.0\n",
       "164    4.0\n",
       "228    4.0\n",
       "327    4.0\n",
       "375    4.0\n",
       "Name: traveltime, dtype: float64"
      ]
     },
     "metadata": {},
     "output_type": "display_data"
    }
   ],
   "source": [
    "# Проверим на выбросы времени до школы\n",
    "\n",
    "out = get_outlier(df,'traveltime')\n",
    "print('Количество выбросов:', out.count())\n",
    "display(out)"
   ]
  },
  {
   "cell_type": "code",
   "execution_count": 57,
   "metadata": {},
   "outputs": [],
   "source": [
    "# Все времена, равные 4, являются выбросами. Удалим их.\n",
    "\n",
    "df = df[df.traveltime < 4]"
   ]
  },
  {
   "cell_type": "code",
   "execution_count": 58,
   "metadata": {},
   "outputs": [
    {
     "data": {
      "text/plain": [
       "<matplotlib.axes._subplots.AxesSubplot at 0x24405c24e48>"
      ]
     },
     "execution_count": 58,
     "metadata": {},
     "output_type": "execute_result"
    },
    {
     "data": {
      "image/png": "[encoded data removed]",
      "text/plain": [
       "<Figure size 432x288 with 1 Axes>"
      ]
     },
     "metadata": {
      "needs_background": "light"
     },
     "output_type": "display_data"
    }
   ],
   "source": [
    "# Посмотрим распределение средних оценок по временам до школы\n",
    "\n",
    "df.groupby(by = ['traveltime'])['score'].mean().plot(kind = 'bar', grid= True)"
   ]
  },
  {
   "cell_type": "code",
   "execution_count": 59,
   "metadata": {},
   "outputs": [
    {
     "data": {
      "text/plain": [
       "<matplotlib.axes._subplots.AxesSubplot at 0x24408f0f608>"
      ]
     },
     "execution_count": 59,
     "metadata": {},
     "output_type": "execute_result"
    },
    {
     "data": {
      "image/png": "[encoded data removed]",
      "text/plain": [
       "<Figure size 432x288 with 1 Axes>"
      ]
     },
     "metadata": {
      "needs_background": "light"
     },
     "output_type": "display_data"
    }
   ],
   "source": [
    "df.boxplot(column='score', by='traveltime')"
   ]
  },
  {
   "cell_type": "code",
   "execution_count": 60,
   "metadata": {},
   "outputs": [
    {
     "data": {
      "text/plain": [
       "<matplotlib.axes._subplots.AxesSubplot at 0x24408f622c8>"
      ]
     },
     "execution_count": 60,
     "metadata": {},
     "output_type": "execute_result"
    },
    {
     "data": {
      "image/png": "[encoded data removed]",
      "text/plain": [
       "<Figure size 432x288 with 1 Axes>"
      ]
     },
     "metadata": {
      "needs_background": "light"
     },
     "output_type": "display_data"
    }
   ],
   "source": [
    "# Уберем выброс у времени = 3.0 для чистоты картины и посмотрим заново\n",
    "\n",
    "df = df[~((df.score>80) & (df.traveltime==3))]\n",
    "df.boxplot(column='score', by='traveltime')"
   ]
  },
  {
   "cell_type": "code",
   "execution_count": 61,
   "metadata": {},
   "outputs": [
    {
     "name": "stdout",
     "output_type": "stream",
     "text": [
      "Спирмен p_value = 0.24093598006339392\n",
      "Пирсон p_value = 0.26493918349230955\n",
      "Кендалл p_value = 0.24447743048158\n"
     ]
    },
    {
     "data": {
      "text/html": [
       "<div>\n",
       "<style scoped>\n",
       "    .dataframe tbody tr th:only-of-type {\n",
       "        vertical-align: middle;\n",
       "    }\n",
       "\n",
       "    .dataframe tbody tr th {\n",
       "        vertical-align: top;\n",
       "    }\n",
       "\n",
       "    .dataframe thead th {\n",
       "        text-align: right;\n",
       "    }\n",
       "</style>\n",
       "<table border=\"1\" class=\"dataframe\">\n",
       "  <thead>\n",
       "    <tr style=\"text-align: right;\">\n",
       "      <th></th>\n",
       "      <th>score</th>\n",
       "      <th>traveltime</th>\n",
       "    </tr>\n",
       "  </thead>\n",
       "  <tbody>\n",
       "    <tr>\n",
       "      <th>score</th>\n",
       "      <td>1.000000</td>\n",
       "      <td>-0.183528</td>\n",
       "    </tr>\n",
       "    <tr>\n",
       "      <th>traveltime</th>\n",
       "      <td>-0.183528</td>\n",
       "      <td>1.000000</td>\n",
       "    </tr>\n",
       "  </tbody>\n",
       "</table>\n",
       "</div>"
      ],
      "text/plain": [
       "               score  traveltime\n",
       "score       1.000000   -0.183528\n",
       "traveltime -0.183528    1.000000"
      ]
     },
     "execution_count": 61,
     "metadata": {},
     "output_type": "execute_result"
    }
   ],
   "source": [
    "# Видно, что при малом времени до школы размах оценок выше.\n",
    "# Возможно, потому что остается больше свободного времени, которое тратится либо на глупости (оценки низкие),\n",
    "# либо на учебу (оценки высокие)\n",
    "\n",
    "# Проверим зависимости\n",
    "print('Спирмен p_value =',spearmanr(df.traveltime, df.score)[1])\n",
    "print('Пирсон p_value =',pearsonr(df.traveltime, df.score)[1])\n",
    "print('Кендалл p_value =',kendalltau(df.traveltime, df.score)[1])\n",
    "pd.DataFrame(df.traveltime, df.score).reset_index().corr()"
   ]
  },
  {
   "cell_type": "code",
   "execution_count": 62,
   "metadata": {},
   "outputs": [],
   "source": [
    "# Небольшая корреляция присутствует. Чем меньше времени на дорогу, тем выше оценки. \n",
    "# Но тесты на зависимость не пройдены (p_value > 0.05), возможно из-за малого количества значений 3 - их всего 17 (<30).\n",
    "# Столбец неоднозначный. Однако удалим его.\n",
    "\n",
    "drop('traveltime')"
   ]
  },
  {
   "cell_type": "markdown",
   "metadata": {},
   "source": [
    "### Вывод для traveltime: время на дорогу влияет слабо."
   ]
  },
  {
   "cell_type": "markdown",
   "metadata": {},
   "source": [
    "### Столбец studytime "
   ]
  },
  {
   "cell_type": "code",
   "execution_count": 64,
   "metadata": {},
   "outputs": [
    {
     "name": "stdout",
     "output_type": "stream",
     "text": [
      "Уникальных значений studytime: 4\n",
      "Незаполненных значений studytime: 7\n"
     ]
    },
    {
     "data": {
      "text/html": [
       "<div>\n",
       "<style scoped>\n",
       "    .dataframe tbody tr th:only-of-type {\n",
       "        vertical-align: middle;\n",
       "    }\n",
       "\n",
       "    .dataframe tbody tr th {\n",
       "        vertical-align: top;\n",
       "    }\n",
       "\n",
       "    .dataframe thead th {\n",
       "        text-align: right;\n",
       "    }\n",
       "</style>\n",
       "<table border=\"1\" class=\"dataframe\">\n",
       "  <thead>\n",
       "    <tr style=\"text-align: right;\">\n",
       "      <th></th>\n",
       "      <th>studytime</th>\n",
       "    </tr>\n",
       "  </thead>\n",
       "  <tbody>\n",
       "    <tr>\n",
       "      <th>2.0</th>\n",
       "      <td>173</td>\n",
       "    </tr>\n",
       "    <tr>\n",
       "      <th>1.0</th>\n",
       "      <td>90</td>\n",
       "    </tr>\n",
       "    <tr>\n",
       "      <th>3.0</th>\n",
       "      <td>58</td>\n",
       "    </tr>\n",
       "    <tr>\n",
       "      <th>4.0</th>\n",
       "      <td>24</td>\n",
       "    </tr>\n",
       "  </tbody>\n",
       "</table>\n",
       "</div>"
      ],
      "text/plain": [
       "     studytime\n",
       "2.0        173\n",
       "1.0         90\n",
       "3.0         58\n",
       "4.0         24"
      ]
     },
     "execution_count": 64,
     "metadata": {},
     "output_type": "execute_result"
    }
   ],
   "source": [
    "# studytime\n",
    "# Проверим уникальные и пустые значения\n",
    "\n",
    "print('Уникальных значений studytime: ' + str(stud.studytime.nunique()))\n",
    "print('Незаполненных значений studytime: ' + str(len(stud[stud.studytime.isnull()].studytime.index)))\n",
    "pd.DataFrame(stud.studytime.value_counts())"
   ]
  },
  {
   "cell_type": "code",
   "execution_count": 65,
   "metadata": {},
   "outputs": [],
   "source": [
    "# Удалим значения NaN\n",
    "\n",
    "df = stud[stud.studytime >= 0]"
   ]
  },
  {
   "cell_type": "code",
   "execution_count": 66,
   "metadata": {},
   "outputs": [
    {
     "data": {
      "text/plain": [
       "<matplotlib.axes._subplots.AxesSubplot at 0x244090c7b48>"
      ]
     },
     "execution_count": 66,
     "metadata": {},
     "output_type": "execute_result"
    },
    {
     "data": {
      "image/png": "[encoded data removed]",
      "text/plain": [
       "<Figure size 432x288 with 1 Axes>"
      ]
     },
     "metadata": {
      "needs_background": "light"
     },
     "output_type": "display_data"
    }
   ],
   "source": [
    "# Проверим график до удаления выбросов\n",
    "\n",
    "df.boxplot(column='score', by='studytime')"
   ]
  },
  {
   "cell_type": "code",
   "execution_count": 68,
   "metadata": {},
   "outputs": [
    {
     "name": "stdout",
     "output_type": "stream",
     "text": [
      "Количество выбросов: 24\n"
     ]
    },
    {
     "data": {
      "text/plain": [
       "47     4.0\n",
       "66     4.0\n",
       "67     4.0\n",
       "69     4.0\n",
       "70     4.0\n",
       "71     4.0\n",
       "76     4.0\n",
       "77     4.0\n",
       "94     4.0\n",
       "95     4.0\n",
       "105    4.0\n",
       "106    4.0\n",
       "108    4.0\n",
       "121    4.0\n",
       "204    4.0\n",
       "210    4.0\n",
       "256    4.0\n",
       "271    4.0\n",
       "282    4.0\n",
       "293    4.0\n",
       "298    4.0\n",
       "303    4.0\n",
       "330    4.0\n",
       "338    4.0\n",
       "Name: studytime, dtype: float64"
      ]
     },
     "metadata": {},
     "output_type": "display_data"
    }
   ],
   "source": [
    "# Явно прорисовываются 2 группы: 1+2 и 3+4\n",
    "# Проверим на выбросы время учебы\n",
    "\n",
    "out = get_outlier(df,'studytime')\n",
    "print('Количество выбросов:', out.count())\n",
    "display(out)"
   ]
  },
  {
   "cell_type": "code",
   "execution_count": 70,
   "metadata": {},
   "outputs": [],
   "source": [
    "# Все времена, равные 4, являются выбросами. \n",
    "# Но раз их много, то не будем удалять их, а объединим по группам, добавив столбец\n",
    "\n",
    "stud['gr_studytime'] = stud.studytime.apply(lambda x: None if x is None else 0 if x<3 else 1)\n",
    "df = stud[stud.studytime >= 0]"
   ]
  },
  {
   "cell_type": "code",
   "execution_count": 71,
   "metadata": {},
   "outputs": [
    {
     "data": {
      "text/plain": [
       "<matplotlib.axes._subplots.AxesSubplot at 0x24407ff2fc8>"
      ]
     },
     "execution_count": 71,
     "metadata": {},
     "output_type": "execute_result"
    },
    {
     "data": {
      "image/png": "[encoded data removed]",
      "text/plain": [
       "<Figure size 432x288 with 1 Axes>"
      ]
     },
     "metadata": {
      "needs_background": "light"
     },
     "output_type": "display_data"
    }
   ],
   "source": [
    "# Посмотрим на график по группам\n",
    "\n",
    "df.boxplot(column='score', by='gr_studytime')"
   ]
  },
  {
   "cell_type": "code",
   "execution_count": 72,
   "metadata": {},
   "outputs": [
    {
     "name": "stdout",
     "output_type": "stream",
     "text": [
      "Спирмен p_value = 0.0013449807221124514\n",
      "Пирсон p_value = 0.0005317170077041298\n",
      "Кендалл p_value = 0.001426420948164652\n"
     ]
    },
    {
     "data": {
      "text/html": [
       "<div>\n",
       "<style scoped>\n",
       "    .dataframe tbody tr th:only-of-type {\n",
       "        vertical-align: middle;\n",
       "    }\n",
       "\n",
       "    .dataframe tbody tr th {\n",
       "        vertical-align: top;\n",
       "    }\n",
       "\n",
       "    .dataframe thead th {\n",
       "        text-align: right;\n",
       "    }\n",
       "</style>\n",
       "<table border=\"1\" class=\"dataframe\">\n",
       "  <thead>\n",
       "    <tr style=\"text-align: right;\">\n",
       "      <th></th>\n",
       "      <th>score</th>\n",
       "      <th>gr_studytime</th>\n",
       "    </tr>\n",
       "  </thead>\n",
       "  <tbody>\n",
       "    <tr>\n",
       "      <th>score</th>\n",
       "      <td>1.000000</td>\n",
       "      <td>0.465512</td>\n",
       "    </tr>\n",
       "    <tr>\n",
       "      <th>gr_studytime</th>\n",
       "      <td>0.465512</td>\n",
       "      <td>1.000000</td>\n",
       "    </tr>\n",
       "  </tbody>\n",
       "</table>\n",
       "</div>"
      ],
      "text/plain": [
       "                 score  gr_studytime\n",
       "score         1.000000      0.465512\n",
       "gr_studytime  0.465512      1.000000"
      ]
     },
     "execution_count": 72,
     "metadata": {},
     "output_type": "execute_result"
    }
   ],
   "source": [
    "# Проверим зависимости для групп\n",
    "\n",
    "print('Спирмен p_value =',spearmanr(df.gr_studytime, df.score)[1])\n",
    "print('Пирсон p_value =',pearsonr(df.gr_studytime, df.score)[1])\n",
    "print('Кендалл p_value =',kendalltau(df.gr_studytime, df.score)[1])\n",
    "pd.DataFrame(df.gr_studytime, df.score).reset_index().corr()"
   ]
  },
  {
   "cell_type": "code",
   "execution_count": 74,
   "metadata": {},
   "outputs": [],
   "source": [
    "# Зависимость очень отчетливая по всем тестам. \n",
    "# Если тратить на уроки 3 и более часов времени, то оценки становятся лучше\n",
    "# Оставим столбец с группами урочных часов (gr_studytime), а исходный столбец (studytime) удалим\n",
    "\n",
    "drop('studytime')"
   ]
  },
  {
   "cell_type": "markdown",
   "metadata": {},
   "source": [
    "### Вывод для studytime: время на уроки влияет на оценки "
   ]
  },
  {
   "cell_type": "markdown",
   "metadata": {},
   "source": [
    "### Столбец failures "
   ]
  },
  {
   "cell_type": "code",
   "execution_count": 75,
   "metadata": {},
   "outputs": [
    {
     "name": "stdout",
     "output_type": "stream",
     "text": [
      "Уникальных значений failures: 4\n",
      "Незаполненных значений studytime: 20\n"
     ]
    },
    {
     "data": {
      "text/html": [
       "<div>\n",
       "<style scoped>\n",
       "    .dataframe tbody tr th:only-of-type {\n",
       "        vertical-align: middle;\n",
       "    }\n",
       "\n",
       "    .dataframe tbody tr th {\n",
       "        vertical-align: top;\n",
       "    }\n",
       "\n",
       "    .dataframe thead th {\n",
       "        text-align: right;\n",
       "    }\n",
       "</style>\n",
       "<table border=\"1\" class=\"dataframe\">\n",
       "  <thead>\n",
       "    <tr style=\"text-align: right;\">\n",
       "      <th></th>\n",
       "      <th>failures</th>\n",
       "    </tr>\n",
       "  </thead>\n",
       "  <tbody>\n",
       "    <tr>\n",
       "      <th>0.0</th>\n",
       "      <td>273</td>\n",
       "    </tr>\n",
       "    <tr>\n",
       "      <th>1.0</th>\n",
       "      <td>38</td>\n",
       "    </tr>\n",
       "    <tr>\n",
       "      <th>2.0</th>\n",
       "      <td>11</td>\n",
       "    </tr>\n",
       "    <tr>\n",
       "      <th>3.0</th>\n",
       "      <td>10</td>\n",
       "    </tr>\n",
       "  </tbody>\n",
       "</table>\n",
       "</div>"
      ],
      "text/plain": [
       "     failures\n",
       "0.0       273\n",
       "1.0        38\n",
       "2.0        11\n",
       "3.0        10"
      ]
     },
     "execution_count": 75,
     "metadata": {},
     "output_type": "execute_result"
    }
   ],
   "source": [
    "# failures\n",
    "# Проверим уникальные и пустые значения\n",
    "\n",
    "print('Уникальных значений failures: ' + str(stud.failures.nunique()))\n",
    "print('Незаполненных значений studytime: ' + str(len(stud[stud.failures.isnull()].failures.index)))\n",
    "pd.DataFrame(stud.failures.value_counts())"
   ]
  },
  {
   "cell_type": "code",
   "execution_count": 76,
   "metadata": {},
   "outputs": [],
   "source": [
    "# Удалим значения NaN\n",
    "\n",
    "df = stud[stud.failures >= 0]"
   ]
  },
  {
   "cell_type": "code",
   "execution_count": 77,
   "metadata": {},
   "outputs": [
    {
     "name": "stdout",
     "output_type": "stream",
     "text": [
      "Количество выбросов: 59\n"
     ]
    },
    {
     "data": {
      "text/plain": [
       "2     3.0\n",
       "18    3.0\n",
       "25    2.0\n",
       "40    1.0\n",
       "44    1.0\n",
       "49    1.0\n",
       "52    1.0\n",
       "72    2.0\n",
       "78    3.0\n",
       "85    2.0\n",
       "Name: failures, dtype: float64"
      ]
     },
     "metadata": {},
     "output_type": "display_data"
    }
   ],
   "source": [
    "# Проверим на выбросы количества неудач\n",
    "\n",
    "out = get_outlier(df,'failures')\n",
    "print('Количество выбросов:', out.count())\n",
    "display(out.head(10))"
   ]
  },
  {
   "cell_type": "code",
   "execution_count": 78,
   "metadata": {},
   "outputs": [
    {
     "data": {
      "text/plain": [
       "<matplotlib.axes._subplots.AxesSubplot at 0x2440920e688>"
      ]
     },
     "execution_count": 78,
     "metadata": {},
     "output_type": "execute_result"
    },
    {
     "data": {
      "image/png": "[encoded data removed]",
      "text/plain": [
       "<Figure size 432x288 with 1 Axes>"
      ]
     },
     "metadata": {
      "needs_background": "light"
     },
     "output_type": "display_data"
    }
   ],
   "source": [
    "# Очень много выбросов! Посмотрим на гистограмму\n",
    "df.failures.plot(kind = 'hist', grid = True, bins = 7)"
   ]
  },
  {
   "cell_type": "code",
   "execution_count": 79,
   "metadata": {},
   "outputs": [],
   "source": [
    "# Все ненулевые оценки являются выбросами!\n",
    "# Преобразуем, снова сгруппировав данные в отдельный столбец. Иначе без выбросов останется единственное значение\n",
    "\n",
    "stud['gr_failures'] = stud.failures.apply(lambda x: None if x is None else 0 if x==0 else 1)\n",
    "df = stud[stud.failures >= 0]"
   ]
  },
  {
   "cell_type": "code",
   "execution_count": 80,
   "metadata": {},
   "outputs": [
    {
     "data": {
      "text/plain": [
       "<matplotlib.axes._subplots.AxesSubplot at 0x2440920e148>"
      ]
     },
     "execution_count": 80,
     "metadata": {},
     "output_type": "execute_result"
    },
    {
     "data": {
      "image/png": "[encoded data removed]",
      "text/plain": [
       "<Figure size 432x288 with 1 Axes>"
      ]
     },
     "metadata": {
      "needs_background": "light"
     },
     "output_type": "display_data"
    }
   ],
   "source": [
    "# Посмотрим на график по группам\n",
    "\n",
    "df.boxplot(column='score', by='gr_failures')"
   ]
  },
  {
   "cell_type": "code",
   "execution_count": 81,
   "metadata": {},
   "outputs": [
    {
     "name": "stdout",
     "output_type": "stream",
     "text": [
      "Спирмен p_value = 2.344725962733338e-08\n",
      "Пирсон p_value = 4.737826056757574e-08\n",
      "Кендалл p_value = 4.5803237508662445e-08\n"
     ]
    },
    {
     "data": {
      "text/html": [
       "<div>\n",
       "<style scoped>\n",
       "    .dataframe tbody tr th:only-of-type {\n",
       "        vertical-align: middle;\n",
       "    }\n",
       "\n",
       "    .dataframe tbody tr th {\n",
       "        vertical-align: top;\n",
       "    }\n",
       "\n",
       "    .dataframe thead th {\n",
       "        text-align: right;\n",
       "    }\n",
       "</style>\n",
       "<table border=\"1\" class=\"dataframe\">\n",
       "  <thead>\n",
       "    <tr style=\"text-align: right;\">\n",
       "      <th></th>\n",
       "      <th>score</th>\n",
       "      <th>gr_failures</th>\n",
       "    </tr>\n",
       "  </thead>\n",
       "  <tbody>\n",
       "    <tr>\n",
       "      <th>score</th>\n",
       "      <td>1.000000</td>\n",
       "      <td>-0.194461</td>\n",
       "    </tr>\n",
       "    <tr>\n",
       "      <th>gr_failures</th>\n",
       "      <td>-0.194461</td>\n",
       "      <td>1.000000</td>\n",
       "    </tr>\n",
       "  </tbody>\n",
       "</table>\n",
       "</div>"
      ],
      "text/plain": [
       "                score  gr_failures\n",
       "score        1.000000    -0.194461\n",
       "gr_failures -0.194461     1.000000"
      ]
     },
     "execution_count": 81,
     "metadata": {},
     "output_type": "execute_result"
    }
   ],
   "source": [
    "# Уберем выброс для группы 1 и проверим зависимости для групп\n",
    "\n",
    "df = df[~((df.score>80) & (df.gr_failures==1))]\n",
    "\n",
    "print('Спирмен p_value =',spearmanr(df.gr_failures, df.score)[1])\n",
    "print('Пирсон p_value =',pearsonr(df.gr_failures, df.score)[1])\n",
    "print('Кендалл p_value =',kendalltau(df.gr_failures, df.score)[1])\n",
    "pd.DataFrame(df.gr_failures, df.score).reset_index().corr()"
   ]
  },
  {
   "cell_type": "code",
   "execution_count": 83,
   "metadata": {},
   "outputs": [],
   "source": [
    "# Корреляционные тесты показывают серьезную зависимость оценок от наличия неудач\n",
    "# Столбец с количеством неудач (failures) удалим, но оставим столбец для групп неудач (failures)\n",
    "\n",
    "drop('failures')"
   ]
  },
  {
   "cell_type": "markdown",
   "metadata": {},
   "source": [
    "### Вывод для failures:  на оценки влияет не количество, а наличие неудач"
   ]
  },
  {
   "cell_type": "markdown",
   "metadata": {},
   "source": [
    "### Столбец famrel "
   ]
  },
  {
   "cell_type": "code",
   "execution_count": 84,
   "metadata": {},
   "outputs": [
    {
     "name": "stdout",
     "output_type": "stream",
     "text": [
      "Уникальных значений famrel: 6\n",
      "Незаполненных значений famrel: 24\n"
     ]
    },
    {
     "data": {
      "text/html": [
       "<div>\n",
       "<style scoped>\n",
       "    .dataframe tbody tr th:only-of-type {\n",
       "        vertical-align: middle;\n",
       "    }\n",
       "\n",
       "    .dataframe tbody tr th {\n",
       "        vertical-align: top;\n",
       "    }\n",
       "\n",
       "    .dataframe thead th {\n",
       "        text-align: right;\n",
       "    }\n",
       "</style>\n",
       "<table border=\"1\" class=\"dataframe\">\n",
       "  <thead>\n",
       "    <tr style=\"text-align: right;\">\n",
       "      <th></th>\n",
       "      <th>famrel</th>\n",
       "    </tr>\n",
       "  </thead>\n",
       "  <tbody>\n",
       "    <tr>\n",
       "      <th>4.0</th>\n",
       "      <td>163</td>\n",
       "    </tr>\n",
       "    <tr>\n",
       "      <th>5.0</th>\n",
       "      <td>88</td>\n",
       "    </tr>\n",
       "    <tr>\n",
       "      <th>3.0</th>\n",
       "      <td>56</td>\n",
       "    </tr>\n",
       "    <tr>\n",
       "      <th>2.0</th>\n",
       "      <td>14</td>\n",
       "    </tr>\n",
       "    <tr>\n",
       "      <th>1.0</th>\n",
       "      <td>6</td>\n",
       "    </tr>\n",
       "    <tr>\n",
       "      <th>-1.0</th>\n",
       "      <td>1</td>\n",
       "    </tr>\n",
       "  </tbody>\n",
       "</table>\n",
       "</div>"
      ],
      "text/plain": [
       "      famrel\n",
       " 4.0     163\n",
       " 5.0      88\n",
       " 3.0      56\n",
       " 2.0      14\n",
       " 1.0       6\n",
       "-1.0       1"
      ]
     },
     "execution_count": 84,
     "metadata": {},
     "output_type": "execute_result"
    }
   ],
   "source": [
    "# famrel\n",
    "# Проверим уникальные и пустые значения\n",
    "\n",
    "print('Уникальных значений famrel: ' + str(stud.famrel.nunique()))\n",
    "print('Незаполненных значений famrel: ' + str(len(stud[stud.famrel.isnull()].famrel.index)))\n",
    "pd.DataFrame(stud.famrel.value_counts())"
   ]
  },
  {
   "cell_type": "code",
   "execution_count": 86,
   "metadata": {},
   "outputs": [],
   "source": [
    "# Значение -1 - ошибочное. Уберем его и NaN\n",
    "\n",
    "df = stud[stud.famrel > 0]"
   ]
  },
  {
   "cell_type": "code",
   "execution_count": 87,
   "metadata": {},
   "outputs": [
    {
     "name": "stdout",
     "output_type": "stream",
     "text": [
      "Количество выбросов: 20\n"
     ]
    },
    {
     "data": {
      "text/plain": [
       "27     2.0\n",
       "37     2.0\n",
       "46     2.0\n",
       "60     2.0\n",
       "66     1.0\n",
       "79     2.0\n",
       "108    1.0\n",
       "141    2.0\n",
       "156    2.0\n",
       "184    1.0\n",
       "Name: famrel, dtype: float64"
      ]
     },
     "metadata": {},
     "output_type": "display_data"
    }
   ],
   "source": [
    "# Проверим на выбросы семейные отношения\n",
    "\n",
    "out = get_outlier(df,'famrel')\n",
    "print('Количество выбросов:', out.count())\n",
    "display(out.head(10))"
   ]
  },
  {
   "cell_type": "code",
   "execution_count": 88,
   "metadata": {},
   "outputs": [
    {
     "data": {
      "text/plain": [
       "<matplotlib.axes._subplots.AxesSubplot at 0x2440931f888>"
      ]
     },
     "execution_count": 88,
     "metadata": {},
     "output_type": "execute_result"
    },
    {
     "data": {
      "image/png": "[encoded data removed]",
      "text/plain": [
       "<Figure size 432x288 with 1 Axes>"
      ]
     },
     "metadata": {
      "needs_background": "light"
     },
     "output_type": "display_data"
    }
   ],
   "source": [
    "# Очень много выбросов! Посмотрим на графики\n",
    "df.famrel.plot(kind = 'hist', grid = True, bins = 9)"
   ]
  },
  {
   "cell_type": "code",
   "execution_count": 89,
   "metadata": {},
   "outputs": [],
   "source": [
    "# Удалим выбросы\n",
    "\n",
    "df = df[df.famrel > 2]"
   ]
  },
  {
   "cell_type": "code",
   "execution_count": 90,
   "metadata": {},
   "outputs": [
    {
     "data": {
      "text/plain": [
       "<matplotlib.axes._subplots.AxesSubplot at 0x24409319e08>"
      ]
     },
     "execution_count": 90,
     "metadata": {},
     "output_type": "execute_result"
    },
    {
     "data": {
      "image/png": "[encoded data removed]",
      "text/plain": [
       "<Figure size 432x288 with 1 Axes>"
      ]
     },
     "metadata": {
      "needs_background": "light"
     },
     "output_type": "display_data"
    }
   ],
   "source": [
    "df.boxplot(column='score', by='famrel')"
   ]
  },
  {
   "cell_type": "code",
   "execution_count": 91,
   "metadata": {},
   "outputs": [
    {
     "name": "stdout",
     "output_type": "stream",
     "text": [
      "Спирмен p_value = 0.10502685766681082\n",
      "Пирсон p_value = 0.1300896605061115\n",
      "Кендалл p_value = 0.10749257413210044\n"
     ]
    }
   ],
   "source": [
    "# Уберем выброс для значения 4 и проверим зависимости\n",
    "\n",
    "df = df[~((df.score==100) & (df.famrel==1))]\n",
    "\n",
    "print('Спирмен p_value =',spearmanr(df.famrel, df.score)[1])\n",
    "print('Пирсон p_value =',pearsonr(df.famrel, df.score)[1])\n",
    "print('Кендалл p_value =',kendalltau(df.famrel, df.score)[1])"
   ]
  },
  {
   "cell_type": "code",
   "execution_count": 93,
   "metadata": {},
   "outputs": [
    {
     "data": {
      "text/plain": [
       "<matplotlib.axes._subplots.AxesSubplot at 0x2440a4c1a48>"
      ]
     },
     "execution_count": 93,
     "metadata": {},
     "output_type": "execute_result"
    },
    {
     "data": {
      "image/png": "[encoded data removed]",
      "text/plain": [
       "<Figure size 432x288 with 1 Axes>"
      ]
     },
     "metadata": {
      "needs_background": "light"
     },
     "output_type": "display_data"
    }
   ],
   "source": [
    "# По результатам тестов зависимость оценок от отношений в семье для диапазона от средних до отличных - отсутствует\n",
    "# Для выяснения зависимости от полного спектра отношений не хватает данных по плохим отношениям\n",
    "# Посмотрим на график со всеми отношениями:\n",
    "\n",
    "stud.boxplot(column='score', by='famrel')"
   ]
  },
  {
   "cell_type": "code",
   "execution_count": 94,
   "metadata": {},
   "outputs": [],
   "source": [
    "# Полный график демонстрирует примерно одинаковые медианные оценки и похожий размах. Удалим столбец\n",
    "\n",
    "drop('famrel')"
   ]
  },
  {
   "cell_type": "markdown",
   "metadata": {},
   "source": [
    "### Вывод для famrel: отношения в семье не влияют на оценки"
   ]
  },
  {
   "cell_type": "markdown",
   "metadata": {},
   "source": [
    "### Столбец freetime "
   ]
  },
  {
   "cell_type": "code",
   "execution_count": 95,
   "metadata": {},
   "outputs": [
    {
     "name": "stdout",
     "output_type": "stream",
     "text": [
      "Уникальных значений freetime: 5\n",
      "Незаполненных значений freetime: 8\n"
     ]
    },
    {
     "data": {
      "text/html": [
       "<div>\n",
       "<style scoped>\n",
       "    .dataframe tbody tr th:only-of-type {\n",
       "        vertical-align: middle;\n",
       "    }\n",
       "\n",
       "    .dataframe tbody tr th {\n",
       "        vertical-align: top;\n",
       "    }\n",
       "\n",
       "    .dataframe thead th {\n",
       "        text-align: right;\n",
       "    }\n",
       "</style>\n",
       "<table border=\"1\" class=\"dataframe\">\n",
       "  <thead>\n",
       "    <tr style=\"text-align: right;\">\n",
       "      <th></th>\n",
       "      <th>freetime</th>\n",
       "    </tr>\n",
       "  </thead>\n",
       "  <tbody>\n",
       "    <tr>\n",
       "      <th>3.0</th>\n",
       "      <td>132</td>\n",
       "    </tr>\n",
       "    <tr>\n",
       "      <th>4.0</th>\n",
       "      <td>102</td>\n",
       "    </tr>\n",
       "    <tr>\n",
       "      <th>2.0</th>\n",
       "      <td>59</td>\n",
       "    </tr>\n",
       "    <tr>\n",
       "      <th>5.0</th>\n",
       "      <td>35</td>\n",
       "    </tr>\n",
       "    <tr>\n",
       "      <th>1.0</th>\n",
       "      <td>16</td>\n",
       "    </tr>\n",
       "  </tbody>\n",
       "</table>\n",
       "</div>"
      ],
      "text/plain": [
       "     freetime\n",
       "3.0       132\n",
       "4.0       102\n",
       "2.0        59\n",
       "5.0        35\n",
       "1.0        16"
      ]
     },
     "execution_count": 95,
     "metadata": {},
     "output_type": "execute_result"
    }
   ],
   "source": [
    "# freetime\n",
    "# Проверим уникальные и пустые значения\n",
    "\n",
    "print('Уникальных значений freetime: ' + str(stud.freetime.nunique()))\n",
    "print('Незаполненных значений freetime: ' + str(len(stud[stud.freetime.isnull()].freetime.index)))\n",
    "pd.DataFrame(stud.freetime.value_counts())"
   ]
  },
  {
   "cell_type": "code",
   "execution_count": 96,
   "metadata": {},
   "outputs": [],
   "source": [
    "# Уберем NaN\n",
    "df = stud[stud.freetime > 0]"
   ]
  },
  {
   "cell_type": "code",
   "execution_count": 97,
   "metadata": {},
   "outputs": [
    {
     "name": "stdout",
     "output_type": "stream",
     "text": [
      "Количество выбросов: 16\n"
     ]
    },
    {
     "data": {
      "text/plain": [
       "7      1.0\n",
       "19     1.0\n",
       "68     1.0\n",
       "89     1.0\n",
       "95     1.0\n",
       "106    1.0\n",
       "111    1.0\n",
       "112    1.0\n",
       "189    1.0\n",
       "238    1.0\n",
       "Name: freetime, dtype: float64"
      ]
     },
     "metadata": {},
     "output_type": "display_data"
    }
   ],
   "source": [
    "# Проверим на выбросы свободное время\n",
    "\n",
    "out = get_outlier(df,'freetime')\n",
    "print('Количество выбросов:', out.count())\n",
    "display(out.head(10))"
   ]
  },
  {
   "cell_type": "code",
   "execution_count": 98,
   "metadata": {},
   "outputs": [
    {
     "data": {
      "text/plain": [
       "<matplotlib.axes._subplots.AxesSubplot at 0x2440a5f40c8>"
      ]
     },
     "execution_count": 98,
     "metadata": {},
     "output_type": "execute_result"
    },
    {
     "data": {
      "image/png": "[encoded data removed]",
      "text/plain": [
       "<Figure size 432x288 with 1 Axes>"
      ]
     },
     "metadata": {
      "needs_background": "light"
     },
     "output_type": "display_data"
    }
   ],
   "source": [
    "# Уберем выбросы и построим график\n",
    "\n",
    "df = df[df.freetime > 1]\n",
    "df.boxplot(column='score', by='freetime')"
   ]
  },
  {
   "cell_type": "code",
   "execution_count": 99,
   "metadata": {},
   "outputs": [
    {
     "name": "stdout",
     "output_type": "stream",
     "text": [
      "Спирмен p_value = 0.42479412633666336\n"
     ]
    }
   ],
   "source": [
    "# Проверим статистику по Спирмену (так как шкальный интервал)\n",
    "\n",
    "print('Спирмен p_value =',spearmanr(df.freetime, df.score)[1])"
   ]
  },
  {
   "cell_type": "code",
   "execution_count": 100,
   "metadata": {},
   "outputs": [],
   "source": [
    "# Результат совпадает с графиком: объем свободного времени не влияет на оценки\n",
    "# Удалим столбец\n",
    "\n",
    "drop('freetime')"
   ]
  },
  {
   "cell_type": "markdown",
   "metadata": {},
   "source": [
    "### Вывод для freetime: количество свободного времени не влияет на оценки "
   ]
  },
  {
   "cell_type": "markdown",
   "metadata": {},
   "source": [
    "### Столбец goout "
   ]
  },
  {
   "cell_type": "code",
   "execution_count": 101,
   "metadata": {},
   "outputs": [
    {
     "name": "stdout",
     "output_type": "stream",
     "text": [
      "Уникальных значений goout: 5\n",
      "Незаполненных значений goout: 6\n"
     ]
    },
    {
     "data": {
      "text/html": [
       "<div>\n",
       "<style scoped>\n",
       "    .dataframe tbody tr th:only-of-type {\n",
       "        vertical-align: middle;\n",
       "    }\n",
       "\n",
       "    .dataframe tbody tr th {\n",
       "        vertical-align: top;\n",
       "    }\n",
       "\n",
       "    .dataframe thead th {\n",
       "        text-align: right;\n",
       "    }\n",
       "</style>\n",
       "<table border=\"1\" class=\"dataframe\">\n",
       "  <thead>\n",
       "    <tr style=\"text-align: right;\">\n",
       "      <th></th>\n",
       "      <th>goout</th>\n",
       "    </tr>\n",
       "  </thead>\n",
       "  <tbody>\n",
       "    <tr>\n",
       "      <th>3.0</th>\n",
       "      <td>118</td>\n",
       "    </tr>\n",
       "    <tr>\n",
       "      <th>2.0</th>\n",
       "      <td>92</td>\n",
       "    </tr>\n",
       "    <tr>\n",
       "      <th>4.0</th>\n",
       "      <td>74</td>\n",
       "    </tr>\n",
       "    <tr>\n",
       "      <th>5.0</th>\n",
       "      <td>43</td>\n",
       "    </tr>\n",
       "    <tr>\n",
       "      <th>1.0</th>\n",
       "      <td>19</td>\n",
       "    </tr>\n",
       "  </tbody>\n",
       "</table>\n",
       "</div>"
      ],
      "text/plain": [
       "     goout\n",
       "3.0    118\n",
       "2.0     92\n",
       "4.0     74\n",
       "5.0     43\n",
       "1.0     19"
      ]
     },
     "execution_count": 101,
     "metadata": {},
     "output_type": "execute_result"
    }
   ],
   "source": [
    "# goout\n",
    "# Проверим уникальные и пустые значения\n",
    "\n",
    "print('Уникальных значений goout: ' + str(stud.goout.nunique()))\n",
    "print('Незаполненных значений goout: ' + str(len(stud[stud.goout.isnull()].goout.index)))\n",
    "pd.DataFrame(stud.goout.value_counts())"
   ]
  },
  {
   "cell_type": "code",
   "execution_count": 102,
   "metadata": {},
   "outputs": [
    {
     "name": "stdout",
     "output_type": "stream",
     "text": [
      "Количество выбросов: 0\n"
     ]
    },
    {
     "data": {
      "text/plain": [
       "Series([], Name: goout, dtype: float64)"
      ]
     },
     "metadata": {},
     "output_type": "display_data"
    }
   ],
   "source": [
    "# Уберем NaN и проверим на выбросы\n",
    "\n",
    "df = stud[stud.goout > 0]\n",
    "\n",
    "out = get_outlier(df,'goout')\n",
    "print('Количество выбросов:', out.count())\n",
    "display(out.head(10))"
   ]
  },
  {
   "cell_type": "code",
   "execution_count": 103,
   "metadata": {},
   "outputs": [
    {
     "data": {
      "text/plain": [
       "<matplotlib.axes._subplots.AxesSubplot at 0x2440a6324c8>"
      ]
     },
     "execution_count": 103,
     "metadata": {},
     "output_type": "execute_result"
    },
    {
     "data": {
      "image/png": "[encoded data removed]",
      "text/plain": [
       "<Figure size 432x288 with 1 Axes>"
      ]
     },
     "metadata": {
      "needs_background": "light"
     },
     "output_type": "display_data"
    }
   ],
   "source": [
    "# Построим график\n",
    "\n",
    "df.boxplot(column='score', by='goout')"
   ]
  },
  {
   "cell_type": "code",
   "execution_count": 104,
   "metadata": {},
   "outputs": [
    {
     "name": "stdout",
     "output_type": "stream",
     "text": [
      "Спирмен p_value = 0.0004028891842706913\n"
     ]
    }
   ],
   "source": [
    "# Если слишком много времени проводить с друзьями, то оценки снижаются.\n",
    "# Но и полное игнорирование друзей (значение = 1.0) тоже снижает оценки.\n",
    "\n",
    "# Проверим статистику по Спирмену (так как шкальный интервал)\n",
    "\n",
    "print('Спирмен p_value =',spearmanr(df.goout, df.score)[1])"
   ]
  },
  {
   "cell_type": "code",
   "execution_count": 105,
   "metadata": {},
   "outputs": [
    {
     "data": {
      "text/plain": [
       "array([[ 1.        ,  0.10781754, -0.04216901, -0.06596497, -0.22786668],\n",
       "       [ 0.10781754,  1.        , -0.13591798, -0.09244826, -0.01482561],\n",
       "       [-0.04216901, -0.13591798,  1.        , -0.01834493,  0.30278379],\n",
       "       [-0.06596497, -0.09244826, -0.01834493,  1.        ,  0.05008533],\n",
       "       [-0.22786668, -0.01482561,  0.30278379,  0.05008533,  1.        ]])"
      ]
     },
     "execution_count": 105,
     "metadata": {},
     "output_type": "execute_result"
    }
   ],
   "source": [
    "# Корреляционный тест подтвердил значимость свободного времени для оценок (p_value < 0.05)\n",
    "\n",
    "# Интересно узнать зависимость между свободным временем, временем на дорогу, временем для друзей и временем на учебу\n",
    "# Сравним значения столбцов\n",
    "df = stud[(stud.score > 0) & (~stud.studytime.isnull()) & (~stud.freetime.isnull()) \n",
    "          & (~stud.traveltime.isnull()) & (~stud.goout.isnull())]\n",
    "np.corrcoef([df['score'], df['studytime'], df['freetime'], df['traveltime'], df['goout']])"
   ]
  },
  {
   "cell_type": "code",
   "execution_count": 89,
   "metadata": {},
   "outputs": [],
   "source": [
    "# Корреляция присутствует, хоть и слабая. Чем меньше времени на дорогу или на свободные занятия или на друзей, \n",
    "# тем больше времени на учебу и лучше оценки.\n",
    "# Больше всего влияет на оценки излишне свободное время (оно не тратится на уроки).\n",
    "# Хорошо видно, что свободное время часто тратится на друзей (самая сильная корреляция в матрице)."
   ]
  },
  {
   "cell_type": "markdown",
   "metadata": {},
   "source": [
    "### Вывод для goout: время, которое тратится на общение с друзьями, значимо для оценок"
   ]
  },
  {
   "cell_type": "markdown",
   "metadata": {},
   "source": [
    "### Столбец health "
   ]
  },
  {
   "cell_type": "code",
   "execution_count": 107,
   "metadata": {},
   "outputs": [
    {
     "name": "stdout",
     "output_type": "stream",
     "text": [
      "Уникальных значений health: 5\n",
      "Незаполненных значений health: 13\n"
     ]
    },
    {
     "data": {
      "text/html": [
       "<div>\n",
       "<style scoped>\n",
       "    .dataframe tbody tr th:only-of-type {\n",
       "        vertical-align: middle;\n",
       "    }\n",
       "\n",
       "    .dataframe tbody tr th {\n",
       "        vertical-align: top;\n",
       "    }\n",
       "\n",
       "    .dataframe thead th {\n",
       "        text-align: right;\n",
       "    }\n",
       "</style>\n",
       "<table border=\"1\" class=\"dataframe\">\n",
       "  <thead>\n",
       "    <tr style=\"text-align: right;\">\n",
       "      <th></th>\n",
       "      <th>health</th>\n",
       "    </tr>\n",
       "  </thead>\n",
       "  <tbody>\n",
       "    <tr>\n",
       "      <th>5.0</th>\n",
       "      <td>124</td>\n",
       "    </tr>\n",
       "    <tr>\n",
       "      <th>3.0</th>\n",
       "      <td>81</td>\n",
       "    </tr>\n",
       "    <tr>\n",
       "      <th>4.0</th>\n",
       "      <td>53</td>\n",
       "    </tr>\n",
       "    <tr>\n",
       "      <th>1.0</th>\n",
       "      <td>45</td>\n",
       "    </tr>\n",
       "    <tr>\n",
       "      <th>2.0</th>\n",
       "      <td>36</td>\n",
       "    </tr>\n",
       "  </tbody>\n",
       "</table>\n",
       "</div>"
      ],
      "text/plain": [
       "     health\n",
       "5.0     124\n",
       "3.0      81\n",
       "4.0      53\n",
       "1.0      45\n",
       "2.0      36"
      ]
     },
     "execution_count": 107,
     "metadata": {},
     "output_type": "execute_result"
    }
   ],
   "source": [
    "# health\n",
    "# Проверим уникальные и пустые значения\n",
    "\n",
    "print('Уникальных значений health: ' + str(stud.health.nunique()))\n",
    "print('Незаполненных значений health: ' + str(len(stud[stud.health.isnull()].health.index)))\n",
    "pd.DataFrame(stud.health.value_counts())"
   ]
  },
  {
   "cell_type": "code",
   "execution_count": 108,
   "metadata": {},
   "outputs": [
    {
     "name": "stdout",
     "output_type": "stream",
     "text": [
      "Количество выбросов: 0\n"
     ]
    },
    {
     "data": {
      "text/plain": [
       "Series([], Name: health, dtype: float64)"
      ]
     },
     "metadata": {},
     "output_type": "display_data"
    }
   ],
   "source": [
    "# Уберем NaN и проверим на выбросы\n",
    "\n",
    "df = stud[stud.health > 0]\n",
    "\n",
    "out = get_outlier(df,'health')\n",
    "print('Количество выбросов:', out.count())\n",
    "display(out.head(10))"
   ]
  },
  {
   "cell_type": "code",
   "execution_count": 109,
   "metadata": {},
   "outputs": [
    {
     "data": {
      "text/plain": [
       "<matplotlib.axes._subplots.AxesSubplot at 0x2440a7895c8>"
      ]
     },
     "execution_count": 109,
     "metadata": {},
     "output_type": "execute_result"
    },
    {
     "data": {
      "image/png": "[encoded data removed]",
      "text/plain": [
       "<Figure size 432x288 with 1 Axes>"
      ]
     },
     "metadata": {
      "needs_background": "light"
     },
     "output_type": "display_data"
    }
   ],
   "source": [
    "# Построим график\n",
    "\n",
    "df.boxplot(column='score', by='health')"
   ]
  },
  {
   "cell_type": "code",
   "execution_count": 110,
   "metadata": {},
   "outputs": [
    {
     "data": {
      "text/plain": [
       "<matplotlib.axes._subplots.AxesSubplot at 0x2440a862888>"
      ]
     },
     "execution_count": 110,
     "metadata": {},
     "output_type": "execute_result"
    },
    {
     "data": {
      "image/png": "[encoded data removed]",
      "text/plain": [
       "<Figure size 432x288 with 1 Axes>"
      ]
     },
     "metadata": {
      "needs_background": "light"
     },
     "output_type": "display_data"
    }
   ],
   "source": [
    "# Удалим выбросы у значения 3.0 и построим график средних\n",
    "\n",
    "df = df[~((df.score>80) & (df.health==3))]\n",
    "df.groupby(by = ['health'])['score'].mean().plot(kind = 'bar', grid= True)"
   ]
  },
  {
   "cell_type": "code",
   "execution_count": 112,
   "metadata": {},
   "outputs": [
    {
     "name": "stdout",
     "output_type": "stream",
     "text": [
      "Спирмен p_value = 0.425447522004362\n"
     ]
    }
   ],
   "source": [
    "# Столбец влияет на оценки, но не однозначно.\n",
    "# Если слабое здоровье, то ученик компенсирует его за счет более усердной учебы, и оценки улучшаются.\n",
    "# Если отличное здоровье, то некоторые ученики имеют хорошие оценки за счет здоровья,\n",
    "# а некоторые слишком много времени резвятся и плюют на учебу.\n",
    "\n",
    "# Проверим статистику\n",
    "\n",
    "print('Спирмен p_value =',spearmanr(df.health, df.score)[1])"
   ]
  },
  {
   "cell_type": "code",
   "execution_count": 114,
   "metadata": {},
   "outputs": [],
   "source": [
    "# Снова можно выделить две группы: слабое и сильное здоровье\n",
    "\n",
    "stud['gr_health'] = stud.health.apply(lambda x: None if x is None else 0 if x<3 else 1)\n",
    "df = stud[stud.health >= 0]"
   ]
  },
  {
   "cell_type": "code",
   "execution_count": 115,
   "metadata": {},
   "outputs": [
    {
     "data": {
      "text/plain": [
       "<matplotlib.axes._subplots.AxesSubplot at 0x2440a8cc608>"
      ]
     },
     "execution_count": 115,
     "metadata": {},
     "output_type": "execute_result"
    },
    {
     "data": {
      "image/png": "[encoded data removed]",
      "text/plain": [
       "<Figure size 432x288 with 1 Axes>"
      ]
     },
     "metadata": {
      "needs_background": "light"
     },
     "output_type": "display_data"
    }
   ],
   "source": [
    "# Построим график для групп\n",
    "\n",
    "df.boxplot(column='score', by='gr_health')"
   ]
  },
  {
   "cell_type": "code",
   "execution_count": 116,
   "metadata": {},
   "outputs": [
    {
     "name": "stdout",
     "output_type": "stream",
     "text": [
      "Спирмен p_value = 0.024700255432963582\n"
     ]
    }
   ],
   "source": [
    "# Проверим статистику\n",
    "\n",
    "print('Спирмен p_value =',spearmanr(df.gr_health, df.score)[1])"
   ]
  },
  {
   "cell_type": "code",
   "execution_count": 117,
   "metadata": {},
   "outputs": [],
   "source": [
    "# p_value < 0.05, что означает - группы здоровья статистически значимы для оценок\n",
    "# Конкретные степени здоровья влияют меньше, чем просто градация \"Слабое/Крепкое\"\n",
    "# Удалим столбец health и оставим группы здровья\n",
    "\n",
    "drop('health')"
   ]
  },
  {
   "cell_type": "markdown",
   "metadata": {},
   "source": [
    "### Вывод для health: на оценки влияют укрупненные группы здоровья "
   ]
  },
  {
   "cell_type": "markdown",
   "metadata": {},
   "source": [
    "### Столбец absences "
   ]
  },
  {
   "cell_type": "code",
   "execution_count": 118,
   "metadata": {},
   "outputs": [
    {
     "name": "stdout",
     "output_type": "stream",
     "text": [
      "Уникальных значений absences: 36\n",
      "Незаполненных значений absences: 10\n"
     ]
    },
    {
     "data": {
      "text/html": [
       "<div>\n",
       "<style scoped>\n",
       "    .dataframe tbody tr th:only-of-type {\n",
       "        vertical-align: middle;\n",
       "    }\n",
       "\n",
       "    .dataframe tbody tr th {\n",
       "        vertical-align: top;\n",
       "    }\n",
       "\n",
       "    .dataframe thead th {\n",
       "        text-align: right;\n",
       "    }\n",
       "</style>\n",
       "<table border=\"1\" class=\"dataframe\">\n",
       "  <thead>\n",
       "    <tr style=\"text-align: right;\">\n",
       "      <th></th>\n",
       "      <th>absences</th>\n",
       "    </tr>\n",
       "  </thead>\n",
       "  <tbody>\n",
       "    <tr>\n",
       "      <th>0.0</th>\n",
       "      <td>74</td>\n",
       "    </tr>\n",
       "    <tr>\n",
       "      <th>2.0</th>\n",
       "      <td>60</td>\n",
       "    </tr>\n",
       "    <tr>\n",
       "      <th>4.0</th>\n",
       "      <td>52</td>\n",
       "    </tr>\n",
       "    <tr>\n",
       "      <th>6.0</th>\n",
       "      <td>30</td>\n",
       "    </tr>\n",
       "    <tr>\n",
       "      <th>8.0</th>\n",
       "      <td>20</td>\n",
       "    </tr>\n",
       "    <tr>\n",
       "      <th>10.0</th>\n",
       "      <td>17</td>\n",
       "    </tr>\n",
       "    <tr>\n",
       "      <th>12.0</th>\n",
       "      <td>12</td>\n",
       "    </tr>\n",
       "    <tr>\n",
       "      <th>14.0</th>\n",
       "      <td>12</td>\n",
       "    </tr>\n",
       "    <tr>\n",
       "      <th>3.0</th>\n",
       "      <td>7</td>\n",
       "    </tr>\n",
       "    <tr>\n",
       "      <th>16.0</th>\n",
       "      <td>7</td>\n",
       "    </tr>\n",
       "  </tbody>\n",
       "</table>\n",
       "</div>"
      ],
      "text/plain": [
       "      absences\n",
       "0.0         74\n",
       "2.0         60\n",
       "4.0         52\n",
       "6.0         30\n",
       "8.0         20\n",
       "10.0        17\n",
       "12.0        12\n",
       "14.0        12\n",
       "3.0          7\n",
       "16.0         7"
      ]
     },
     "execution_count": 118,
     "metadata": {},
     "output_type": "execute_result"
    }
   ],
   "source": [
    "# absences\n",
    "# Проверим уникальные и пустые значения\n",
    "\n",
    "print('Уникальных значений absences: ' + str(stud.absences.nunique()))\n",
    "print('Незаполненных значений absences: ' + str(len(stud[stud.absences.isnull()].absences.index)))\n",
    "pd.DataFrame(stud.absences.value_counts()).head(10)"
   ]
  },
  {
   "cell_type": "code",
   "execution_count": 119,
   "metadata": {},
   "outputs": [
    {
     "name": "stdout",
     "output_type": "stream",
     "text": [
      "Количество выбросов: 17\n"
     ]
    },
    {
     "data": {
      "text/plain": [
       "40      25.0\n",
       "74      54.0\n",
       "103     26.0\n",
       "183     56.0\n",
       "198     24.0\n",
       "205     28.0\n",
       "216     22.0\n",
       "222    385.0\n",
       "260     21.0\n",
       "276     75.0\n",
       "277     22.0\n",
       "280     30.0\n",
       "307     38.0\n",
       "313     22.0\n",
       "315     40.0\n",
       "320     23.0\n",
       "390    212.0\n",
       "Name: absences, dtype: float64"
      ]
     },
     "metadata": {},
     "output_type": "display_data"
    }
   ],
   "source": [
    "# Уберем NaN и проверим на выбросы\n",
    "\n",
    "df = stud[stud.absences > 0]\n",
    "\n",
    "out = get_outlier(df,'absences')\n",
    "print('Количество выбросов:', out.count())\n",
    "display(out)"
   ]
  },
  {
   "cell_type": "code",
   "execution_count": 120,
   "metadata": {},
   "outputs": [],
   "source": [
    "# Удалим выбросы\n",
    "df = df[~(df.absences.isin(out.tolist()))]"
   ]
  },
  {
   "cell_type": "code",
   "execution_count": 121,
   "metadata": {},
   "outputs": [
    {
     "data": {
      "text/plain": [
       "<matplotlib.axes._subplots.AxesSubplot at 0x24400ba47c8>"
      ]
     },
     "execution_count": 121,
     "metadata": {},
     "output_type": "execute_result"
    },
    {
     "data": {
      "image/png": "[encoded data removed]",
      "text/plain": [
       "<Figure size 432x288 with 1 Axes>"
      ]
     },
     "metadata": {
      "needs_background": "light"
     },
     "output_type": "display_data"
    }
   ],
   "source": [
    "# Посмотрим, как значения распределяются\n",
    "\n",
    "df.absences.plot(kind = 'hist', grid = True, bins=(df.absences.nunique()*2 - 1))"
   ]
  },
  {
   "cell_type": "code",
   "execution_count": 122,
   "metadata": {},
   "outputs": [
    {
     "name": "stdout",
     "output_type": "stream",
     "text": [
      "Количество выбросов: 22\n"
     ]
    },
    {
     "data": {
      "text/plain": [
       "40      26.0\n",
       "74      54.0\n",
       "103     26.0\n",
       "118     20.0\n",
       "183     56.0\n",
       "198     24.0\n",
       "205     28.0\n",
       "216     22.0\n",
       "222    386.0\n",
       "237     20.0\n",
       "260     22.0\n",
       "276     76.0\n",
       "277     22.0\n",
       "280     30.0\n",
       "281     20.0\n",
       "304     20.0\n",
       "307     38.0\n",
       "311     20.0\n",
       "313     22.0\n",
       "315     40.0\n",
       "320     24.0\n",
       "390    212.0\n",
       "Name: absences, dtype: float64"
      ]
     },
     "metadata": {},
     "output_type": "display_data"
    }
   ],
   "source": [
    "# Видно, что нечетные значения как бы проваливаются между четными.\n",
    "# Соединим нечетные значения с ближайшим большим четным и снова найдем выбросы.\n",
    "\n",
    "stud.absences = stud.absences.apply(lambda x: x+1 if x%2==1 else x)\n",
    "\n",
    "df = stud[stud.absences > 0]\n",
    "\n",
    "out = get_outlier(df,'absences')\n",
    "print('Количество выбросов:', out.count())\n",
    "display(out)"
   ]
  },
  {
   "cell_type": "code",
   "execution_count": 124,
   "metadata": {},
   "outputs": [
    {
     "data": {
      "text/plain": [
       "<matplotlib.axes._subplots.AxesSubplot at 0x2440aae0d08>"
      ]
     },
     "execution_count": 124,
     "metadata": {},
     "output_type": "execute_result"
    },
    {
     "data": {
      "image/png": "[encoded data removed]",
      "text/plain": [
       "<Figure size 432x288 with 1 Axes>"
      ]
     },
     "metadata": {
      "needs_background": "light"
     },
     "output_type": "display_data"
    }
   ],
   "source": [
    "# Снова построим график\n",
    "\n",
    "df = df[~(df.absences.isin(out.tolist()))]\n",
    "df.absences.plot(kind = 'hist', grid = True, bins=(df.absences.nunique()*2 - 1))"
   ]
  },
  {
   "cell_type": "code",
   "execution_count": 126,
   "metadata": {},
   "outputs": [
    {
     "data": {
      "text/plain": [
       "<matplotlib.axes._subplots.AxesSubplot at 0x2440abb4cc8>"
      ]
     },
     "execution_count": 126,
     "metadata": {},
     "output_type": "execute_result"
    },
    {
     "data": {
      "image/png": "[encoded data removed]",
      "text/plain": [
       "<Figure size 432x288 with 1 Axes>"
      ]
     },
     "metadata": {
      "needs_background": "light"
     },
     "output_type": "display_data"
    }
   ],
   "source": [
    "# Получилась половинка нормального распределения\n",
    "# Посмотрим на box-графики\n",
    "\n",
    "df.boxplot(column='score', by='absences')"
   ]
  },
  {
   "cell_type": "code",
   "execution_count": 128,
   "metadata": {},
   "outputs": [
    {
     "name": "stdout",
     "output_type": "stream",
     "text": [
      "Пирсон p_value = 0.001508291989465615\n"
     ]
    }
   ],
   "source": [
    "# Видно, что чем больше пропусков, тем приблизительно ниже оценки.\n",
    "# Удалим выбросы у значения 12.0 и проверим корреляцию по Пирсону, так как у нас непрерывный, а не шкальный интервал\n",
    "\n",
    "df = df[~((df.score<30) & (df.absences==12))]\n",
    "print('Пирсон p_value =',pearsonr(df.absences, df.score)[1])"
   ]
  },
  {
   "cell_type": "code",
   "execution_count": 108,
   "metadata": {},
   "outputs": [],
   "source": [
    "# P_value < 0.05, что означает статистическую значимость пропусков для оценок"
   ]
  },
  {
   "cell_type": "markdown",
   "metadata": {},
   "source": [
    "### Вывод для absences: пропуски влияют на оценки "
   ]
  },
  {
   "cell_type": "markdown",
   "metadata": {},
   "source": [
    "# Анализ номинативных столбцов"
   ]
  },
  {
   "cell_type": "markdown",
   "metadata": {},
   "source": [
    "### Столбец school"
   ]
  },
  {
   "cell_type": "code",
   "execution_count": 129,
   "metadata": {},
   "outputs": [
    {
     "name": "stdout",
     "output_type": "stream",
     "text": [
      "Уникальных значений school: 2\n",
      "Незаполненных значений school: 0\n"
     ]
    },
    {
     "data": {
      "text/html": [
       "<div>\n",
       "<style scoped>\n",
       "    .dataframe tbody tr th:only-of-type {\n",
       "        vertical-align: middle;\n",
       "    }\n",
       "\n",
       "    .dataframe tbody tr th {\n",
       "        vertical-align: top;\n",
       "    }\n",
       "\n",
       "    .dataframe thead th {\n",
       "        text-align: right;\n",
       "    }\n",
       "</style>\n",
       "<table border=\"1\" class=\"dataframe\">\n",
       "  <thead>\n",
       "    <tr style=\"text-align: right;\">\n",
       "      <th></th>\n",
       "      <th>school</th>\n",
       "    </tr>\n",
       "  </thead>\n",
       "  <tbody>\n",
       "    <tr>\n",
       "      <th>GP</th>\n",
       "      <td>311</td>\n",
       "    </tr>\n",
       "    <tr>\n",
       "      <th>MS</th>\n",
       "      <td>41</td>\n",
       "    </tr>\n",
       "  </tbody>\n",
       "</table>\n",
       "</div>"
      ],
      "text/plain": [
       "    school\n",
       "GP     311\n",
       "MS      41"
      ]
     },
     "execution_count": 129,
     "metadata": {},
     "output_type": "execute_result"
    }
   ],
   "source": [
    "# school\n",
    "# Проверим уникальные и пустые значения\n",
    "\n",
    "print('Уникальных значений school: ' + str(stud.school.nunique()))\n",
    "print('Незаполненных значений school: ' + str(len(stud[stud.school.isnull()].school.index)))\n",
    "pd.DataFrame(stud.school.value_counts())"
   ]
  },
  {
   "cell_type": "code",
   "execution_count": 130,
   "metadata": {},
   "outputs": [
    {
     "data": {
      "text/plain": [
       "<matplotlib.axes._subplots.AxesSubplot at 0x2440ade5148>"
      ]
     },
     "execution_count": 130,
     "metadata": {},
     "output_type": "execute_result"
    },
    {
     "data": {
      "image/png": "[encoded data removed]",
      "text/plain": [
       "<Figure size 432x288 with 1 Axes>"
      ]
     },
     "metadata": {
      "needs_background": "light"
     },
     "output_type": "display_data"
    }
   ],
   "source": [
    "# Все данные по школам заполнены, пустых значений нет\n",
    "# Проверим распределение на графике\n",
    "\n",
    "stud.boxplot(column='score', by='school')"
   ]
  },
  {
   "cell_type": "code",
   "execution_count": 132,
   "metadata": {},
   "outputs": [
    {
     "name": "stdout",
     "output_type": "stream",
     "text": [
      "Для порога 0.05 по критерию Стьюдента значимости нет: min(p_value) = 0.14278913636690213\n",
      "Для порога 0.05 по критерию Манна-Уитни значимости нет: min(p_value) = 0.06769027331611666\n"
     ]
    }
   ],
   "source": [
    "# Видно, что в одной школе оценки в среднем выше и размах выше. \n",
    "# Это соответствует здравому смыслу: бывают сильные и бывают слабые школы.\n",
    "# Тем не менее, проверим статистически зависимость, \n",
    "# построив нулевую гипотезу: распределение двух выборок оценок по разным школам не отличается.\n",
    "# В обеих выборках > 30 человек, поэтому можно проверять статистику.\n",
    "\n",
    "# Проверим двумя критериями: Стьюдента (для нормального распределения) и Манна-Уитни (для не нормального)\n",
    "# Так как у нас распределение лишь условно нормальное, попробуем проверить оба критерия.\n",
    "\n",
    "print(get_stat_dif(stud, 'school', 'score', True))\n",
    "print(get_stat_dif(stud, 'school', 'score', False))"
   ]
  },
  {
   "cell_type": "code",
   "execution_count": 133,
   "metadata": {},
   "outputs": [],
   "source": [
    "# Так как полученное p_value > 0.05, можно считать, что все-таки нулевая гипотеза не отвергается,\n",
    "# и от школы оценки не зависят. Столбец school можно удалить.\n",
    "\n",
    "drop('school')"
   ]
  },
  {
   "cell_type": "markdown",
   "metadata": {},
   "source": [
    "### Вывод для school: статистической значимости оценок от школы нет"
   ]
  },
  {
   "cell_type": "markdown",
   "metadata": {},
   "source": [
    "### Столбец sex"
   ]
  },
  {
   "cell_type": "code",
   "execution_count": 134,
   "metadata": {},
   "outputs": [
    {
     "name": "stdout",
     "output_type": "stream",
     "text": [
      "Уникальных значений sex: 2\n",
      "Незаполненных значений sex: 0\n"
     ]
    },
    {
     "data": {
      "text/html": [
       "<div>\n",
       "<style scoped>\n",
       "    .dataframe tbody tr th:only-of-type {\n",
       "        vertical-align: middle;\n",
       "    }\n",
       "\n",
       "    .dataframe tbody tr th {\n",
       "        vertical-align: top;\n",
       "    }\n",
       "\n",
       "    .dataframe thead th {\n",
       "        text-align: right;\n",
       "    }\n",
       "</style>\n",
       "<table border=\"1\" class=\"dataframe\">\n",
       "  <thead>\n",
       "    <tr style=\"text-align: right;\">\n",
       "      <th></th>\n",
       "      <th>sex</th>\n",
       "    </tr>\n",
       "  </thead>\n",
       "  <tbody>\n",
       "    <tr>\n",
       "      <th>F</th>\n",
       "      <td>182</td>\n",
       "    </tr>\n",
       "    <tr>\n",
       "      <th>M</th>\n",
       "      <td>170</td>\n",
       "    </tr>\n",
       "  </tbody>\n",
       "</table>\n",
       "</div>"
      ],
      "text/plain": [
       "   sex\n",
       "F  182\n",
       "M  170"
      ]
     },
     "execution_count": 134,
     "metadata": {},
     "output_type": "execute_result"
    }
   ],
   "source": [
    "# sex\n",
    "# Проверим уникальные и пустые значения\n",
    "\n",
    "print('Уникальных значений sex: ' + str(stud.sex.nunique()))\n",
    "print('Незаполненных значений sex: ' + str(len(stud[stud.sex.isnull()].sex.index)))\n",
    "pd.DataFrame(stud.sex.value_counts())"
   ]
  },
  {
   "cell_type": "code",
   "execution_count": 135,
   "metadata": {},
   "outputs": [
    {
     "data": {
      "text/plain": [
       "<matplotlib.axes._subplots.AxesSubplot at 0x2440ae738c8>"
      ]
     },
     "execution_count": 135,
     "metadata": {},
     "output_type": "execute_result"
    },
    {
     "data": {
      "image/png": "[encoded data removed]",
      "text/plain": [
       "<Figure size 432x288 with 1 Axes>"
      ]
     },
     "metadata": {
      "needs_background": "light"
     },
     "output_type": "display_data"
    }
   ],
   "source": [
    "# Пол указан у всех учеников, пустых значений нет\n",
    "# Проверим распределение на графике\n",
    "\n",
    "stud.boxplot(column='score', by='sex')"
   ]
  },
  {
   "cell_type": "code",
   "execution_count": 137,
   "metadata": {},
   "outputs": [
    {
     "name": "stdout",
     "output_type": "stream",
     "text": [
      "Для порога 0.05 по критерию Стьюдента значимости нет: min(p_value) = 0.05481629433224236\n",
      "Для порога 0.05 по критерию Манна-Уитни значимость есть: для ('F', 'M') p_value = 0.039994416374666206\n"
     ]
    }
   ],
   "source": [
    "# Визуально кажется, что оценки у мальчиков чуть выше, чем у девочек.\n",
    "# Проверим статистически эти различия двумя разными критериями\n",
    "\n",
    "print(get_stat_dif(stud, 'sex', 'score', True))\n",
    "print(get_stat_dif(stud, 'sex', 'score', False))"
   ]
  },
  {
   "cell_type": "code",
   "execution_count": 135,
   "metadata": {},
   "outputs": [],
   "source": [
    "# Тест Манна-Уитни сообщил, что значимые различия присутствуют.\n",
    "# Зависимость оценок от пола балансирует на грани 0.05\n",
    "# Возможно, по другим предметам оценки были бы независимы от пола, \n",
    "# но аналитический предмет (математика) юношам дается чуть лучше, чем девушкам"
   ]
  },
  {
   "cell_type": "markdown",
   "metadata": {},
   "source": [
    "### Вывод для sex: оценки очень слабо, но все же зависят от пола"
   ]
  },
  {
   "cell_type": "markdown",
   "metadata": {},
   "source": [
    "### Столбец address "
   ]
  },
  {
   "cell_type": "code",
   "execution_count": 138,
   "metadata": {},
   "outputs": [
    {
     "name": "stdout",
     "output_type": "stream",
     "text": [
      "Уникальных значений address: 2\n",
      "Незаполненных значений address: 14\n"
     ]
    },
    {
     "data": {
      "text/html": [
       "<div>\n",
       "<style scoped>\n",
       "    .dataframe tbody tr th:only-of-type {\n",
       "        vertical-align: middle;\n",
       "    }\n",
       "\n",
       "    .dataframe tbody tr th {\n",
       "        vertical-align: top;\n",
       "    }\n",
       "\n",
       "    .dataframe thead th {\n",
       "        text-align: right;\n",
       "    }\n",
       "</style>\n",
       "<table border=\"1\" class=\"dataframe\">\n",
       "  <thead>\n",
       "    <tr style=\"text-align: right;\">\n",
       "      <th></th>\n",
       "      <th>address</th>\n",
       "    </tr>\n",
       "  </thead>\n",
       "  <tbody>\n",
       "    <tr>\n",
       "      <th>U</th>\n",
       "      <td>265</td>\n",
       "    </tr>\n",
       "    <tr>\n",
       "      <th>R</th>\n",
       "      <td>73</td>\n",
       "    </tr>\n",
       "  </tbody>\n",
       "</table>\n",
       "</div>"
      ],
      "text/plain": [
       "   address\n",
       "U      265\n",
       "R       73"
      ]
     },
     "execution_count": 138,
     "metadata": {},
     "output_type": "execute_result"
    }
   ],
   "source": [
    "# address\n",
    "# Проверим уникальные и пустые значения\n",
    "\n",
    "print('Уникальных значений address: ' + str(stud.address.nunique()))\n",
    "print('Незаполненных значений address: ' + str(len(stud[stud.address.isnull()].address.index)))\n",
    "pd.DataFrame(stud.address.value_counts())"
   ]
  },
  {
   "cell_type": "code",
   "execution_count": 139,
   "metadata": {},
   "outputs": [],
   "source": [
    "# Удалим строки с пустыми адресами\n",
    "\n",
    "df = stud[~stud.address.isnull()]"
   ]
  },
  {
   "cell_type": "code",
   "execution_count": 140,
   "metadata": {},
   "outputs": [
    {
     "data": {
      "text/plain": [
       "<matplotlib.axes._subplots.AxesSubplot at 0x2440aefd288>"
      ]
     },
     "execution_count": 140,
     "metadata": {},
     "output_type": "execute_result"
    },
    {
     "data": {
      "image/png": "[encoded data removed]",
      "text/plain": [
       "<Figure size 432x288 with 1 Axes>"
      ]
     },
     "metadata": {
      "needs_background": "light"
     },
     "output_type": "display_data"
    }
   ],
   "source": [
    "# Проверим распределение на графике\n",
    "\n",
    "df.boxplot(column='score', by='address')"
   ]
  },
  {
   "cell_type": "code",
   "execution_count": 141,
   "metadata": {},
   "outputs": [
    {
     "name": "stdout",
     "output_type": "stream",
     "text": [
      "Для порога 0.05 по критерию Стьюдента значимость есть: для ('U', 'R') p_value = 0.010954630500627841\n",
      "Для порога 0.05 по критерию Манна-Уитни значимость есть: для ('U', 'R') p_value = 0.005797249695971091\n"
     ]
    }
   ],
   "source": [
    "# Визуально кажется, что у городских учеников оценки повыше\n",
    "# Проверим разными тестами статистическую значимость \n",
    "\n",
    "print(get_stat_dif(df, 'address', 'score', True))\n",
    "print(get_stat_dif(df, 'address', 'score', False))"
   ]
  },
  {
   "cell_type": "code",
   "execution_count": 140,
   "metadata": {},
   "outputs": [],
   "source": [
    "# Оба теста показали маленькое значение p_value < 0.05.\n",
    "# Значит, от места проживания оценки зависят. \n",
    "# У сельских учеников, вероятно, больше дел по хозяйству и меньше мотивации."
   ]
  },
  {
   "cell_type": "markdown",
   "metadata": {},
   "source": [
    "### Вывод для address: оценки зависят от места проживания "
   ]
  },
  {
   "cell_type": "markdown",
   "metadata": {},
   "source": [
    "### Столбец famsize"
   ]
  },
  {
   "cell_type": "code",
   "execution_count": 142,
   "metadata": {},
   "outputs": [
    {
     "name": "stdout",
     "output_type": "stream",
     "text": [
      "Уникальных значений famsize: 2\n",
      "Незаполненных значений famsize: 24\n"
     ]
    },
    {
     "data": {
      "text/html": [
       "<div>\n",
       "<style scoped>\n",
       "    .dataframe tbody tr th:only-of-type {\n",
       "        vertical-align: middle;\n",
       "    }\n",
       "\n",
       "    .dataframe tbody tr th {\n",
       "        vertical-align: top;\n",
       "    }\n",
       "\n",
       "    .dataframe thead th {\n",
       "        text-align: right;\n",
       "    }\n",
       "</style>\n",
       "<table border=\"1\" class=\"dataframe\">\n",
       "  <thead>\n",
       "    <tr style=\"text-align: right;\">\n",
       "      <th></th>\n",
       "      <th>famsize</th>\n",
       "    </tr>\n",
       "  </thead>\n",
       "  <tbody>\n",
       "    <tr>\n",
       "      <th>GT3</th>\n",
       "      <td>228</td>\n",
       "    </tr>\n",
       "    <tr>\n",
       "      <th>LE3</th>\n",
       "      <td>100</td>\n",
       "    </tr>\n",
       "  </tbody>\n",
       "</table>\n",
       "</div>"
      ],
      "text/plain": [
       "     famsize\n",
       "GT3      228\n",
       "LE3      100"
      ]
     },
     "execution_count": 142,
     "metadata": {},
     "output_type": "execute_result"
    }
   ],
   "source": [
    "# famsize\n",
    "# Проверим уникальные и пустые значения\n",
    "\n",
    "print('Уникальных значений famsize: ' + str(stud.famsize.nunique()))\n",
    "print('Незаполненных значений famsize: ' + str(len(stud[stud.famsize.isnull()].famsize.index)))\n",
    "pd.DataFrame(stud.famsize.value_counts())"
   ]
  },
  {
   "cell_type": "code",
   "execution_count": 143,
   "metadata": {},
   "outputs": [
    {
     "data": {
      "text/plain": [
       "<matplotlib.axes._subplots.AxesSubplot at 0x2440af85fc8>"
      ]
     },
     "execution_count": 143,
     "metadata": {},
     "output_type": "execute_result"
    },
    {
     "data": {
      "image/png": "[encoded data removed]",
      "text/plain": [
       "<Figure size 432x288 with 1 Axes>"
      ]
     },
     "metadata": {
      "needs_background": "light"
     },
     "output_type": "display_data"
    }
   ],
   "source": [
    "# Удалим строки с пустыми значениями и проверим распределение на графике\n",
    "\n",
    "df = stud[~stud.famsize.isnull()]\n",
    "df.boxplot(column='score', by='famsize')"
   ]
  },
  {
   "cell_type": "code",
   "execution_count": 144,
   "metadata": {},
   "outputs": [
    {
     "name": "stdout",
     "output_type": "stream",
     "text": [
      "Для порога 0.05 по критерию Стьюдента значимости нет: min(p_value) = 0.6456316209263082\n",
      "Для порога 0.05 по критерию Манна-Уитни значимости нет: min(p_value) = 0.36597811098233085\n"
     ]
    }
   ],
   "source": [
    "# Медианы и Q3 примерно равны. Но у малодетных оценки покомпактнее\n",
    "# Можно предположить, что в большой семье начинает работать естественный отбор:\n",
    "# сильные еще более закаляются, а слабые опускаются.\n",
    "# А в малодетной семье внимания к детям больше, и детей излишне опекают, но и не дают опуститься.\n",
    "\n",
    "# Проверим двумя критериями \n",
    "\n",
    "print(get_stat_dif(df, 'famsize', 'score', True))\n",
    "print(get_stat_dif(df, 'famsize', 'score', False))"
   ]
  },
  {
   "cell_type": "code",
   "execution_count": 145,
   "metadata": {},
   "outputs": [],
   "source": [
    "# Все тесты единодушны: p_value > 0.05 и размер семьи на оценки не влияет\n",
    "# Удалим столбец famsize\n",
    "\n",
    "drop('famsize')"
   ]
  },
  {
   "cell_type": "markdown",
   "metadata": {},
   "source": [
    "### Вывод для famsize: размер семьи на оценки не влияет"
   ]
  },
  {
   "cell_type": "markdown",
   "metadata": {},
   "source": [
    "### Столбец Pstatus"
   ]
  },
  {
   "cell_type": "code",
   "execution_count": 146,
   "metadata": {},
   "outputs": [
    {
     "name": "stdout",
     "output_type": "stream",
     "text": [
      "Уникальных значений Pstatus: 2\n",
      "Незаполненных значений Pstatus: 41\n"
     ]
    },
    {
     "data": {
      "text/html": [
       "<div>\n",
       "<style scoped>\n",
       "    .dataframe tbody tr th:only-of-type {\n",
       "        vertical-align: middle;\n",
       "    }\n",
       "\n",
       "    .dataframe tbody tr th {\n",
       "        vertical-align: top;\n",
       "    }\n",
       "\n",
       "    .dataframe thead th {\n",
       "        text-align: right;\n",
       "    }\n",
       "</style>\n",
       "<table border=\"1\" class=\"dataframe\">\n",
       "  <thead>\n",
       "    <tr style=\"text-align: right;\">\n",
       "      <th></th>\n",
       "      <th>Pstatus</th>\n",
       "    </tr>\n",
       "  </thead>\n",
       "  <tbody>\n",
       "    <tr>\n",
       "      <th>T</th>\n",
       "      <td>277</td>\n",
       "    </tr>\n",
       "    <tr>\n",
       "      <th>A</th>\n",
       "      <td>34</td>\n",
       "    </tr>\n",
       "  </tbody>\n",
       "</table>\n",
       "</div>"
      ],
      "text/plain": [
       "   Pstatus\n",
       "T      277\n",
       "A       34"
      ]
     },
     "execution_count": 146,
     "metadata": {},
     "output_type": "execute_result"
    }
   ],
   "source": [
    "# Pstatus\n",
    "# Проверим уникальные и пустые значения\n",
    "\n",
    "print('Уникальных значений Pstatus: ' + str(stud.Pstatus.nunique()))\n",
    "print('Незаполненных значений Pstatus: ' + str(len(stud[stud.Pstatus.isnull()].Pstatus.index)))\n",
    "pd.DataFrame(stud.Pstatus.value_counts())"
   ]
  },
  {
   "cell_type": "code",
   "execution_count": 147,
   "metadata": {},
   "outputs": [
    {
     "data": {
      "text/plain": [
       "<matplotlib.axes._subplots.AxesSubplot at 0x2440b012088>"
      ]
     },
     "execution_count": 147,
     "metadata": {},
     "output_type": "execute_result"
    },
    {
     "data": {
      "image/png": "[encoded data removed]",
      "text/plain": [
       "<Figure size 432x288 with 1 Axes>"
      ]
     },
     "metadata": {
      "needs_background": "light"
     },
     "output_type": "display_data"
    }
   ],
   "source": [
    "# Удалим строки с пустыми значениями и проверим распределение на графике\n",
    "\n",
    "df = stud[~stud.Pstatus.isnull()]\n",
    "df.boxplot(column='score', by='Pstatus')"
   ]
  },
  {
   "cell_type": "code",
   "execution_count": 149,
   "metadata": {},
   "outputs": [
    {
     "name": "stdout",
     "output_type": "stream",
     "text": [
      "Для порога 0.05 по критерию Стьюдента значимости нет: min(p_value) = 0.761856873862071\n",
      "Для порога 0.05 по критерию Манна-Уитни значимости нет: min(p_value) = 0.4519072193221277\n"
     ]
    }
   ],
   "source": [
    "# Визуально данные не сильно отличаются\n",
    "# Проверим двумя критериями \n",
    "\n",
    "print(get_stat_dif(df, 'Pstatus', 'score', True))\n",
    "print(get_stat_dif(df, 'Pstatus', 'score', False))"
   ]
  },
  {
   "cell_type": "code",
   "execution_count": 150,
   "metadata": {},
   "outputs": [],
   "source": [
    "# Все тесты единодушны: p_value > 0.05 (и даже близки к 1) и совместное проживание родителей на оценки не влияет\n",
    "# Удалим столбец Pstatus\n",
    "\n",
    "drop('Pstatus')"
   ]
  },
  {
   "cell_type": "markdown",
   "metadata": {},
   "source": [
    "### Вывод для Pstatus: совместное или раздельное проживание родителей на оценки не влияет "
   ]
  },
  {
   "cell_type": "markdown",
   "metadata": {},
   "source": [
    "### Столбец Mjob "
   ]
  },
  {
   "cell_type": "code",
   "execution_count": 151,
   "metadata": {},
   "outputs": [
    {
     "name": "stdout",
     "output_type": "stream",
     "text": [
      "Уникальных значений Mjob: 5\n",
      "Незаполненных значений Mjob: 17\n"
     ]
    },
    {
     "data": {
      "text/html": [
       "<div>\n",
       "<style scoped>\n",
       "    .dataframe tbody tr th:only-of-type {\n",
       "        vertical-align: middle;\n",
       "    }\n",
       "\n",
       "    .dataframe tbody tr th {\n",
       "        vertical-align: top;\n",
       "    }\n",
       "\n",
       "    .dataframe thead th {\n",
       "        text-align: right;\n",
       "    }\n",
       "</style>\n",
       "<table border=\"1\" class=\"dataframe\">\n",
       "  <thead>\n",
       "    <tr style=\"text-align: right;\">\n",
       "      <th></th>\n",
       "      <th>Mjob</th>\n",
       "    </tr>\n",
       "  </thead>\n",
       "  <tbody>\n",
       "    <tr>\n",
       "      <th>other</th>\n",
       "      <td>115</td>\n",
       "    </tr>\n",
       "    <tr>\n",
       "      <th>services</th>\n",
       "      <td>90</td>\n",
       "    </tr>\n",
       "    <tr>\n",
       "      <th>teacher</th>\n",
       "      <td>51</td>\n",
       "    </tr>\n",
       "    <tr>\n",
       "      <th>at_home</th>\n",
       "      <td>49</td>\n",
       "    </tr>\n",
       "    <tr>\n",
       "      <th>health</th>\n",
       "      <td>30</td>\n",
       "    </tr>\n",
       "  </tbody>\n",
       "</table>\n",
       "</div>"
      ],
      "text/plain": [
       "          Mjob\n",
       "other      115\n",
       "services    90\n",
       "teacher     51\n",
       "at_home     49\n",
       "health      30"
      ]
     },
     "execution_count": 151,
     "metadata": {},
     "output_type": "execute_result"
    }
   ],
   "source": [
    "# Mjob \n",
    "# Проверим уникальные и пустые значения\n",
    "\n",
    "print('Уникальных значений Mjob: ' + str(stud.Mjob.nunique()))\n",
    "print('Незаполненных значений Mjob: ' + str(len(stud[stud.Mjob.isnull()].Mjob.index)))\n",
    "pd.DataFrame(stud.Mjob.value_counts())"
   ]
  },
  {
   "cell_type": "code",
   "execution_count": 152,
   "metadata": {},
   "outputs": [
    {
     "data": {
      "text/plain": [
       "<matplotlib.axes._subplots.AxesSubplot at 0x2440b0a1ec8>"
      ]
     },
     "execution_count": 152,
     "metadata": {},
     "output_type": "execute_result"
    },
    {
     "data": {
      "image/png": "[encoded data removed]",
      "text/plain": [
       "<Figure size 432x288 with 1 Axes>"
      ]
     },
     "metadata": {
      "needs_background": "light"
     },
     "output_type": "display_data"
    }
   ],
   "source": [
    "# Удалим строки с пустыми значениями и проверим распределение на графике\n",
    "\n",
    "df = stud[~stud.Mjob.isnull()]\n",
    "df.boxplot(column='score', by='Mjob')"
   ]
  },
  {
   "cell_type": "code",
   "execution_count": 153,
   "metadata": {},
   "outputs": [
    {
     "name": "stdout",
     "output_type": "stream",
     "text": [
      "Для порога 0.005 по критерию Стьюдента значимость есть: для ('other', 'health') p_value = 0.0017949217915780725\n",
      "Для порога 0.005 по критерию Манна-Уитни значимость есть: для ('other', 'health') p_value = 0.0016007156420228517\n"
     ]
    }
   ],
   "source": [
    "# По графику видно, что оценки для разных групп профессий матерей отличаются\n",
    "# Проверим выборки двумя критериями \n",
    "\n",
    "print(get_stat_dif(df, 'Mjob', 'score', True))\n",
    "print(get_stat_dif(df, 'Mjob', 'score', False))"
   ]
  },
  {
   "cell_type": "code",
   "execution_count": 154,
   "metadata": {},
   "outputs": [
    {
     "data": {
      "text/plain": [
       "9.333363204656108e-17"
      ]
     },
     "execution_count": 154,
     "metadata": {},
     "output_type": "execute_result"
    }
   ],
   "source": [
    "# Тесты показывают значимость\n",
    "# Попробуем дополнительно проверить зависимость образования от группы профессий матерей\n",
    "\n",
    "df = df[df.Medu >= 0]\n",
    "spearmanr(df.Mjob, df.Medu)[1]"
   ]
  },
  {
   "cell_type": "code",
   "execution_count": 155,
   "metadata": {},
   "outputs": [],
   "source": [
    "# p_value почти равно нулю!\n",
    "# Скорее всего, профессия матери зависит от образования, и достаточно оставить один столбец - Medu\n",
    "# Но нет понимания, как именно влияет, поэтому оставим оба столбца"
   ]
  },
  {
   "cell_type": "markdown",
   "metadata": {},
   "source": [
    "### Вывод для столбца Mjob: он оказывает влияние на оценки"
   ]
  },
  {
   "cell_type": "markdown",
   "metadata": {},
   "source": [
    "### Столбец Fjob"
   ]
  },
  {
   "cell_type": "code",
   "execution_count": 156,
   "metadata": {},
   "outputs": [
    {
     "name": "stdout",
     "output_type": "stream",
     "text": [
      "Уникальных значений Fjob: 5\n",
      "Незаполненных значений Fjob: 32\n"
     ]
    },
    {
     "data": {
      "text/html": [
       "<div>\n",
       "<style scoped>\n",
       "    .dataframe tbody tr th:only-of-type {\n",
       "        vertical-align: middle;\n",
       "    }\n",
       "\n",
       "    .dataframe tbody tr th {\n",
       "        vertical-align: top;\n",
       "    }\n",
       "\n",
       "    .dataframe thead th {\n",
       "        text-align: right;\n",
       "    }\n",
       "</style>\n",
       "<table border=\"1\" class=\"dataframe\">\n",
       "  <thead>\n",
       "    <tr style=\"text-align: right;\">\n",
       "      <th></th>\n",
       "      <th>Fjob</th>\n",
       "    </tr>\n",
       "  </thead>\n",
       "  <tbody>\n",
       "    <tr>\n",
       "      <th>other</th>\n",
       "      <td>176</td>\n",
       "    </tr>\n",
       "    <tr>\n",
       "      <th>services</th>\n",
       "      <td>89</td>\n",
       "    </tr>\n",
       "    <tr>\n",
       "      <th>teacher</th>\n",
       "      <td>26</td>\n",
       "    </tr>\n",
       "    <tr>\n",
       "      <th>health</th>\n",
       "      <td>15</td>\n",
       "    </tr>\n",
       "    <tr>\n",
       "      <th>at_home</th>\n",
       "      <td>14</td>\n",
       "    </tr>\n",
       "  </tbody>\n",
       "</table>\n",
       "</div>"
      ],
      "text/plain": [
       "          Fjob\n",
       "other      176\n",
       "services    89\n",
       "teacher     26\n",
       "health      15\n",
       "at_home     14"
      ]
     },
     "execution_count": 156,
     "metadata": {},
     "output_type": "execute_result"
    }
   ],
   "source": [
    "# Fjob \n",
    "# Проверим уникальные и пустые значения\n",
    "\n",
    "print('Уникальных значений Fjob: ' + str(stud.Fjob.nunique()))\n",
    "print('Незаполненных значений Fjob: ' + str(len(stud[stud.Fjob.isnull()].Fjob.index)))\n",
    "pd.DataFrame(stud.Fjob.value_counts())"
   ]
  },
  {
   "cell_type": "code",
   "execution_count": 157,
   "metadata": {},
   "outputs": [
    {
     "data": {
      "text/plain": [
       "<matplotlib.axes._subplots.AxesSubplot at 0x2440b179f48>"
      ]
     },
     "execution_count": 157,
     "metadata": {},
     "output_type": "execute_result"
    },
    {
     "data": {
      "image/png": "[encoded data removed]",
      "text/plain": [
       "<Figure size 432x288 with 1 Axes>"
      ]
     },
     "metadata": {
      "needs_background": "light"
     },
     "output_type": "display_data"
    }
   ],
   "source": [
    "# Удалим строки с пустыми значениями и проверим распределение на графике\n",
    "\n",
    "df = stud[~stud.Fjob.isnull()]\n",
    "df.boxplot(column='score', by='Fjob')"
   ]
  },
  {
   "cell_type": "code",
   "execution_count": 158,
   "metadata": {},
   "outputs": [
    {
     "data": {
      "text/plain": [
       "<matplotlib.axes._subplots.AxesSubplot at 0x2440b1f4b48>"
      ]
     },
     "execution_count": 158,
     "metadata": {},
     "output_type": "execute_result"
    },
    {
     "data": {
      "image/png": "[encoded data removed]",
      "text/plain": [
       "<Figure size 432x288 with 1 Axes>"
      ]
     },
     "metadata": {
      "needs_background": "light"
     },
     "output_type": "display_data"
    }
   ],
   "source": [
    "# Обнаружились выбросы у группы 'other'. Удалим их\n",
    "\n",
    "df = df[~((df.Fjob=='other') & ((df.score>=90) | (df.score<30)))]\n",
    "df.boxplot(column='score', by='Fjob')"
   ]
  },
  {
   "cell_type": "code",
   "execution_count": 159,
   "metadata": {},
   "outputs": [
    {
     "name": "stdout",
     "output_type": "stream",
     "text": [
      "Для порога 0.005 по критерию Стьюдента значимость есть: для ('other', 'teacher') p_value = 0.0001953244096575503\n",
      "Для порога 0.005 по критерию Манна-Уитни значимость есть: для ('other', 'teacher') p_value = 0.000706587890741815\n"
     ]
    }
   ],
   "source": [
    "# По графику видно, что оценки для разных групп профессий отцов отличаются только в плане Учитель/Не учитель\n",
    "# Проверим двумя критериями \n",
    "\n",
    "print(get_stat_dif(df, 'Fjob', 'score', True))\n",
    "print(get_stat_dif(df, 'Fjob', 'score', False))"
   ]
  },
  {
   "cell_type": "code",
   "execution_count": 160,
   "metadata": {},
   "outputs": [
    {
     "name": "stdout",
     "output_type": "stream",
     "text": [
      "Для порога 0.008333333333333333 по критерию Стьюдента значимости нет: min(p_value) = 0.3043525075033831\n",
      "Для порога 0.008333333333333333 по критерию Манна-Уитни значимости нет: min(p_value) = 0.23712393222245903\n"
     ]
    }
   ],
   "source": [
    "# Попробуем убрать профессию \"Учитель\" и проверить зависимость без нее\n",
    "\n",
    "df1 = df[df.Fjob != 'teacher']\n",
    "\n",
    "print(get_stat_dif(df1, 'Fjob', 'score', True))\n",
    "print(get_stat_dif(df1, 'Fjob', 'score', False))"
   ]
  },
  {
   "cell_type": "code",
   "execution_count": 161,
   "metadata": {},
   "outputs": [
    {
     "name": "stdout",
     "output_type": "stream",
     "text": [
      "Спирмен p_value = 0.0015111405965573831\n"
     ]
    }
   ],
   "source": [
    "# Выходит, значимость придавало только то, что отец - учитель или не учитель\n",
    "# Попробуем также разделить на 2 группы: учитель и не учитель\n",
    "\n",
    "stud['gr_Fjob'] = stud.Fjob.apply(lambda x: None if x is None else 1 if x=='teacher' else 0)\n",
    "\n",
    "df = stud[~stud.Fjob.isnull()]\n",
    "df = df[~((df.Fjob=='other') & ((df.score>=90) | (df.score<30)))]\n",
    "\n",
    "print('Спирмен p_value =', spearmanr(df.gr_Fjob, df.score)[1])"
   ]
  },
  {
   "cell_type": "code",
   "execution_count": 162,
   "metadata": {},
   "outputs": [
    {
     "data": {
      "text/plain": [
       "<matplotlib.axes._subplots.AxesSubplot at 0x2440c2f1f88>"
      ]
     },
     "execution_count": 162,
     "metadata": {},
     "output_type": "execute_result"
    },
    {
     "data": {
      "image/png": "[encoded data removed]",
      "text/plain": [
       "<Figure size 432x288 with 1 Axes>"
      ]
     },
     "metadata": {
      "needs_background": "light"
     },
     "output_type": "display_data"
    }
   ],
   "source": [
    "# Зависимость видна и на графике\n",
    "\n",
    "df.boxplot(column='score', by='gr_Fjob')"
   ]
  },
  {
   "cell_type": "code",
   "execution_count": 163,
   "metadata": {},
   "outputs": [
    {
     "data": {
      "text/plain": [
       "9.903311586804573e-05"
      ]
     },
     "execution_count": 163,
     "metadata": {},
     "output_type": "execute_result"
    }
   ],
   "source": [
    "# Просто из любопытства посмотрим, есть ли зависимость от профессии матери\n",
    "\n",
    "df1 = df[~df.Mjob.isnull()]\n",
    "spearmanr(df1.Mjob, df1.Fjob)[1]"
   ]
  },
  {
   "cell_type": "code",
   "execution_count": 164,
   "metadata": {},
   "outputs": [],
   "source": [
    "# Зависимость есть, но непонятно, как ее интерпретировать.\n",
    "\n",
    "# Для дальнейшей модели можно удалить столбец Fjob и заменить его на gr_Fjob\n",
    "\n",
    "drop('Fjob')"
   ]
  },
  {
   "cell_type": "markdown",
   "metadata": {},
   "source": [
    "### Вывод для столбца Fjob: не все профессии отца оказывают влияние на оценки. Влияет лишь то, что отец - учитель или не учитель."
   ]
  },
  {
   "cell_type": "markdown",
   "metadata": {},
   "source": [
    "### Столбец reason "
   ]
  },
  {
   "cell_type": "code",
   "execution_count": 166,
   "metadata": {},
   "outputs": [
    {
     "name": "stdout",
     "output_type": "stream",
     "text": [
      "Уникальных значений reason: 4\n",
      "Незаполненных значений reason: 15\n"
     ]
    },
    {
     "data": {
      "text/html": [
       "<div>\n",
       "<style scoped>\n",
       "    .dataframe tbody tr th:only-of-type {\n",
       "        vertical-align: middle;\n",
       "    }\n",
       "\n",
       "    .dataframe tbody tr th {\n",
       "        vertical-align: top;\n",
       "    }\n",
       "\n",
       "    .dataframe thead th {\n",
       "        text-align: right;\n",
       "    }\n",
       "</style>\n",
       "<table border=\"1\" class=\"dataframe\">\n",
       "  <thead>\n",
       "    <tr style=\"text-align: right;\">\n",
       "      <th></th>\n",
       "      <th>reason</th>\n",
       "    </tr>\n",
       "  </thead>\n",
       "  <tbody>\n",
       "    <tr>\n",
       "      <th>course</th>\n",
       "      <td>119</td>\n",
       "    </tr>\n",
       "    <tr>\n",
       "      <th>reputation</th>\n",
       "      <td>96</td>\n",
       "    </tr>\n",
       "    <tr>\n",
       "      <th>home</th>\n",
       "      <td>89</td>\n",
       "    </tr>\n",
       "    <tr>\n",
       "      <th>other</th>\n",
       "      <td>33</td>\n",
       "    </tr>\n",
       "  </tbody>\n",
       "</table>\n",
       "</div>"
      ],
      "text/plain": [
       "            reason\n",
       "course         119\n",
       "reputation      96\n",
       "home            89\n",
       "other           33"
      ]
     },
     "execution_count": 166,
     "metadata": {},
     "output_type": "execute_result"
    }
   ],
   "source": [
    "# reason\n",
    "# Проверим уникальные и пустые значения\n",
    "\n",
    "print('Уникальных значений reason: ' + str(stud.reason.nunique()))\n",
    "print('Незаполненных значений reason: ' + str(len(stud[stud.reason.isnull()].reason.index)))\n",
    "pd.DataFrame(stud.reason.value_counts())"
   ]
  },
  {
   "cell_type": "code",
   "execution_count": 167,
   "metadata": {},
   "outputs": [
    {
     "data": {
      "text/plain": [
       "<matplotlib.axes._subplots.AxesSubplot at 0x2440c36eb48>"
      ]
     },
     "execution_count": 167,
     "metadata": {},
     "output_type": "execute_result"
    },
    {
     "data": {
      "image/png": "[encoded data removed]",
      "text/plain": [
       "<Figure size 432x288 with 1 Axes>"
      ]
     },
     "metadata": {
      "needs_background": "light"
     },
     "output_type": "display_data"
    }
   ],
   "source": [
    "# Удалим строки с пустыми значениями и проверим распределение на графике\n",
    "\n",
    "df = stud[~stud.reason.isnull()]\n",
    "df.boxplot(column='score', by='reason')"
   ]
  },
  {
   "cell_type": "code",
   "execution_count": 168,
   "metadata": {},
   "outputs": [
    {
     "data": {
      "text/plain": [
       "<matplotlib.axes._subplots.AxesSubplot at 0x2440c3e98c8>"
      ]
     },
     "execution_count": 168,
     "metadata": {},
     "output_type": "execute_result"
    },
    {
     "data": {
      "image/png": "[encoded data removed]",
      "text/plain": [
       "<Figure size 432x288 with 1 Axes>"
      ]
     },
     "metadata": {
      "needs_background": "light"
     },
     "output_type": "display_data"
    }
   ],
   "source": [
    "# Обнаружились выбросы у группы 'other'. Удалим их\n",
    "\n",
    "df = df[~((df.reason=='other') & ((df.score>90) | (df.score<30)))]\n",
    "df.boxplot(column='score', by='reason')"
   ]
  },
  {
   "cell_type": "code",
   "execution_count": 169,
   "metadata": {},
   "outputs": [
    {
     "name": "stdout",
     "output_type": "stream",
     "text": [
      "Для порога 0.008333333333333333 по критерию Стьюдента значимости нет: min(p_value) = 0.2532160066369303\n",
      "Для порога 0.008333333333333333 по критерию Манна-Уитни значимости нет: min(p_value) = 0.10760727306072915\n"
     ]
    }
   ],
   "source": [
    "# По графику видно, что только репутация школы немного повышает оценки, но в целом зависимости нет.\n",
    "# Проверим попарные выборки двумя критериями \n",
    "\n",
    "print(get_stat_dif(df, 'reason', 'score', True))\n",
    "print(get_stat_dif(df, 'reason', 'score', False))"
   ]
  },
  {
   "cell_type": "code",
   "execution_count": 170,
   "metadata": {},
   "outputs": [],
   "source": [
    "# Удалим столбец\n",
    "\n",
    "drop('reason')"
   ]
  },
  {
   "cell_type": "markdown",
   "metadata": {},
   "source": [
    "### Вывод для столбца reason: он не влияет на оценку"
   ]
  },
  {
   "cell_type": "markdown",
   "metadata": {},
   "source": [
    "### Столбец guardian"
   ]
  },
  {
   "cell_type": "code",
   "execution_count": 171,
   "metadata": {},
   "outputs": [
    {
     "name": "stdout",
     "output_type": "stream",
     "text": [
      "Уникальных значений guardian: 3\n",
      "Незаполненных значений guardian: 29\n"
     ]
    },
    {
     "data": {
      "text/html": [
       "<div>\n",
       "<style scoped>\n",
       "    .dataframe tbody tr th:only-of-type {\n",
       "        vertical-align: middle;\n",
       "    }\n",
       "\n",
       "    .dataframe tbody tr th {\n",
       "        vertical-align: top;\n",
       "    }\n",
       "\n",
       "    .dataframe thead th {\n",
       "        text-align: right;\n",
       "    }\n",
       "</style>\n",
       "<table border=\"1\" class=\"dataframe\">\n",
       "  <thead>\n",
       "    <tr style=\"text-align: right;\">\n",
       "      <th></th>\n",
       "      <th>guardian</th>\n",
       "    </tr>\n",
       "  </thead>\n",
       "  <tbody>\n",
       "    <tr>\n",
       "      <th>mother</th>\n",
       "      <td>225</td>\n",
       "    </tr>\n",
       "    <tr>\n",
       "      <th>father</th>\n",
       "      <td>78</td>\n",
       "    </tr>\n",
       "    <tr>\n",
       "      <th>other</th>\n",
       "      <td>20</td>\n",
       "    </tr>\n",
       "  </tbody>\n",
       "</table>\n",
       "</div>"
      ],
      "text/plain": [
       "        guardian\n",
       "mother       225\n",
       "father        78\n",
       "other         20"
      ]
     },
     "execution_count": 171,
     "metadata": {},
     "output_type": "execute_result"
    }
   ],
   "source": [
    "# guardian\n",
    "# Проверим уникальные и пустые значения\n",
    "\n",
    "print('Уникальных значений guardian: ' + str(stud.guardian.nunique()))\n",
    "print('Незаполненных значений guardian: ' + str(len(stud[stud.guardian.isnull()].guardian.index)))\n",
    "pd.DataFrame(stud.guardian.value_counts())"
   ]
  },
  {
   "cell_type": "code",
   "execution_count": 175,
   "metadata": {},
   "outputs": [
    {
     "data": {
      "text/plain": [
       "<matplotlib.axes._subplots.AxesSubplot at 0x2440c51c908>"
      ]
     },
     "execution_count": 175,
     "metadata": {},
     "output_type": "execute_result"
    },
    {
     "data": {
      "image/png": "[encoded data removed]",
      "text/plain": [
       "<Figure size 432x288 with 1 Axes>"
      ]
     },
     "metadata": {
      "needs_background": "light"
     },
     "output_type": "display_data"
    }
   ],
   "source": [
    "# Удалим строки с пустыми значениями и проверим распределение на графике\n",
    "\n",
    "df = stud[~stud.guardian.isnull()]\n",
    "df.boxplot(column='score', by='guardian')"
   ]
  },
  {
   "cell_type": "code",
   "execution_count": 176,
   "metadata": {},
   "outputs": [
    {
     "name": "stdout",
     "output_type": "stream",
     "text": [
      "Для порога 0.016666666666666666 по критерию Стьюдента значимости нет: min(p_value) = 0.2773071542197519\n",
      "Для порога 0.016666666666666666 по критерию Манна-Уитни значимости нет: min(p_value) = 0.09535389769105046\n"
     ]
    }
   ],
   "source": [
    "# Визуально данные отличаются: если опекун - не родной родитель, то оценки немного ниже\n",
    "# И еще видно, что матери чуть похуже следят за детьми, чем другие опекуны\n",
    "# Проверим cтатистическую значимость\n",
    "\n",
    "print(get_stat_dif(df, 'guardian', 'score', True))\n",
    "print(get_stat_dif(df, 'guardian', 'score', False))"
   ]
  },
  {
   "cell_type": "code",
   "execution_count": 177,
   "metadata": {},
   "outputs": [],
   "source": [
    "# Для трех групп не найдена статистическая значимость.\n",
    "# Скорее всего, это связано с пренебрежительно малым размером группы \"other\" (<30) \n",
    "# и одновременно примерно одинаковой картиной для \"father\" и \"mother\"\n",
    "\n",
    "# Удалим столбец\n",
    "\n",
    "drop('guardian')"
   ]
  },
  {
   "cell_type": "markdown",
   "metadata": {},
   "source": [
    "### Вывод для столбца guardian: он почти не влияет на оценки"
   ]
  },
  {
   "cell_type": "markdown",
   "metadata": {},
   "source": [
    "### Столбец schoolsup "
   ]
  },
  {
   "cell_type": "code",
   "execution_count": 178,
   "metadata": {},
   "outputs": [
    {
     "name": "stdout",
     "output_type": "stream",
     "text": [
      "Уникальных значений schoolsup: 2\n",
      "Незаполненных значений schoolsup: 9\n"
     ]
    },
    {
     "data": {
      "text/html": [
       "<div>\n",
       "<style scoped>\n",
       "    .dataframe tbody tr th:only-of-type {\n",
       "        vertical-align: middle;\n",
       "    }\n",
       "\n",
       "    .dataframe tbody tr th {\n",
       "        vertical-align: top;\n",
       "    }\n",
       "\n",
       "    .dataframe thead th {\n",
       "        text-align: right;\n",
       "    }\n",
       "</style>\n",
       "<table border=\"1\" class=\"dataframe\">\n",
       "  <thead>\n",
       "    <tr style=\"text-align: right;\">\n",
       "      <th></th>\n",
       "      <th>schoolsup</th>\n",
       "    </tr>\n",
       "  </thead>\n",
       "  <tbody>\n",
       "    <tr>\n",
       "      <th>no</th>\n",
       "      <td>295</td>\n",
       "    </tr>\n",
       "    <tr>\n",
       "      <th>yes</th>\n",
       "      <td>48</td>\n",
       "    </tr>\n",
       "  </tbody>\n",
       "</table>\n",
       "</div>"
      ],
      "text/plain": [
       "     schoolsup\n",
       "no         295\n",
       "yes         48"
      ]
     },
     "execution_count": 178,
     "metadata": {},
     "output_type": "execute_result"
    }
   ],
   "source": [
    "# schoolsup\n",
    "# Проверим уникальные и пустые значения\n",
    "\n",
    "print('Уникальных значений schoolsup: ' + str(stud.schoolsup.nunique()))\n",
    "print('Незаполненных значений schoolsup: ' + str(len(stud[stud.schoolsup.isnull()].schoolsup.index)))\n",
    "pd.DataFrame(stud.schoolsup.value_counts())"
   ]
  },
  {
   "cell_type": "code",
   "execution_count": 179,
   "metadata": {},
   "outputs": [
    {
     "data": {
      "text/plain": [
       "<matplotlib.axes._subplots.AxesSubplot at 0x2440c6d1148>"
      ]
     },
     "execution_count": 179,
     "metadata": {},
     "output_type": "execute_result"
    },
    {
     "data": {
      "image/png": "[encoded data removed]",
      "text/plain": [
       "<Figure size 432x288 with 1 Axes>"
      ]
     },
     "metadata": {
      "needs_background": "light"
     },
     "output_type": "display_data"
    }
   ],
   "source": [
    "# Удалим строки с пустыми значениями и проверим распределение на графике\n",
    "\n",
    "df = stud[~stud.schoolsup.isnull()]\n",
    "df.boxplot(column='score', by='schoolsup')"
   ]
  },
  {
   "cell_type": "code",
   "execution_count": 180,
   "metadata": {},
   "outputs": [
    {
     "data": {
      "text/plain": [
       "<matplotlib.axes._subplots.AxesSubplot at 0x2440c65c108>"
      ]
     },
     "execution_count": 180,
     "metadata": {},
     "output_type": "execute_result"
    },
    {
     "data": {
      "image/png": "[encoded data removed]",
      "text/plain": [
       "<Figure size 432x288 with 1 Axes>"
      ]
     },
     "metadata": {
      "needs_background": "light"
     },
     "output_type": "display_data"
    }
   ],
   "source": [
    "# Уберем выбросы для значения yes\n",
    "\n",
    "df = df[~((df.schoolsup=='yes') & (df.score>80))]\n",
    "df.boxplot(column='score', by='schoolsup')"
   ]
  },
  {
   "cell_type": "code",
   "execution_count": 182,
   "metadata": {},
   "outputs": [
    {
     "name": "stdout",
     "output_type": "stream",
     "text": [
      "Для порога 0.05 по критерию Стьюдента значимость есть: для ('no', 'yes') p_value = 6.34088672972889e-07\n",
      "Для порога 0.05 по критерию Манна-Уитни значимость есть: для ('no', 'yes') p_value = 5.654178025145872e-07\n"
     ]
    }
   ],
   "source": [
    "# Визуально данные отличаются: если есть поддержка в школе, то оценки ниже\n",
    "# Картина кажется странной - есть помощь, а оценки ниже\n",
    "# Протестируем выборки\n",
    "\n",
    "print(get_stat_dif(df, 'schoolsup', 'score', True))\n",
    "print(get_stat_dif(df, 'schoolsup', 'score', False))"
   ]
  },
  {
   "cell_type": "code",
   "execution_count": 176,
   "metadata": {},
   "outputs": [],
   "source": [
    "# Наличие поддержки очень значимо. Но здравый смысл подсказывает, что зависимость обратная:\n",
    "# тем, кто хуже учится, оказывают больше поддержки и поддержка в школе - это производная от оценок\n",
    "# Надо удалить столбец, так как он зависим от оценки, а не наоборот.\n",
    "# Но так как нет уверенности в том, что в датасете не перепутаны значения yes и no, то оставим."
   ]
  },
  {
   "cell_type": "markdown",
   "metadata": {},
   "source": [
    "### Вывод для schoolsup: значимость поддержки для оценок присутствует. Хотя, скорее, наоборот - присутствует значимость оценок для поддержки "
   ]
  },
  {
   "cell_type": "markdown",
   "metadata": {},
   "source": [
    "### Столбец famsup "
   ]
  },
  {
   "cell_type": "code",
   "execution_count": 183,
   "metadata": {},
   "outputs": [
    {
     "name": "stdout",
     "output_type": "stream",
     "text": [
      "Уникальных значений famsup: 2\n",
      "Незаполненных значений famsup: 36\n"
     ]
    },
    {
     "data": {
      "text/html": [
       "<div>\n",
       "<style scoped>\n",
       "    .dataframe tbody tr th:only-of-type {\n",
       "        vertical-align: middle;\n",
       "    }\n",
       "\n",
       "    .dataframe tbody tr th {\n",
       "        vertical-align: top;\n",
       "    }\n",
       "\n",
       "    .dataframe thead th {\n",
       "        text-align: right;\n",
       "    }\n",
       "</style>\n",
       "<table border=\"1\" class=\"dataframe\">\n",
       "  <thead>\n",
       "    <tr style=\"text-align: right;\">\n",
       "      <th></th>\n",
       "      <th>famsup</th>\n",
       "    </tr>\n",
       "  </thead>\n",
       "  <tbody>\n",
       "    <tr>\n",
       "      <th>yes</th>\n",
       "      <td>196</td>\n",
       "    </tr>\n",
       "    <tr>\n",
       "      <th>no</th>\n",
       "      <td>120</td>\n",
       "    </tr>\n",
       "  </tbody>\n",
       "</table>\n",
       "</div>"
      ],
      "text/plain": [
       "     famsup\n",
       "yes     196\n",
       "no      120"
      ]
     },
     "execution_count": 183,
     "metadata": {},
     "output_type": "execute_result"
    }
   ],
   "source": [
    "# famsup\n",
    "# Проверим уникальные и пустые значения\n",
    "\n",
    "print('Уникальных значений famsup: ' + str(stud.famsup.nunique()))\n",
    "print('Незаполненных значений famsup: ' + str(len(stud[stud.famsup.isnull()].famsup.index)))\n",
    "pd.DataFrame(stud.famsup.value_counts())"
   ]
  },
  {
   "cell_type": "code",
   "execution_count": 184,
   "metadata": {},
   "outputs": [
    {
     "data": {
      "text/plain": [
       "<matplotlib.axes._subplots.AxesSubplot at 0x2440c7e75c8>"
      ]
     },
     "execution_count": 184,
     "metadata": {},
     "output_type": "execute_result"
    },
    {
     "data": {
      "image/png": "[encoded data removed]",
      "text/plain": [
       "<Figure size 432x288 with 1 Axes>"
      ]
     },
     "metadata": {
      "needs_background": "light"
     },
     "output_type": "display_data"
    }
   ],
   "source": [
    "# Удалим строки с пустыми значениями и проверим распределение на графике\n",
    "\n",
    "df = stud[~stud.famsup.isnull()]\n",
    "df.boxplot(column='score', by='famsup')"
   ]
  },
  {
   "cell_type": "code",
   "execution_count": 185,
   "metadata": {},
   "outputs": [
    {
     "name": "stdout",
     "output_type": "stream",
     "text": [
      "Для порога 0.05 по критерию Стьюдента значимости нет: min(p_value) = 0.4063096650270416\n",
      "Для порога 0.05 по критерию Манна-Уитни значимости нет: min(p_value) = 0.2193648714020902\n"
     ]
    }
   ],
   "source": [
    "# Визуально данные мало отличаются\n",
    "# Проверим значимость на выборках\n",
    "\n",
    "print(get_stat_dif(df, 'famsup', 'score', True))\n",
    "print(get_stat_dif(df, 'famsup', 'score', False))"
   ]
  },
  {
   "cell_type": "code",
   "execution_count": 186,
   "metadata": {},
   "outputs": [],
   "source": [
    "# Наличие поддержки в учебе в семье незначимо. Все тесты дают p_value > 0.05.\n",
    "# Удалим столбец\n",
    "\n",
    "drop('famsup')"
   ]
  },
  {
   "cell_type": "markdown",
   "metadata": {},
   "source": [
    "### Вывод для famsup: не влияет на оценки "
   ]
  },
  {
   "cell_type": "markdown",
   "metadata": {},
   "source": [
    "### Столбец paid"
   ]
  },
  {
   "cell_type": "code",
   "execution_count": 187,
   "metadata": {},
   "outputs": [
    {
     "name": "stdout",
     "output_type": "stream",
     "text": [
      "Уникальных значений paid: 2\n",
      "Незаполненных значений paid: 36\n"
     ]
    },
    {
     "data": {
      "text/html": [
       "<div>\n",
       "<style scoped>\n",
       "    .dataframe tbody tr th:only-of-type {\n",
       "        vertical-align: middle;\n",
       "    }\n",
       "\n",
       "    .dataframe tbody tr th {\n",
       "        vertical-align: top;\n",
       "    }\n",
       "\n",
       "    .dataframe thead th {\n",
       "        text-align: right;\n",
       "    }\n",
       "</style>\n",
       "<table border=\"1\" class=\"dataframe\">\n",
       "  <thead>\n",
       "    <tr style=\"text-align: right;\">\n",
       "      <th></th>\n",
       "      <th>paid</th>\n",
       "    </tr>\n",
       "  </thead>\n",
       "  <tbody>\n",
       "    <tr>\n",
       "      <th>no</th>\n",
       "      <td>170</td>\n",
       "    </tr>\n",
       "    <tr>\n",
       "      <th>yes</th>\n",
       "      <td>146</td>\n",
       "    </tr>\n",
       "  </tbody>\n",
       "</table>\n",
       "</div>"
      ],
      "text/plain": [
       "     paid\n",
       "no    170\n",
       "yes   146"
      ]
     },
     "execution_count": 187,
     "metadata": {},
     "output_type": "execute_result"
    }
   ],
   "source": [
    "# paid\n",
    "# Проверим уникальные и пустые значения\n",
    "\n",
    "print('Уникальных значений paid: ' + str(stud.paid.nunique()))\n",
    "print('Незаполненных значений paid: ' + str(len(stud[stud.paid.isnull()].paid.index)))\n",
    "pd.DataFrame(stud.paid.value_counts())"
   ]
  },
  {
   "cell_type": "code",
   "execution_count": 188,
   "metadata": {},
   "outputs": [
    {
     "data": {
      "text/plain": [
       "<matplotlib.axes._subplots.AxesSubplot at 0x2440c875948>"
      ]
     },
     "execution_count": 188,
     "metadata": {},
     "output_type": "execute_result"
    },
    {
     "data": {
      "image/png": "[encoded data removed]",
      "text/plain": [
       "<Figure size 432x288 with 1 Axes>"
      ]
     },
     "metadata": {
      "needs_background": "light"
     },
     "output_type": "display_data"
    }
   ],
   "source": [
    "# Удалим строки с пустыми значениями и проверим распределение на графике\n",
    "\n",
    "df = stud[~stud.paid.isnull()]\n",
    "df.boxplot(column='score', by='paid')"
   ]
  },
  {
   "cell_type": "code",
   "execution_count": 189,
   "metadata": {},
   "outputs": [],
   "source": [
    "# Даже не станем проводить корреляционные тесты, поскольку графики почти не отличаются\n",
    "# и выборки yes и no мало отличаются по количеству.\n",
    "# Удалим столбец\n",
    "\n",
    "drop('paid') "
   ]
  },
  {
   "cell_type": "markdown",
   "metadata": {},
   "source": [
    "### Вывод для paid: наличие платных занятий на оценки не влияет"
   ]
  },
  {
   "cell_type": "markdown",
   "metadata": {},
   "source": [
    "### Столбец activities"
   ]
  },
  {
   "cell_type": "code",
   "execution_count": 190,
   "metadata": {},
   "outputs": [
    {
     "name": "stdout",
     "output_type": "stream",
     "text": [
      "Уникальных значений activities: 2\n",
      "Незаполненных значений activities: 12\n"
     ]
    },
    {
     "data": {
      "text/html": [
       "<div>\n",
       "<style scoped>\n",
       "    .dataframe tbody tr th:only-of-type {\n",
       "        vertical-align: middle;\n",
       "    }\n",
       "\n",
       "    .dataframe tbody tr th {\n",
       "        vertical-align: top;\n",
       "    }\n",
       "\n",
       "    .dataframe thead th {\n",
       "        text-align: right;\n",
       "    }\n",
       "</style>\n",
       "<table border=\"1\" class=\"dataframe\">\n",
       "  <thead>\n",
       "    <tr style=\"text-align: right;\">\n",
       "      <th></th>\n",
       "      <th>activities</th>\n",
       "    </tr>\n",
       "  </thead>\n",
       "  <tbody>\n",
       "    <tr>\n",
       "      <th>yes</th>\n",
       "      <td>172</td>\n",
       "    </tr>\n",
       "    <tr>\n",
       "      <th>no</th>\n",
       "      <td>168</td>\n",
       "    </tr>\n",
       "  </tbody>\n",
       "</table>\n",
       "</div>"
      ],
      "text/plain": [
       "     activities\n",
       "yes         172\n",
       "no          168"
      ]
     },
     "execution_count": 190,
     "metadata": {},
     "output_type": "execute_result"
    }
   ],
   "source": [
    "# activities\n",
    "# Проверим уникальные и пустые значения\n",
    "\n",
    "print('Уникальных значений activities: ' + str(stud.activities.nunique()))\n",
    "print('Незаполненных значений activities: ' + str(len(stud[stud.activities.isnull()].activities.index)))\n",
    "pd.DataFrame(stud.activities.value_counts())"
   ]
  },
  {
   "cell_type": "code",
   "execution_count": 191,
   "metadata": {},
   "outputs": [
    {
     "data": {
      "text/plain": [
       "<matplotlib.axes._subplots.AxesSubplot at 0x2440c8fa488>"
      ]
     },
     "execution_count": 191,
     "metadata": {},
     "output_type": "execute_result"
    },
    {
     "data": {
      "image/png": "[encoded data removed]",
      "text/plain": [
       "<Figure size 432x288 with 1 Axes>"
      ]
     },
     "metadata": {
      "needs_background": "light"
     },
     "output_type": "display_data"
    }
   ],
   "source": [
    "# Удалим строки с пустыми значениями и проверим распределение на графике\n",
    "\n",
    "df = stud[~stud.activities.isnull()]\n",
    "df.boxplot(column='score', by='activities')"
   ]
  },
  {
   "cell_type": "code",
   "execution_count": 192,
   "metadata": {},
   "outputs": [],
   "source": [
    "# Снова не станем проводить корреляционные тесты, поскольку графики почти не отличаются\n",
    "# и выборки yes и no мало отличаются по количеству.\n",
    "# Удалим столбец\n",
    "\n",
    "drop('activities') "
   ]
  },
  {
   "cell_type": "markdown",
   "metadata": {},
   "source": [
    "### Вывод для activities: наличие внеурочных занятий на оценки не влияет"
   ]
  },
  {
   "cell_type": "markdown",
   "metadata": {},
   "source": [
    "### Столбец nursery"
   ]
  },
  {
   "cell_type": "code",
   "execution_count": 193,
   "metadata": {},
   "outputs": [
    {
     "name": "stdout",
     "output_type": "stream",
     "text": [
      "Уникальных значений nursery: 2\n",
      "Незаполненных значений nursery: 12\n"
     ]
    },
    {
     "data": {
      "text/html": [
       "<div>\n",
       "<style scoped>\n",
       "    .dataframe tbody tr th:only-of-type {\n",
       "        vertical-align: middle;\n",
       "    }\n",
       "\n",
       "    .dataframe tbody tr th {\n",
       "        vertical-align: top;\n",
       "    }\n",
       "\n",
       "    .dataframe thead th {\n",
       "        text-align: right;\n",
       "    }\n",
       "</style>\n",
       "<table border=\"1\" class=\"dataframe\">\n",
       "  <thead>\n",
       "    <tr style=\"text-align: right;\">\n",
       "      <th></th>\n",
       "      <th>nursery</th>\n",
       "    </tr>\n",
       "  </thead>\n",
       "  <tbody>\n",
       "    <tr>\n",
       "      <th>yes</th>\n",
       "      <td>272</td>\n",
       "    </tr>\n",
       "    <tr>\n",
       "      <th>no</th>\n",
       "      <td>68</td>\n",
       "    </tr>\n",
       "  </tbody>\n",
       "</table>\n",
       "</div>"
      ],
      "text/plain": [
       "     nursery\n",
       "yes      272\n",
       "no        68"
      ]
     },
     "execution_count": 193,
     "metadata": {},
     "output_type": "execute_result"
    }
   ],
   "source": [
    "# nursery\n",
    "# Проверим уникальные и пустые значения\n",
    "\n",
    "print('Уникальных значений nursery: ' + str(stud.nursery.nunique()))\n",
    "print('Незаполненных значений nursery: ' + str(len(stud[stud.nursery.isnull()].nursery.index)))\n",
    "pd.DataFrame(stud.nursery.value_counts())"
   ]
  },
  {
   "cell_type": "code",
   "execution_count": 194,
   "metadata": {},
   "outputs": [
    {
     "data": {
      "text/plain": [
       "<matplotlib.axes._subplots.AxesSubplot at 0x2440c988208>"
      ]
     },
     "execution_count": 194,
     "metadata": {},
     "output_type": "execute_result"
    },
    {
     "data": {
      "image/png": "[encoded data removed]",
      "text/plain": [
       "<Figure size 432x288 with 1 Axes>"
      ]
     },
     "metadata": {
      "needs_background": "light"
     },
     "output_type": "display_data"
    }
   ],
   "source": [
    "# Удалим строки с пустыми значениями и проверим распределение на графике\n",
    "\n",
    "df = stud[~stud.nursery.isnull()]\n",
    "df.boxplot(column='score', by='nursery')"
   ]
  },
  {
   "cell_type": "code",
   "execution_count": 195,
   "metadata": {},
   "outputs": [
    {
     "data": {
      "text/plain": [
       "<matplotlib.axes._subplots.AxesSubplot at 0x2440c95fa88>"
      ]
     },
     "execution_count": 195,
     "metadata": {},
     "output_type": "execute_result"
    },
    {
     "data": {
      "image/png": "[encoded data removed]",
      "text/plain": [
       "<Figure size 432x288 with 1 Axes>"
      ]
     },
     "metadata": {
      "needs_background": "light"
     },
     "output_type": "display_data"
    }
   ],
   "source": [
    "# Уберем выбросы для значения no\n",
    "\n",
    "df = df[~((df.nursery=='no') & (df.score<30))]\n",
    "df.boxplot(column='score', by='nursery')"
   ]
  },
  {
   "cell_type": "code",
   "execution_count": 196,
   "metadata": {},
   "outputs": [
    {
     "name": "stdout",
     "output_type": "stream",
     "text": [
      "Для порога 0.05 по критерию Стьюдента значимости нет: min(p_value) = 0.7375634911982036\n",
      "Для порога 0.05 по критерию Манна-Уитни значимости нет: min(p_value) = 0.47045760701862804\n"
     ]
    }
   ],
   "source": [
    "# Разброс выше у ходивших в детский сад. \n",
    "# Домашние дети более стабильны по оценкам - возможно, из-за опеки (поддержка/подавление) матери. \n",
    "# Скорее всего, у ходивших в садик был своего рода естественный отбор: \n",
    "# сильные дети либо продвинулись, а слабые ослабли.\n",
    "# В остальном зависимости почти нет.\n",
    "\n",
    "# Проверим значимость на выборках\n",
    "\n",
    "print(get_stat_dif(df, 'nursery', 'score', True))\n",
    "print(get_stat_dif(df, 'nursery', 'score', False))"
   ]
  },
  {
   "cell_type": "code",
   "execution_count": 197,
   "metadata": {},
   "outputs": [],
   "source": [
    "# p_value > 0.05\n",
    "# Удалим столбец\n",
    "\n",
    "drop('nursery') "
   ]
  },
  {
   "cell_type": "markdown",
   "metadata": {},
   "source": [
    "### Вывод для nursery: посещение детского сада для оценки не значимо"
   ]
  },
  {
   "cell_type": "markdown",
   "metadata": {},
   "source": [
    "### Столбец higher"
   ]
  },
  {
   "cell_type": "code",
   "execution_count": 198,
   "metadata": {},
   "outputs": [
    {
     "name": "stdout",
     "output_type": "stream",
     "text": [
      "Уникальных значений higher: 2\n",
      "Незаполненных значений higher: 19\n"
     ]
    },
    {
     "data": {
      "text/html": [
       "<div>\n",
       "<style scoped>\n",
       "    .dataframe tbody tr th:only-of-type {\n",
       "        vertical-align: middle;\n",
       "    }\n",
       "\n",
       "    .dataframe tbody tr th {\n",
       "        vertical-align: top;\n",
       "    }\n",
       "\n",
       "    .dataframe thead th {\n",
       "        text-align: right;\n",
       "    }\n",
       "</style>\n",
       "<table border=\"1\" class=\"dataframe\">\n",
       "  <thead>\n",
       "    <tr style=\"text-align: right;\">\n",
       "      <th></th>\n",
       "      <th>higher</th>\n",
       "    </tr>\n",
       "  </thead>\n",
       "  <tbody>\n",
       "    <tr>\n",
       "      <th>yes</th>\n",
       "      <td>320</td>\n",
       "    </tr>\n",
       "    <tr>\n",
       "      <th>no</th>\n",
       "      <td>13</td>\n",
       "    </tr>\n",
       "  </tbody>\n",
       "</table>\n",
       "</div>"
      ],
      "text/plain": [
       "     higher\n",
       "yes     320\n",
       "no       13"
      ]
     },
     "execution_count": 198,
     "metadata": {},
     "output_type": "execute_result"
    }
   ],
   "source": [
    "# higher\n",
    "# Проверим уникальные и пустые значения\n",
    "\n",
    "print('Уникальных значений higher: ' + str(stud.higher.nunique()))\n",
    "print('Незаполненных значений higher: ' + str(len(stud[stud.higher.isnull()].higher.index)))\n",
    "pd.DataFrame(stud.higher.value_counts())"
   ]
  },
  {
   "cell_type": "code",
   "execution_count": 199,
   "metadata": {},
   "outputs": [
    {
     "name": "stdout",
     "output_type": "stream",
     "text": [
      "Количество выбросов: 13\n"
     ]
    },
    {
     "data": {
      "text/plain": [
       "78     0.0\n",
       "127    0.0\n",
       "163    0.0\n",
       "164    0.0\n",
       "165    0.0\n",
       "166    0.0\n",
       "247    0.0\n",
       "252    0.0\n",
       "276    0.0\n",
       "311    0.0\n",
       "352    0.0\n",
       "361    0.0\n",
       "371    0.0\n",
       "Name: num_higher, dtype: float64"
      ]
     },
     "metadata": {},
     "output_type": "display_data"
    }
   ],
   "source": [
    "# Значений \"no\" очень мало. Удалим строки с пустыми значениями, обратим в числа и проверим выбросы\n",
    "\n",
    "dct = {'yes': 1, 'no': 0}\n",
    "stud['num_higher'] = stud['higher'].map(dct)\n",
    "\n",
    "df = stud[~stud.higher.isnull()]\n",
    "\n",
    "out = get_outlier(df,'num_higher')\n",
    "print('Количество выбросов:', out.count())\n",
    "display(out)"
   ]
  },
  {
   "cell_type": "code",
   "execution_count": 200,
   "metadata": {},
   "outputs": [
    {
     "data": {
      "text/plain": [
       "<matplotlib.axes._subplots.AxesSubplot at 0x2440ca9cc08>"
      ]
     },
     "execution_count": 200,
     "metadata": {},
     "output_type": "execute_result"
    },
    {
     "data": {
      "image/png": "[encoded data removed]",
      "text/plain": [
       "<Figure size 432x288 with 1 Axes>"
      ]
     },
     "metadata": {
      "needs_background": "light"
     },
     "output_type": "display_data"
    }
   ],
   "source": [
    "# Все значения  No являются выбросами! Их слишком мало, чтобы выяснять значимость.\n",
    "# Посмотрим на график:\n",
    "\n",
    "df.boxplot(column='score', by='higher')"
   ]
  },
  {
   "cell_type": "code",
   "execution_count": 202,
   "metadata": {},
   "outputs": [
    {
     "name": "stdout",
     "output_type": "stream",
     "text": [
      "Для порога 0.05 по критерию Стьюдента значимости нет: min(p_value) = 0.05604155173577689\n",
      "Для порога 0.05 по критерию Манна-Уитни значимость есть: для ('yes', 'no') p_value = 0.017953577729633147\n"
     ]
    }
   ],
   "source": [
    "# Если бы выборка No была бы больше, то, скорее всего, мотивация учиться в университете повлияла бы на оценку\n",
    "# Проведем тест\n",
    "\n",
    "print(get_stat_dif(df, 'higher', 'score', True))\n",
    "print(get_stat_dif(df, 'higher', 'score', False))"
   ]
  },
  {
   "cell_type": "code",
   "execution_count": 204,
   "metadata": {},
   "outputs": [],
   "source": [
    "# Выборка для No слишком мала, и нерепрезентативна (все No - выбросы).\n",
    "# И хотя тесты показывают значимость, все-таки удалим столбец,\n",
    "# потому что использование тестов на такой выборке может быть некорректно.\n",
    "\n",
    "drop('num_higher')\n",
    "drop('higher')"
   ]
  },
  {
   "cell_type": "markdown",
   "metadata": {},
   "source": [
    "### Вывод для higher: желание получать высшее образование влияет на оценки, но выборка распределена слишком неравномерно, чтобы строить модель"
   ]
  },
  {
   "cell_type": "markdown",
   "metadata": {},
   "source": [
    "### Столбец internet"
   ]
  },
  {
   "cell_type": "code",
   "execution_count": 205,
   "metadata": {},
   "outputs": [
    {
     "name": "stdout",
     "output_type": "stream",
     "text": [
      "Уникальных значений internet: 2\n",
      "Незаполненных значений internet: 29\n"
     ]
    },
    {
     "data": {
      "text/html": [
       "<div>\n",
       "<style scoped>\n",
       "    .dataframe tbody tr th:only-of-type {\n",
       "        vertical-align: middle;\n",
       "    }\n",
       "\n",
       "    .dataframe tbody tr th {\n",
       "        vertical-align: top;\n",
       "    }\n",
       "\n",
       "    .dataframe thead th {\n",
       "        text-align: right;\n",
       "    }\n",
       "</style>\n",
       "<table border=\"1\" class=\"dataframe\">\n",
       "  <thead>\n",
       "    <tr style=\"text-align: right;\">\n",
       "      <th></th>\n",
       "      <th>internet</th>\n",
       "    </tr>\n",
       "  </thead>\n",
       "  <tbody>\n",
       "    <tr>\n",
       "      <th>yes</th>\n",
       "      <td>274</td>\n",
       "    </tr>\n",
       "    <tr>\n",
       "      <th>no</th>\n",
       "      <td>49</td>\n",
       "    </tr>\n",
       "  </tbody>\n",
       "</table>\n",
       "</div>"
      ],
      "text/plain": [
       "     internet\n",
       "yes       274\n",
       "no         49"
      ]
     },
     "execution_count": 205,
     "metadata": {},
     "output_type": "execute_result"
    }
   ],
   "source": [
    "# internet\n",
    "# Проверим уникальные и пустые значения\n",
    "\n",
    "print('Уникальных значений internet: ' + str(stud.internet.nunique()))\n",
    "print('Незаполненных значений internet: ' + str(len(stud[stud.internet.isnull()].internet.index)))\n",
    "pd.DataFrame(stud.internet.value_counts())"
   ]
  },
  {
   "cell_type": "code",
   "execution_count": 206,
   "metadata": {},
   "outputs": [
    {
     "name": "stdout",
     "output_type": "stream",
     "text": [
      "Количество выбросов: 49\n"
     ]
    },
    {
     "data": {
      "text/plain": [
       "4     0.0\n",
       "7     0.0\n",
       "17    0.0\n",
       "35    0.0\n",
       "39    0.0\n",
       "Name: num_internet, dtype: float64"
      ]
     },
     "metadata": {},
     "output_type": "display_data"
    }
   ],
   "source": [
    "# Значений \"no\" мало. Удалим строки с пустыми значениями, обратим в числа и проверим выбросы\n",
    "\n",
    "dct = {'yes': 1, 'no': 0}\n",
    "stud['num_internet'] = stud['internet'].map(dct)\n",
    "\n",
    "df = stud[~stud.internet.isnull()]\n",
    "\n",
    "out = get_outlier(df,'num_internet')\n",
    "print('Количество выбросов:', out.count())\n",
    "display(out.head(5))"
   ]
  },
  {
   "cell_type": "code",
   "execution_count": 207,
   "metadata": {},
   "outputs": [
    {
     "data": {
      "text/plain": [
       "<matplotlib.axes._subplots.AxesSubplot at 0x2440cb2de48>"
      ]
     },
     "execution_count": 207,
     "metadata": {},
     "output_type": "execute_result"
    },
    {
     "data": {
      "image/png": "[encoded data removed]",
      "text/plain": [
       "<Figure size 432x288 with 1 Axes>"
      ]
     },
     "metadata": {
      "needs_background": "light"
     },
     "output_type": "display_data"
    }
   ],
   "source": [
    "# Все No являются выбросами.\n",
    "# Посмотрим на график:\n",
    "\n",
    "df.boxplot(column='score', by='internet')"
   ]
  },
  {
   "cell_type": "code",
   "execution_count": 208,
   "metadata": {},
   "outputs": [],
   "source": [
    "# Графики мало отличаются (кроме размаха)\n",
    "# Удалим столбец без тестов\n",
    "\n",
    "drop('internet')\n",
    "drop('num_internet')"
   ]
  },
  {
   "cell_type": "markdown",
   "metadata": {},
   "source": [
    "### Вывод для internet: столбец не значим для оценки"
   ]
  },
  {
   "cell_type": "markdown",
   "metadata": {},
   "source": [
    "### Столбец romantic"
   ]
  },
  {
   "cell_type": "code",
   "execution_count": 209,
   "metadata": {},
   "outputs": [
    {
     "name": "stdout",
     "output_type": "stream",
     "text": [
      "Уникальных значений romantic: 2\n",
      "Незаполненных значений romantic: 29\n"
     ]
    },
    {
     "data": {
      "text/html": [
       "<div>\n",
       "<style scoped>\n",
       "    .dataframe tbody tr th:only-of-type {\n",
       "        vertical-align: middle;\n",
       "    }\n",
       "\n",
       "    .dataframe tbody tr th {\n",
       "        vertical-align: top;\n",
       "    }\n",
       "\n",
       "    .dataframe thead th {\n",
       "        text-align: right;\n",
       "    }\n",
       "</style>\n",
       "<table border=\"1\" class=\"dataframe\">\n",
       "  <thead>\n",
       "    <tr style=\"text-align: right;\">\n",
       "      <th></th>\n",
       "      <th>romantic</th>\n",
       "    </tr>\n",
       "  </thead>\n",
       "  <tbody>\n",
       "    <tr>\n",
       "      <th>no</th>\n",
       "      <td>219</td>\n",
       "    </tr>\n",
       "    <tr>\n",
       "      <th>yes</th>\n",
       "      <td>104</td>\n",
       "    </tr>\n",
       "  </tbody>\n",
       "</table>\n",
       "</div>"
      ],
      "text/plain": [
       "     romantic\n",
       "no        219\n",
       "yes       104"
      ]
     },
     "execution_count": 209,
     "metadata": {},
     "output_type": "execute_result"
    }
   ],
   "source": [
    "# romantic\n",
    "# Проверим уникальные и пустые значения\n",
    "\n",
    "print('Уникальных значений romantic: ' + str(stud.romantic.nunique()))\n",
    "print('Незаполненных значений romantic: ' + str(len(stud[stud.romantic.isnull()].romantic.index)))\n",
    "pd.DataFrame(stud.romantic.value_counts())"
   ]
  },
  {
   "cell_type": "code",
   "execution_count": 210,
   "metadata": {},
   "outputs": [
    {
     "data": {
      "text/plain": [
       "<matplotlib.axes._subplots.AxesSubplot at 0x2440cbb14c8>"
      ]
     },
     "execution_count": 210,
     "metadata": {},
     "output_type": "execute_result"
    },
    {
     "data": {
      "image/png": "[encoded data removed]",
      "text/plain": [
       "<Figure size 432x288 with 1 Axes>"
      ]
     },
     "metadata": {
      "needs_background": "light"
     },
     "output_type": "display_data"
    }
   ],
   "source": [
    "# Удалим строки с пустыми значениями и проверим распределение на графике\n",
    "\n",
    "df = stud[~stud.romantic.isnull()]\n",
    "df.boxplot(column='score', by='romantic')"
   ]
  },
  {
   "cell_type": "code",
   "execution_count": 211,
   "metadata": {},
   "outputs": [
    {
     "name": "stdout",
     "output_type": "stream",
     "text": [
      "Для порога 0.05 по критерию Стьюдента значимости нет: min(p_value) = 0.2668414509361285\n",
      "Для порога 0.05 по критерию Манна-Уитни значимости нет: min(p_value) = 0.22195782784137014\n"
     ]
    }
   ],
   "source": [
    "# Медианы примерно одинаковые, но в целом влюбленные ученики хуже учатся\n",
    "# Проведем тест\n",
    "\n",
    "print(get_stat_dif(df, 'romantic', 'score', True))\n",
    "print(get_stat_dif(df, 'romantic', 'score', False))"
   ]
  },
  {
   "cell_type": "code",
   "execution_count": 215,
   "metadata": {},
   "outputs": [],
   "source": [
    "# Тесты демонстрируют независимость выборок\n",
    "# Удалим столбец\n",
    "\n",
    "drop('romantic')"
   ]
  },
  {
   "cell_type": "markdown",
   "metadata": {},
   "source": [
    "# Построение модели"
   ]
  },
  {
   "cell_type": "code",
   "execution_count": 216,
   "metadata": {},
   "outputs": [],
   "source": [
    "# Удалим из датасета столбцы, не влияющие на оценки\n",
    "\n",
    "for col in drop_list:\n",
    "    if col in stud.columns:\n",
    "        stud = stud.drop(col, axis=1)"
   ]
  },
  {
   "cell_type": "code",
   "execution_count": 217,
   "metadata": {},
   "outputs": [
    {
     "data": {
      "text/html": [
       "<div>\n",
       "<style scoped>\n",
       "    .dataframe tbody tr th:only-of-type {\n",
       "        vertical-align: middle;\n",
       "    }\n",
       "\n",
       "    .dataframe tbody tr th {\n",
       "        vertical-align: top;\n",
       "    }\n",
       "\n",
       "    .dataframe thead th {\n",
       "        text-align: right;\n",
       "    }\n",
       "</style>\n",
       "<table border=\"1\" class=\"dataframe\">\n",
       "  <thead>\n",
       "    <tr style=\"text-align: right;\">\n",
       "      <th></th>\n",
       "      <th>sex</th>\n",
       "      <th>age</th>\n",
       "      <th>address</th>\n",
       "      <th>Medu</th>\n",
       "      <th>Mjob</th>\n",
       "      <th>schoolsup</th>\n",
       "      <th>goout</th>\n",
       "      <th>absences</th>\n",
       "      <th>score</th>\n",
       "      <th>gr_studytime</th>\n",
       "      <th>gr_failures</th>\n",
       "      <th>gr_health</th>\n",
       "    </tr>\n",
       "  </thead>\n",
       "  <tbody>\n",
       "    <tr>\n",
       "      <th>0</th>\n",
       "      <td>F</td>\n",
       "      <td>18</td>\n",
       "      <td>U</td>\n",
       "      <td>4.0</td>\n",
       "      <td>at_home</td>\n",
       "      <td>yes</td>\n",
       "      <td>4.0</td>\n",
       "      <td>6.0</td>\n",
       "      <td>30.0</td>\n",
       "      <td>0</td>\n",
       "      <td>0</td>\n",
       "      <td>1</td>\n",
       "    </tr>\n",
       "    <tr>\n",
       "      <th>1</th>\n",
       "      <td>F</td>\n",
       "      <td>17</td>\n",
       "      <td>U</td>\n",
       "      <td>1.0</td>\n",
       "      <td>at_home</td>\n",
       "      <td>no</td>\n",
       "      <td>3.0</td>\n",
       "      <td>4.0</td>\n",
       "      <td>30.0</td>\n",
       "      <td>0</td>\n",
       "      <td>0</td>\n",
       "      <td>1</td>\n",
       "    </tr>\n",
       "    <tr>\n",
       "      <th>2</th>\n",
       "      <td>F</td>\n",
       "      <td>15</td>\n",
       "      <td>U</td>\n",
       "      <td>1.0</td>\n",
       "      <td>at_home</td>\n",
       "      <td>yes</td>\n",
       "      <td>2.0</td>\n",
       "      <td>10.0</td>\n",
       "      <td>50.0</td>\n",
       "      <td>0</td>\n",
       "      <td>1</td>\n",
       "      <td>1</td>\n",
       "    </tr>\n",
       "    <tr>\n",
       "      <th>3</th>\n",
       "      <td>F</td>\n",
       "      <td>15</td>\n",
       "      <td>U</td>\n",
       "      <td>4.0</td>\n",
       "      <td>health</td>\n",
       "      <td>no</td>\n",
       "      <td>2.0</td>\n",
       "      <td>2.0</td>\n",
       "      <td>75.0</td>\n",
       "      <td>1</td>\n",
       "      <td>0</td>\n",
       "      <td>1</td>\n",
       "    </tr>\n",
       "    <tr>\n",
       "      <th>4</th>\n",
       "      <td>F</td>\n",
       "      <td>16</td>\n",
       "      <td>U</td>\n",
       "      <td>3.0</td>\n",
       "      <td>other</td>\n",
       "      <td>no</td>\n",
       "      <td>2.0</td>\n",
       "      <td>4.0</td>\n",
       "      <td>50.0</td>\n",
       "      <td>0</td>\n",
       "      <td>0</td>\n",
       "      <td>1</td>\n",
       "    </tr>\n",
       "    <tr>\n",
       "      <th>5</th>\n",
       "      <td>M</td>\n",
       "      <td>16</td>\n",
       "      <td>U</td>\n",
       "      <td>4.0</td>\n",
       "      <td>services</td>\n",
       "      <td>no</td>\n",
       "      <td>2.0</td>\n",
       "      <td>10.0</td>\n",
       "      <td>75.0</td>\n",
       "      <td>0</td>\n",
       "      <td>0</td>\n",
       "      <td>1</td>\n",
       "    </tr>\n",
       "    <tr>\n",
       "      <th>6</th>\n",
       "      <td>M</td>\n",
       "      <td>16</td>\n",
       "      <td>None</td>\n",
       "      <td>2.0</td>\n",
       "      <td>other</td>\n",
       "      <td>no</td>\n",
       "      <td>4.0</td>\n",
       "      <td>0.0</td>\n",
       "      <td>55.0</td>\n",
       "      <td>0</td>\n",
       "      <td>0</td>\n",
       "      <td>1</td>\n",
       "    </tr>\n",
       "    <tr>\n",
       "      <th>7</th>\n",
       "      <td>F</td>\n",
       "      <td>17</td>\n",
       "      <td>U</td>\n",
       "      <td>4.0</td>\n",
       "      <td>other</td>\n",
       "      <td>yes</td>\n",
       "      <td>4.0</td>\n",
       "      <td>6.0</td>\n",
       "      <td>30.0</td>\n",
       "      <td>0</td>\n",
       "      <td>0</td>\n",
       "      <td>0</td>\n",
       "    </tr>\n",
       "    <tr>\n",
       "      <th>8</th>\n",
       "      <td>M</td>\n",
       "      <td>15</td>\n",
       "      <td>U</td>\n",
       "      <td>3.0</td>\n",
       "      <td>services</td>\n",
       "      <td>no</td>\n",
       "      <td>2.0</td>\n",
       "      <td>0.0</td>\n",
       "      <td>95.0</td>\n",
       "      <td>0</td>\n",
       "      <td>0</td>\n",
       "      <td>0</td>\n",
       "    </tr>\n",
       "    <tr>\n",
       "      <th>9</th>\n",
       "      <td>M</td>\n",
       "      <td>15</td>\n",
       "      <td>U</td>\n",
       "      <td>3.0</td>\n",
       "      <td>other</td>\n",
       "      <td>no</td>\n",
       "      <td>1.0</td>\n",
       "      <td>0.0</td>\n",
       "      <td>75.0</td>\n",
       "      <td>0</td>\n",
       "      <td>0</td>\n",
       "      <td>1</td>\n",
       "    </tr>\n",
       "  </tbody>\n",
       "</table>\n",
       "</div>"
      ],
      "text/plain": [
       "  sex  age address  Medu      Mjob schoolsup  goout  absences  score  \\\n",
       "0   F   18       U   4.0   at_home       yes    4.0       6.0   30.0   \n",
       "1   F   17       U   1.0   at_home        no    3.0       4.0   30.0   \n",
       "2   F   15       U   1.0   at_home       yes    2.0      10.0   50.0   \n",
       "3   F   15       U   4.0    health        no    2.0       2.0   75.0   \n",
       "4   F   16       U   3.0     other        no    2.0       4.0   50.0   \n",
       "5   M   16       U   4.0  services        no    2.0      10.0   75.0   \n",
       "6   M   16    None   2.0     other        no    4.0       0.0   55.0   \n",
       "7   F   17       U   4.0     other       yes    4.0       6.0   30.0   \n",
       "8   M   15       U   3.0  services        no    2.0       0.0   95.0   \n",
       "9   M   15       U   3.0     other        no    1.0       0.0   75.0   \n",
       "\n",
       "   gr_studytime  gr_failures  gr_health  \n",
       "0             0            0          1  \n",
       "1             0            0          1  \n",
       "2             0            1          1  \n",
       "3             1            0          1  \n",
       "4             0            0          1  \n",
       "5             0            0          1  \n",
       "6             0            0          1  \n",
       "7             0            0          0  \n",
       "8             0            0          0  \n",
       "9             0            0          1  "
      ]
     },
     "execution_count": 217,
     "metadata": {},
     "output_type": "execute_result"
    }
   ],
   "source": [
    "# Модель готова\n",
    "\n",
    "stud.head(10)"
   ]
  },
  {
   "cell_type": "code",
   "execution_count": null,
   "metadata": {},
   "outputs": [],
   "source": [
    "'''\n",
    "Выводы:\n",
    "\n",
    "1) Распределение исследуемой величины - оценки score - условно нормальное. \n",
    "Поэтому исследовать зависимости параметров желательно разными корреляционными тестами:\n",
    "для нормального распределения величины и для распределения, не являющегося нормальным.\n",
    "В случае разных результатов тестов о значимости параметра, \n",
    "решение должно приниматься на основе здравого смысла.\n",
    "\n",
    "2) Пустые значения оценки и оценки = 0 (выбросы) следует исключить из рассмотрения.\n",
    "Скорее всего, нулевые оценки - это потерянные данные, которые при их наличии\n",
    "превратили бы распределение оценок в истинно нормальное.\n",
    "\n",
    "3) Все столбцы, которые удалены из набора данных, не оказывают значимого влияния на оценки.\n",
    "\n",
    "4) Условия исследования по столбцам модели:\n",
    "\n",
    "- sex: особых условий нет. Зависимость очень слабая, при необходимости упрощения модели\n",
    "    столбец можно удалить.\n",
    "\n",
    "- age: рассматривать возраст <= 18 лет.\n",
    "\n",
    "- address: заменить NaN на None и рассматривать только непустые значения.\n",
    "\n",
    "- Medu: рассматривать только непустые значения > 0 и\n",
    "    удалить строки, у которых Medu=2 и score>=90 одновременно.\n",
    "    \n",
    "- Fedu: столбец рекомендуется удалить, ввиду сильной корреляции с Medu,\n",
    "    но при необходимости более тонкой модели можно его оставить.\n",
    "    В таком случае предварительно следует удалить строки с пустыми значениями и значениями = 0 или 40.\n",
    "    \n",
    "- Mjob: заменить NaN на None и рассматривать только непустые значения,\n",
    "    а при необходимости упрощения модели столбец удалить ввиду сильной корреляции с Medu\n",
    "    \n",
    "- Fjob: столбец рекомендуется удалить, ввиду зависимости лишь от признака <Учитель>/<Не учитель>.\n",
    "    Необходимо сделать новый столбец, \n",
    "    разбив данные на группы <Учитель>/<Не учитель> и исследуя зависимость от этих групп.\n",
    "    Предварительно следует заменить NaN на None и рассматривать только непустые значения,\n",
    "    у которых для профессии ='other' оценки score лежат в диапазоне [30;90)\n",
    "    \n",
    "- schoolsup: столбец рекомендуется удалить, ввиду обратной заисимости - поддержка зависит от оценок, а не наоборот,\n",
    "    но при необходимости исследования обратной зависимости и при отсутствии уверенности,\n",
    "    что значения yes и no не перепутаны, можно столбец оставить.\n",
    "    В таком случае предварительно следует заменить NaN на None и рассматривать только непустые значения,\n",
    "    причем для 'yes' оценка (score) должна быть <= 80\n",
    "    \n",
    "- goout: рассматривать только непустые значения.\n",
    "\n",
    "- abcense: рассматривать только непустые значения. Ввиду перекоса данных по четным и нечетным значениям,\n",
    "    следует нормализовать данные, повысив на 1 балл нечетные оценки, чтобы сделать все четными.\n",
    "    Затем следует убрать строки с выбросами для значений 20, 22, 24, 26, 28, 30, 38, 40, 54, 56, 76, 212, 386\n",
    "    \n",
    "- studytime: рассматривать только непустые значения. Ввиду зависимости от более грубых условий, \n",
    "    следует на основе этого столбца создать новый, разбив данные на группы: \n",
    "    <Менее 3 часов на уроки>/<3 и более часов на уроки> и исследуя зависимость от этих групп.\n",
    "    \n",
    "- failures: рассматривать только непустые значения. Ввиду зависимости от более грубых условий, \n",
    "    следует на основе этого столбца создать новый, разбив данные на группы: \n",
    "    <Есть неудачи>/<Нет неудач> и исследуя зависимость от этих групп.\n",
    "    При этом у группы <Есть неудачи> следует исключить выбросы, удалив оценки >= 80\n",
    "    \n",
    "- health: рассматривать только непустые значения. Ввиду зависимости от более грубых условий, \n",
    "    следует на основе этого столбца создать новый, разбив данные на группы: \n",
    "    <Уровень здоровья менее 3 баллов>/<Уровень здоровья 3 и выше> и исследуя зависимость от этих групп.\n",
    "\n",
    "\n",
    "'''"
   ]
  },
  {
   "cell_type": "code",
   "execution_count": 216,
   "metadata": {},
   "outputs": [
    {
     "data": {
      "text/html": [
       "<div>\n",
       "<style scoped>\n",
       "    .dataframe tbody tr th:only-of-type {\n",
       "        vertical-align: middle;\n",
       "    }\n",
       "\n",
       "    .dataframe tbody tr th {\n",
       "        vertical-align: top;\n",
       "    }\n",
       "\n",
       "    .dataframe thead th {\n",
       "        text-align: right;\n",
       "    }\n",
       "</style>\n",
       "<table border=\"1\" class=\"dataframe\">\n",
       "  <thead>\n",
       "    <tr style=\"text-align: right;\">\n",
       "      <th></th>\n",
       "      <th>sex</th>\n",
       "      <th>age</th>\n",
       "      <th>address</th>\n",
       "      <th>Medu</th>\n",
       "      <th>Mjob</th>\n",
       "      <th>schoolsup</th>\n",
       "      <th>goout</th>\n",
       "      <th>absences</th>\n",
       "      <th>score</th>\n",
       "      <th>gr_studytime</th>\n",
       "      <th>gr_failures</th>\n",
       "      <th>gr_health</th>\n",
       "    </tr>\n",
       "  </thead>\n",
       "  <tbody>\n",
       "    <tr>\n",
       "      <th>0</th>\n",
       "      <td>F</td>\n",
       "      <td>18</td>\n",
       "      <td>U</td>\n",
       "      <td>4.0</td>\n",
       "      <td>at_home</td>\n",
       "      <td>yes</td>\n",
       "      <td>4.0</td>\n",
       "      <td>6.0</td>\n",
       "      <td>30.0</td>\n",
       "      <td>0</td>\n",
       "      <td>0</td>\n",
       "      <td>1</td>\n",
       "    </tr>\n",
       "    <tr>\n",
       "      <th>1</th>\n",
       "      <td>F</td>\n",
       "      <td>17</td>\n",
       "      <td>U</td>\n",
       "      <td>1.0</td>\n",
       "      <td>at_home</td>\n",
       "      <td>no</td>\n",
       "      <td>3.0</td>\n",
       "      <td>4.0</td>\n",
       "      <td>30.0</td>\n",
       "      <td>0</td>\n",
       "      <td>0</td>\n",
       "      <td>1</td>\n",
       "    </tr>\n",
       "    <tr>\n",
       "      <th>2</th>\n",
       "      <td>F</td>\n",
       "      <td>15</td>\n",
       "      <td>U</td>\n",
       "      <td>1.0</td>\n",
       "      <td>at_home</td>\n",
       "      <td>yes</td>\n",
       "      <td>2.0</td>\n",
       "      <td>10.0</td>\n",
       "      <td>50.0</td>\n",
       "      <td>0</td>\n",
       "      <td>1</td>\n",
       "      <td>1</td>\n",
       "    </tr>\n",
       "    <tr>\n",
       "      <th>3</th>\n",
       "      <td>F</td>\n",
       "      <td>15</td>\n",
       "      <td>U</td>\n",
       "      <td>4.0</td>\n",
       "      <td>health</td>\n",
       "      <td>no</td>\n",
       "      <td>2.0</td>\n",
       "      <td>2.0</td>\n",
       "      <td>75.0</td>\n",
       "      <td>1</td>\n",
       "      <td>0</td>\n",
       "      <td>1</td>\n",
       "    </tr>\n",
       "    <tr>\n",
       "      <th>4</th>\n",
       "      <td>F</td>\n",
       "      <td>16</td>\n",
       "      <td>U</td>\n",
       "      <td>3.0</td>\n",
       "      <td>other</td>\n",
       "      <td>no</td>\n",
       "      <td>2.0</td>\n",
       "      <td>4.0</td>\n",
       "      <td>50.0</td>\n",
       "      <td>0</td>\n",
       "      <td>0</td>\n",
       "      <td>1</td>\n",
       "    </tr>\n",
       "    <tr>\n",
       "      <th>5</th>\n",
       "      <td>M</td>\n",
       "      <td>16</td>\n",
       "      <td>U</td>\n",
       "      <td>4.0</td>\n",
       "      <td>services</td>\n",
       "      <td>no</td>\n",
       "      <td>2.0</td>\n",
       "      <td>10.0</td>\n",
       "      <td>75.0</td>\n",
       "      <td>0</td>\n",
       "      <td>0</td>\n",
       "      <td>1</td>\n",
       "    </tr>\n",
       "    <tr>\n",
       "      <th>6</th>\n",
       "      <td>M</td>\n",
       "      <td>16</td>\n",
       "      <td>None</td>\n",
       "      <td>2.0</td>\n",
       "      <td>other</td>\n",
       "      <td>no</td>\n",
       "      <td>4.0</td>\n",
       "      <td>0.0</td>\n",
       "      <td>55.0</td>\n",
       "      <td>0</td>\n",
       "      <td>0</td>\n",
       "      <td>1</td>\n",
       "    </tr>\n",
       "    <tr>\n",
       "      <th>7</th>\n",
       "      <td>F</td>\n",
       "      <td>17</td>\n",
       "      <td>U</td>\n",
       "      <td>4.0</td>\n",
       "      <td>other</td>\n",
       "      <td>yes</td>\n",
       "      <td>4.0</td>\n",
       "      <td>6.0</td>\n",
       "      <td>30.0</td>\n",
       "      <td>0</td>\n",
       "      <td>0</td>\n",
       "      <td>0</td>\n",
       "    </tr>\n",
       "    <tr>\n",
       "      <th>8</th>\n",
       "      <td>M</td>\n",
       "      <td>15</td>\n",
       "      <td>U</td>\n",
       "      <td>3.0</td>\n",
       "      <td>services</td>\n",
       "      <td>no</td>\n",
       "      <td>2.0</td>\n",
       "      <td>0.0</td>\n",
       "      <td>95.0</td>\n",
       "      <td>0</td>\n",
       "      <td>0</td>\n",
       "      <td>0</td>\n",
       "    </tr>\n",
       "    <tr>\n",
       "      <th>9</th>\n",
       "      <td>M</td>\n",
       "      <td>15</td>\n",
       "      <td>U</td>\n",
       "      <td>3.0</td>\n",
       "      <td>other</td>\n",
       "      <td>no</td>\n",
       "      <td>1.0</td>\n",
       "      <td>0.0</td>\n",
       "      <td>75.0</td>\n",
       "      <td>0</td>\n",
       "      <td>0</td>\n",
       "      <td>1</td>\n",
       "    </tr>\n",
       "  </tbody>\n",
       "</table>\n",
       "</div>"
      ],
      "text/plain": [
       "  sex  age address  Medu      Mjob schoolsup  goout  absences  score  \\\n",
       "0   F   18       U   4.0   at_home       yes    4.0       6.0   30.0   \n",
       "1   F   17       U   1.0   at_home        no    3.0       4.0   30.0   \n",
       "2   F   15       U   1.0   at_home       yes    2.0      10.0   50.0   \n",
       "3   F   15       U   4.0    health        no    2.0       2.0   75.0   \n",
       "4   F   16       U   3.0     other        no    2.0       4.0   50.0   \n",
       "5   M   16       U   4.0  services        no    2.0      10.0   75.0   \n",
       "6   M   16    None   2.0     other        no    4.0       0.0   55.0   \n",
       "7   F   17       U   4.0     other       yes    4.0       6.0   30.0   \n",
       "8   M   15       U   3.0  services        no    2.0       0.0   95.0   \n",
       "9   M   15       U   3.0     other        no    1.0       0.0   75.0   \n",
       "\n",
       "   gr_studytime  gr_failures  gr_health  \n",
       "0             0            0          1  \n",
       "1             0            0          1  \n",
       "2             0            1          1  \n",
       "3             1            0          1  \n",
       "4             0            0          1  \n",
       "5             0            0          1  \n",
       "6             0            0          1  \n",
       "7             0            0          0  \n",
       "8             0            0          0  \n",
       "9             0            0          1  "
      ]
     },
     "execution_count": 216,
     "metadata": {},
     "output_type": "execute_result"
    }
   ],
   "source": [
    "# А теперь подготовим единый скрипт, который загружает данные из файла и готовит модель\n",
    "\n",
    "'''----------------------------------------------------------------------------------------------------'''\n",
    "'''Подготовительный блок'''\n",
    "\n",
    "import pandas as pd\n",
    "\n",
    "# список столбцов для удаления\n",
    "drop_list = []\n",
    "\n",
    "# функция преобразования пустых или пробельных или NaN данных строкового типа в значение None\n",
    "def set_None(value):\n",
    "    if value is None:\n",
    "        return value\n",
    "    else:\n",
    "        str_value = str(value).strip()\n",
    "        if str_value == '' or str_value.lower() == 'nan':\n",
    "            return None\n",
    "        else:\n",
    "            return str_value\n",
    "     \n",
    "\n",
    "'''----------------------------------------------------------------------------------------------------'''\n",
    "'''Чтение и преобразование пустых значений'''\n",
    "\n",
    "# Чтение\n",
    "stud = pd.read_csv('stud_math.csv')\n",
    "\n",
    "# Удаление строк с отсутствующими и нулевыми оценками.\n",
    "stud = stud[stud.score > 0]\n",
    "\n",
    "# Замена строк NaN на None\n",
    "str_cols = stud.iloc[:, (np.where(stud.dtypes == 'object'))[0]].columns\n",
    "for col in str_cols:\n",
    "    stud[col] = stud[col].apply(set_None)\n",
    "    \n",
    "    \n",
    "'''----------------------------------------------------------------------------------------------------'''\n",
    "'''Группировка данных в новые столбцы и корректировка данных'''\n",
    "\n",
    "stud['gr_studytime'] = stud.studytime.apply(lambda x: None if x is None else 0 if x<3 else 1)\n",
    "stud['gr_failures'] = stud.failures.apply(lambda x: None if x is None else 0 if x==0 else 1)\n",
    "stud['gr_health'] = stud.health.apply(lambda x: None if x is None else 0 if x<3 else 1)\n",
    "stud['gr_Fjob'] = stud.Fjob.apply(lambda x: None if x is None else 1 if x=='teacher' else 0)\n",
    "stud['absences'] = stud.absences.apply(lambda x: x+1 if x%2==1 else x)\n",
    "\n",
    "\n",
    "'''----------------------------------------------------------------------------------------------------'''\n",
    "'''Удаление незначимых столбцов и столбцов, замененных на группы'''\n",
    "\n",
    "drop_list.append('studytime, granular')\n",
    "drop_list.append('Fedu')\n",
    "drop_list.append('traveltime')\n",
    "drop_list.append('studytime')\n",
    "drop_list.append('failures')\n",
    "drop_list.append('famrel')\n",
    "drop_list.append('freetime')\n",
    "drop_list.append('health')\n",
    "drop_list.append('school')\n",
    "drop_list.append('famsize')\n",
    "drop_list.append('Pstatus')\n",
    "drop_list.append('Fjob')\n",
    "drop_list.append('guardian')\n",
    "drop_list.append('reason')\n",
    "drop_list.append('paid')\n",
    "drop_list.append('famsup')\n",
    "drop_list.append('activities') \n",
    "drop_list.append('nursery') \n",
    "drop_list.append('higher') \n",
    "drop_list.append('internet')\n",
    "drop_list.append('romantic')\n",
    "\n",
    "for col in drop_list:\n",
    "    if col in stud.columns:\n",
    "        stud = stud.drop(col, axis=1)\n",
    "        \n",
    "stud.head(10)"
   ]
  }
 ],
 "metadata": {
  "kernelspec": {
   "display_name": "Python 3",
   "language": "python",
   "name": "python3"
  },
  "language_info": {
   "codemirror_mode": {
    "name": "ipython",
    "version": 3
   },
   "file_extension": ".py",
   "mimetype": "text/x-python",
   "name": "python",
   "nbconvert_exporter": "python",
   "pygments_lexer": "ipython3",
   "version": "3.7.6"
  }
 },
 "nbformat": 4,
 "nbformat_minor": 4
}
